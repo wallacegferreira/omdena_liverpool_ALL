{
  "nbformat": 4,
  "nbformat_minor": 0,
  "metadata": {
    "colab": {
      "provenance": [],
      "machine_shape": "hm"
    },
    "kernelspec": {
      "name": "python3",
      "display_name": "Python 3"
    },
    "language_info": {
      "name": "python"
    },
    "accelerator": "GPU",
    "gpuClass": "premium"
  },
  "cells": [
    {
      "cell_type": "markdown",
      "source": [
        "# Project Description\n",
        "\n",
        "\n",
        "Detecting Pediatric Acute Lymphoblastic Leukemia using Computer Vision\n",
        "\n",
        "https://omdena.com/chapter-challenges/detecting-pediatric-acute-lymphoblastic-leukemia-using-computer-vision/"
      ],
      "metadata": {
        "id": "sp36hk4_W93x"
      }
    },
    {
      "cell_type": "markdown",
      "source": [
        "# Mount Google Drive"
      ],
      "metadata": {
        "id": "hztnIQgx7jWu"
      }
    },
    {
      "cell_type": "code",
      "source": [
        "from google.colab import drive\n",
        "drive.mount('/content/drive')"
      ],
      "metadata": {
        "colab": {
          "base_uri": "https://localhost:8080/"
        },
        "id": "2EoWACMl7jC-",
        "outputId": "606abd61-d902-4537-b94f-fad249f3d8a8"
      },
      "execution_count": 1,
      "outputs": [
        {
          "output_type": "stream",
          "name": "stdout",
          "text": [
            "Mounted at /content/drive\n"
          ]
        }
      ]
    },
    {
      "cell_type": "markdown",
      "source": [
        "# Install Required Packages"
      ],
      "metadata": {
        "id": "0FYPubi9agxi"
      }
    },
    {
      "cell_type": "code",
      "source": [
        "!pip install optuna"
      ],
      "metadata": {
        "colab": {
          "base_uri": "https://localhost:8080/"
        },
        "id": "Kohrf4mEakX4",
        "outputId": "9c0f21c6-e30a-439c-fefb-b56929b898b9"
      },
      "execution_count": 2,
      "outputs": [
        {
          "output_type": "stream",
          "name": "stdout",
          "text": [
            "Looking in indexes: https://pypi.org/simple, https://us-python.pkg.dev/colab-wheels/public/simple/\n",
            "Collecting optuna\n",
            "  Downloading optuna-3.1.0-py3-none-any.whl (365 kB)\n",
            "\u001b[2K     \u001b[90m━━━━━━━━━━━━━━━━━━━━━━━━━━━━━━━━━━━━━━━\u001b[0m \u001b[32m365.3/365.3 KB\u001b[0m \u001b[31m7.9 MB/s\u001b[0m eta \u001b[36m0:00:00\u001b[0m\n",
            "\u001b[?25hRequirement already satisfied: PyYAML in /usr/local/lib/python3.9/dist-packages (from optuna) (6.0)\n",
            "Requirement already satisfied: packaging>=20.0 in /usr/local/lib/python3.9/dist-packages (from optuna) (23.0)\n",
            "Collecting cmaes>=0.9.1\n",
            "  Downloading cmaes-0.9.1-py3-none-any.whl (21 kB)\n",
            "Requirement already satisfied: tqdm in /usr/local/lib/python3.9/dist-packages (from optuna) (4.65.0)\n",
            "Requirement already satisfied: numpy in /usr/local/lib/python3.9/dist-packages (from optuna) (1.22.4)\n",
            "Collecting colorlog\n",
            "  Downloading colorlog-6.7.0-py2.py3-none-any.whl (11 kB)\n",
            "Requirement already satisfied: sqlalchemy>=1.3.0 in /usr/local/lib/python3.9/dist-packages (from optuna) (1.4.47)\n",
            "Collecting alembic>=1.5.0\n",
            "  Downloading alembic-1.10.2-py3-none-any.whl (212 kB)\n",
            "\u001b[2K     \u001b[90m━━━━━━━━━━━━━━━━━━━━━━━━━━━━━━━━━━━━━━\u001b[0m \u001b[32m212.2/212.2 KB\u001b[0m \u001b[31m26.1 MB/s\u001b[0m eta \u001b[36m0:00:00\u001b[0m\n",
            "\u001b[?25hCollecting Mako\n",
            "  Downloading Mako-1.2.4-py3-none-any.whl (78 kB)\n",
            "\u001b[2K     \u001b[90m━━━━━━━━━━━━━━━━━━━━━━━━━━━━━━━━━━━━━━━\u001b[0m \u001b[32m78.7/78.7 KB\u001b[0m \u001b[31m783.5 kB/s\u001b[0m eta \u001b[36m0:00:00\u001b[0m\n",
            "\u001b[?25hRequirement already satisfied: typing-extensions>=4 in /usr/local/lib/python3.9/dist-packages (from alembic>=1.5.0->optuna) (4.5.0)\n",
            "Requirement already satisfied: greenlet!=0.4.17 in /usr/local/lib/python3.9/dist-packages (from sqlalchemy>=1.3.0->optuna) (2.0.2)\n",
            "Requirement already satisfied: MarkupSafe>=0.9.2 in /usr/local/lib/python3.9/dist-packages (from Mako->alembic>=1.5.0->optuna) (2.1.2)\n",
            "Installing collected packages: Mako, colorlog, cmaes, alembic, optuna\n",
            "Successfully installed Mako-1.2.4 alembic-1.10.2 cmaes-0.9.1 colorlog-6.7.0 optuna-3.1.0\n"
          ]
        }
      ]
    },
    {
      "cell_type": "markdown",
      "source": [
        "# Imports"
      ],
      "metadata": {
        "id": "vdvzKQ3U5u1m"
      }
    },
    {
      "cell_type": "code",
      "execution_count": 3,
      "metadata": {
        "id": "9acYcSBp5enI"
      },
      "outputs": [],
      "source": [
        "import pandas as pd\n",
        "import numpy as np\n",
        "\n",
        "import matplotlib.pyplot as plt\n",
        "%matplotlib inline\n",
        "import seaborn as sns\n",
        "  \n",
        "\n",
        "from sklearn.preprocessing import StandardScaler\n",
        "\n",
        "from sklearn.linear_model import LogisticRegression\n",
        "from sklearn.ensemble import RandomForestClassifier\n",
        "from xgboost import XGBClassifier\n",
        "\n",
        "import sklearn.metrics\n",
        "from sklearn.metrics import confusion_matrix, ConfusionMatrixDisplay\n",
        "from sklearn.metrics import roc_curve, auc\n",
        "from sklearn.metrics import classification_report\n",
        "\n",
        "import optuna\n",
        "\n",
        "\n"
      ]
    },
    {
      "cell_type": "markdown",
      "source": [
        "# Load Data - Batch 3"
      ],
      "metadata": {
        "id": "4F8M-Ci373du"
      }
    },
    {
      "cell_type": "code",
      "source": [
        "!unzip '/content/drive/MyDrive/omdena_liverpool_all/C-NMC_Leukemia/training_test_pickle/batch_3.zip'"
      ],
      "metadata": {
        "colab": {
          "base_uri": "https://localhost:8080/"
        },
        "id": "b8BJXmk4709W",
        "outputId": "4e5f3c84-d088-4494-d8f1-00e38ef6b42b"
      },
      "execution_count": 4,
      "outputs": [
        {
          "output_type": "stream",
          "name": "stdout",
          "text": [
            "Archive:  /content/drive/MyDrive/omdena_liverpool_all/C-NMC_Leukemia/training_test_pickle/batch_3.zip\n",
            "  inflating: batch_3/test_data.pickle  \n",
            "  inflating: batch_3/train_data.pickle  \n"
          ]
        }
      ]
    },
    {
      "cell_type": "code",
      "source": [
        "df_train = pd.read_pickle('./batch_3/train_data.pickle')\n",
        "df_test = pd.read_pickle('./batch_3/test_data.pickle')"
      ],
      "metadata": {
        "id": "kfH03qOY8LRk"
      },
      "execution_count": 5,
      "outputs": []
    },
    {
      "cell_type": "code",
      "source": [
        "df_train.info()"
      ],
      "metadata": {
        "colab": {
          "base_uri": "https://localhost:8080/"
        },
        "id": "78EnG3h58kB0",
        "outputId": "304c87b8-e129-43f8-f861-1d4244ddb1ad"
      },
      "execution_count": 6,
      "outputs": [
        {
          "output_type": "stream",
          "name": "stdout",
          "text": [
            "<class 'pandas.core.frame.DataFrame'>\n",
            "RangeIndex: 11649 entries, 0 to 11648\n",
            "Columns: 4609 entries, 0 to label\n",
            "dtypes: float32(4608), int64(1)\n",
            "memory usage: 204.9 MB\n"
          ]
        }
      ]
    },
    {
      "cell_type": "code",
      "source": [
        "df_train.head()"
      ],
      "metadata": {
        "colab": {
          "base_uri": "https://localhost:8080/",
          "height": 235
        },
        "id": "usBS3pRI8sGF",
        "outputId": "32a099ea-ac0b-44c9-8d34-e961e95b4956"
      },
      "execution_count": 7,
      "outputs": [
        {
          "output_type": "execute_result",
          "data": {
            "text/plain": [
              "          0    1         2         3         4    5    6         7    8  \\\n",
              "0  0.000000  0.0  0.335362  0.191588  0.111455  0.0  0.0  0.000000  0.0   \n",
              "1  0.058480  0.0  0.000000  0.000000  0.000000  0.0  0.0  0.000000  0.0   \n",
              "2  0.282112  0.0  0.000000  0.000000  0.000000  0.0  0.0  0.068944  0.0   \n",
              "3  0.387874  0.0  0.000000  0.050626  0.000000  0.0  0.0  0.000000  0.0   \n",
              "4  0.141062  0.0  0.000000  0.000000  0.000000  0.0  0.0  0.000000  0.0   \n",
              "\n",
              "          9  ...      4599      4600  4601      4602      4603  4604  4605  \\\n",
              "0  0.233555  ...  0.000000  0.000000   0.0  0.000000  0.336870   0.0   0.0   \n",
              "1  0.000000  ...  0.835123  0.320351   0.0  0.395172  0.000000   0.0   0.0   \n",
              "2  0.000000  ...  0.715905  0.171945   0.0  0.000000  0.308108   0.0   0.0   \n",
              "3  0.000000  ...  0.576575  0.180843   0.0  0.027337  0.151989   0.0   0.0   \n",
              "4  0.000000  ...  0.851573  0.096842   0.0  0.032068  0.478181   0.0   0.0   \n",
              "\n",
              "       4606  4607  label  \n",
              "0  0.280540   0.0      1  \n",
              "1  0.000000   0.0      0  \n",
              "2  0.079297   0.0      0  \n",
              "3  0.175057   0.0      0  \n",
              "4  0.115065   0.0      1  \n",
              "\n",
              "[5 rows x 4609 columns]"
            ],
            "text/html": [
              "\n",
              "  <div id=\"df-05b99adf-633e-45c5-ba76-55a235c1659b\">\n",
              "    <div class=\"colab-df-container\">\n",
              "      <div>\n",
              "<style scoped>\n",
              "    .dataframe tbody tr th:only-of-type {\n",
              "        vertical-align: middle;\n",
              "    }\n",
              "\n",
              "    .dataframe tbody tr th {\n",
              "        vertical-align: top;\n",
              "    }\n",
              "\n",
              "    .dataframe thead th {\n",
              "        text-align: right;\n",
              "    }\n",
              "</style>\n",
              "<table border=\"1\" class=\"dataframe\">\n",
              "  <thead>\n",
              "    <tr style=\"text-align: right;\">\n",
              "      <th></th>\n",
              "      <th>0</th>\n",
              "      <th>1</th>\n",
              "      <th>2</th>\n",
              "      <th>3</th>\n",
              "      <th>4</th>\n",
              "      <th>5</th>\n",
              "      <th>6</th>\n",
              "      <th>7</th>\n",
              "      <th>8</th>\n",
              "      <th>9</th>\n",
              "      <th>...</th>\n",
              "      <th>4599</th>\n",
              "      <th>4600</th>\n",
              "      <th>4601</th>\n",
              "      <th>4602</th>\n",
              "      <th>4603</th>\n",
              "      <th>4604</th>\n",
              "      <th>4605</th>\n",
              "      <th>4606</th>\n",
              "      <th>4607</th>\n",
              "      <th>label</th>\n",
              "    </tr>\n",
              "  </thead>\n",
              "  <tbody>\n",
              "    <tr>\n",
              "      <th>0</th>\n",
              "      <td>0.000000</td>\n",
              "      <td>0.0</td>\n",
              "      <td>0.335362</td>\n",
              "      <td>0.191588</td>\n",
              "      <td>0.111455</td>\n",
              "      <td>0.0</td>\n",
              "      <td>0.0</td>\n",
              "      <td>0.000000</td>\n",
              "      <td>0.0</td>\n",
              "      <td>0.233555</td>\n",
              "      <td>...</td>\n",
              "      <td>0.000000</td>\n",
              "      <td>0.000000</td>\n",
              "      <td>0.0</td>\n",
              "      <td>0.000000</td>\n",
              "      <td>0.336870</td>\n",
              "      <td>0.0</td>\n",
              "      <td>0.0</td>\n",
              "      <td>0.280540</td>\n",
              "      <td>0.0</td>\n",
              "      <td>1</td>\n",
              "    </tr>\n",
              "    <tr>\n",
              "      <th>1</th>\n",
              "      <td>0.058480</td>\n",
              "      <td>0.0</td>\n",
              "      <td>0.000000</td>\n",
              "      <td>0.000000</td>\n",
              "      <td>0.000000</td>\n",
              "      <td>0.0</td>\n",
              "      <td>0.0</td>\n",
              "      <td>0.000000</td>\n",
              "      <td>0.0</td>\n",
              "      <td>0.000000</td>\n",
              "      <td>...</td>\n",
              "      <td>0.835123</td>\n",
              "      <td>0.320351</td>\n",
              "      <td>0.0</td>\n",
              "      <td>0.395172</td>\n",
              "      <td>0.000000</td>\n",
              "      <td>0.0</td>\n",
              "      <td>0.0</td>\n",
              "      <td>0.000000</td>\n",
              "      <td>0.0</td>\n",
              "      <td>0</td>\n",
              "    </tr>\n",
              "    <tr>\n",
              "      <th>2</th>\n",
              "      <td>0.282112</td>\n",
              "      <td>0.0</td>\n",
              "      <td>0.000000</td>\n",
              "      <td>0.000000</td>\n",
              "      <td>0.000000</td>\n",
              "      <td>0.0</td>\n",
              "      <td>0.0</td>\n",
              "      <td>0.068944</td>\n",
              "      <td>0.0</td>\n",
              "      <td>0.000000</td>\n",
              "      <td>...</td>\n",
              "      <td>0.715905</td>\n",
              "      <td>0.171945</td>\n",
              "      <td>0.0</td>\n",
              "      <td>0.000000</td>\n",
              "      <td>0.308108</td>\n",
              "      <td>0.0</td>\n",
              "      <td>0.0</td>\n",
              "      <td>0.079297</td>\n",
              "      <td>0.0</td>\n",
              "      <td>0</td>\n",
              "    </tr>\n",
              "    <tr>\n",
              "      <th>3</th>\n",
              "      <td>0.387874</td>\n",
              "      <td>0.0</td>\n",
              "      <td>0.000000</td>\n",
              "      <td>0.050626</td>\n",
              "      <td>0.000000</td>\n",
              "      <td>0.0</td>\n",
              "      <td>0.0</td>\n",
              "      <td>0.000000</td>\n",
              "      <td>0.0</td>\n",
              "      <td>0.000000</td>\n",
              "      <td>...</td>\n",
              "      <td>0.576575</td>\n",
              "      <td>0.180843</td>\n",
              "      <td>0.0</td>\n",
              "      <td>0.027337</td>\n",
              "      <td>0.151989</td>\n",
              "      <td>0.0</td>\n",
              "      <td>0.0</td>\n",
              "      <td>0.175057</td>\n",
              "      <td>0.0</td>\n",
              "      <td>0</td>\n",
              "    </tr>\n",
              "    <tr>\n",
              "      <th>4</th>\n",
              "      <td>0.141062</td>\n",
              "      <td>0.0</td>\n",
              "      <td>0.000000</td>\n",
              "      <td>0.000000</td>\n",
              "      <td>0.000000</td>\n",
              "      <td>0.0</td>\n",
              "      <td>0.0</td>\n",
              "      <td>0.000000</td>\n",
              "      <td>0.0</td>\n",
              "      <td>0.000000</td>\n",
              "      <td>...</td>\n",
              "      <td>0.851573</td>\n",
              "      <td>0.096842</td>\n",
              "      <td>0.0</td>\n",
              "      <td>0.032068</td>\n",
              "      <td>0.478181</td>\n",
              "      <td>0.0</td>\n",
              "      <td>0.0</td>\n",
              "      <td>0.115065</td>\n",
              "      <td>0.0</td>\n",
              "      <td>1</td>\n",
              "    </tr>\n",
              "  </tbody>\n",
              "</table>\n",
              "<p>5 rows × 4609 columns</p>\n",
              "</div>\n",
              "      <button class=\"colab-df-convert\" onclick=\"convertToInteractive('df-05b99adf-633e-45c5-ba76-55a235c1659b')\"\n",
              "              title=\"Convert this dataframe to an interactive table.\"\n",
              "              style=\"display:none;\">\n",
              "        \n",
              "  <svg xmlns=\"http://www.w3.org/2000/svg\" height=\"24px\"viewBox=\"0 0 24 24\"\n",
              "       width=\"24px\">\n",
              "    <path d=\"M0 0h24v24H0V0z\" fill=\"none\"/>\n",
              "    <path d=\"M18.56 5.44l.94 2.06.94-2.06 2.06-.94-2.06-.94-.94-2.06-.94 2.06-2.06.94zm-11 1L8.5 8.5l.94-2.06 2.06-.94-2.06-.94L8.5 2.5l-.94 2.06-2.06.94zm10 10l.94 2.06.94-2.06 2.06-.94-2.06-.94-.94-2.06-.94 2.06-2.06.94z\"/><path d=\"M17.41 7.96l-1.37-1.37c-.4-.4-.92-.59-1.43-.59-.52 0-1.04.2-1.43.59L10.3 9.45l-7.72 7.72c-.78.78-.78 2.05 0 2.83L4 21.41c.39.39.9.59 1.41.59.51 0 1.02-.2 1.41-.59l7.78-7.78 2.81-2.81c.8-.78.8-2.07 0-2.86zM5.41 20L4 18.59l7.72-7.72 1.47 1.35L5.41 20z\"/>\n",
              "  </svg>\n",
              "      </button>\n",
              "      \n",
              "  <style>\n",
              "    .colab-df-container {\n",
              "      display:flex;\n",
              "      flex-wrap:wrap;\n",
              "      gap: 12px;\n",
              "    }\n",
              "\n",
              "    .colab-df-convert {\n",
              "      background-color: #E8F0FE;\n",
              "      border: none;\n",
              "      border-radius: 50%;\n",
              "      cursor: pointer;\n",
              "      display: none;\n",
              "      fill: #1967D2;\n",
              "      height: 32px;\n",
              "      padding: 0 0 0 0;\n",
              "      width: 32px;\n",
              "    }\n",
              "\n",
              "    .colab-df-convert:hover {\n",
              "      background-color: #E2EBFA;\n",
              "      box-shadow: 0px 1px 2px rgba(60, 64, 67, 0.3), 0px 1px 3px 1px rgba(60, 64, 67, 0.15);\n",
              "      fill: #174EA6;\n",
              "    }\n",
              "\n",
              "    [theme=dark] .colab-df-convert {\n",
              "      background-color: #3B4455;\n",
              "      fill: #D2E3FC;\n",
              "    }\n",
              "\n",
              "    [theme=dark] .colab-df-convert:hover {\n",
              "      background-color: #434B5C;\n",
              "      box-shadow: 0px 1px 3px 1px rgba(0, 0, 0, 0.15);\n",
              "      filter: drop-shadow(0px 1px 2px rgba(0, 0, 0, 0.3));\n",
              "      fill: #FFFFFF;\n",
              "    }\n",
              "  </style>\n",
              "\n",
              "      <script>\n",
              "        const buttonEl =\n",
              "          document.querySelector('#df-05b99adf-633e-45c5-ba76-55a235c1659b button.colab-df-convert');\n",
              "        buttonEl.style.display =\n",
              "          google.colab.kernel.accessAllowed ? 'block' : 'none';\n",
              "\n",
              "        async function convertToInteractive(key) {\n",
              "          const element = document.querySelector('#df-05b99adf-633e-45c5-ba76-55a235c1659b');\n",
              "          const dataTable =\n",
              "            await google.colab.kernel.invokeFunction('convertToInteractive',\n",
              "                                                     [key], {});\n",
              "          if (!dataTable) return;\n",
              "\n",
              "          const docLinkHtml = 'Like what you see? Visit the ' +\n",
              "            '<a target=\"_blank\" href=https://colab.research.google.com/notebooks/data_table.ipynb>data table notebook</a>'\n",
              "            + ' to learn more about interactive tables.';\n",
              "          element.innerHTML = '';\n",
              "          dataTable['output_type'] = 'display_data';\n",
              "          await google.colab.output.renderOutput(dataTable, element);\n",
              "          const docLink = document.createElement('div');\n",
              "          docLink.innerHTML = docLinkHtml;\n",
              "          element.appendChild(docLink);\n",
              "        }\n",
              "      </script>\n",
              "    </div>\n",
              "  </div>\n",
              "  "
            ]
          },
          "metadata": {},
          "execution_count": 7
        }
      ]
    },
    {
      "cell_type": "code",
      "source": [
        "df_train.shape"
      ],
      "metadata": {
        "colab": {
          "base_uri": "https://localhost:8080/"
        },
        "id": "u3_kxH1Z95ze",
        "outputId": "f7de32c1-86d5-4530-cfb0-00f0109ae578"
      },
      "execution_count": 8,
      "outputs": [
        {
          "output_type": "execute_result",
          "data": {
            "text/plain": [
              "(11649, 4609)"
            ]
          },
          "metadata": {},
          "execution_count": 8
        }
      ]
    },
    {
      "cell_type": "code",
      "source": [
        "df_test.head()"
      ],
      "metadata": {
        "colab": {
          "base_uri": "https://localhost:8080/",
          "height": 235
        },
        "id": "ii39RwU58v93",
        "outputId": "c1de3a0e-1a3f-4afa-da6f-f4c33ec5170b"
      },
      "execution_count": 9,
      "outputs": [
        {
          "output_type": "execute_result",
          "data": {
            "text/plain": [
              "          0    1         2         3    4    5    6         7    8    9  ...  \\\n",
              "0  0.000000  0.0  0.000000  0.205597  0.0  0.0  0.0  0.000000  0.0  0.0  ...   \n",
              "1  0.000000  0.0  0.395822  0.193037  0.0  0.0  0.0  0.000000  0.0  0.0  ...   \n",
              "2  0.000000  0.0  0.000000  0.000000  0.0  0.0  0.0  0.012396  0.0  0.0  ...   \n",
              "3  0.804970  0.0  0.000000  0.065013  0.0  0.0  0.0  0.069156  0.0  0.0  ...   \n",
              "4  0.168983  0.0  0.684929  0.458340  0.0  0.0  0.0  0.125606  0.0  0.0  ...   \n",
              "\n",
              "       4599      4600      4601      4602      4603  4604  4605      4606  \\\n",
              "0  0.819428  0.000000  0.000000  0.577625  0.190390   0.0   0.0  0.000000   \n",
              "1  0.687352  0.356907  0.000000  0.076678  0.627020   0.0   0.0  0.625178   \n",
              "2  0.486694  0.231280  0.000000  0.000000  0.247947   0.0   0.0  0.000000   \n",
              "3  0.682133  0.193544  0.000000  0.000000  0.177270   0.0   0.0  0.482308   \n",
              "4  0.545165  0.335207  0.013007  0.147285  0.393345   0.0   0.0  0.408651   \n",
              "\n",
              "   4607  label  \n",
              "0   0.0      1  \n",
              "1   0.0      0  \n",
              "2   0.0      0  \n",
              "3   0.0      0  \n",
              "4   0.0      1  \n",
              "\n",
              "[5 rows x 4609 columns]"
            ],
            "text/html": [
              "\n",
              "  <div id=\"df-2d16d594-83fe-4072-bb3f-2fe146c1e046\">\n",
              "    <div class=\"colab-df-container\">\n",
              "      <div>\n",
              "<style scoped>\n",
              "    .dataframe tbody tr th:only-of-type {\n",
              "        vertical-align: middle;\n",
              "    }\n",
              "\n",
              "    .dataframe tbody tr th {\n",
              "        vertical-align: top;\n",
              "    }\n",
              "\n",
              "    .dataframe thead th {\n",
              "        text-align: right;\n",
              "    }\n",
              "</style>\n",
              "<table border=\"1\" class=\"dataframe\">\n",
              "  <thead>\n",
              "    <tr style=\"text-align: right;\">\n",
              "      <th></th>\n",
              "      <th>0</th>\n",
              "      <th>1</th>\n",
              "      <th>2</th>\n",
              "      <th>3</th>\n",
              "      <th>4</th>\n",
              "      <th>5</th>\n",
              "      <th>6</th>\n",
              "      <th>7</th>\n",
              "      <th>8</th>\n",
              "      <th>9</th>\n",
              "      <th>...</th>\n",
              "      <th>4599</th>\n",
              "      <th>4600</th>\n",
              "      <th>4601</th>\n",
              "      <th>4602</th>\n",
              "      <th>4603</th>\n",
              "      <th>4604</th>\n",
              "      <th>4605</th>\n",
              "      <th>4606</th>\n",
              "      <th>4607</th>\n",
              "      <th>label</th>\n",
              "    </tr>\n",
              "  </thead>\n",
              "  <tbody>\n",
              "    <tr>\n",
              "      <th>0</th>\n",
              "      <td>0.000000</td>\n",
              "      <td>0.0</td>\n",
              "      <td>0.000000</td>\n",
              "      <td>0.205597</td>\n",
              "      <td>0.0</td>\n",
              "      <td>0.0</td>\n",
              "      <td>0.0</td>\n",
              "      <td>0.000000</td>\n",
              "      <td>0.0</td>\n",
              "      <td>0.0</td>\n",
              "      <td>...</td>\n",
              "      <td>0.819428</td>\n",
              "      <td>0.000000</td>\n",
              "      <td>0.000000</td>\n",
              "      <td>0.577625</td>\n",
              "      <td>0.190390</td>\n",
              "      <td>0.0</td>\n",
              "      <td>0.0</td>\n",
              "      <td>0.000000</td>\n",
              "      <td>0.0</td>\n",
              "      <td>1</td>\n",
              "    </tr>\n",
              "    <tr>\n",
              "      <th>1</th>\n",
              "      <td>0.000000</td>\n",
              "      <td>0.0</td>\n",
              "      <td>0.395822</td>\n",
              "      <td>0.193037</td>\n",
              "      <td>0.0</td>\n",
              "      <td>0.0</td>\n",
              "      <td>0.0</td>\n",
              "      <td>0.000000</td>\n",
              "      <td>0.0</td>\n",
              "      <td>0.0</td>\n",
              "      <td>...</td>\n",
              "      <td>0.687352</td>\n",
              "      <td>0.356907</td>\n",
              "      <td>0.000000</td>\n",
              "      <td>0.076678</td>\n",
              "      <td>0.627020</td>\n",
              "      <td>0.0</td>\n",
              "      <td>0.0</td>\n",
              "      <td>0.625178</td>\n",
              "      <td>0.0</td>\n",
              "      <td>0</td>\n",
              "    </tr>\n",
              "    <tr>\n",
              "      <th>2</th>\n",
              "      <td>0.000000</td>\n",
              "      <td>0.0</td>\n",
              "      <td>0.000000</td>\n",
              "      <td>0.000000</td>\n",
              "      <td>0.0</td>\n",
              "      <td>0.0</td>\n",
              "      <td>0.0</td>\n",
              "      <td>0.012396</td>\n",
              "      <td>0.0</td>\n",
              "      <td>0.0</td>\n",
              "      <td>...</td>\n",
              "      <td>0.486694</td>\n",
              "      <td>0.231280</td>\n",
              "      <td>0.000000</td>\n",
              "      <td>0.000000</td>\n",
              "      <td>0.247947</td>\n",
              "      <td>0.0</td>\n",
              "      <td>0.0</td>\n",
              "      <td>0.000000</td>\n",
              "      <td>0.0</td>\n",
              "      <td>0</td>\n",
              "    </tr>\n",
              "    <tr>\n",
              "      <th>3</th>\n",
              "      <td>0.804970</td>\n",
              "      <td>0.0</td>\n",
              "      <td>0.000000</td>\n",
              "      <td>0.065013</td>\n",
              "      <td>0.0</td>\n",
              "      <td>0.0</td>\n",
              "      <td>0.0</td>\n",
              "      <td>0.069156</td>\n",
              "      <td>0.0</td>\n",
              "      <td>0.0</td>\n",
              "      <td>...</td>\n",
              "      <td>0.682133</td>\n",
              "      <td>0.193544</td>\n",
              "      <td>0.000000</td>\n",
              "      <td>0.000000</td>\n",
              "      <td>0.177270</td>\n",
              "      <td>0.0</td>\n",
              "      <td>0.0</td>\n",
              "      <td>0.482308</td>\n",
              "      <td>0.0</td>\n",
              "      <td>0</td>\n",
              "    </tr>\n",
              "    <tr>\n",
              "      <th>4</th>\n",
              "      <td>0.168983</td>\n",
              "      <td>0.0</td>\n",
              "      <td>0.684929</td>\n",
              "      <td>0.458340</td>\n",
              "      <td>0.0</td>\n",
              "      <td>0.0</td>\n",
              "      <td>0.0</td>\n",
              "      <td>0.125606</td>\n",
              "      <td>0.0</td>\n",
              "      <td>0.0</td>\n",
              "      <td>...</td>\n",
              "      <td>0.545165</td>\n",
              "      <td>0.335207</td>\n",
              "      <td>0.013007</td>\n",
              "      <td>0.147285</td>\n",
              "      <td>0.393345</td>\n",
              "      <td>0.0</td>\n",
              "      <td>0.0</td>\n",
              "      <td>0.408651</td>\n",
              "      <td>0.0</td>\n",
              "      <td>1</td>\n",
              "    </tr>\n",
              "  </tbody>\n",
              "</table>\n",
              "<p>5 rows × 4609 columns</p>\n",
              "</div>\n",
              "      <button class=\"colab-df-convert\" onclick=\"convertToInteractive('df-2d16d594-83fe-4072-bb3f-2fe146c1e046')\"\n",
              "              title=\"Convert this dataframe to an interactive table.\"\n",
              "              style=\"display:none;\">\n",
              "        \n",
              "  <svg xmlns=\"http://www.w3.org/2000/svg\" height=\"24px\"viewBox=\"0 0 24 24\"\n",
              "       width=\"24px\">\n",
              "    <path d=\"M0 0h24v24H0V0z\" fill=\"none\"/>\n",
              "    <path d=\"M18.56 5.44l.94 2.06.94-2.06 2.06-.94-2.06-.94-.94-2.06-.94 2.06-2.06.94zm-11 1L8.5 8.5l.94-2.06 2.06-.94-2.06-.94L8.5 2.5l-.94 2.06-2.06.94zm10 10l.94 2.06.94-2.06 2.06-.94-2.06-.94-.94-2.06-.94 2.06-2.06.94z\"/><path d=\"M17.41 7.96l-1.37-1.37c-.4-.4-.92-.59-1.43-.59-.52 0-1.04.2-1.43.59L10.3 9.45l-7.72 7.72c-.78.78-.78 2.05 0 2.83L4 21.41c.39.39.9.59 1.41.59.51 0 1.02-.2 1.41-.59l7.78-7.78 2.81-2.81c.8-.78.8-2.07 0-2.86zM5.41 20L4 18.59l7.72-7.72 1.47 1.35L5.41 20z\"/>\n",
              "  </svg>\n",
              "      </button>\n",
              "      \n",
              "  <style>\n",
              "    .colab-df-container {\n",
              "      display:flex;\n",
              "      flex-wrap:wrap;\n",
              "      gap: 12px;\n",
              "    }\n",
              "\n",
              "    .colab-df-convert {\n",
              "      background-color: #E8F0FE;\n",
              "      border: none;\n",
              "      border-radius: 50%;\n",
              "      cursor: pointer;\n",
              "      display: none;\n",
              "      fill: #1967D2;\n",
              "      height: 32px;\n",
              "      padding: 0 0 0 0;\n",
              "      width: 32px;\n",
              "    }\n",
              "\n",
              "    .colab-df-convert:hover {\n",
              "      background-color: #E2EBFA;\n",
              "      box-shadow: 0px 1px 2px rgba(60, 64, 67, 0.3), 0px 1px 3px 1px rgba(60, 64, 67, 0.15);\n",
              "      fill: #174EA6;\n",
              "    }\n",
              "\n",
              "    [theme=dark] .colab-df-convert {\n",
              "      background-color: #3B4455;\n",
              "      fill: #D2E3FC;\n",
              "    }\n",
              "\n",
              "    [theme=dark] .colab-df-convert:hover {\n",
              "      background-color: #434B5C;\n",
              "      box-shadow: 0px 1px 3px 1px rgba(0, 0, 0, 0.15);\n",
              "      filter: drop-shadow(0px 1px 2px rgba(0, 0, 0, 0.3));\n",
              "      fill: #FFFFFF;\n",
              "    }\n",
              "  </style>\n",
              "\n",
              "      <script>\n",
              "        const buttonEl =\n",
              "          document.querySelector('#df-2d16d594-83fe-4072-bb3f-2fe146c1e046 button.colab-df-convert');\n",
              "        buttonEl.style.display =\n",
              "          google.colab.kernel.accessAllowed ? 'block' : 'none';\n",
              "\n",
              "        async function convertToInteractive(key) {\n",
              "          const element = document.querySelector('#df-2d16d594-83fe-4072-bb3f-2fe146c1e046');\n",
              "          const dataTable =\n",
              "            await google.colab.kernel.invokeFunction('convertToInteractive',\n",
              "                                                     [key], {});\n",
              "          if (!dataTable) return;\n",
              "\n",
              "          const docLinkHtml = 'Like what you see? Visit the ' +\n",
              "            '<a target=\"_blank\" href=https://colab.research.google.com/notebooks/data_table.ipynb>data table notebook</a>'\n",
              "            + ' to learn more about interactive tables.';\n",
              "          element.innerHTML = '';\n",
              "          dataTable['output_type'] = 'display_data';\n",
              "          await google.colab.output.renderOutput(dataTable, element);\n",
              "          const docLink = document.createElement('div');\n",
              "          docLink.innerHTML = docLinkHtml;\n",
              "          element.appendChild(docLink);\n",
              "        }\n",
              "      </script>\n",
              "    </div>\n",
              "  </div>\n",
              "  "
            ]
          },
          "metadata": {},
          "execution_count": 9
        }
      ]
    },
    {
      "cell_type": "code",
      "source": [
        "df_test.shape"
      ],
      "metadata": {
        "colab": {
          "base_uri": "https://localhost:8080/"
        },
        "id": "DF0bCFIG99Dm",
        "outputId": "cc0b438a-95d0-423d-beb1-2b4bbf42e655"
      },
      "execution_count": 10,
      "outputs": [
        {
          "output_type": "execute_result",
          "data": {
            "text/plain": [
              "(2913, 4609)"
            ]
          },
          "metadata": {},
          "execution_count": 10
        }
      ]
    },
    {
      "cell_type": "markdown",
      "source": [
        "# Create X and y Data to Feed ML Models"
      ],
      "metadata": {
        "id": "A-Vc4OIg83q2"
      }
    },
    {
      "cell_type": "code",
      "source": [
        "X_train = np.array(df_train.iloc[:,:-1].copy())\n",
        "y_train = np.array(df_train['label'].copy())"
      ],
      "metadata": {
        "id": "OxBLdYzn8z1f"
      },
      "execution_count": 11,
      "outputs": []
    },
    {
      "cell_type": "code",
      "source": [
        "(X_train.shape, y_train.shape)"
      ],
      "metadata": {
        "colab": {
          "base_uri": "https://localhost:8080/"
        },
        "id": "ltij2W7s9iXX",
        "outputId": "5d251fab-7f71-4237-acfe-f76dfea6e4e0"
      },
      "execution_count": 12,
      "outputs": [
        {
          "output_type": "execute_result",
          "data": {
            "text/plain": [
              "((11649, 4608), (11649,))"
            ]
          },
          "metadata": {},
          "execution_count": 12
        }
      ]
    },
    {
      "cell_type": "code",
      "source": [
        "X_test = np.array(df_test.iloc[:,:-1].copy())\n",
        "y_test = np.array(df_test['label'].copy())"
      ],
      "metadata": {
        "id": "SCjmRZBj9yWE"
      },
      "execution_count": 13,
      "outputs": []
    },
    {
      "cell_type": "code",
      "source": [
        "(X_test.shape, y_test.shape)"
      ],
      "metadata": {
        "colab": {
          "base_uri": "https://localhost:8080/"
        },
        "id": "_6JOoK-R-GwH",
        "outputId": "325d07af-4828-40e7-efc2-1b00a3126185"
      },
      "execution_count": 14,
      "outputs": [
        {
          "output_type": "execute_result",
          "data": {
            "text/plain": [
              "((2913, 4608), (2913,))"
            ]
          },
          "metadata": {},
          "execution_count": 14
        }
      ]
    },
    {
      "cell_type": "markdown",
      "source": [
        "# Classification - Logistic Regression"
      ],
      "metadata": {
        "id": "scLnxpXO-Lh2"
      }
    },
    {
      "cell_type": "code",
      "source": [
        "clf_lreg = LogisticRegression(max_iter=1000000).fit(X_train, y_train)\n",
        "y_pred = clf_lreg.predict(X_test)"
      ],
      "metadata": {
        "id": "S2XFWi1--Jen"
      },
      "execution_count": 15,
      "outputs": []
    },
    {
      "cell_type": "code",
      "source": [
        "cm= confusion_matrix(y_test,y_pred)\n",
        "disp = ConfusionMatrixDisplay(confusion_matrix=cm)\n",
        "disp.plot()\n",
        "plt.show()"
      ],
      "metadata": {
        "colab": {
          "base_uri": "https://localhost:8080/",
          "height": 449
        },
        "id": "ptqVT5pL-drb",
        "outputId": "800f84bb-f8d4-4281-d91a-003a9bd41eb6"
      },
      "execution_count": 16,
      "outputs": [
        {
          "output_type": "display_data",
          "data": {
            "text/plain": [
              "<Figure size 640x480 with 2 Axes>"
            ],
            "image/png": "[encoded data removed]"
          },
          "metadata": {}
        }
      ]
    },
    {
      "cell_type": "code",
      "source": [
        "print(classification_report(y_train, clf_lreg.predict(X_train)))"
      ],
      "metadata": {
        "colab": {
          "base_uri": "https://localhost:8080/"
        },
        "id": "wbr6vWUlTISq",
        "outputId": "0824256f-8bda-4227-afb5-866e489d1161"
      },
      "execution_count": 17,
      "outputs": [
        {
          "output_type": "stream",
          "name": "stdout",
          "text": [
            "              precision    recall  f1-score   support\n",
            "\n",
            "           0       0.89      0.94      0.92      5818\n",
            "           1       0.94      0.89      0.91      5831\n",
            "\n",
            "    accuracy                           0.92     11649\n",
            "   macro avg       0.92      0.92      0.92     11649\n",
            "weighted avg       0.92      0.92      0.92     11649\n",
            "\n"
          ]
        }
      ]
    },
    {
      "cell_type": "code",
      "source": [
        "print(classification_report(y_test, y_pred))"
      ],
      "metadata": {
        "colab": {
          "base_uri": "https://localhost:8080/"
        },
        "id": "tBMVHhZjTbV5",
        "outputId": "de61bb03-3aed-4958-b215-3f63e5ac0356"
      },
      "execution_count": 18,
      "outputs": [
        {
          "output_type": "stream",
          "name": "stdout",
          "text": [
            "              precision    recall  f1-score   support\n",
            "\n",
            "           0       0.82      0.86      0.84      1454\n",
            "           1       0.86      0.82      0.84      1459\n",
            "\n",
            "    accuracy                           0.84      2913\n",
            "   macro avg       0.84      0.84      0.84      2913\n",
            "weighted avg       0.84      0.84      0.84      2913\n",
            "\n"
          ]
        }
      ]
    },
    {
      "cell_type": "code",
      "source": [],
      "metadata": {
        "id": "SAyxe-W4TxSk"
      },
      "execution_count": 18,
      "outputs": []
    },
    {
      "cell_type": "code",
      "source": [
        "fpr_rf, tpr_rf, _ = roc_curve(y_train, clf_lreg.predict(X_train))\n",
        "\n",
        "plt.figure(1)\n",
        "plt.plot([0, 1], [0, 1], 'k--')\n",
        "plt.plot(fpr_rf, tpr_rf, label='LogRegress')\n",
        "plt.xlabel('False positive rate')\n",
        "plt.ylabel('True positive rate')\n",
        "plt.title('ROC curve - Training Data - Batch_3')\n",
        "plt.legend(loc='best')\n",
        "plt.show()"
      ],
      "metadata": {
        "colab": {
          "base_uri": "https://localhost:8080/",
          "height": 472
        },
        "id": "RDPindpwqeMv",
        "outputId": "bb5a469a-fd23-4b61-911d-f07f462df069"
      },
      "execution_count": 19,
      "outputs": [
        {
          "output_type": "display_data",
          "data": {
            "text/plain": [
              "<Figure size 640x480 with 1 Axes>"
            ],
            "image/png": "[encoded data removed]"
          },
          "metadata": {}
        }
      ]
    },
    {
      "cell_type": "code",
      "source": [
        "fpr_rf, tpr_rf, _ = roc_curve(y_test, clf_lreg.predict(X_test))\n",
        "\n",
        "plt.figure(1)\n",
        "plt.plot([0, 1], [0, 1], 'k--')\n",
        "plt.plot(fpr_rf, tpr_rf, label='LogRegress')\n",
        "plt.xlabel('False positive rate')\n",
        "plt.ylabel('True positive rate')\n",
        "plt.title('ROC curve - Test Data - Batch_3')\n",
        "plt.legend(loc='best')\n",
        "plt.show()"
      ],
      "metadata": {
        "colab": {
          "base_uri": "https://localhost:8080/",
          "height": 472
        },
        "id": "X7DMBYewUtWI",
        "outputId": "260693a5-6770-4033-daf5-90612e6938e4"
      },
      "execution_count": 20,
      "outputs": [
        {
          "output_type": "display_data",
          "data": {
            "text/plain": [
              "<Figure size 640x480 with 1 Axes>"
            ],
            "image/png": "[encoded data removed]"
          },
          "metadata": {}
        }
      ]
    },
    {
      "cell_type": "markdown",
      "source": [
        "# Classification - Random Forest"
      ],
      "metadata": {
        "id": "XBFpRXgUVOuY"
      }
    },
    {
      "cell_type": "code",
      "source": [
        "clf_RF = RandomForestClassifier(n_estimators = 50, random_state = 42)"
      ],
      "metadata": {
        "id": "eSB4q5QOU-WB"
      },
      "execution_count": 21,
      "outputs": []
    },
    {
      "cell_type": "code",
      "source": [
        "clf_RF.fit(X_train, y_train)"
      ],
      "metadata": {
        "colab": {
          "base_uri": "https://localhost:8080/",
          "height": 74
        },
        "id": "tO6pOAtxVW4T",
        "outputId": "044a2eb8-3994-44c5-a39c-20e813aa6000"
      },
      "execution_count": 22,
      "outputs": [
        {
          "output_type": "execute_result",
          "data": {
            "text/plain": [
              "RandomForestClassifier(n_estimators=50, random_state=42)"
            ],
            "text/html": [
              "<style>#sk-container-id-1 {color: black;background-color: white;}#sk-container-id-1 pre{padding: 0;}#sk-container-id-1 div.sk-toggleable {background-color: white;}#sk-container-id-1 label.sk-toggleable__label {cursor: pointer;display: block;width: 100%;margin-bottom: 0;padding: 0.3em;box-sizing: border-box;text-align: center;}#sk-container-id-1 label.sk-toggleable__label-arrow:before {content: \"▸\";float: left;margin-right: 0.25em;color: #696969;}#sk-container-id-1 label.sk-toggleable__label-arrow:hover:before {color: black;}#sk-container-id-1 div.sk-estimator:hover label.sk-toggleable__label-arrow:before {color: black;}#sk-container-id-1 div.sk-toggleable__content {max-height: 0;max-width: 0;overflow: hidden;text-align: left;background-color: #f0f8ff;}#sk-container-id-1 div.sk-toggleable__content pre {margin: 0.2em;color: black;border-radius: 0.25em;background-color: #f0f8ff;}#sk-container-id-1 input.sk-toggleable__control:checked~div.sk-toggleable__content {max-height: 200px;max-width: 100%;overflow: auto;}#sk-container-id-1 input.sk-toggleable__control:checked~label.sk-toggleable__label-arrow:before {content: \"▾\";}#sk-container-id-1 div.sk-estimator input.sk-toggleable__control:checked~label.sk-toggleable__label {background-color: #d4ebff;}#sk-container-id-1 div.sk-label input.sk-toggleable__control:checked~label.sk-toggleable__label {background-color: #d4ebff;}#sk-container-id-1 input.sk-hidden--visually {border: 0;clip: rect(1px 1px 1px 1px);clip: rect(1px, 1px, 1px, 1px);height: 1px;margin: -1px;overflow: hidden;padding: 0;position: absolute;width: 1px;}#sk-container-id-1 div.sk-estimator {font-family: monospace;background-color: #f0f8ff;border: 1px dotted black;border-radius: 0.25em;box-sizing: border-box;margin-bottom: 0.5em;}#sk-container-id-1 div.sk-estimator:hover {background-color: #d4ebff;}#sk-container-id-1 div.sk-parallel-item::after {content: \"\";width: 100%;border-bottom: 1px solid gray;flex-grow: 1;}#sk-container-id-1 div.sk-label:hover label.sk-toggleable__label {background-color: #d4ebff;}#sk-container-id-1 div.sk-serial::before {content: \"\";position: absolute;border-left: 1px solid gray;box-sizing: border-box;top: 0;bottom: 0;left: 50%;z-index: 0;}#sk-container-id-1 div.sk-serial {display: flex;flex-direction: column;align-items: center;background-color: white;padding-right: 0.2em;padding-left: 0.2em;position: relative;}#sk-container-id-1 div.sk-item {position: relative;z-index: 1;}#sk-container-id-1 div.sk-parallel {display: flex;align-items: stretch;justify-content: center;background-color: white;position: relative;}#sk-container-id-1 div.sk-item::before, #sk-container-id-1 div.sk-parallel-item::before {content: \"\";position: absolute;border-left: 1px solid gray;box-sizing: border-box;top: 0;bottom: 0;left: 50%;z-index: -1;}#sk-container-id-1 div.sk-parallel-item {display: flex;flex-direction: column;z-index: 1;position: relative;background-color: white;}#sk-container-id-1 div.sk-parallel-item:first-child::after {align-self: flex-end;width: 50%;}#sk-container-id-1 div.sk-parallel-item:last-child::after {align-self: flex-start;width: 50%;}#sk-container-id-1 div.sk-parallel-item:only-child::after {width: 0;}#sk-container-id-1 div.sk-dashed-wrapped {border: 1px dashed gray;margin: 0 0.4em 0.5em 0.4em;box-sizing: border-box;padding-bottom: 0.4em;background-color: white;}#sk-container-id-1 div.sk-label label {font-family: monospace;font-weight: bold;display: inline-block;line-height: 1.2em;}#sk-container-id-1 div.sk-label-container {text-align: center;}#sk-container-id-1 div.sk-container {/* jupyter's `normalize.less` sets `[hidden] { display: none; }` but bootstrap.min.css set `[hidden] { display: none !important; }` so we also need the `!important` here to be able to override the default hidden behavior on the sphinx rendered scikit-learn.org. See: https://github.com/scikit-learn/scikit-learn/issues/21755 */display: inline-block !important;position: relative;}#sk-container-id-1 div.sk-text-repr-fallback {display: none;}</style><div id=\"sk-container-id-1\" class=\"sk-top-container\"><div class=\"sk-text-repr-fallback\"><pre>RandomForestClassifier(n_estimators=50, random_state=42)</pre><b>In a Jupyter environment, please rerun this cell to show the HTML representation or trust the notebook. <br />On GitHub, the HTML representation is unable to render, please try loading this page with nbviewer.org.</b></div><div class=\"sk-container\" hidden><div class=\"sk-item\"><div class=\"sk-estimator sk-toggleable\"><input class=\"sk-toggleable__control sk-hidden--visually\" id=\"sk-estimator-id-1\" type=\"checkbox\" checked><label for=\"sk-estimator-id-1\" class=\"sk-toggleable__label sk-toggleable__label-arrow\">RandomForestClassifier</label><div class=\"sk-toggleable__content\"><pre>RandomForestClassifier(n_estimators=50, random_state=42)</pre></div></div></div></div></div>"
            ]
          },
          "metadata": {},
          "execution_count": 22
        }
      ]
    },
    {
      "cell_type": "code",
      "source": [
        "y_pred = clf_RF.predict(X_test)\n",
        "cm= confusion_matrix(y_test,y_pred)\n",
        "disp = ConfusionMatrixDisplay(confusion_matrix=cm)\n",
        "disp.plot()\n",
        "plt.show()"
      ],
      "metadata": {
        "colab": {
          "base_uri": "https://localhost:8080/",
          "height": 449
        },
        "id": "YnkZyglLVbFQ",
        "outputId": "8fea0c20-7b64-4a37-a06e-d048ef15d94c"
      },
      "execution_count": 23,
      "outputs": [
        {
          "output_type": "display_data",
          "data": {
            "text/plain": [
              "<Figure size 640x480 with 2 Axes>"
            ],
            "image/png": "[encoded data removed]"
          },
          "metadata": {}
        }
      ]
    },
    {
      "cell_type": "code",
      "source": [
        "print(classification_report(y_train, clf_RF.predict(X_train)))"
      ],
      "metadata": {
        "colab": {
          "base_uri": "https://localhost:8080/"
        },
        "id": "xMKyGuAcWgXI",
        "outputId": "43743fb5-aa5b-46f9-a980-74a74ccf1109"
      },
      "execution_count": 24,
      "outputs": [
        {
          "output_type": "stream",
          "name": "stdout",
          "text": [
            "              precision    recall  f1-score   support\n",
            "\n",
            "           0       1.00      1.00      1.00      5818\n",
            "           1       1.00      1.00      1.00      5831\n",
            "\n",
            "    accuracy                           1.00     11649\n",
            "   macro avg       1.00      1.00      1.00     11649\n",
            "weighted avg       1.00      1.00      1.00     11649\n",
            "\n"
          ]
        }
      ]
    },
    {
      "cell_type": "code",
      "source": [
        "print(classification_report(y_test, y_pred))"
      ],
      "metadata": {
        "colab": {
          "base_uri": "https://localhost:8080/"
        },
        "id": "cdjJJBXRV5Iw",
        "outputId": "8c10ef8b-04f5-4570-8086-505e81a9fa76"
      },
      "execution_count": 25,
      "outputs": [
        {
          "output_type": "stream",
          "name": "stdout",
          "text": [
            "              precision    recall  f1-score   support\n",
            "\n",
            "           0       0.76      0.94      0.84      1454\n",
            "           1       0.92      0.71      0.80      1459\n",
            "\n",
            "    accuracy                           0.82      2913\n",
            "   macro avg       0.84      0.82      0.82      2913\n",
            "weighted avg       0.84      0.82      0.82      2913\n",
            "\n"
          ]
        }
      ]
    },
    {
      "cell_type": "code",
      "source": [
        "fpr_rf, tpr_rf, _ = roc_curve(y_train, clf_RF.predict(X_train))\n",
        "\n",
        "plt.figure(1)\n",
        "plt.plot([0, 1], [0, 1], 'k--')\n",
        "plt.plot(fpr_rf, tpr_rf, label='Random Forest')\n",
        "plt.xlabel('False positive rate')\n",
        "plt.ylabel('True positive rate')\n",
        "plt.title('ROC curve - Training Data - Batch_3')\n",
        "plt.legend(loc='best')\n",
        "plt.show()"
      ],
      "metadata": {
        "colab": {
          "base_uri": "https://localhost:8080/",
          "height": 472
        },
        "id": "GkVTZWoZWqOH",
        "outputId": "049e482c-514d-434b-9408-a1e7fc1941c2"
      },
      "execution_count": 26,
      "outputs": [
        {
          "output_type": "display_data",
          "data": {
            "text/plain": [
              "<Figure size 640x480 with 1 Axes>"
            ],
            "image/png": "[encoded data removed]"
          },
          "metadata": {}
        }
      ]
    },
    {
      "cell_type": "code",
      "source": [
        "fpr_rf, tpr_rf, _ = roc_curve(y_test, clf_RF.predict(X_test))\n",
        "\n",
        "plt.figure(1)\n",
        "plt.plot([0, 1], [0, 1], 'k--')\n",
        "plt.plot(fpr_rf, tpr_rf, label='Random Forest')\n",
        "plt.xlabel('False positive rate')\n",
        "plt.ylabel('True positive rate')\n",
        "plt.title('ROC curve - Test Data - Batch_3')\n",
        "plt.legend(loc='best')\n",
        "plt.show()"
      ],
      "metadata": {
        "colab": {
          "base_uri": "https://localhost:8080/",
          "height": 472
        },
        "id": "W1RyyaXWVk9c",
        "outputId": "0d76f50f-1e35-4c1c-e1c8-7ae517c91530"
      },
      "execution_count": 27,
      "outputs": [
        {
          "output_type": "display_data",
          "data": {
            "text/plain": [
              "<Figure size 640x480 with 1 Axes>"
            ],
            "image/png": "[encoded data removed]"
          },
          "metadata": {}
        }
      ]
    },
    {
      "cell_type": "markdown",
      "source": [
        "# Classification - XGBoost"
      ],
      "metadata": {
        "id": "dXvEhFlcXrda"
      }
    },
    {
      "cell_type": "code",
      "source": [
        "clf_xgb = XGBClassifier(use_label_encoder=False,eval_metric='logloss',max_depth=50,n_estimators=50,random_state=2023)\n",
        "clf_xgb.fit(X_train, y_train)"
      ],
      "metadata": {
        "colab": {
          "base_uri": "https://localhost:8080/",
          "height": 282
        },
        "id": "1dCHRoWzV1zF",
        "outputId": "e5b04b0f-3e52-4e97-d8e4-fd571ee566d5"
      },
      "execution_count": 28,
      "outputs": [
        {
          "output_type": "stream",
          "name": "stderr",
          "text": [
            "/usr/local/lib/python3.9/dist-packages/xgboost/sklearn.py:1395: UserWarning: `use_label_encoder` is deprecated in 1.7.0.\n",
            "  warnings.warn(\"`use_label_encoder` is deprecated in 1.7.0.\")\n"
          ]
        },
        {
          "output_type": "execute_result",
          "data": {
            "text/plain": [
              "XGBClassifier(base_score=None, booster=None, callbacks=None,\n",
              "              colsample_bylevel=None, colsample_bynode=None,\n",
              "              colsample_bytree=None, early_stopping_rounds=None,\n",
              "              enable_categorical=False, eval_metric='logloss',\n",
              "              feature_types=None, gamma=None, gpu_id=None, grow_policy=None,\n",
              "              importance_type=None, interaction_constraints=None,\n",
              "              learning_rate=None, max_bin=None, max_cat_threshold=None,\n",
              "              max_cat_to_onehot=None, max_delta_step=None, max_depth=50,\n",
              "              max_leaves=None, min_child_weight=None, missing=nan,\n",
              "              monotone_constraints=None, n_estimators=50, n_jobs=None,\n",
              "              num_parallel_tree=None, predictor=None, random_state=2023, ...)"
            ],
            "text/html": [
              "<style>#sk-container-id-2 {color: black;background-color: white;}#sk-container-id-2 pre{padding: 0;}#sk-container-id-2 div.sk-toggleable {background-color: white;}#sk-container-id-2 label.sk-toggleable__label {cursor: pointer;display: block;width: 100%;margin-bottom: 0;padding: 0.3em;box-sizing: border-box;text-align: center;}#sk-container-id-2 label.sk-toggleable__label-arrow:before {content: \"▸\";float: left;margin-right: 0.25em;color: #696969;}#sk-container-id-2 label.sk-toggleable__label-arrow:hover:before {color: black;}#sk-container-id-2 div.sk-estimator:hover label.sk-toggleable__label-arrow:before {color: black;}#sk-container-id-2 div.sk-toggleable__content {max-height: 0;max-width: 0;overflow: hidden;text-align: left;background-color: #f0f8ff;}#sk-container-id-2 div.sk-toggleable__content pre {margin: 0.2em;color: black;border-radius: 0.25em;background-color: #f0f8ff;}#sk-container-id-2 input.sk-toggleable__control:checked~div.sk-toggleable__content {max-height: 200px;max-width: 100%;overflow: auto;}#sk-container-id-2 input.sk-toggleable__control:checked~label.sk-toggleable__label-arrow:before {content: \"▾\";}#sk-container-id-2 div.sk-estimator input.sk-toggleable__control:checked~label.sk-toggleable__label {background-color: #d4ebff;}#sk-container-id-2 div.sk-label input.sk-toggleable__control:checked~label.sk-toggleable__label {background-color: #d4ebff;}#sk-container-id-2 input.sk-hidden--visually {border: 0;clip: rect(1px 1px 1px 1px);clip: rect(1px, 1px, 1px, 1px);height: 1px;margin: -1px;overflow: hidden;padding: 0;position: absolute;width: 1px;}#sk-container-id-2 div.sk-estimator {font-family: monospace;background-color: #f0f8ff;border: 1px dotted black;border-radius: 0.25em;box-sizing: border-box;margin-bottom: 0.5em;}#sk-container-id-2 div.sk-estimator:hover {background-color: #d4ebff;}#sk-container-id-2 div.sk-parallel-item::after {content: \"\";width: 100%;border-bottom: 1px solid gray;flex-grow: 1;}#sk-container-id-2 div.sk-label:hover label.sk-toggleable__label {background-color: #d4ebff;}#sk-container-id-2 div.sk-serial::before {content: \"\";position: absolute;border-left: 1px solid gray;box-sizing: border-box;top: 0;bottom: 0;left: 50%;z-index: 0;}#sk-container-id-2 div.sk-serial {display: flex;flex-direction: column;align-items: center;background-color: white;padding-right: 0.2em;padding-left: 0.2em;position: relative;}#sk-container-id-2 div.sk-item {position: relative;z-index: 1;}#sk-container-id-2 div.sk-parallel {display: flex;align-items: stretch;justify-content: center;background-color: white;position: relative;}#sk-container-id-2 div.sk-item::before, #sk-container-id-2 div.sk-parallel-item::before {content: \"\";position: absolute;border-left: 1px solid gray;box-sizing: border-box;top: 0;bottom: 0;left: 50%;z-index: -1;}#sk-container-id-2 div.sk-parallel-item {display: flex;flex-direction: column;z-index: 1;position: relative;background-color: white;}#sk-container-id-2 div.sk-parallel-item:first-child::after {align-self: flex-end;width: 50%;}#sk-container-id-2 div.sk-parallel-item:last-child::after {align-self: flex-start;width: 50%;}#sk-container-id-2 div.sk-parallel-item:only-child::after {width: 0;}#sk-container-id-2 div.sk-dashed-wrapped {border: 1px dashed gray;margin: 0 0.4em 0.5em 0.4em;box-sizing: border-box;padding-bottom: 0.4em;background-color: white;}#sk-container-id-2 div.sk-label label {font-family: monospace;font-weight: bold;display: inline-block;line-height: 1.2em;}#sk-container-id-2 div.sk-label-container {text-align: center;}#sk-container-id-2 div.sk-container {/* jupyter's `normalize.less` sets `[hidden] { display: none; }` but bootstrap.min.css set `[hidden] { display: none !important; }` so we also need the `!important` here to be able to override the default hidden behavior on the sphinx rendered scikit-learn.org. See: https://github.com/scikit-learn/scikit-learn/issues/21755 */display: inline-block !important;position: relative;}#sk-container-id-2 div.sk-text-repr-fallback {display: none;}</style><div id=\"sk-container-id-2\" class=\"sk-top-container\"><div class=\"sk-text-repr-fallback\"><pre>XGBClassifier(base_score=None, booster=None, callbacks=None,\n",
              "              colsample_bylevel=None, colsample_bynode=None,\n",
              "              colsample_bytree=None, early_stopping_rounds=None,\n",
              "              enable_categorical=False, eval_metric=&#x27;logloss&#x27;,\n",
              "              feature_types=None, gamma=None, gpu_id=None, grow_policy=None,\n",
              "              importance_type=None, interaction_constraints=None,\n",
              "              learning_rate=None, max_bin=None, max_cat_threshold=None,\n",
              "              max_cat_to_onehot=None, max_delta_step=None, max_depth=50,\n",
              "              max_leaves=None, min_child_weight=None, missing=nan,\n",
              "              monotone_constraints=None, n_estimators=50, n_jobs=None,\n",
              "              num_parallel_tree=None, predictor=None, random_state=2023, ...)</pre><b>In a Jupyter environment, please rerun this cell to show the HTML representation or trust the notebook. <br />On GitHub, the HTML representation is unable to render, please try loading this page with nbviewer.org.</b></div><div class=\"sk-container\" hidden><div class=\"sk-item\"><div class=\"sk-estimator sk-toggleable\"><input class=\"sk-toggleable__control sk-hidden--visually\" id=\"sk-estimator-id-2\" type=\"checkbox\" checked><label for=\"sk-estimator-id-2\" class=\"sk-toggleable__label sk-toggleable__label-arrow\">XGBClassifier</label><div class=\"sk-toggleable__content\"><pre>XGBClassifier(base_score=None, booster=None, callbacks=None,\n",
              "              colsample_bylevel=None, colsample_bynode=None,\n",
              "              colsample_bytree=None, early_stopping_rounds=None,\n",
              "              enable_categorical=False, eval_metric=&#x27;logloss&#x27;,\n",
              "              feature_types=None, gamma=None, gpu_id=None, grow_policy=None,\n",
              "              importance_type=None, interaction_constraints=None,\n",
              "              learning_rate=None, max_bin=None, max_cat_threshold=None,\n",
              "              max_cat_to_onehot=None, max_delta_step=None, max_depth=50,\n",
              "              max_leaves=None, min_child_weight=None, missing=nan,\n",
              "              monotone_constraints=None, n_estimators=50, n_jobs=None,\n",
              "              num_parallel_tree=None, predictor=None, random_state=2023, ...)</pre></div></div></div></div></div>"
            ]
          },
          "metadata": {},
          "execution_count": 28
        }
      ]
    },
    {
      "cell_type": "code",
      "source": [
        "y_pred = clf_xgb.predict(X_test)\n",
        "cm= confusion_matrix(y_test,y_pred)\n",
        "disp = ConfusionMatrixDisplay(confusion_matrix=cm)\n",
        "disp.plot()\n",
        "plt.show()"
      ],
      "metadata": {
        "colab": {
          "base_uri": "https://localhost:8080/",
          "height": 449
        },
        "id": "V1RkhAkkX7CG",
        "outputId": "ef7a1853-7f79-436b-870e-6963bbef91b5"
      },
      "execution_count": 29,
      "outputs": [
        {
          "output_type": "display_data",
          "data": {
            "text/plain": [
              "<Figure size 640x480 with 2 Axes>"
            ],
            "image/png": "[encoded data removed]"
          },
          "metadata": {}
        }
      ]
    },
    {
      "cell_type": "code",
      "source": [
        "print(classification_report(y_train, clf_xgb.predict(X_train)))"
      ],
      "metadata": {
        "colab": {
          "base_uri": "https://localhost:8080/"
        },
        "id": "FtDr_HUpZ3vX",
        "outputId": "f2e4f517-c035-4b13-94a3-8be839c1f7f2"
      },
      "execution_count": 30,
      "outputs": [
        {
          "output_type": "stream",
          "name": "stdout",
          "text": [
            "              precision    recall  f1-score   support\n",
            "\n",
            "           0       1.00      1.00      1.00      5818\n",
            "           1       1.00      1.00      1.00      5831\n",
            "\n",
            "    accuracy                           1.00     11649\n",
            "   macro avg       1.00      1.00      1.00     11649\n",
            "weighted avg       1.00      1.00      1.00     11649\n",
            "\n"
          ]
        }
      ]
    },
    {
      "cell_type": "code",
      "source": [
        "print(classification_report(y_test, y_pred))"
      ],
      "metadata": {
        "colab": {
          "base_uri": "https://localhost:8080/"
        },
        "id": "ZEalCqXoaEse",
        "outputId": "e4efc2d7-fe1d-441c-c004-2d1b3d12255a"
      },
      "execution_count": 31,
      "outputs": [
        {
          "output_type": "stream",
          "name": "stdout",
          "text": [
            "              precision    recall  f1-score   support\n",
            "\n",
            "           0       0.80      0.92      0.86      1454\n",
            "           1       0.91      0.77      0.83      1459\n",
            "\n",
            "    accuracy                           0.85      2913\n",
            "   macro avg       0.85      0.85      0.85      2913\n",
            "weighted avg       0.85      0.85      0.85      2913\n",
            "\n"
          ]
        }
      ]
    },
    {
      "cell_type": "markdown",
      "source": [
        "# Hyperparameter Tuning - Optuna\n",
        "\n",
        "\n",
        "https://medium.com/optuna/using-optuna-to-optimize-xgboost-hyperparameters-63bfcdfd3407\n"
      ],
      "metadata": {
        "id": "2HilNW1mb1g3"
      }
    },
    {
      "cell_type": "markdown",
      "source": [
        "## Objective Function for Optuna - XGBoost"
      ],
      "metadata": {
        "id": "dtDypiTQcVRy"
      }
    },
    {
      "cell_type": "code",
      "source": [
        "import xgboost as xgb"
      ],
      "metadata": {
        "id": "USYVzug_1-Ja"
      },
      "execution_count": 32,
      "outputs": []
    },
    {
      "cell_type": "code",
      "source": [
        "def objective(trial):\n",
        "    dtrain = xgb.DMatrix(X_train, label=y_train)\n",
        "    dtest = xgb.DMatrix(X_test, label=y_test)\n",
        "\n",
        "    param = {\n",
        "        'n_estimators'      : trial.suggest_int('n_estimators', 50, 500),\n",
        "        'max_depth'         : trial.suggest_int('max_depth', 50, 500),\n",
        "        'learning_rate'     : trial.suggest_float('learning_rate', 0.001, 1),\n",
        "        'verbosity'         : 1,\n",
        "        'random_state'      : 42,\n",
        "        'extra_trees'       : True,\n",
        "        \"objective\"         : \"binary:logistic\",\n",
        "        \"eval_metric\"       : \"auc\",\n",
        "        \"booster\"           : trial.suggest_categorical(\"booster\", [\"gbtree\", \"gblinear\", \"dart\"]),\n",
        "        \"lambda\"            : trial.suggest_float(\"lambda\", 1e-8, 1.0),\n",
        "        \"alpha\"             : trial.suggest_float(\"alpha\", 1e-8, 1.0),\n",
        "    }\n",
        "\n",
        "    if param[\"booster\"] == \"gbtree\" or param[\"booster\"] == \"dart\":\n",
        "        param[\"eta\"] = trial.suggest_float(\"eta\", 1e-8, 1.0)\n",
        "        param[\"gamma\"] = trial.suggest_float(\"gamma\", 1e-8, 1.0)\n",
        "        param[\"grow_policy\"] = trial.suggest_categorical(\"grow_policy\", [\"depthwise\", \"lossguide\"])\n",
        "    if param[\"booster\"] == \"dart\":\n",
        "        param[\"sample_type\"] = trial.suggest_categorical(\"sample_type\", [\"uniform\", \"weighted\"])\n",
        "        param[\"normalize_type\"] = trial.suggest_categorical(\"normalize_type\", [\"tree\", \"forest\"])\n",
        "        param[\"rate_drop\"] = trial.suggest_float(\"rate_drop\", 1e-8, 1.0)\n",
        "        param[\"skip_drop\"] = trial.suggest_float(\"skip_drop\", 1e-8, 1.0)\n",
        "\n",
        "    # Add a callback for pruning.\n",
        "    pruning_callback = optuna.integration.XGBoostPruningCallback(trial, \"validation-auc\")\n",
        "    bst = xgb.train(param, dtrain, evals=[(dtest, \"validation\")], callbacks=[pruning_callback])\n",
        "    preds = bst.predict(dtest)\n",
        "    pred_labels = np.rint(preds)\n",
        "    accuracy = sklearn.metrics.accuracy_score(y_test, pred_labels)\n",
        "    return accuracy"
      ],
      "metadata": {
        "id": "riiJSa_LbyDw"
      },
      "execution_count": 33,
      "outputs": []
    },
    {
      "cell_type": "markdown",
      "source": [
        "## Run Optuna"
      ],
      "metadata": {
        "id": "kKU3YaVJ3y1K"
      }
    },
    {
      "cell_type": "code",
      "source": [
        "study = optuna.create_study(direction=\"maximize\")\n",
        "study.optimize(objective, n_trials=100, timeout=1000)"
      ],
      "metadata": {
        "colab": {
          "base_uri": "https://localhost:8080/"
        },
        "id": "2BRvgKfKaKaj",
        "outputId": "7698609f-4b9f-4933-b61e-c54775279039"
      },
      "execution_count": 34,
      "outputs": [
        {
          "output_type": "stream",
          "name": "stderr",
          "text": [
            "\u001b[32m[I 2023-04-04 23:17:27,545]\u001b[0m A new study created in memory with name: no-name-f31a5897-0028-4801-91dd-61434500404a\u001b[0m\n"
          ]
        },
        {
          "output_type": "stream",
          "name": "stdout",
          "text": [
            "[23:17:28] WARNING: ../src/learner.cc:767: \n",
            "Parameters: { \"extra_trees\", \"max_depth\", \"n_estimators\" } are not used.\n",
            "\n",
            "[0]\tvalidation-auc:0.50000\n",
            "[1]\tvalidation-auc:0.50000\n",
            "[2]\tvalidation-auc:0.50000\n",
            "[3]\tvalidation-auc:0.50000\n",
            "[4]\tvalidation-auc:0.50000\n",
            "[5]\tvalidation-auc:0.50000\n",
            "[6]\tvalidation-auc:0.50000\n",
            "[7]\tvalidation-auc:0.50000\n",
            "[8]\tvalidation-auc:0.50000\n",
            "[9]\tvalidation-auc:0.50000\n"
          ]
        },
        {
          "output_type": "stream",
          "name": "stderr",
          "text": [
            "\u001b[32m[I 2023-04-04 23:17:28,892]\u001b[0m Trial 0 finished with value: 0.5008582217645039 and parameters: {'n_estimators': 62, 'max_depth': 183, 'learning_rate': 0.3882734212285158, 'booster': 'gblinear', 'lambda': 0.884884093467588, 'alpha': 0.5742455299931608}. Best is trial 0 with value: 0.5008582217645039.\u001b[0m\n"
          ]
        },
        {
          "output_type": "stream",
          "name": "stdout",
          "text": [
            "[23:17:29] WARNING: ../src/learner.cc:767: \n",
            "Parameters: { \"extra_trees\", \"n_estimators\" } are not used.\n",
            "\n",
            "[0]\tvalidation-auc:0.84355\n",
            "[1]\tvalidation-auc:0.85026\n",
            "[2]\tvalidation-auc:0.86438\n",
            "[3]\tvalidation-auc:0.87232\n",
            "[4]\tvalidation-auc:0.87523\n",
            "[5]\tvalidation-auc:0.88007\n",
            "[6]\tvalidation-auc:0.88212\n",
            "[7]\tvalidation-auc:0.88568\n",
            "[8]\tvalidation-auc:0.88730\n",
            "[9]\tvalidation-auc:0.88955\n"
          ]
        },
        {
          "output_type": "stream",
          "name": "stderr",
          "text": [
            "\u001b[32m[I 2023-04-04 23:17:53,366]\u001b[0m Trial 1 finished with value: 0.815653964984552 and parameters: {'n_estimators': 388, 'max_depth': 111, 'learning_rate': 0.7048878299106792, 'booster': 'gbtree', 'lambda': 0.9666634950762094, 'alpha': 0.9887682208259273, 'eta': 0.2327839932995911, 'gamma': 0.08664035739490179, 'grow_policy': 'lossguide'}. Best is trial 1 with value: 0.815653964984552.\u001b[0m\n"
          ]
        },
        {
          "output_type": "stream",
          "name": "stdout",
          "text": [
            "[23:17:53] WARNING: ../src/learner.cc:767: \n",
            "Parameters: { \"extra_trees\", \"n_estimators\" } are not used.\n",
            "\n",
            "[0]\tvalidation-auc:0.84422\n",
            "[1]\tvalidation-auc:0.84422\n",
            "[2]\tvalidation-auc:0.84422\n",
            "[3]\tvalidation-auc:0.84968\n",
            "[4]\tvalidation-auc:0.86211\n",
            "[5]\tvalidation-auc:0.85782\n",
            "[6]\tvalidation-auc:0.86491\n",
            "[7]\tvalidation-auc:0.87349\n",
            "[8]\tvalidation-auc:0.87606\n",
            "[9]\tvalidation-auc:0.88121\n"
          ]
        },
        {
          "output_type": "stream",
          "name": "stderr",
          "text": [
            "\u001b[32m[I 2023-04-04 23:18:21,996]\u001b[0m Trial 2 finished with value: 0.8111912118091315 and parameters: {'n_estimators': 61, 'max_depth': 357, 'learning_rate': 0.6873247260513681, 'booster': 'dart', 'lambda': 0.5441703357076041, 'alpha': 0.9856147568503445, 'eta': 0.7456589875973162, 'gamma': 0.20541402093205385, 'grow_policy': 'lossguide', 'sample_type': 'weighted', 'normalize_type': 'forest', 'rate_drop': 0.6423286016223755, 'skip_drop': 0.3225832650960824}. Best is trial 1 with value: 0.815653964984552.\u001b[0m\n"
          ]
        },
        {
          "output_type": "stream",
          "name": "stdout",
          "text": [
            "[23:18:22] WARNING: ../src/learner.cc:767: \n",
            "Parameters: { \"extra_trees\", \"max_depth\", \"n_estimators\" } are not used.\n",
            "\n",
            "[0]\tvalidation-auc:0.50000\n",
            "[1]\tvalidation-auc:0.50000\n",
            "[2]\tvalidation-auc:0.50000\n",
            "[3]\tvalidation-auc:0.50000\n",
            "[4]\tvalidation-auc:0.50000\n",
            "[5]\tvalidation-auc:0.50000\n",
            "[6]\tvalidation-auc:0.50000\n",
            "[7]\tvalidation-auc:0.50000\n",
            "[8]\tvalidation-auc:0.50000\n",
            "[9]\tvalidation-auc:0.50000\n"
          ]
        },
        {
          "output_type": "stream",
          "name": "stderr",
          "text": [
            "\u001b[32m[I 2023-04-04 23:18:23,282]\u001b[0m Trial 3 finished with value: 0.5008582217645039 and parameters: {'n_estimators': 267, 'max_depth': 215, 'learning_rate': 0.5421208076348305, 'booster': 'gblinear', 'lambda': 0.14264894115710688, 'alpha': 0.8225438921016691}. Best is trial 1 with value: 0.815653964984552.\u001b[0m\n"
          ]
        },
        {
          "output_type": "stream",
          "name": "stdout",
          "text": [
            "[23:18:23] WARNING: ../src/learner.cc:767: \n",
            "Parameters: { \"extra_trees\", \"n_estimators\" } are not used.\n",
            "\n",
            "[0]\tvalidation-auc:0.84269\n",
            "[1]\tvalidation-auc:0.85771\n",
            "[2]\tvalidation-auc:0.86065\n",
            "[3]\tvalidation-auc:0.86564\n",
            "[4]\tvalidation-auc:0.87331\n",
            "[5]\tvalidation-auc:0.87853\n",
            "[6]\tvalidation-auc:0.87906\n",
            "[7]\tvalidation-auc:0.88330\n",
            "[8]\tvalidation-auc:0.88699\n",
            "[9]\tvalidation-auc:0.88957\n"
          ]
        },
        {
          "output_type": "stream",
          "name": "stderr",
          "text": [
            "\u001b[32m[I 2023-04-04 23:18:52,535]\u001b[0m Trial 4 finished with value: 0.8146240988671473 and parameters: {'n_estimators': 350, 'max_depth': 247, 'learning_rate': 0.08787760095460309, 'booster': 'gbtree', 'lambda': 0.4294774208936808, 'alpha': 0.5048039758444138, 'eta': 0.032296264609403214, 'gamma': 0.9590403925608028, 'grow_policy': 'lossguide'}. Best is trial 1 with value: 0.815653964984552.\u001b[0m\n"
          ]
        },
        {
          "output_type": "stream",
          "name": "stdout",
          "text": [
            "[23:18:53] WARNING: ../src/learner.cc:767: \n",
            "Parameters: { \"extra_trees\", \"max_depth\", \"n_estimators\" } are not used.\n",
            "\n"
          ]
        },
        {
          "output_type": "stream",
          "name": "stderr",
          "text": [
            "\u001b[32m[I 2023-04-04 23:18:53,427]\u001b[0m Trial 5 pruned. Trial was pruned at iteration 0.\u001b[0m\n"
          ]
        },
        {
          "output_type": "stream",
          "name": "stdout",
          "text": [
            "[23:18:53] WARNING: ../src/learner.cc:767: \n",
            "Parameters: { \"extra_trees\", \"n_estimators\" } are not used.\n",
            "\n",
            "[0]\tvalidation-auc:0.84451\n",
            "[1]\tvalidation-auc:0.84978\n",
            "[2]\tvalidation-auc:0.86570\n",
            "[3]\tvalidation-auc:0.87374\n",
            "[4]\tvalidation-auc:0.88031\n",
            "[5]\tvalidation-auc:0.88337\n",
            "[6]\tvalidation-auc:0.88613\n",
            "[7]\tvalidation-auc:0.88975\n",
            "[8]\tvalidation-auc:0.89243\n",
            "[9]\tvalidation-auc:0.89408\n"
          ]
        },
        {
          "output_type": "stream",
          "name": "stderr",
          "text": [
            "\u001b[32m[I 2023-04-04 23:19:16,104]\u001b[0m Trial 6 finished with value: 0.8146240988671473 and parameters: {'n_estimators': 331, 'max_depth': 414, 'learning_rate': 0.6745859830220506, 'booster': 'gbtree', 'lambda': 0.9154754200515698, 'alpha': 0.9166573905271619, 'eta': 0.3238841029939114, 'gamma': 0.3016053263795148, 'grow_policy': 'depthwise'}. Best is trial 1 with value: 0.815653964984552.\u001b[0m\n"
          ]
        },
        {
          "output_type": "stream",
          "name": "stdout",
          "text": [
            "[23:19:16] WARNING: ../src/learner.cc:767: \n",
            "Parameters: { \"extra_trees\", \"n_estimators\" } are not used.\n",
            "\n",
            "[0]\tvalidation-auc:0.83892\n"
          ]
        },
        {
          "output_type": "stream",
          "name": "stderr",
          "text": [
            "\u001b[32m[I 2023-04-04 23:19:20,749]\u001b[0m Trial 7 pruned. Trial was pruned at iteration 0.\u001b[0m\n"
          ]
        },
        {
          "output_type": "stream",
          "name": "stdout",
          "text": [
            "[23:19:21] WARNING: ../src/learner.cc:767: \n",
            "Parameters: { \"extra_trees\", \"n_estimators\" } are not used.\n",
            "\n",
            "[0]\tvalidation-auc:0.84686\n",
            "[1]\tvalidation-auc:0.85118\n",
            "[2]\tvalidation-auc:0.86529\n",
            "[3]\tvalidation-auc:0.87344\n",
            "[4]\tvalidation-auc:0.87904\n",
            "[5]\tvalidation-auc:0.88179\n",
            "[6]\tvalidation-auc:0.88453\n",
            "[7]\tvalidation-auc:0.88641\n",
            "[8]\tvalidation-auc:0.88895\n",
            "[9]\tvalidation-auc:0.88966\n"
          ]
        },
        {
          "output_type": "stream",
          "name": "stderr",
          "text": [
            "\u001b[32m[I 2023-04-04 23:19:41,501]\u001b[0m Trial 8 finished with value: 0.8170271198077583 and parameters: {'n_estimators': 89, 'max_depth': 57, 'learning_rate': 0.6582932753933859, 'booster': 'gbtree', 'lambda': 0.36201993204380895, 'alpha': 0.05234570945729345, 'eta': 0.546457146609519, 'gamma': 0.8507610076494372, 'grow_policy': 'lossguide'}. Best is trial 8 with value: 0.8170271198077583.\u001b[0m\n"
          ]
        },
        {
          "output_type": "stream",
          "name": "stdout",
          "text": [
            "[23:19:41] WARNING: ../src/learner.cc:767: \n",
            "Parameters: { \"extra_trees\", \"max_depth\", \"n_estimators\" } are not used.\n",
            "\n",
            "[0]\tvalidation-auc:0.74405\n"
          ]
        },
        {
          "output_type": "stream",
          "name": "stderr",
          "text": [
            "\u001b[32m[I 2023-04-04 23:19:42,405]\u001b[0m Trial 9 pruned. Trial was pruned at iteration 0.\u001b[0m\n"
          ]
        },
        {
          "output_type": "stream",
          "name": "stdout",
          "text": [
            "[23:19:42] WARNING: ../src/learner.cc:767: \n",
            "Parameters: { \"extra_trees\", \"n_estimators\" } are not used.\n",
            "\n",
            "[0]\tvalidation-auc:0.84431\n",
            "[1]\tvalidation-auc:0.85390\n",
            "[2]\tvalidation-auc:0.86731\n",
            "[3]\tvalidation-auc:0.87505\n",
            "[4]\tvalidation-auc:0.88003\n",
            "[5]\tvalidation-auc:0.88393\n",
            "[6]\tvalidation-auc:0.88659\n",
            "[7]\tvalidation-auc:0.88831\n",
            "[8]\tvalidation-auc:0.88925\n",
            "[9]\tvalidation-auc:0.89015\n"
          ]
        },
        {
          "output_type": "stream",
          "name": "stderr",
          "text": [
            "\u001b[32m[I 2023-04-04 23:20:03,012]\u001b[0m Trial 10 finished with value: 0.8122210779265362 and parameters: {'n_estimators': 157, 'max_depth': 54, 'learning_rate': 0.9919275886344102, 'booster': 'dart', 'lambda': 0.009351470468608347, 'alpha': 0.22130776582082856, 'eta': 0.6882475681367176, 'gamma': 0.6172650163763697, 'grow_policy': 'depthwise', 'sample_type': 'uniform', 'normalize_type': 'tree', 'rate_drop': 0.004504798327100268, 'skip_drop': 0.9805222052408453}. Best is trial 8 with value: 0.8170271198077583.\u001b[0m\n"
          ]
        },
        {
          "output_type": "stream",
          "name": "stdout",
          "text": [
            "[23:20:03] WARNING: ../src/learner.cc:767: \n",
            "Parameters: { \"extra_trees\", \"n_estimators\" } are not used.\n",
            "\n",
            "[0]\tvalidation-auc:0.84098\n"
          ]
        },
        {
          "output_type": "stream",
          "name": "stderr",
          "text": [
            "\u001b[32m[I 2023-04-04 23:20:07,447]\u001b[0m Trial 11 pruned. Trial was pruned at iteration 0.\u001b[0m\n"
          ]
        },
        {
          "output_type": "stream",
          "name": "stdout",
          "text": [
            "[23:20:07] WARNING: ../src/learner.cc:767: \n",
            "Parameters: { \"extra_trees\", \"n_estimators\" } are not used.\n",
            "\n"
          ]
        },
        {
          "output_type": "stream",
          "name": "stderr",
          "text": [
            "\u001b[32m[I 2023-04-04 23:20:11,122]\u001b[0m Trial 12 pruned. Trial was pruned at iteration 0.\u001b[0m\n"
          ]
        },
        {
          "output_type": "stream",
          "name": "stdout",
          "text": [
            "[23:20:11] WARNING: ../src/learner.cc:767: \n",
            "Parameters: { \"extra_trees\", \"n_estimators\" } are not used.\n",
            "\n",
            "[0]\tvalidation-auc:0.83777\n"
          ]
        },
        {
          "output_type": "stream",
          "name": "stderr",
          "text": [
            "\u001b[32m[I 2023-04-04 23:20:15,154]\u001b[0m Trial 13 pruned. Trial was pruned at iteration 0.\u001b[0m\n"
          ]
        },
        {
          "output_type": "stream",
          "name": "stdout",
          "text": [
            "[23:20:15] WARNING: ../src/learner.cc:767: \n",
            "Parameters: { \"extra_trees\", \"n_estimators\" } are not used.\n",
            "\n",
            "[0]\tvalidation-auc:0.83918\n"
          ]
        },
        {
          "output_type": "stream",
          "name": "stderr",
          "text": [
            "\u001b[32m[I 2023-04-04 23:20:19,854]\u001b[0m Trial 14 pruned. Trial was pruned at iteration 0.\u001b[0m\n"
          ]
        },
        {
          "output_type": "stream",
          "name": "stdout",
          "text": [
            "[23:20:20] WARNING: ../src/learner.cc:767: \n",
            "Parameters: { \"extra_trees\", \"n_estimators\" } are not used.\n",
            "\n",
            "[0]\tvalidation-auc:0.84438\n"
          ]
        },
        {
          "output_type": "stream",
          "name": "stderr",
          "text": [
            "\u001b[32m[I 2023-04-04 23:20:26,214]\u001b[0m Trial 15 pruned. Trial was pruned at iteration 1.\u001b[0m\n"
          ]
        },
        {
          "output_type": "stream",
          "name": "stdout",
          "text": [
            "[23:20:26] WARNING: ../src/learner.cc:767: \n",
            "Parameters: { \"extra_trees\", \"n_estimators\" } are not used.\n",
            "\n"
          ]
        },
        {
          "output_type": "stream",
          "name": "stderr",
          "text": [
            "\u001b[32m[I 2023-04-04 23:20:29,926]\u001b[0m Trial 16 pruned. Trial was pruned at iteration 0.\u001b[0m\n"
          ]
        },
        {
          "output_type": "stream",
          "name": "stdout",
          "text": [
            "[23:20:30] WARNING: ../src/learner.cc:767: \n",
            "Parameters: { \"extra_trees\", \"n_estimators\" } are not used.\n",
            "\n",
            "[0]\tvalidation-auc:0.83814\n"
          ]
        },
        {
          "output_type": "stream",
          "name": "stderr",
          "text": [
            "\u001b[32m[I 2023-04-04 23:20:34,601]\u001b[0m Trial 17 pruned. Trial was pruned at iteration 0.\u001b[0m\n"
          ]
        },
        {
          "output_type": "stream",
          "name": "stdout",
          "text": [
            "[23:20:35] WARNING: ../src/learner.cc:767: \n",
            "Parameters: { \"extra_trees\", \"n_estimators\" } are not used.\n",
            "\n",
            "[0]\tvalidation-auc:0.83992\n"
          ]
        },
        {
          "output_type": "stream",
          "name": "stderr",
          "text": [
            "\u001b[32m[I 2023-04-04 23:20:38,235]\u001b[0m Trial 18 pruned. Trial was pruned at iteration 0.\u001b[0m\n"
          ]
        },
        {
          "output_type": "stream",
          "name": "stdout",
          "text": [
            "[23:20:38] WARNING: ../src/learner.cc:767: \n",
            "Parameters: { \"extra_trees\", \"n_estimators\" } are not used.\n",
            "\n",
            "[0]\tvalidation-auc:0.84397\n",
            "[1]\tvalidation-auc:0.85007\n",
            "[2]\tvalidation-auc:0.86573\n",
            "[3]\tvalidation-auc:0.87124\n",
            "[4]\tvalidation-auc:0.87853\n",
            "[5]\tvalidation-auc:0.88294\n",
            "[6]\tvalidation-auc:0.88617\n",
            "[7]\tvalidation-auc:0.88788\n",
            "[8]\tvalidation-auc:0.88868\n",
            "[9]\tvalidation-auc:0.89017\n"
          ]
        },
        {
          "output_type": "stream",
          "name": "stderr",
          "text": [
            "\u001b[32m[I 2023-04-04 23:21:02,728]\u001b[0m Trial 19 finished with value: 0.8118777892207346 and parameters: {'n_estimators': 498, 'max_depth': 482, 'learning_rate': 0.7168199524553557, 'booster': 'dart', 'lambda': 0.5282746478919788, 'alpha': 0.9965915710037021, 'eta': 0.02375302495038331, 'gamma': 0.23425684005883224, 'grow_policy': 'lossguide', 'sample_type': 'weighted', 'normalize_type': 'tree', 'rate_drop': 0.006779260933776787, 'skip_drop': 0.8243600282040576}. Best is trial 8 with value: 0.8170271198077583.\u001b[0m\n"
          ]
        },
        {
          "output_type": "stream",
          "name": "stdout",
          "text": [
            "[23:21:03] WARNING: ../src/learner.cc:767: \n",
            "Parameters: { \"extra_trees\", \"n_estimators\" } are not used.\n",
            "\n",
            "[0]\tvalidation-auc:0.83836\n"
          ]
        },
        {
          "output_type": "stream",
          "name": "stderr",
          "text": [
            "\u001b[32m[I 2023-04-04 23:21:06,392]\u001b[0m Trial 20 pruned. Trial was pruned at iteration 0.\u001b[0m\n"
          ]
        },
        {
          "output_type": "stream",
          "name": "stdout",
          "text": [
            "[23:21:06] WARNING: ../src/learner.cc:767: \n",
            "Parameters: { \"extra_trees\", \"n_estimators\" } are not used.\n",
            "\n"
          ]
        },
        {
          "output_type": "stream",
          "name": "stderr",
          "text": [
            "\u001b[32m[I 2023-04-04 23:21:10,429]\u001b[0m Trial 21 pruned. Trial was pruned at iteration 0.\u001b[0m\n"
          ]
        },
        {
          "output_type": "stream",
          "name": "stdout",
          "text": [
            "[23:21:10] WARNING: ../src/learner.cc:767: \n",
            "Parameters: { \"extra_trees\", \"n_estimators\" } are not used.\n",
            "\n",
            "[0]\tvalidation-auc:0.83957\n"
          ]
        },
        {
          "output_type": "stream",
          "name": "stderr",
          "text": [
            "\u001b[32m[I 2023-04-04 23:21:15,233]\u001b[0m Trial 22 pruned. Trial was pruned at iteration 0.\u001b[0m\n"
          ]
        },
        {
          "output_type": "stream",
          "name": "stdout",
          "text": [
            "[23:21:15] WARNING: ../src/learner.cc:767: \n",
            "Parameters: { \"extra_trees\", \"n_estimators\" } are not used.\n",
            "\n",
            "[0]\tvalidation-auc:0.84364\n"
          ]
        },
        {
          "output_type": "stream",
          "name": "stderr",
          "text": [
            "\u001b[32m[I 2023-04-04 23:21:19,367]\u001b[0m Trial 23 pruned. Trial was pruned at iteration 0.\u001b[0m\n"
          ]
        },
        {
          "output_type": "stream",
          "name": "stdout",
          "text": [
            "[23:21:20] WARNING: ../src/learner.cc:767: \n",
            "Parameters: { \"extra_trees\", \"n_estimators\" } are not used.\n",
            "\n",
            "[0]\tvalidation-auc:0.84409\n",
            "[1]\tvalidation-auc:0.85203\n",
            "[2]\tvalidation-auc:0.86769\n",
            "[3]\tvalidation-auc:0.87606\n",
            "[4]\tvalidation-auc:0.87874\n",
            "[5]\tvalidation-auc:0.88243\n",
            "[6]\tvalidation-auc:0.88503\n",
            "[7]\tvalidation-auc:0.88764\n",
            "[8]\tvalidation-auc:0.88947\n",
            "[9]\tvalidation-auc:0.89191\n"
          ]
        },
        {
          "output_type": "stream",
          "name": "stderr",
          "text": [
            "\u001b[32m[I 2023-04-04 23:21:41,454]\u001b[0m Trial 24 finished with value: 0.815653964984552 and parameters: {'n_estimators': 230, 'max_depth': 69, 'learning_rate': 0.6251996471011559, 'booster': 'gbtree', 'lambda': 0.7920361562936791, 'alpha': 0.7968920413971583, 'eta': 0.3548988705844964, 'gamma': 0.7146924106699147, 'grow_policy': 'lossguide'}. Best is trial 8 with value: 0.8170271198077583.\u001b[0m\n"
          ]
        },
        {
          "output_type": "stream",
          "name": "stdout",
          "text": [
            "[23:21:41] WARNING: ../src/learner.cc:767: \n",
            "Parameters: { \"extra_trees\", \"n_estimators\" } are not used.\n",
            "\n",
            "[0]\tvalidation-auc:0.84408\n",
            "[1]\tvalidation-auc:0.85142\n",
            "[2]\tvalidation-auc:0.86848\n",
            "[3]\tvalidation-auc:0.87559\n",
            "[4]\tvalidation-auc:0.88172\n",
            "[5]\tvalidation-auc:0.88573\n",
            "[6]\tvalidation-auc:0.88883\n",
            "[7]\tvalidation-auc:0.89064\n",
            "[8]\tvalidation-auc:0.89147\n",
            "[9]\tvalidation-auc:0.89397\n"
          ]
        },
        {
          "output_type": "stream",
          "name": "stderr",
          "text": [
            "\u001b[32m[I 2023-04-04 23:22:05,632]\u001b[0m Trial 25 finished with value: 0.8269824922760041 and parameters: {'n_estimators': 223, 'max_depth': 87, 'learning_rate': 0.6104381088378684, 'booster': 'gbtree', 'lambda': 0.7688001585579272, 'alpha': 0.8090661738885058, 'eta': 0.35394372678523967, 'gamma': 0.6799123332864336, 'grow_policy': 'lossguide'}. Best is trial 25 with value: 0.8269824922760041.\u001b[0m\n"
          ]
        },
        {
          "output_type": "stream",
          "name": "stdout",
          "text": [
            "[23:22:06] WARNING: ../src/learner.cc:767: \n",
            "Parameters: { \"extra_trees\", \"n_estimators\" } are not used.\n",
            "\n",
            "[0]\tvalidation-auc:0.84445\n",
            "[1]\tvalidation-auc:0.85936\n",
            "[2]\tvalidation-auc:0.86977\n",
            "[3]\tvalidation-auc:0.87673\n",
            "[4]\tvalidation-auc:0.88102\n",
            "[5]\tvalidation-auc:0.88555\n",
            "[6]\tvalidation-auc:0.89012\n",
            "[7]\tvalidation-auc:0.89324\n",
            "[8]\tvalidation-auc:0.89523\n",
            "[9]\tvalidation-auc:0.89678\n"
          ]
        },
        {
          "output_type": "stream",
          "name": "stderr",
          "text": [
            "\u001b[32m[I 2023-04-04 23:22:31,418]\u001b[0m Trial 26 finished with value: 0.8249227600411947 and parameters: {'n_estimators': 108, 'max_depth': 99, 'learning_rate': 0.4913759446152004, 'booster': 'gbtree', 'lambda': 0.9217013250830643, 'alpha': 0.8988110826283602, 'eta': 0.4541482009492239, 'gamma': 0.696943773069668, 'grow_policy': 'lossguide'}. Best is trial 25 with value: 0.8269824922760041.\u001b[0m\n"
          ]
        },
        {
          "output_type": "stream",
          "name": "stdout",
          "text": [
            "[23:22:31] WARNING: ../src/learner.cc:767: \n",
            "Parameters: { \"extra_trees\", \"n_estimators\" } are not used.\n",
            "\n",
            "[0]\tvalidation-auc:0.84630\n",
            "[1]\tvalidation-auc:0.85823\n",
            "[2]\tvalidation-auc:0.87129\n",
            "[3]\tvalidation-auc:0.87839\n",
            "[4]\tvalidation-auc:0.88403\n",
            "[5]\tvalidation-auc:0.88749\n",
            "[6]\tvalidation-auc:0.89137\n",
            "[7]\tvalidation-auc:0.89407\n",
            "[8]\tvalidation-auc:0.89534\n",
            "[9]\tvalidation-auc:0.89684\n"
          ]
        },
        {
          "output_type": "stream",
          "name": "stderr",
          "text": [
            "\u001b[32m[I 2023-04-04 23:22:54,445]\u001b[0m Trial 27 finished with value: 0.8232063165121868 and parameters: {'n_estimators': 99, 'max_depth': 96, 'learning_rate': 0.4999385590248031, 'booster': 'gbtree', 'lambda': 0.7714693944166727, 'alpha': 0.8716515453191874, 'eta': 0.48804834912513545, 'gamma': 0.6928623063693852, 'grow_policy': 'depthwise'}. Best is trial 25 with value: 0.8269824922760041.\u001b[0m\n"
          ]
        },
        {
          "output_type": "stream",
          "name": "stdout",
          "text": [
            "[23:22:54] WARNING: ../src/learner.cc:767: \n",
            "Parameters: { \"extra_trees\", \"max_depth\", \"n_estimators\" } are not used.\n",
            "\n",
            "[0]\tvalidation-auc:0.50000\n"
          ]
        },
        {
          "output_type": "stream",
          "name": "stderr",
          "text": [
            "\u001b[32m[I 2023-04-04 23:22:55,365]\u001b[0m Trial 28 pruned. Trial was pruned at iteration 0.\u001b[0m\n"
          ]
        },
        {
          "output_type": "stream",
          "name": "stdout",
          "text": [
            "[23:22:55] WARNING: ../src/learner.cc:767: \n",
            "Parameters: { \"extra_trees\", \"n_estimators\" } are not used.\n",
            "\n",
            "[0]\tvalidation-auc:0.84662\n",
            "[1]\tvalidation-auc:0.85582\n",
            "[2]\tvalidation-auc:0.86954\n",
            "[3]\tvalidation-auc:0.87800\n",
            "[4]\tvalidation-auc:0.88539\n",
            "[5]\tvalidation-auc:0.88723\n",
            "[6]\tvalidation-auc:0.88868\n",
            "[7]\tvalidation-auc:0.89104\n",
            "[8]\tvalidation-auc:0.89359\n",
            "[9]\tvalidation-auc:0.89610\n"
          ]
        },
        {
          "output_type": "stream",
          "name": "stderr",
          "text": [
            "\u001b[32m[I 2023-04-04 23:23:24,037]\u001b[0m Trial 29 finished with value: 0.8211465842773773 and parameters: {'n_estimators': 101, 'max_depth': 182, 'learning_rate': 0.4732753981390779, 'booster': 'dart', 'lambda': 0.8965872992344032, 'alpha': 0.8366048348145229, 'eta': 0.43898148155686906, 'gamma': 0.592646528040329, 'grow_policy': 'depthwise', 'sample_type': 'uniform', 'normalize_type': 'tree', 'rate_drop': 0.4057121814364135, 'skip_drop': 0.5931750261755109}. Best is trial 25 with value: 0.8269824922760041.\u001b[0m\n"
          ]
        },
        {
          "output_type": "stream",
          "name": "stdout",
          "text": [
            "[23:23:24] WARNING: ../src/learner.cc:767: \n",
            "Parameters: { \"extra_trees\", \"max_depth\", \"n_estimators\" } are not used.\n",
            "\n"
          ]
        },
        {
          "output_type": "stream",
          "name": "stderr",
          "text": [
            "\u001b[32m[I 2023-04-04 23:23:24,951]\u001b[0m Trial 30 pruned. Trial was pruned at iteration 0.\u001b[0m\n"
          ]
        },
        {
          "output_type": "stream",
          "name": "stdout",
          "text": [
            "[23:23:25] WARNING: ../src/learner.cc:767: \n",
            "Parameters: { \"extra_trees\", \"n_estimators\" } are not used.\n",
            "\n",
            "[0]\tvalidation-auc:0.84657\n",
            "[1]\tvalidation-auc:0.85592\n",
            "[2]\tvalidation-auc:0.86590\n",
            "[3]\tvalidation-auc:0.87373\n",
            "[4]\tvalidation-auc:0.87923\n"
          ]
        },
        {
          "output_type": "stream",
          "name": "stderr",
          "text": [
            "\u001b[32m[I 2023-04-04 23:23:42,175]\u001b[0m Trial 31 pruned. Trial was pruned at iteration 5.\u001b[0m\n"
          ]
        },
        {
          "output_type": "stream",
          "name": "stdout",
          "text": [
            "[23:23:42] WARNING: ../src/learner.cc:767: \n",
            "Parameters: { \"extra_trees\", \"n_estimators\" } are not used.\n",
            "\n",
            "[0]\tvalidation-auc:0.84538\n",
            "[1]\tvalidation-auc:0.86042\n",
            "[2]\tvalidation-auc:0.87184\n",
            "[3]\tvalidation-auc:0.87909\n",
            "[4]\tvalidation-auc:0.88464\n",
            "[5]\tvalidation-auc:0.88615\n",
            "[6]\tvalidation-auc:0.88695\n",
            "[7]\tvalidation-auc:0.88917\n",
            "[8]\tvalidation-auc:0.89255\n",
            "[9]\tvalidation-auc:0.89499\n"
          ]
        },
        {
          "output_type": "stream",
          "name": "stderr",
          "text": [
            "\u001b[32m[I 2023-04-04 23:24:09,478]\u001b[0m Trial 32 finished with value: 0.815653964984552 and parameters: {'n_estimators': 184, 'max_depth': 105, 'learning_rate': 0.38260897122133, 'booster': 'dart', 'lambda': 0.9143009979304251, 'alpha': 0.9125500266011839, 'eta': 0.3692626815875075, 'gamma': 0.6198868251475531, 'grow_policy': 'depthwise', 'sample_type': 'uniform', 'normalize_type': 'tree', 'rate_drop': 0.36218716877919277, 'skip_drop': 0.5551120940024995}. Best is trial 25 with value: 0.8269824922760041.\u001b[0m\n"
          ]
        },
        {
          "output_type": "stream",
          "name": "stdout",
          "text": [
            "[23:24:10] WARNING: ../src/learner.cc:767: \n",
            "Parameters: { \"extra_trees\", \"n_estimators\" } are not used.\n",
            "\n",
            "[0]\tvalidation-auc:0.84357\n"
          ]
        },
        {
          "output_type": "stream",
          "name": "stderr",
          "text": [
            "\u001b[32m[I 2023-04-04 23:24:14,191]\u001b[0m Trial 33 pruned. Trial was pruned at iteration 0.\u001b[0m\n"
          ]
        },
        {
          "output_type": "stream",
          "name": "stdout",
          "text": [
            "[23:24:14] WARNING: ../src/learner.cc:767: \n",
            "Parameters: { \"extra_trees\", \"n_estimators\" } are not used.\n",
            "\n",
            "[0]\tvalidation-auc:0.84339\n"
          ]
        },
        {
          "output_type": "stream",
          "name": "stderr",
          "text": [
            "\u001b[32m[I 2023-04-04 23:24:18,251]\u001b[0m Trial 34 pruned. Trial was pruned at iteration 0.\u001b[0m\n"
          ]
        },
        {
          "output_type": "stream",
          "name": "stdout",
          "text": [
            "[23:24:18] WARNING: ../src/learner.cc:767: \n",
            "Parameters: { \"extra_trees\", \"n_estimators\" } are not used.\n",
            "\n",
            "[0]\tvalidation-auc:0.84681\n",
            "[1]\tvalidation-auc:0.85939\n",
            "[2]\tvalidation-auc:0.86893\n"
          ]
        },
        {
          "output_type": "stream",
          "name": "stderr",
          "text": [
            "\u001b[32m[I 2023-04-04 23:24:31,044]\u001b[0m Trial 35 pruned. Trial was pruned at iteration 3.\u001b[0m\n"
          ]
        },
        {
          "output_type": "stream",
          "name": "stdout",
          "text": [
            "[23:24:31] WARNING: ../src/learner.cc:767: \n",
            "Parameters: { \"extra_trees\", \"n_estimators\" } are not used.\n",
            "\n",
            "[0]\tvalidation-auc:0.84548\n",
            "[1]\tvalidation-auc:0.85844\n",
            "[2]\tvalidation-auc:0.86688\n",
            "[3]\tvalidation-auc:0.87610\n",
            "[4]\tvalidation-auc:0.88272\n",
            "[5]\tvalidation-auc:0.88369\n"
          ]
        },
        {
          "output_type": "stream",
          "name": "stderr",
          "text": [
            "\u001b[32m[I 2023-04-04 23:24:49,007]\u001b[0m Trial 36 pruned. Trial was pruned at iteration 6.\u001b[0m\n"
          ]
        },
        {
          "output_type": "stream",
          "name": "stdout",
          "text": [
            "[23:24:49] WARNING: ../src/learner.cc:767: \n",
            "Parameters: { \"extra_trees\", \"max_depth\", \"n_estimators\" } are not used.\n",
            "\n",
            "[0]\tvalidation-auc:0.50000\n"
          ]
        },
        {
          "output_type": "stream",
          "name": "stderr",
          "text": [
            "\u001b[32m[I 2023-04-04 23:24:49,925]\u001b[0m Trial 37 pruned. Trial was pruned at iteration 0.\u001b[0m\n"
          ]
        },
        {
          "output_type": "stream",
          "name": "stdout",
          "text": [
            "[23:24:50] WARNING: ../src/learner.cc:767: \n",
            "Parameters: { \"extra_trees\", \"n_estimators\" } are not used.\n",
            "\n"
          ]
        },
        {
          "output_type": "stream",
          "name": "stderr",
          "text": [
            "\u001b[32m[I 2023-04-04 23:24:53,605]\u001b[0m Trial 38 pruned. Trial was pruned at iteration 0.\u001b[0m\n"
          ]
        },
        {
          "output_type": "stream",
          "name": "stdout",
          "text": [
            "[23:24:54] WARNING: ../src/learner.cc:767: \n",
            "Parameters: { \"extra_trees\", \"n_estimators\" } are not used.\n",
            "\n",
            "[0]\tvalidation-auc:0.84548\n",
            "[1]\tvalidation-auc:0.85601\n",
            "[2]\tvalidation-auc:0.86680\n",
            "[3]\tvalidation-auc:0.87823\n",
            "[4]\tvalidation-auc:0.88499\n",
            "[5]\tvalidation-auc:0.88872\n",
            "[6]\tvalidation-auc:0.89182\n",
            "[7]\tvalidation-auc:0.89512\n",
            "[8]\tvalidation-auc:0.89564\n",
            "[9]\tvalidation-auc:0.89649\n"
          ]
        },
        {
          "output_type": "stream",
          "name": "stderr",
          "text": [
            "\u001b[32m[I 2023-04-04 23:25:22,068]\u001b[0m Trial 39 finished with value: 0.8180569859251631 and parameters: {'n_estimators': 104, 'max_depth': 165, 'learning_rate': 0.4037132662985745, 'booster': 'dart', 'lambda': 0.8097021141541735, 'alpha': 0.941985168108959, 'eta': 0.6009248462413541, 'gamma': 0.6717791631462423, 'grow_policy': 'depthwise', 'sample_type': 'weighted', 'normalize_type': 'forest', 'rate_drop': 0.570724949604793, 'skip_drop': 0.6837635721182629}. Best is trial 25 with value: 0.8269824922760041.\u001b[0m\n"
          ]
        },
        {
          "output_type": "stream",
          "name": "stdout",
          "text": [
            "[23:25:22] WARNING: ../src/learner.cc:767: \n",
            "Parameters: { \"extra_trees\", \"n_estimators\" } are not used.\n",
            "\n",
            "[0]\tvalidation-auc:0.84494\n",
            "[1]\tvalidation-auc:0.85218\n",
            "[2]\tvalidation-auc:0.86347\n"
          ]
        },
        {
          "output_type": "stream",
          "name": "stderr",
          "text": [
            "\u001b[32m[I 2023-04-04 23:25:32,474]\u001b[0m Trial 40 pruned. Trial was pruned at iteration 2.\u001b[0m\n"
          ]
        },
        {
          "output_type": "stream",
          "name": "stdout",
          "text": [
            "[23:25:33] WARNING: ../src/learner.cc:767: \n",
            "Parameters: { \"extra_trees\", \"n_estimators\" } are not used.\n",
            "\n",
            "[0]\tvalidation-auc:0.84695\n",
            "[1]\tvalidation-auc:0.85843\n",
            "[2]\tvalidation-auc:0.86754\n",
            "[3]\tvalidation-auc:0.87621\n",
            "[4]\tvalidation-auc:0.88434\n",
            "[5]\tvalidation-auc:0.88680\n",
            "[6]\tvalidation-auc:0.89024\n",
            "[7]\tvalidation-auc:0.89208\n",
            "[8]\tvalidation-auc:0.89345\n",
            "[9]\tvalidation-auc:0.89687\n"
          ]
        },
        {
          "output_type": "stream",
          "name": "stderr",
          "text": [
            "\u001b[32m[I 2023-04-04 23:26:00,144]\u001b[0m Trial 41 finished with value: 0.826295914864401 and parameters: {'n_estimators': 98, 'max_depth': 174, 'learning_rate': 0.41081329644974574, 'booster': 'dart', 'lambda': 0.813994456607436, 'alpha': 0.9027511746936813, 'eta': 0.5983750079637848, 'gamma': 0.6622794540532995, 'grow_policy': 'depthwise', 'sample_type': 'weighted', 'normalize_type': 'forest', 'rate_drop': 0.5806749027066623, 'skip_drop': 0.6813985218744362}. Best is trial 25 with value: 0.8269824922760041.\u001b[0m\n"
          ]
        },
        {
          "output_type": "stream",
          "name": "stdout",
          "text": [
            "[23:26:00] WARNING: ../src/learner.cc:767: \n",
            "Parameters: { \"extra_trees\", \"n_estimators\" } are not used.\n",
            "\n",
            "[0]\tvalidation-auc:0.84512\n"
          ]
        },
        {
          "output_type": "stream",
          "name": "stderr",
          "text": [
            "\u001b[32m[I 2023-04-04 23:26:06,788]\u001b[0m Trial 42 pruned. Trial was pruned at iteration 1.\u001b[0m\n"
          ]
        },
        {
          "output_type": "stream",
          "name": "stdout",
          "text": [
            "[23:26:07] WARNING: ../src/learner.cc:767: \n",
            "Parameters: { \"extra_trees\", \"n_estimators\" } are not used.\n",
            "\n",
            "[0]\tvalidation-auc:0.84615\n",
            "[1]\tvalidation-auc:0.85932\n",
            "[2]\tvalidation-auc:0.87318\n",
            "[3]\tvalidation-auc:0.88163\n",
            "[4]\tvalidation-auc:0.88626\n",
            "[5]\tvalidation-auc:0.88891\n",
            "[6]\tvalidation-auc:0.89073\n",
            "[7]\tvalidation-auc:0.88623\n",
            "[8]\tvalidation-auc:0.89148\n",
            "[9]\tvalidation-auc:0.89462\n"
          ]
        },
        {
          "output_type": "stream",
          "name": "stderr",
          "text": [
            "\u001b[32m[I 2023-04-04 23:26:33,933]\u001b[0m Trial 43 finished with value: 0.8177136972193615 and parameters: {'n_estimators': 163, 'max_depth': 314, 'learning_rate': 0.4930521068125226, 'booster': 'dart', 'lambda': 0.823505886376028, 'alpha': 0.8110157323775011, 'eta': 0.4924164424781561, 'gamma': 0.5806324717052627, 'grow_policy': 'depthwise', 'sample_type': 'weighted', 'normalize_type': 'forest', 'rate_drop': 0.808113710368615, 'skip_drop': 0.8248700484762428}. Best is trial 25 with value: 0.8269824922760041.\u001b[0m\n"
          ]
        },
        {
          "output_type": "stream",
          "name": "stdout",
          "text": [
            "[23:26:34] WARNING: ../src/learner.cc:767: \n",
            "Parameters: { \"extra_trees\", \"n_estimators\" } are not used.\n",
            "\n",
            "[0]\tvalidation-auc:0.84404\n"
          ]
        },
        {
          "output_type": "stream",
          "name": "stderr",
          "text": [
            "\u001b[32m[I 2023-04-04 23:26:37,872]\u001b[0m Trial 44 pruned. Trial was pruned at iteration 0.\u001b[0m\n"
          ]
        },
        {
          "output_type": "stream",
          "name": "stdout",
          "text": [
            "[23:26:38] WARNING: ../src/learner.cc:767: \n",
            "Parameters: { \"extra_trees\", \"n_estimators\" } are not used.\n",
            "\n",
            "[0]\tvalidation-auc:0.84654\n",
            "[1]\tvalidation-auc:0.85615\n",
            "[2]\tvalidation-auc:0.85517\n"
          ]
        },
        {
          "output_type": "stream",
          "name": "stderr",
          "text": [
            "\u001b[32m[I 2023-04-04 23:26:47,925]\u001b[0m Trial 45 pruned. Trial was pruned at iteration 2.\u001b[0m\n"
          ]
        },
        {
          "output_type": "stream",
          "name": "stdout",
          "text": [
            "[23:26:48] WARNING: ../src/learner.cc:767: \n",
            "Parameters: { \"extra_trees\", \"n_estimators\" } are not used.\n",
            "\n",
            "[0]\tvalidation-auc:0.84695\n",
            "[1]\tvalidation-auc:0.85661\n",
            "[2]\tvalidation-auc:0.86933\n",
            "[3]\tvalidation-auc:0.87869\n",
            "[4]\tvalidation-auc:0.88358\n",
            "[5]\tvalidation-auc:0.88742\n",
            "[6]\tvalidation-auc:0.89055\n",
            "[7]\tvalidation-auc:0.89236\n",
            "[8]\tvalidation-auc:0.89390\n",
            "[9]\tvalidation-auc:0.89461\n"
          ]
        },
        {
          "output_type": "stream",
          "name": "stderr",
          "text": [
            "\u001b[32m[I 2023-04-04 23:27:11,716]\u001b[0m Trial 46 finished with value: 0.8256093374527979 and parameters: {'n_estimators': 134, 'max_depth': 371, 'learning_rate': 0.4641863831702663, 'booster': 'gbtree', 'lambda': 0.7564361817815944, 'alpha': 0.9445401286555524, 'eta': 0.6517311085483285, 'gamma': 0.8104502175987862, 'grow_policy': 'depthwise'}. Best is trial 25 with value: 0.8269824922760041.\u001b[0m\n"
          ]
        },
        {
          "output_type": "stream",
          "name": "stdout",
          "text": [
            "[23:27:12] WARNING: ../src/learner.cc:767: \n",
            "Parameters: { \"extra_trees\", \"n_estimators\" } are not used.\n",
            "\n",
            "[0]\tvalidation-auc:0.84406\n"
          ]
        },
        {
          "output_type": "stream",
          "name": "stderr",
          "text": [
            "\u001b[32m[I 2023-04-04 23:27:15,806]\u001b[0m Trial 47 pruned. Trial was pruned at iteration 0.\u001b[0m\n"
          ]
        },
        {
          "output_type": "stream",
          "name": "stdout",
          "text": [
            "[23:27:16] WARNING: ../src/learner.cc:767: \n",
            "Parameters: { \"extra_trees\", \"n_estimators\" } are not used.\n",
            "\n"
          ]
        },
        {
          "output_type": "stream",
          "name": "stderr",
          "text": [
            "\u001b[32m[I 2023-04-04 23:27:19,405]\u001b[0m Trial 48 pruned. Trial was pruned at iteration 0.\u001b[0m\n"
          ]
        },
        {
          "output_type": "stream",
          "name": "stdout",
          "text": [
            "[23:27:19] WARNING: ../src/learner.cc:767: \n",
            "Parameters: { \"extra_trees\", \"n_estimators\" } are not used.\n",
            "\n",
            "[0]\tvalidation-auc:0.84494\n",
            "[1]\tvalidation-auc:0.86216\n",
            "[2]\tvalidation-auc:0.87205\n",
            "[3]\tvalidation-auc:0.87750\n",
            "[4]\tvalidation-auc:0.88338\n",
            "[5]\tvalidation-auc:0.88658\n",
            "[6]\tvalidation-auc:0.88720\n",
            "[7]\tvalidation-auc:0.89029\n",
            "[8]\tvalidation-auc:0.89330\n",
            "[9]\tvalidation-auc:0.89406\n"
          ]
        },
        {
          "output_type": "stream",
          "name": "stderr",
          "text": [
            "\u001b[32m[I 2023-04-04 23:27:43,069]\u001b[0m Trial 49 finished with value: 0.8201167181599726 and parameters: {'n_estimators': 81, 'max_depth': 354, 'learning_rate': 0.5935265331177122, 'booster': 'gbtree', 'lambda': 0.7510984076251656, 'alpha': 0.9660783539193984, 'eta': 0.5540322869740465, 'gamma': 0.7446369336832476, 'grow_policy': 'lossguide'}. Best is trial 25 with value: 0.8269824922760041.\u001b[0m\n"
          ]
        },
        {
          "output_type": "stream",
          "name": "stdout",
          "text": [
            "[23:27:43] WARNING: ../src/learner.cc:767: \n",
            "Parameters: { \"extra_trees\", \"n_estimators\" } are not used.\n",
            "\n"
          ]
        },
        {
          "output_type": "stream",
          "name": "stderr",
          "text": [
            "\u001b[32m[I 2023-04-04 23:27:46,764]\u001b[0m Trial 50 pruned. Trial was pruned at iteration 0.\u001b[0m\n"
          ]
        },
        {
          "output_type": "stream",
          "name": "stdout",
          "text": [
            "[23:27:47] WARNING: ../src/learner.cc:767: \n",
            "Parameters: { \"extra_trees\", \"n_estimators\" } are not used.\n",
            "\n",
            "[0]\tvalidation-auc:0.84700\n",
            "[1]\tvalidation-auc:0.85729\n"
          ]
        },
        {
          "output_type": "stream",
          "name": "stderr",
          "text": [
            "\u001b[32m[I 2023-04-04 23:27:57,464]\u001b[0m Trial 51 pruned. Trial was pruned at iteration 2.\u001b[0m\n"
          ]
        },
        {
          "output_type": "stream",
          "name": "stdout",
          "text": [
            "[23:27:57] WARNING: ../src/learner.cc:767: \n",
            "Parameters: { \"extra_trees\", \"max_depth\", \"n_estimators\" } are not used.\n",
            "\n",
            "[0]\tvalidation-auc:0.50000\n"
          ]
        },
        {
          "output_type": "stream",
          "name": "stderr",
          "text": [
            "\u001b[32m[I 2023-04-04 23:27:58,405]\u001b[0m Trial 52 pruned. Trial was pruned at iteration 0.\u001b[0m\n"
          ]
        },
        {
          "output_type": "stream",
          "name": "stdout",
          "text": [
            "[23:27:58] WARNING: ../src/learner.cc:767: \n",
            "Parameters: { \"extra_trees\", \"n_estimators\" } are not used.\n",
            "\n"
          ]
        },
        {
          "output_type": "stream",
          "name": "stderr",
          "text": [
            "\u001b[32m[I 2023-04-04 23:28:02,032]\u001b[0m Trial 53 pruned. Trial was pruned at iteration 0.\u001b[0m\n"
          ]
        },
        {
          "output_type": "stream",
          "name": "stdout",
          "text": [
            "[23:28:02] WARNING: ../src/learner.cc:767: \n",
            "Parameters: { \"extra_trees\", \"n_estimators\" } are not used.\n",
            "\n"
          ]
        },
        {
          "output_type": "stream",
          "name": "stderr",
          "text": [
            "\u001b[32m[I 2023-04-04 23:28:05,943]\u001b[0m Trial 54 pruned. Trial was pruned at iteration 0.\u001b[0m\n"
          ]
        },
        {
          "output_type": "stream",
          "name": "stdout",
          "text": [
            "[23:28:06] WARNING: ../src/learner.cc:767: \n",
            "Parameters: { \"extra_trees\", \"n_estimators\" } are not used.\n",
            "\n",
            "[0]\tvalidation-auc:0.84454\n"
          ]
        },
        {
          "output_type": "stream",
          "name": "stderr",
          "text": [
            "\u001b[32m[I 2023-04-04 23:28:14,082]\u001b[0m Trial 55 pruned. Trial was pruned at iteration 1.\u001b[0m\n"
          ]
        },
        {
          "output_type": "stream",
          "name": "stdout",
          "text": [
            "[23:28:14] WARNING: ../src/learner.cc:767: \n",
            "Parameters: { \"extra_trees\", \"n_estimators\" } are not used.\n",
            "\n"
          ]
        },
        {
          "output_type": "stream",
          "name": "stderr",
          "text": [
            "\u001b[32m[I 2023-04-04 23:28:17,701]\u001b[0m Trial 56 pruned. Trial was pruned at iteration 0.\u001b[0m\n"
          ]
        },
        {
          "output_type": "stream",
          "name": "stdout",
          "text": [
            "[23:28:18] WARNING: ../src/learner.cc:767: \n",
            "Parameters: { \"extra_trees\", \"n_estimators\" } are not used.\n",
            "\n",
            "[0]\tvalidation-auc:0.84658\n",
            "[1]\tvalidation-auc:0.85531\n"
          ]
        },
        {
          "output_type": "stream",
          "name": "stderr",
          "text": [
            "\u001b[32m[I 2023-04-04 23:28:28,213]\u001b[0m Trial 57 pruned. Trial was pruned at iteration 2.\u001b[0m\n"
          ]
        },
        {
          "output_type": "stream",
          "name": "stdout",
          "text": [
            "[23:28:28] WARNING: ../src/learner.cc:767: \n",
            "Parameters: { \"extra_trees\", \"n_estimators\" } are not used.\n",
            "\n",
            "[0]\tvalidation-auc:0.83806\n"
          ]
        },
        {
          "output_type": "stream",
          "name": "stderr",
          "text": [
            "\u001b[32m[I 2023-04-04 23:28:31,877]\u001b[0m Trial 58 pruned. Trial was pruned at iteration 0.\u001b[0m\n"
          ]
        },
        {
          "output_type": "stream",
          "name": "stdout",
          "text": [
            "[23:28:32] WARNING: ../src/learner.cc:767: \n",
            "Parameters: { \"extra_trees\", \"n_estimators\" } are not used.\n",
            "\n",
            "[0]\tvalidation-auc:0.84537\n",
            "[1]\tvalidation-auc:0.85447\n"
          ]
        },
        {
          "output_type": "stream",
          "name": "stderr",
          "text": [
            "\u001b[32m[I 2023-04-04 23:28:38,189]\u001b[0m Trial 59 pruned. Trial was pruned at iteration 1.\u001b[0m\n"
          ]
        },
        {
          "output_type": "stream",
          "name": "stdout",
          "text": [
            "[23:28:38] WARNING: ../src/learner.cc:767: \n",
            "Parameters: { \"extra_trees\", \"max_depth\", \"n_estimators\" } are not used.\n",
            "\n",
            "[0]\tvalidation-auc:0.50000\n"
          ]
        },
        {
          "output_type": "stream",
          "name": "stderr",
          "text": [
            "\u001b[32m[I 2023-04-04 23:28:39,317]\u001b[0m Trial 60 pruned. Trial was pruned at iteration 0.\u001b[0m\n"
          ]
        },
        {
          "output_type": "stream",
          "name": "stdout",
          "text": [
            "[23:28:39] WARNING: ../src/learner.cc:767: \n",
            "Parameters: { \"extra_trees\", \"n_estimators\" } are not used.\n",
            "\n",
            "[0]\tvalidation-auc:0.84497\n",
            "[1]\tvalidation-auc:0.86093\n",
            "[2]\tvalidation-auc:0.87276\n",
            "[3]\tvalidation-auc:0.88149\n",
            "[4]\tvalidation-auc:0.88590\n",
            "[5]\tvalidation-auc:0.88990\n",
            "[6]\tvalidation-auc:0.89245\n",
            "[7]\tvalidation-auc:0.89488\n",
            "[8]\tvalidation-auc:0.89777\n",
            "[9]\tvalidation-auc:0.89913\n"
          ]
        },
        {
          "output_type": "stream",
          "name": "stderr",
          "text": [
            "\u001b[32m[I 2023-04-04 23:29:02,157]\u001b[0m Trial 61 finished with value: 0.8269824922760041 and parameters: {'n_estimators': 82, 'max_depth': 385, 'learning_rate': 0.59545563641948, 'booster': 'gbtree', 'lambda': 0.7737927004948816, 'alpha': 0.9479624168336135, 'eta': 0.5475699091340186, 'gamma': 0.761027365609694, 'grow_policy': 'lossguide'}. Best is trial 25 with value: 0.8269824922760041.\u001b[0m\n"
          ]
        },
        {
          "output_type": "stream",
          "name": "stdout",
          "text": [
            "[23:29:02] WARNING: ../src/learner.cc:767: \n",
            "Parameters: { \"extra_trees\", \"n_estimators\" } are not used.\n",
            "\n"
          ]
        },
        {
          "output_type": "stream",
          "name": "stderr",
          "text": [
            "\u001b[32m[I 2023-04-04 23:29:06,051]\u001b[0m Trial 62 pruned. Trial was pruned at iteration 0.\u001b[0m\n"
          ]
        },
        {
          "output_type": "stream",
          "name": "stdout",
          "text": [
            "[23:29:06] WARNING: ../src/learner.cc:767: \n",
            "Parameters: { \"extra_trees\", \"n_estimators\" } are not used.\n",
            "\n",
            "[0]\tvalidation-auc:0.84732\n",
            "[1]\tvalidation-auc:0.85927\n",
            "[2]\tvalidation-auc:0.87054\n",
            "[3]\tvalidation-auc:0.87575\n"
          ]
        },
        {
          "output_type": "stream",
          "name": "stderr",
          "text": [
            "\u001b[32m[I 2023-04-04 23:29:17,837]\u001b[0m Trial 63 pruned. Trial was pruned at iteration 3.\u001b[0m\n"
          ]
        },
        {
          "output_type": "stream",
          "name": "stdout",
          "text": [
            "[23:29:18] WARNING: ../src/learner.cc:767: \n",
            "Parameters: { \"extra_trees\", \"n_estimators\" } are not used.\n",
            "\n",
            "[0]\tvalidation-auc:0.84531\n"
          ]
        },
        {
          "output_type": "stream",
          "name": "stderr",
          "text": [
            "\u001b[32m[I 2023-04-04 23:29:25,555]\u001b[0m Trial 64 pruned. Trial was pruned at iteration 1.\u001b[0m\n"
          ]
        },
        {
          "output_type": "stream",
          "name": "stdout",
          "text": [
            "[23:29:26] WARNING: ../src/learner.cc:767: \n",
            "Parameters: { \"extra_trees\", \"n_estimators\" } are not used.\n",
            "\n"
          ]
        },
        {
          "output_type": "stream",
          "name": "stderr",
          "text": [
            "\u001b[32m[I 2023-04-04 23:29:29,598]\u001b[0m Trial 65 pruned. Trial was pruned at iteration 0.\u001b[0m\n"
          ]
        },
        {
          "output_type": "stream",
          "name": "stdout",
          "text": [
            "[23:29:30] WARNING: ../src/learner.cc:767: \n",
            "Parameters: { \"extra_trees\", \"n_estimators\" } are not used.\n",
            "\n"
          ]
        },
        {
          "output_type": "stream",
          "name": "stderr",
          "text": [
            "\u001b[32m[I 2023-04-04 23:29:33,243]\u001b[0m Trial 66 pruned. Trial was pruned at iteration 0.\u001b[0m\n"
          ]
        },
        {
          "output_type": "stream",
          "name": "stdout",
          "text": [
            "[23:29:33] WARNING: ../src/learner.cc:767: \n",
            "Parameters: { \"extra_trees\", \"n_estimators\" } are not used.\n",
            "\n",
            "[0]\tvalidation-auc:0.84537\n",
            "[1]\tvalidation-auc:0.85600\n",
            "[2]\tvalidation-auc:0.86976\n",
            "[3]\tvalidation-auc:0.87800\n",
            "[4]\tvalidation-auc:0.88406\n",
            "[5]\tvalidation-auc:0.88867\n",
            "[6]\tvalidation-auc:0.89392\n",
            "[7]\tvalidation-auc:0.89586\n",
            "[8]\tvalidation-auc:0.89743\n",
            "[9]\tvalidation-auc:0.90038\n"
          ]
        },
        {
          "output_type": "stream",
          "name": "stderr",
          "text": [
            "\u001b[32m[I 2023-04-04 23:29:59,014]\u001b[0m Trial 67 finished with value: 0.8256093374527979 and parameters: {'n_estimators': 119, 'max_depth': 331, 'learning_rate': 0.41847780433129794, 'booster': 'gbtree', 'lambda': 0.9133446998719718, 'alpha': 0.8511491338396998, 'eta': 0.4832390536031536, 'gamma': 0.6152332350341423, 'grow_policy': 'depthwise'}. Best is trial 25 with value: 0.8269824922760041.\u001b[0m\n"
          ]
        },
        {
          "output_type": "stream",
          "name": "stdout",
          "text": [
            "[23:29:59] WARNING: ../src/learner.cc:767: \n",
            "Parameters: { \"extra_trees\", \"n_estimators\" } are not used.\n",
            "\n",
            "[0]\tvalidation-auc:0.84663\n",
            "[1]\tvalidation-auc:0.85864\n",
            "[2]\tvalidation-auc:0.87080\n",
            "[3]\tvalidation-auc:0.88239\n",
            "[4]\tvalidation-auc:0.88524\n",
            "[5]\tvalidation-auc:0.88993\n",
            "[6]\tvalidation-auc:0.89373\n",
            "[7]\tvalidation-auc:0.89584\n",
            "[8]\tvalidation-auc:0.89822\n",
            "[9]\tvalidation-auc:0.90027\n"
          ]
        },
        {
          "output_type": "stream",
          "name": "stderr",
          "text": [
            "\u001b[32m[I 2023-04-04 23:30:24,923]\u001b[0m Trial 68 finished with value: 0.8214898729831789 and parameters: {'n_estimators': 112, 'max_depth': 339, 'learning_rate': 0.41802883983966554, 'booster': 'gbtree', 'lambda': 0.8597862489703458, 'alpha': 0.8541753917625214, 'eta': 0.581114211226567, 'gamma': 0.63832605406558, 'grow_policy': 'lossguide'}. Best is trial 25 with value: 0.8269824922760041.\u001b[0m\n"
          ]
        },
        {
          "output_type": "stream",
          "name": "stdout",
          "text": [
            "[23:30:25] WARNING: ../src/learner.cc:767: \n",
            "Parameters: { \"extra_trees\", \"n_estimators\" } are not used.\n",
            "\n"
          ]
        },
        {
          "output_type": "stream",
          "name": "stderr",
          "text": [
            "\u001b[32m[I 2023-04-04 23:30:28,889]\u001b[0m Trial 69 pruned. Trial was pruned at iteration 0.\u001b[0m\n"
          ]
        },
        {
          "output_type": "stream",
          "name": "stdout",
          "text": [
            "[23:30:29] WARNING: ../src/learner.cc:767: \n",
            "Parameters: { \"extra_trees\", \"n_estimators\" } are not used.\n",
            "\n",
            "[0]\tvalidation-auc:0.84516\n",
            "[1]\tvalidation-auc:0.85028\n"
          ]
        },
        {
          "output_type": "stream",
          "name": "stderr",
          "text": [
            "\u001b[32m[I 2023-04-04 23:30:35,399]\u001b[0m Trial 70 pruned. Trial was pruned at iteration 1.\u001b[0m\n"
          ]
        },
        {
          "output_type": "stream",
          "name": "stdout",
          "text": [
            "[23:30:36] WARNING: ../src/learner.cc:767: \n",
            "Parameters: { \"extra_trees\", \"n_estimators\" } are not used.\n",
            "\n",
            "[0]\tvalidation-auc:0.84689\n",
            "[1]\tvalidation-auc:0.85833\n"
          ]
        },
        {
          "output_type": "stream",
          "name": "stderr",
          "text": [
            "\u001b[32m[I 2023-04-04 23:30:45,195]\u001b[0m Trial 71 pruned. Trial was pruned at iteration 2.\u001b[0m\n"
          ]
        },
        {
          "output_type": "stream",
          "name": "stdout",
          "text": [
            "[23:30:45] WARNING: ../src/learner.cc:767: \n",
            "Parameters: { \"extra_trees\", \"n_estimators\" } are not used.\n",
            "\n",
            "[0]\tvalidation-auc:0.84544\n"
          ]
        },
        {
          "output_type": "stream",
          "name": "stderr",
          "text": [
            "\u001b[32m[I 2023-04-04 23:30:53,528]\u001b[0m Trial 72 pruned. Trial was pruned at iteration 1.\u001b[0m\n"
          ]
        },
        {
          "output_type": "stream",
          "name": "stdout",
          "text": [
            "[23:30:54] WARNING: ../src/learner.cc:767: \n",
            "Parameters: { \"extra_trees\", \"n_estimators\" } are not used.\n",
            "\n",
            "[0]\tvalidation-auc:0.84487\n"
          ]
        },
        {
          "output_type": "stream",
          "name": "stderr",
          "text": [
            "\u001b[32m[I 2023-04-04 23:30:57,194]\u001b[0m Trial 73 pruned. Trial was pruned at iteration 0.\u001b[0m\n"
          ]
        },
        {
          "output_type": "stream",
          "name": "stdout",
          "text": [
            "[23:30:57] WARNING: ../src/learner.cc:767: \n",
            "Parameters: { \"extra_trees\", \"n_estimators\" } are not used.\n",
            "\n"
          ]
        },
        {
          "output_type": "stream",
          "name": "stderr",
          "text": [
            "\u001b[32m[I 2023-04-04 23:31:01,096]\u001b[0m Trial 74 pruned. Trial was pruned at iteration 0.\u001b[0m\n"
          ]
        },
        {
          "output_type": "stream",
          "name": "stdout",
          "text": [
            "[23:31:01] WARNING: ../src/learner.cc:767: \n",
            "Parameters: { \"extra_trees\", \"n_estimators\" } are not used.\n",
            "\n",
            "[0]\tvalidation-auc:0.84680\n",
            "[1]\tvalidation-auc:0.85739\n",
            "[2]\tvalidation-auc:0.86796\n"
          ]
        },
        {
          "output_type": "stream",
          "name": "stderr",
          "text": [
            "\u001b[32m[I 2023-04-04 23:31:13,089]\u001b[0m Trial 75 pruned. Trial was pruned at iteration 3.\u001b[0m\n"
          ]
        },
        {
          "output_type": "stream",
          "name": "stdout",
          "text": [
            "[23:31:13] WARNING: ../src/learner.cc:767: \n",
            "Parameters: { \"extra_trees\", \"n_estimators\" } are not used.\n",
            "\n",
            "[0]\tvalidation-auc:0.84499\n"
          ]
        },
        {
          "output_type": "stream",
          "name": "stderr",
          "text": [
            "\u001b[32m[I 2023-04-04 23:31:19,007]\u001b[0m Trial 76 pruned. Trial was pruned at iteration 1.\u001b[0m\n"
          ]
        },
        {
          "output_type": "stream",
          "name": "stdout",
          "text": [
            "[23:31:19] WARNING: ../src/learner.cc:767: \n",
            "Parameters: { \"extra_trees\", \"n_estimators\" } are not used.\n",
            "\n"
          ]
        },
        {
          "output_type": "stream",
          "name": "stderr",
          "text": [
            "\u001b[32m[I 2023-04-04 23:31:23,779]\u001b[0m Trial 77 pruned. Trial was pruned at iteration 0.\u001b[0m\n"
          ]
        },
        {
          "output_type": "stream",
          "name": "stdout",
          "text": [
            "[23:31:24] WARNING: ../src/learner.cc:767: \n",
            "Parameters: { \"extra_trees\", \"n_estimators\" } are not used.\n",
            "\n",
            "[0]\tvalidation-auc:0.84422\n"
          ]
        },
        {
          "output_type": "stream",
          "name": "stderr",
          "text": [
            "\u001b[32m[I 2023-04-04 23:31:27,659]\u001b[0m Trial 78 pruned. Trial was pruned at iteration 0.\u001b[0m\n"
          ]
        },
        {
          "output_type": "stream",
          "name": "stdout",
          "text": [
            "[23:31:28] WARNING: ../src/learner.cc:767: \n",
            "Parameters: { \"extra_trees\", \"max_depth\", \"n_estimators\" } are not used.\n",
            "\n"
          ]
        },
        {
          "output_type": "stream",
          "name": "stderr",
          "text": [
            "\u001b[32m[I 2023-04-04 23:31:28,701]\u001b[0m Trial 79 pruned. Trial was pruned at iteration 0.\u001b[0m\n"
          ]
        },
        {
          "output_type": "stream",
          "name": "stdout",
          "text": [
            "[23:31:29] WARNING: ../src/learner.cc:767: \n",
            "Parameters: { \"extra_trees\", \"n_estimators\" } are not used.\n",
            "\n",
            "[0]\tvalidation-auc:0.84548\n",
            "[1]\tvalidation-auc:0.86127\n",
            "[2]\tvalidation-auc:0.86953\n",
            "[3]\tvalidation-auc:0.87622\n",
            "[4]\tvalidation-auc:0.88327\n",
            "[5]\tvalidation-auc:0.88643\n",
            "[6]\tvalidation-auc:0.88947\n",
            "[7]\tvalidation-auc:0.89050\n",
            "[8]\tvalidation-auc:0.89297\n",
            "[9]\tvalidation-auc:0.89513\n"
          ]
        },
        {
          "output_type": "stream",
          "name": "stderr",
          "text": [
            "\u001b[32m[I 2023-04-04 23:31:53,246]\u001b[0m Trial 80 finished with value: 0.8304153793340199 and parameters: {'n_estimators': 94, 'max_depth': 92, 'learning_rate': 0.5773321859708764, 'booster': 'gbtree', 'lambda': 0.8349986520787811, 'alpha': 0.9257591910538262, 'eta': 0.5058678351524748, 'gamma': 0.6813602327866444, 'grow_policy': 'depthwise'}. Best is trial 80 with value: 0.8304153793340199.\u001b[0m\n"
          ]
        },
        {
          "output_type": "stream",
          "name": "stdout",
          "text": [
            "[23:31:53] WARNING: ../src/learner.cc:767: \n",
            "Parameters: { \"extra_trees\", \"n_estimators\" } are not used.\n",
            "\n",
            "[0]\tvalidation-auc:0.84548\n",
            "[1]\tvalidation-auc:0.86087\n",
            "[2]\tvalidation-auc:0.86732\n"
          ]
        },
        {
          "output_type": "stream",
          "name": "stderr",
          "text": [
            "\u001b[32m[I 2023-04-04 23:32:01,571]\u001b[0m Trial 81 pruned. Trial was pruned at iteration 2.\u001b[0m\n"
          ]
        },
        {
          "output_type": "stream",
          "name": "stdout",
          "text": [
            "[23:32:02] WARNING: ../src/learner.cc:767: \n",
            "Parameters: { \"extra_trees\", \"n_estimators\" } are not used.\n",
            "\n",
            "[0]\tvalidation-auc:0.84405\n"
          ]
        },
        {
          "output_type": "stream",
          "name": "stderr",
          "text": [
            "\u001b[32m[I 2023-04-04 23:32:06,963]\u001b[0m Trial 82 pruned. Trial was pruned at iteration 0.\u001b[0m\n"
          ]
        },
        {
          "output_type": "stream",
          "name": "stdout",
          "text": [
            "[23:32:07] WARNING: ../src/learner.cc:767: \n",
            "Parameters: { \"extra_trees\", \"n_estimators\" } are not used.\n",
            "\n",
            "[0]\tvalidation-auc:0.84517\n",
            "[1]\tvalidation-auc:0.85674\n"
          ]
        },
        {
          "output_type": "stream",
          "name": "stderr",
          "text": [
            "\u001b[32m[I 2023-04-04 23:32:15,861]\u001b[0m Trial 83 pruned. Trial was pruned at iteration 2.\u001b[0m\n"
          ]
        },
        {
          "output_type": "stream",
          "name": "stdout",
          "text": [
            "[23:32:16] WARNING: ../src/learner.cc:767: \n",
            "Parameters: { \"extra_trees\", \"n_estimators\" } are not used.\n",
            "\n",
            "[0]\tvalidation-auc:0.84699\n",
            "[1]\tvalidation-auc:0.86234\n",
            "[2]\tvalidation-auc:0.87366\n",
            "[3]\tvalidation-auc:0.88008\n",
            "[4]\tvalidation-auc:0.88287\n",
            "[5]\tvalidation-auc:0.88676\n",
            "[6]\tvalidation-auc:0.88963\n",
            "[7]\tvalidation-auc:0.89273\n",
            "[8]\tvalidation-auc:0.89537\n",
            "[9]\tvalidation-auc:0.89783\n"
          ]
        },
        {
          "output_type": "stream",
          "name": "stderr",
          "text": [
            "\u001b[32m[I 2023-04-04 23:32:40,738]\u001b[0m Trial 84 finished with value: 0.8235496052179884 and parameters: {'n_estimators': 139, 'max_depth': 366, 'learning_rate': 0.591525174824762, 'booster': 'gbtree', 'lambda': 0.8710146042918463, 'alpha': 0.8605086341877728, 'eta': 0.5111938345796592, 'gamma': 0.6485061022036921, 'grow_policy': 'depthwise'}. Best is trial 80 with value: 0.8304153793340199.\u001b[0m\n"
          ]
        },
        {
          "output_type": "stream",
          "name": "stdout",
          "text": [
            "[23:32:41] WARNING: ../src/learner.cc:767: \n",
            "Parameters: { \"extra_trees\", \"n_estimators\" } are not used.\n",
            "\n",
            "[0]\tvalidation-auc:0.84622\n",
            "[1]\tvalidation-auc:0.85911\n"
          ]
        },
        {
          "output_type": "stream",
          "name": "stderr",
          "text": [
            "\u001b[32m[I 2023-04-04 23:32:50,004]\u001b[0m Trial 85 pruned. Trial was pruned at iteration 2.\u001b[0m\n"
          ]
        },
        {
          "output_type": "stream",
          "name": "stdout",
          "text": [
            "[23:32:50] WARNING: ../src/learner.cc:767: \n",
            "Parameters: { \"extra_trees\", \"n_estimators\" } are not used.\n",
            "\n",
            "[0]\tvalidation-auc:0.84634\n"
          ]
        },
        {
          "output_type": "stream",
          "name": "stderr",
          "text": [
            "\u001b[32m[I 2023-04-04 23:32:56,699]\u001b[0m Trial 86 pruned. Trial was pruned at iteration 1.\u001b[0m\n"
          ]
        },
        {
          "output_type": "stream",
          "name": "stdout",
          "text": [
            "[23:32:57] WARNING: ../src/learner.cc:767: \n",
            "Parameters: { \"extra_trees\", \"n_estimators\" } are not used.\n",
            "\n",
            "[0]\tvalidation-auc:0.84608\n",
            "[1]\tvalidation-auc:0.85631\n"
          ]
        },
        {
          "output_type": "stream",
          "name": "stderr",
          "text": [
            "\u001b[32m[I 2023-04-04 23:33:06,628]\u001b[0m Trial 87 pruned. Trial was pruned at iteration 2.\u001b[0m\n"
          ]
        },
        {
          "output_type": "stream",
          "name": "stdout",
          "text": [
            "[23:33:07] WARNING: ../src/learner.cc:767: \n",
            "Parameters: { \"extra_trees\", \"n_estimators\" } are not used.\n",
            "\n",
            "[0]\tvalidation-auc:0.84530\n",
            "[1]\tvalidation-auc:0.85969\n"
          ]
        },
        {
          "output_type": "stream",
          "name": "stderr",
          "text": [
            "\u001b[32m[I 2023-04-04 23:33:15,293]\u001b[0m Trial 88 pruned. Trial was pruned at iteration 2.\u001b[0m\n"
          ]
        },
        {
          "output_type": "stream",
          "name": "stdout",
          "text": [
            "[23:33:15] WARNING: ../src/learner.cc:767: \n",
            "Parameters: { \"extra_trees\", \"n_estimators\" } are not used.\n",
            "\n",
            "[0]\tvalidation-auc:0.84703\n",
            "[1]\tvalidation-auc:0.85820\n",
            "[2]\tvalidation-auc:0.86939\n",
            "[3]\tvalidation-auc:0.87826\n",
            "[4]\tvalidation-auc:0.88398\n",
            "[5]\tvalidation-auc:0.88810\n",
            "[6]\tvalidation-auc:0.88921\n",
            "[7]\tvalidation-auc:0.89138\n",
            "[8]\tvalidation-auc:0.89352\n",
            "[9]\tvalidation-auc:0.89526\n"
          ]
        },
        {
          "output_type": "stream",
          "name": "stderr",
          "text": [
            "\u001b[32m[I 2023-04-04 23:33:40,609]\u001b[0m Trial 89 finished with value: 0.8208032955715757 and parameters: {'n_estimators': 216, 'max_depth': 113, 'learning_rate': 0.4988592160909442, 'booster': 'gbtree', 'lambda': 0.8005687640109967, 'alpha': 0.9009047732885875, 'eta': 0.5474707640368147, 'gamma': 0.5707516815575686, 'grow_policy': 'depthwise'}. Best is trial 80 with value: 0.8304153793340199.\u001b[0m\n"
          ]
        },
        {
          "output_type": "stream",
          "name": "stdout",
          "text": [
            "[23:33:41] WARNING: ../src/learner.cc:767: \n",
            "Parameters: { \"extra_trees\", \"n_estimators\" } are not used.\n",
            "\n"
          ]
        },
        {
          "output_type": "stream",
          "name": "stderr",
          "text": [
            "\u001b[32m[I 2023-04-04 23:33:44,514]\u001b[0m Trial 90 pruned. Trial was pruned at iteration 0.\u001b[0m\n"
          ]
        },
        {
          "output_type": "stream",
          "name": "stdout",
          "text": [
            "[23:33:45] WARNING: ../src/learner.cc:767: \n",
            "Parameters: { \"extra_trees\", \"n_estimators\" } are not used.\n",
            "\n",
            "[0]\tvalidation-auc:0.84663\n"
          ]
        },
        {
          "output_type": "stream",
          "name": "stderr",
          "text": [
            "\u001b[32m[I 2023-04-04 23:33:52,326]\u001b[0m Trial 91 pruned. Trial was pruned at iteration 1.\u001b[0m\n"
          ]
        },
        {
          "output_type": "stream",
          "name": "stdout",
          "text": [
            "[23:33:52] WARNING: ../src/learner.cc:767: \n",
            "Parameters: { \"extra_trees\", \"n_estimators\" } are not used.\n",
            "\n",
            "[0]\tvalidation-auc:0.84700\n",
            "[1]\tvalidation-auc:0.86038\n",
            "[2]\tvalidation-auc:0.87078\n",
            "[3]\tvalidation-auc:0.88000\n",
            "[4]\tvalidation-auc:0.88583\n",
            "[5]\tvalidation-auc:0.88850\n",
            "[6]\tvalidation-auc:0.88946\n",
            "[7]\tvalidation-auc:0.89210\n",
            "[8]\tvalidation-auc:0.89448\n",
            "[9]\tvalidation-auc:0.89595\n"
          ]
        },
        {
          "output_type": "stream",
          "name": "stderr",
          "text": [
            "\u001b[32m[I 2023-04-04 23:34:15,071]\u001b[0m Trial 92 finished with value: 0.8184002746309647 and parameters: {'n_estimators': 101, 'max_depth': 343, 'learning_rate': 0.6052252261044521, 'booster': 'gbtree', 'lambda': 0.8345009066220537, 'alpha': 0.8746565109630348, 'eta': 0.570035116758813, 'gamma': 0.6491766016998787, 'grow_policy': 'depthwise'}. Best is trial 80 with value: 0.8304153793340199.\u001b[0m\n"
          ]
        }
      ]
    },
    {
      "cell_type": "markdown",
      "source": [
        "## Best XGBoster Model from Optuna"
      ],
      "metadata": {
        "id": "EAtP6sI_6iFS"
      }
    },
    {
      "cell_type": "code",
      "source": [
        "study.best_params"
      ],
      "metadata": {
        "colab": {
          "base_uri": "https://localhost:8080/"
        },
        "id": "gv-h-Ci5ERiA",
        "outputId": "626baeef-dd44-4a51-b347-0296de591be6"
      },
      "execution_count": 35,
      "outputs": [
        {
          "output_type": "execute_result",
          "data": {
            "text/plain": [
              "{'n_estimators': 94,\n",
              " 'max_depth': 92,\n",
              " 'learning_rate': 0.5773321859708764,\n",
              " 'booster': 'gbtree',\n",
              " 'lambda': 0.8349986520787811,\n",
              " 'alpha': 0.9257591910538262,\n",
              " 'eta': 0.5058678351524748,\n",
              " 'gamma': 0.6813602327866444,\n",
              " 'grow_policy': 'depthwise'}"
            ]
          },
          "metadata": {},
          "execution_count": 35
        }
      ]
    },
    {
      "cell_type": "code",
      "source": [
        "clf_xgb_opt= XGBClassifier(**study.best_params)"
      ],
      "metadata": {
        "id": "aQjDz7Kv38O8"
      },
      "execution_count": 36,
      "outputs": []
    },
    {
      "cell_type": "code",
      "source": [
        "clf_xgb_opt.fit(X_train, y_train)"
      ],
      "metadata": {
        "colab": {
          "base_uri": "https://localhost:8080/",
          "height": 251
        },
        "id": "A3yi4nl86rgf",
        "outputId": "b5ab7fbe-f2db-49c6-94d5-6b8f44650b23"
      },
      "execution_count": 37,
      "outputs": [
        {
          "output_type": "execute_result",
          "data": {
            "text/plain": [
              "XGBClassifier(alpha=0.9257591910538262, base_score=None, booster='gbtree',\n",
              "              callbacks=None, colsample_bylevel=None, colsample_bynode=None,\n",
              "              colsample_bytree=None, early_stopping_rounds=None,\n",
              "              enable_categorical=False, eta=0.5058678351524748,\n",
              "              eval_metric=None, feature_types=None, gamma=0.6813602327866444,\n",
              "              gpu_id=None, grow_policy='depthwise', importance_type=None,\n",
              "              interaction_constraints=None, lambda=0.8349986520787811,\n",
              "              learning_rate=0.5773321859708764, max_bin=None,\n",
              "              max_cat_threshold=None, max_cat_to_onehot=None,\n",
              "              max_delta_step=None, max_depth=92, max_leaves=None,\n",
              "              min_child_weight=None, missing=nan, monotone_constraints=None,\n",
              "              n_estimators=94, n_jobs=None, ...)"
            ],
            "text/html": [
              "<style>#sk-container-id-3 {color: black;background-color: white;}#sk-container-id-3 pre{padding: 0;}#sk-container-id-3 div.sk-toggleable {background-color: white;}#sk-container-id-3 label.sk-toggleable__label {cursor: pointer;display: block;width: 100%;margin-bottom: 0;padding: 0.3em;box-sizing: border-box;text-align: center;}#sk-container-id-3 label.sk-toggleable__label-arrow:before {content: \"▸\";float: left;margin-right: 0.25em;color: #696969;}#sk-container-id-3 label.sk-toggleable__label-arrow:hover:before {color: black;}#sk-container-id-3 div.sk-estimator:hover label.sk-toggleable__label-arrow:before {color: black;}#sk-container-id-3 div.sk-toggleable__content {max-height: 0;max-width: 0;overflow: hidden;text-align: left;background-color: #f0f8ff;}#sk-container-id-3 div.sk-toggleable__content pre {margin: 0.2em;color: black;border-radius: 0.25em;background-color: #f0f8ff;}#sk-container-id-3 input.sk-toggleable__control:checked~div.sk-toggleable__content {max-height: 200px;max-width: 100%;overflow: auto;}#sk-container-id-3 input.sk-toggleable__control:checked~label.sk-toggleable__label-arrow:before {content: \"▾\";}#sk-container-id-3 div.sk-estimator input.sk-toggleable__control:checked~label.sk-toggleable__label {background-color: #d4ebff;}#sk-container-id-3 div.sk-label input.sk-toggleable__control:checked~label.sk-toggleable__label {background-color: #d4ebff;}#sk-container-id-3 input.sk-hidden--visually {border: 0;clip: rect(1px 1px 1px 1px);clip: rect(1px, 1px, 1px, 1px);height: 1px;margin: -1px;overflow: hidden;padding: 0;position: absolute;width: 1px;}#sk-container-id-3 div.sk-estimator {font-family: monospace;background-color: #f0f8ff;border: 1px dotted black;border-radius: 0.25em;box-sizing: border-box;margin-bottom: 0.5em;}#sk-container-id-3 div.sk-estimator:hover {background-color: #d4ebff;}#sk-container-id-3 div.sk-parallel-item::after {content: \"\";width: 100%;border-bottom: 1px solid gray;flex-grow: 1;}#sk-container-id-3 div.sk-label:hover label.sk-toggleable__label {background-color: #d4ebff;}#sk-container-id-3 div.sk-serial::before {content: \"\";position: absolute;border-left: 1px solid gray;box-sizing: border-box;top: 0;bottom: 0;left: 50%;z-index: 0;}#sk-container-id-3 div.sk-serial {display: flex;flex-direction: column;align-items: center;background-color: white;padding-right: 0.2em;padding-left: 0.2em;position: relative;}#sk-container-id-3 div.sk-item {position: relative;z-index: 1;}#sk-container-id-3 div.sk-parallel {display: flex;align-items: stretch;justify-content: center;background-color: white;position: relative;}#sk-container-id-3 div.sk-item::before, #sk-container-id-3 div.sk-parallel-item::before {content: \"\";position: absolute;border-left: 1px solid gray;box-sizing: border-box;top: 0;bottom: 0;left: 50%;z-index: -1;}#sk-container-id-3 div.sk-parallel-item {display: flex;flex-direction: column;z-index: 1;position: relative;background-color: white;}#sk-container-id-3 div.sk-parallel-item:first-child::after {align-self: flex-end;width: 50%;}#sk-container-id-3 div.sk-parallel-item:last-child::after {align-self: flex-start;width: 50%;}#sk-container-id-3 div.sk-parallel-item:only-child::after {width: 0;}#sk-container-id-3 div.sk-dashed-wrapped {border: 1px dashed gray;margin: 0 0.4em 0.5em 0.4em;box-sizing: border-box;padding-bottom: 0.4em;background-color: white;}#sk-container-id-3 div.sk-label label {font-family: monospace;font-weight: bold;display: inline-block;line-height: 1.2em;}#sk-container-id-3 div.sk-label-container {text-align: center;}#sk-container-id-3 div.sk-container {/* jupyter's `normalize.less` sets `[hidden] { display: none; }` but bootstrap.min.css set `[hidden] { display: none !important; }` so we also need the `!important` here to be able to override the default hidden behavior on the sphinx rendered scikit-learn.org. See: https://github.com/scikit-learn/scikit-learn/issues/21755 */display: inline-block !important;position: relative;}#sk-container-id-3 div.sk-text-repr-fallback {display: none;}</style><div id=\"sk-container-id-3\" class=\"sk-top-container\"><div class=\"sk-text-repr-fallback\"><pre>XGBClassifier(alpha=0.9257591910538262, base_score=None, booster=&#x27;gbtree&#x27;,\n",
              "              callbacks=None, colsample_bylevel=None, colsample_bynode=None,\n",
              "              colsample_bytree=None, early_stopping_rounds=None,\n",
              "              enable_categorical=False, eta=0.5058678351524748,\n",
              "              eval_metric=None, feature_types=None, gamma=0.6813602327866444,\n",
              "              gpu_id=None, grow_policy=&#x27;depthwise&#x27;, importance_type=None,\n",
              "              interaction_constraints=None, lambda=0.8349986520787811,\n",
              "              learning_rate=0.5773321859708764, max_bin=None,\n",
              "              max_cat_threshold=None, max_cat_to_onehot=None,\n",
              "              max_delta_step=None, max_depth=92, max_leaves=None,\n",
              "              min_child_weight=None, missing=nan, monotone_constraints=None,\n",
              "              n_estimators=94, n_jobs=None, ...)</pre><b>In a Jupyter environment, please rerun this cell to show the HTML representation or trust the notebook. <br />On GitHub, the HTML representation is unable to render, please try loading this page with nbviewer.org.</b></div><div class=\"sk-container\" hidden><div class=\"sk-item\"><div class=\"sk-estimator sk-toggleable\"><input class=\"sk-toggleable__control sk-hidden--visually\" id=\"sk-estimator-id-3\" type=\"checkbox\" checked><label for=\"sk-estimator-id-3\" class=\"sk-toggleable__label sk-toggleable__label-arrow\">XGBClassifier</label><div class=\"sk-toggleable__content\"><pre>XGBClassifier(alpha=0.9257591910538262, base_score=None, booster=&#x27;gbtree&#x27;,\n",
              "              callbacks=None, colsample_bylevel=None, colsample_bynode=None,\n",
              "              colsample_bytree=None, early_stopping_rounds=None,\n",
              "              enable_categorical=False, eta=0.5058678351524748,\n",
              "              eval_metric=None, feature_types=None, gamma=0.6813602327866444,\n",
              "              gpu_id=None, grow_policy=&#x27;depthwise&#x27;, importance_type=None,\n",
              "              interaction_constraints=None, lambda=0.8349986520787811,\n",
              "              learning_rate=0.5773321859708764, max_bin=None,\n",
              "              max_cat_threshold=None, max_cat_to_onehot=None,\n",
              "              max_delta_step=None, max_depth=92, max_leaves=None,\n",
              "              min_child_weight=None, missing=nan, monotone_constraints=None,\n",
              "              n_estimators=94, n_jobs=None, ...)</pre></div></div></div></div></div>"
            ]
          },
          "metadata": {},
          "execution_count": 37
        }
      ]
    },
    {
      "cell_type": "code",
      "source": [
        "y_pred = clf_xgb_opt.predict(X_test)\n",
        "cm= confusion_matrix(y_test,y_pred)\n",
        "disp = ConfusionMatrixDisplay(confusion_matrix=cm)\n",
        "disp.plot()\n",
        "plt.show()"
      ],
      "metadata": {
        "colab": {
          "base_uri": "https://localhost:8080/",
          "height": 449
        },
        "id": "RMicN0SP6ysg",
        "outputId": "d8644b73-2d9a-400f-9ccf-631990506f2b"
      },
      "execution_count": 38,
      "outputs": [
        {
          "output_type": "display_data",
          "data": {
            "text/plain": [
              "<Figure size 640x480 with 2 Axes>"
            ],
            "image/png": "[encoded data removed]"
          },
          "metadata": {}
        }
      ]
    },
    {
      "cell_type": "code",
      "source": [
        "print(classification_report(y_train, clf_xgb.predict(X_train)))"
      ],
      "metadata": {
        "colab": {
          "base_uri": "https://localhost:8080/"
        },
        "id": "Mb512VWt7ZSc",
        "outputId": "42e71e55-1120-45ac-a2c6-b3d279fc74cc"
      },
      "execution_count": 39,
      "outputs": [
        {
          "output_type": "stream",
          "name": "stdout",
          "text": [
            "              precision    recall  f1-score   support\n",
            "\n",
            "           0       1.00      1.00      1.00      5818\n",
            "           1       1.00      1.00      1.00      5831\n",
            "\n",
            "    accuracy                           1.00     11649\n",
            "   macro avg       1.00      1.00      1.00     11649\n",
            "weighted avg       1.00      1.00      1.00     11649\n",
            "\n"
          ]
        }
      ]
    },
    {
      "cell_type": "code",
      "source": [
        "print(classification_report(y_test, y_pred))"
      ],
      "metadata": {
        "colab": {
          "base_uri": "https://localhost:8080/"
        },
        "id": "0nZOHgfT8JZw",
        "outputId": "bffd4723-d84a-4b53-e506-22d6bf8cb310"
      },
      "execution_count": 40,
      "outputs": [
        {
          "output_type": "stream",
          "name": "stdout",
          "text": [
            "              precision    recall  f1-score   support\n",
            "\n",
            "           0       0.81      0.90      0.85      1454\n",
            "           1       0.88      0.79      0.83      1459\n",
            "\n",
            "    accuracy                           0.84      2913\n",
            "   macro avg       0.85      0.84      0.84      2913\n",
            "weighted avg       0.85      0.84      0.84      2913\n",
            "\n"
          ]
        }
      ]
    },
    {
      "cell_type": "code",
      "source": [
        "fpr_rf, tpr_rf, _ = roc_curve(y_test, clf_xgb_opt.predict(X_test))\n",
        "\n",
        "plt.figure(1)\n",
        "plt.plot([0, 1], [0, 1], 'k--')\n",
        "plt.plot(fpr_rf, tpr_rf, label='Random Forest - Optuna')\n",
        "plt.xlabel('False positive rate')\n",
        "plt.ylabel('True positive rate')\n",
        "plt.title('ROC curve - Test Data - Batch_3')\n",
        "plt.legend(loc='best')\n",
        "plt.show()"
      ],
      "metadata": {
        "colab": {
          "base_uri": "https://localhost:8080/",
          "height": 472
        },
        "id": "mA1E81FC8O7-",
        "outputId": "8997a51b-6591-409a-fcdc-2ad3d5309ada"
      },
      "execution_count": 41,
      "outputs": [
        {
          "output_type": "display_data",
          "data": {
            "text/plain": [
              "<Figure size 640x480 with 1 Axes>"
            ],
            "image/png": "[encoded data removed]"
          },
          "metadata": {}
        }
      ]
    },
    {
      "cell_type": "code",
      "source": [],
      "metadata": {
        "id": "3Bjco3x98ZIr"
      },
      "execution_count": 41,
      "outputs": []
    }
  ]
}