{
  "nbformat": 4,
  "nbformat_minor": 0,
  "metadata": {
    "colab": {
      "provenance": [],
      "machine_shape": "hm"
    },
    "kernelspec": {
      "name": "python3",
      "display_name": "Python 3"
    },
    "language_info": {
      "name": "python"
    },
    "accelerator": "GPU",
    "gpuClass": "premium"
  },
  "cells": [
    {
      "cell_type": "markdown",
      "source": [
        "# Project Description\n",
        "\n",
        "\n",
        "Detecting Pediatric Acute Lymphoblastic Leukemia using Computer Vision\n",
        "\n",
        "https://omdena.com/chapter-challenges/detecting-pediatric-acute-lymphoblastic-leukemia-using-computer-vision/"
      ],
      "metadata": {
        "id": "sp36hk4_W93x"
      }
    },
    {
      "cell_type": "markdown",
      "source": [
        "# Mount Google Drive"
      ],
      "metadata": {
        "id": "hztnIQgx7jWu"
      }
    },
    {
      "cell_type": "code",
      "source": [
        "from google.colab import drive\n",
        "drive.mount('/content/drive')"
      ],
      "metadata": {
        "colab": {
          "base_uri": "https://localhost:8080/"
        },
        "id": "2EoWACMl7jC-",
        "outputId": "095c3d91-29b9-4b00-d0dd-8f4ace012957"
      },
      "execution_count": 1,
      "outputs": [
        {
          "output_type": "stream",
          "name": "stdout",
          "text": [
            "Mounted at /content/drive\n"
          ]
        }
      ]
    },
    {
      "cell_type": "markdown",
      "source": [
        "# Install Required Packages"
      ],
      "metadata": {
        "id": "0FYPubi9agxi"
      }
    },
    {
      "cell_type": "code",
      "source": [
        "!pip install optuna"
      ],
      "metadata": {
        "colab": {
          "base_uri": "https://localhost:8080/"
        },
        "id": "Kohrf4mEakX4",
        "outputId": "e37ba32e-b004-482d-f81e-9ea2f79fead4"
      },
      "execution_count": 2,
      "outputs": [
        {
          "output_type": "stream",
          "name": "stdout",
          "text": [
            "Looking in indexes: https://pypi.org/simple, https://us-python.pkg.dev/colab-wheels/public/simple/\n",
            "Collecting optuna\n",
            "  Downloading optuna-3.1.0-py3-none-any.whl (365 kB)\n",
            "\u001b[2K     \u001b[90m━━━━━━━━━━━━━━━━━━━━━━━━━━━━━━━━━━━━━━━\u001b[0m \u001b[32m365.3/365.3 KB\u001b[0m \u001b[31m7.9 MB/s\u001b[0m eta \u001b[36m0:00:00\u001b[0m\n",
            "\u001b[?25hRequirement already satisfied: tqdm in /usr/local/lib/python3.9/dist-packages (from optuna) (4.65.0)\n",
            "Requirement already satisfied: sqlalchemy>=1.3.0 in /usr/local/lib/python3.9/dist-packages (from optuna) (1.4.47)\n",
            "Collecting cmaes>=0.9.1\n",
            "  Downloading cmaes-0.9.1-py3-none-any.whl (21 kB)\n",
            "Collecting colorlog\n",
            "  Downloading colorlog-6.7.0-py2.py3-none-any.whl (11 kB)\n",
            "Requirement already satisfied: numpy in /usr/local/lib/python3.9/dist-packages (from optuna) (1.22.4)\n",
            "Requirement already satisfied: packaging>=20.0 in /usr/local/lib/python3.9/dist-packages (from optuna) (23.0)\n",
            "Requirement already satisfied: PyYAML in /usr/local/lib/python3.9/dist-packages (from optuna) (6.0)\n",
            "Collecting alembic>=1.5.0\n",
            "  Downloading alembic-1.10.2-py3-none-any.whl (212 kB)\n",
            "\u001b[2K     \u001b[90m━━━━━━━━━━━━━━━━━━━━━━━━━━━━━━━━━━━━━━\u001b[0m \u001b[32m212.2/212.2 KB\u001b[0m \u001b[31m25.2 MB/s\u001b[0m eta \u001b[36m0:00:00\u001b[0m\n",
            "\u001b[?25hRequirement already satisfied: typing-extensions>=4 in /usr/local/lib/python3.9/dist-packages (from alembic>=1.5.0->optuna) (4.5.0)\n",
            "Collecting Mako\n",
            "  Downloading Mako-1.2.4-py3-none-any.whl (78 kB)\n",
            "\u001b[2K     \u001b[90m━━━━━━━━━━━━━━━━━━━━━━━━━━━━━━━━━━━━━━━━\u001b[0m \u001b[32m78.7/78.7 KB\u001b[0m \u001b[31m11.3 MB/s\u001b[0m eta \u001b[36m0:00:00\u001b[0m\n",
            "\u001b[?25hRequirement already satisfied: greenlet!=0.4.17 in /usr/local/lib/python3.9/dist-packages (from sqlalchemy>=1.3.0->optuna) (2.0.2)\n",
            "Requirement already satisfied: MarkupSafe>=0.9.2 in /usr/local/lib/python3.9/dist-packages (from Mako->alembic>=1.5.0->optuna) (2.1.2)\n",
            "Installing collected packages: Mako, colorlog, cmaes, alembic, optuna\n",
            "Successfully installed Mako-1.2.4 alembic-1.10.2 cmaes-0.9.1 colorlog-6.7.0 optuna-3.1.0\n"
          ]
        }
      ]
    },
    {
      "cell_type": "markdown",
      "source": [
        "# Imports"
      ],
      "metadata": {
        "id": "vdvzKQ3U5u1m"
      }
    },
    {
      "cell_type": "code",
      "execution_count": 3,
      "metadata": {
        "id": "9acYcSBp5enI"
      },
      "outputs": [],
      "source": [
        "import pandas as pd\n",
        "import numpy as np\n",
        "\n",
        "import matplotlib.pyplot as plt\n",
        "%matplotlib inline\n",
        "import seaborn as sns\n",
        "  \n",
        "\n",
        "from sklearn.preprocessing import StandardScaler\n",
        "\n",
        "from sklearn.linear_model import LogisticRegression\n",
        "from sklearn.ensemble import RandomForestClassifier\n",
        "from xgboost import XGBClassifier\n",
        "\n",
        "import sklearn.metrics\n",
        "from sklearn.metrics import confusion_matrix, ConfusionMatrixDisplay\n",
        "from sklearn.metrics import roc_curve, auc\n",
        "from sklearn.metrics import classification_report\n",
        "\n",
        "import optuna\n",
        "\n",
        "\n"
      ]
    },
    {
      "cell_type": "markdown",
      "source": [
        "# Load Data - Batch 2"
      ],
      "metadata": {
        "id": "4F8M-Ci373du"
      }
    },
    {
      "cell_type": "code",
      "source": [
        "!unzip '/content/drive/MyDrive/omdena_liverpool_all/C-NMC_Leukemia/training_test_pickle/batch_2.zip'"
      ],
      "metadata": {
        "colab": {
          "base_uri": "https://localhost:8080/"
        },
        "id": "b8BJXmk4709W",
        "outputId": "dbf2791c-1cd8-49bd-fbfb-011e8f56047c"
      },
      "execution_count": 4,
      "outputs": [
        {
          "output_type": "stream",
          "name": "stdout",
          "text": [
            "Archive:  /content/drive/MyDrive/omdena_liverpool_all/C-NMC_Leukemia/training_test_pickle/batch_2.zip\n",
            "  inflating: batch_2/test_data.pickle  \n",
            "  inflating: batch_2/train_data.pickle  \n"
          ]
        }
      ]
    },
    {
      "cell_type": "code",
      "source": [
        "df_train = pd.read_pickle('./batch_2/train_data.pickle')\n",
        "df_test = pd.read_pickle('./batch_2/test_data.pickle')"
      ],
      "metadata": {
        "id": "kfH03qOY8LRk"
      },
      "execution_count": 5,
      "outputs": []
    },
    {
      "cell_type": "code",
      "source": [
        "df_train.info()"
      ],
      "metadata": {
        "colab": {
          "base_uri": "https://localhost:8080/"
        },
        "id": "78EnG3h58kB0",
        "outputId": "9a4523d0-49f1-4040-af99-c0da47b41e3a"
      },
      "execution_count": 6,
      "outputs": [
        {
          "output_type": "stream",
          "name": "stdout",
          "text": [
            "<class 'pandas.core.frame.DataFrame'>\n",
            "RangeIndex: 11649 entries, 0 to 11648\n",
            "Columns: 4609 entries, 0 to label\n",
            "dtypes: float32(4608), int64(1)\n",
            "memory usage: 204.9 MB\n"
          ]
        }
      ]
    },
    {
      "cell_type": "code",
      "source": [
        "df_train.head()"
      ],
      "metadata": {
        "colab": {
          "base_uri": "https://localhost:8080/",
          "height": 235
        },
        "id": "usBS3pRI8sGF",
        "outputId": "5c9ac12d-8fd1-44fc-f11a-816db62861c2"
      },
      "execution_count": 7,
      "outputs": [
        {
          "output_type": "execute_result",
          "data": {
            "text/plain": [
              "          0    1    2         3         4    5    6    7    8         9  ...  \\\n",
              "0  0.388562  0.0  0.0  0.000000  0.000000  0.0  0.0  0.0  0.0  0.143364  ...   \n",
              "1  0.058423  0.0  0.0  0.001344  0.005972  0.0  0.0  0.0  0.0  0.000000  ...   \n",
              "2  0.238866  0.0  0.0  0.000000  0.000000  0.0  0.0  0.0  0.0  0.000000  ...   \n",
              "3  0.547355  0.0  0.0  0.000000  0.000000  0.0  0.0  0.0  0.0  0.000000  ...   \n",
              "4  0.172298  0.0  0.0  0.000000  0.000000  0.0  0.0  0.0  0.0  0.000000  ...   \n",
              "\n",
              "       4599      4600  4601      4602      4603  4604  4605  4606  4607  label  \n",
              "0  0.000000  0.000000   0.0  0.092307  0.000000   0.0   0.0   0.0   0.0      1  \n",
              "1  0.357052  0.095563   0.0  0.382820  0.000000   0.0   0.0   0.0   0.0      0  \n",
              "2  0.375599  0.177851   0.0  0.000000  0.000000   0.0   0.0   0.0   0.0      0  \n",
              "3  0.140675  0.000000   0.0  0.259241  0.003538   0.0   0.0   0.0   0.0      0  \n",
              "4  0.476506  0.139199   0.0  0.000000  0.000000   0.0   0.0   0.0   0.0      1  \n",
              "\n",
              "[5 rows x 4609 columns]"
            ],
            "text/html": [
              "\n",
              "  <div id=\"df-f0faae95-d1c0-4967-89f1-3bd629f4900f\">\n",
              "    <div class=\"colab-df-container\">\n",
              "      <div>\n",
              "<style scoped>\n",
              "    .dataframe tbody tr th:only-of-type {\n",
              "        vertical-align: middle;\n",
              "    }\n",
              "\n",
              "    .dataframe tbody tr th {\n",
              "        vertical-align: top;\n",
              "    }\n",
              "\n",
              "    .dataframe thead th {\n",
              "        text-align: right;\n",
              "    }\n",
              "</style>\n",
              "<table border=\"1\" class=\"dataframe\">\n",
              "  <thead>\n",
              "    <tr style=\"text-align: right;\">\n",
              "      <th></th>\n",
              "      <th>0</th>\n",
              "      <th>1</th>\n",
              "      <th>2</th>\n",
              "      <th>3</th>\n",
              "      <th>4</th>\n",
              "      <th>5</th>\n",
              "      <th>6</th>\n",
              "      <th>7</th>\n",
              "      <th>8</th>\n",
              "      <th>9</th>\n",
              "      <th>...</th>\n",
              "      <th>4599</th>\n",
              "      <th>4600</th>\n",
              "      <th>4601</th>\n",
              "      <th>4602</th>\n",
              "      <th>4603</th>\n",
              "      <th>4604</th>\n",
              "      <th>4605</th>\n",
              "      <th>4606</th>\n",
              "      <th>4607</th>\n",
              "      <th>label</th>\n",
              "    </tr>\n",
              "  </thead>\n",
              "  <tbody>\n",
              "    <tr>\n",
              "      <th>0</th>\n",
              "      <td>0.388562</td>\n",
              "      <td>0.0</td>\n",
              "      <td>0.0</td>\n",
              "      <td>0.000000</td>\n",
              "      <td>0.000000</td>\n",
              "      <td>0.0</td>\n",
              "      <td>0.0</td>\n",
              "      <td>0.0</td>\n",
              "      <td>0.0</td>\n",
              "      <td>0.143364</td>\n",
              "      <td>...</td>\n",
              "      <td>0.000000</td>\n",
              "      <td>0.000000</td>\n",
              "      <td>0.0</td>\n",
              "      <td>0.092307</td>\n",
              "      <td>0.000000</td>\n",
              "      <td>0.0</td>\n",
              "      <td>0.0</td>\n",
              "      <td>0.0</td>\n",
              "      <td>0.0</td>\n",
              "      <td>1</td>\n",
              "    </tr>\n",
              "    <tr>\n",
              "      <th>1</th>\n",
              "      <td>0.058423</td>\n",
              "      <td>0.0</td>\n",
              "      <td>0.0</td>\n",
              "      <td>0.001344</td>\n",
              "      <td>0.005972</td>\n",
              "      <td>0.0</td>\n",
              "      <td>0.0</td>\n",
              "      <td>0.0</td>\n",
              "      <td>0.0</td>\n",
              "      <td>0.000000</td>\n",
              "      <td>...</td>\n",
              "      <td>0.357052</td>\n",
              "      <td>0.095563</td>\n",
              "      <td>0.0</td>\n",
              "      <td>0.382820</td>\n",
              "      <td>0.000000</td>\n",
              "      <td>0.0</td>\n",
              "      <td>0.0</td>\n",
              "      <td>0.0</td>\n",
              "      <td>0.0</td>\n",
              "      <td>0</td>\n",
              "    </tr>\n",
              "    <tr>\n",
              "      <th>2</th>\n",
              "      <td>0.238866</td>\n",
              "      <td>0.0</td>\n",
              "      <td>0.0</td>\n",
              "      <td>0.000000</td>\n",
              "      <td>0.000000</td>\n",
              "      <td>0.0</td>\n",
              "      <td>0.0</td>\n",
              "      <td>0.0</td>\n",
              "      <td>0.0</td>\n",
              "      <td>0.000000</td>\n",
              "      <td>...</td>\n",
              "      <td>0.375599</td>\n",
              "      <td>0.177851</td>\n",
              "      <td>0.0</td>\n",
              "      <td>0.000000</td>\n",
              "      <td>0.000000</td>\n",
              "      <td>0.0</td>\n",
              "      <td>0.0</td>\n",
              "      <td>0.0</td>\n",
              "      <td>0.0</td>\n",
              "      <td>0</td>\n",
              "    </tr>\n",
              "    <tr>\n",
              "      <th>3</th>\n",
              "      <td>0.547355</td>\n",
              "      <td>0.0</td>\n",
              "      <td>0.0</td>\n",
              "      <td>0.000000</td>\n",
              "      <td>0.000000</td>\n",
              "      <td>0.0</td>\n",
              "      <td>0.0</td>\n",
              "      <td>0.0</td>\n",
              "      <td>0.0</td>\n",
              "      <td>0.000000</td>\n",
              "      <td>...</td>\n",
              "      <td>0.140675</td>\n",
              "      <td>0.000000</td>\n",
              "      <td>0.0</td>\n",
              "      <td>0.259241</td>\n",
              "      <td>0.003538</td>\n",
              "      <td>0.0</td>\n",
              "      <td>0.0</td>\n",
              "      <td>0.0</td>\n",
              "      <td>0.0</td>\n",
              "      <td>0</td>\n",
              "    </tr>\n",
              "    <tr>\n",
              "      <th>4</th>\n",
              "      <td>0.172298</td>\n",
              "      <td>0.0</td>\n",
              "      <td>0.0</td>\n",
              "      <td>0.000000</td>\n",
              "      <td>0.000000</td>\n",
              "      <td>0.0</td>\n",
              "      <td>0.0</td>\n",
              "      <td>0.0</td>\n",
              "      <td>0.0</td>\n",
              "      <td>0.000000</td>\n",
              "      <td>...</td>\n",
              "      <td>0.476506</td>\n",
              "      <td>0.139199</td>\n",
              "      <td>0.0</td>\n",
              "      <td>0.000000</td>\n",
              "      <td>0.000000</td>\n",
              "      <td>0.0</td>\n",
              "      <td>0.0</td>\n",
              "      <td>0.0</td>\n",
              "      <td>0.0</td>\n",
              "      <td>1</td>\n",
              "    </tr>\n",
              "  </tbody>\n",
              "</table>\n",
              "<p>5 rows × 4609 columns</p>\n",
              "</div>\n",
              "      <button class=\"colab-df-convert\" onclick=\"convertToInteractive('df-f0faae95-d1c0-4967-89f1-3bd629f4900f')\"\n",
              "              title=\"Convert this dataframe to an interactive table.\"\n",
              "              style=\"display:none;\">\n",
              "        \n",
              "  <svg xmlns=\"http://www.w3.org/2000/svg\" height=\"24px\"viewBox=\"0 0 24 24\"\n",
              "       width=\"24px\">\n",
              "    <path d=\"M0 0h24v24H0V0z\" fill=\"none\"/>\n",
              "    <path d=\"M18.56 5.44l.94 2.06.94-2.06 2.06-.94-2.06-.94-.94-2.06-.94 2.06-2.06.94zm-11 1L8.5 8.5l.94-2.06 2.06-.94-2.06-.94L8.5 2.5l-.94 2.06-2.06.94zm10 10l.94 2.06.94-2.06 2.06-.94-2.06-.94-.94-2.06-.94 2.06-2.06.94z\"/><path d=\"M17.41 7.96l-1.37-1.37c-.4-.4-.92-.59-1.43-.59-.52 0-1.04.2-1.43.59L10.3 9.45l-7.72 7.72c-.78.78-.78 2.05 0 2.83L4 21.41c.39.39.9.59 1.41.59.51 0 1.02-.2 1.41-.59l7.78-7.78 2.81-2.81c.8-.78.8-2.07 0-2.86zM5.41 20L4 18.59l7.72-7.72 1.47 1.35L5.41 20z\"/>\n",
              "  </svg>\n",
              "      </button>\n",
              "      \n",
              "  <style>\n",
              "    .colab-df-container {\n",
              "      display:flex;\n",
              "      flex-wrap:wrap;\n",
              "      gap: 12px;\n",
              "    }\n",
              "\n",
              "    .colab-df-convert {\n",
              "      background-color: #E8F0FE;\n",
              "      border: none;\n",
              "      border-radius: 50%;\n",
              "      cursor: pointer;\n",
              "      display: none;\n",
              "      fill: #1967D2;\n",
              "      height: 32px;\n",
              "      padding: 0 0 0 0;\n",
              "      width: 32px;\n",
              "    }\n",
              "\n",
              "    .colab-df-convert:hover {\n",
              "      background-color: #E2EBFA;\n",
              "      box-shadow: 0px 1px 2px rgba(60, 64, 67, 0.3), 0px 1px 3px 1px rgba(60, 64, 67, 0.15);\n",
              "      fill: #174EA6;\n",
              "    }\n",
              "\n",
              "    [theme=dark] .colab-df-convert {\n",
              "      background-color: #3B4455;\n",
              "      fill: #D2E3FC;\n",
              "    }\n",
              "\n",
              "    [theme=dark] .colab-df-convert:hover {\n",
              "      background-color: #434B5C;\n",
              "      box-shadow: 0px 1px 3px 1px rgba(0, 0, 0, 0.15);\n",
              "      filter: drop-shadow(0px 1px 2px rgba(0, 0, 0, 0.3));\n",
              "      fill: #FFFFFF;\n",
              "    }\n",
              "  </style>\n",
              "\n",
              "      <script>\n",
              "        const buttonEl =\n",
              "          document.querySelector('#df-f0faae95-d1c0-4967-89f1-3bd629f4900f button.colab-df-convert');\n",
              "        buttonEl.style.display =\n",
              "          google.colab.kernel.accessAllowed ? 'block' : 'none';\n",
              "\n",
              "        async function convertToInteractive(key) {\n",
              "          const element = document.querySelector('#df-f0faae95-d1c0-4967-89f1-3bd629f4900f');\n",
              "          const dataTable =\n",
              "            await google.colab.kernel.invokeFunction('convertToInteractive',\n",
              "                                                     [key], {});\n",
              "          if (!dataTable) return;\n",
              "\n",
              "          const docLinkHtml = 'Like what you see? Visit the ' +\n",
              "            '<a target=\"_blank\" href=https://colab.research.google.com/notebooks/data_table.ipynb>data table notebook</a>'\n",
              "            + ' to learn more about interactive tables.';\n",
              "          element.innerHTML = '';\n",
              "          dataTable['output_type'] = 'display_data';\n",
              "          await google.colab.output.renderOutput(dataTable, element);\n",
              "          const docLink = document.createElement('div');\n",
              "          docLink.innerHTML = docLinkHtml;\n",
              "          element.appendChild(docLink);\n",
              "        }\n",
              "      </script>\n",
              "    </div>\n",
              "  </div>\n",
              "  "
            ]
          },
          "metadata": {},
          "execution_count": 7
        }
      ]
    },
    {
      "cell_type": "code",
      "source": [
        "df_train.shape"
      ],
      "metadata": {
        "colab": {
          "base_uri": "https://localhost:8080/"
        },
        "id": "u3_kxH1Z95ze",
        "outputId": "5122d031-e0be-4f26-8ff2-6c120ddf3910"
      },
      "execution_count": 8,
      "outputs": [
        {
          "output_type": "execute_result",
          "data": {
            "text/plain": [
              "(11649, 4609)"
            ]
          },
          "metadata": {},
          "execution_count": 8
        }
      ]
    },
    {
      "cell_type": "code",
      "source": [
        "df_test.head()"
      ],
      "metadata": {
        "colab": {
          "base_uri": "https://localhost:8080/",
          "height": 235
        },
        "id": "ii39RwU58v93",
        "outputId": "d71bd4f4-aaf8-4b86-b43d-86cf1cbc7703"
      },
      "execution_count": 9,
      "outputs": [
        {
          "output_type": "execute_result",
          "data": {
            "text/plain": [
              "          0    1    2         3         4    5    6         7    8    9  ...  \\\n",
              "0  0.117362  0.0  0.0  0.031917  0.086874  0.0  0.0  0.000000  0.0  0.0  ...   \n",
              "1  0.341701  0.0  0.0  0.064578  0.000000  0.0  0.0  0.000000  0.0  0.0  ...   \n",
              "2  0.257049  0.0  0.0  0.000000  0.000000  0.0  0.0  0.000000  0.0  0.0  ...   \n",
              "3  0.612324  0.0  0.0  0.000000  0.000000  0.0  0.0  0.000000  0.0  0.0  ...   \n",
              "4  0.460807  0.0  0.0  0.183993  0.000000  0.0  0.0  0.145652  0.0  0.0  ...   \n",
              "\n",
              "       4599      4600  4601      4602      4603  4604  4605  4606  4607  label  \n",
              "0  0.000000  0.112116   0.0  0.170777  0.000000   0.0   0.0   0.0   0.0      1  \n",
              "1  0.191021  0.134804   0.0  0.502438  0.109345   0.0   0.0   0.0   0.0      0  \n",
              "2  0.000000  0.102626   0.0  0.000000  0.000000   0.0   0.0   0.0   0.0      0  \n",
              "3  0.135500  0.000000   0.0  0.194919  0.061947   0.0   0.0   0.0   0.0      0  \n",
              "4  0.426796  0.002291   0.0  0.625358  0.019704   0.0   0.0   0.0   0.0      1  \n",
              "\n",
              "[5 rows x 4609 columns]"
            ],
            "text/html": [
              "\n",
              "  <div id=\"df-135348ae-bb8f-4ac4-afb2-aa32125c736c\">\n",
              "    <div class=\"colab-df-container\">\n",
              "      <div>\n",
              "<style scoped>\n",
              "    .dataframe tbody tr th:only-of-type {\n",
              "        vertical-align: middle;\n",
              "    }\n",
              "\n",
              "    .dataframe tbody tr th {\n",
              "        vertical-align: top;\n",
              "    }\n",
              "\n",
              "    .dataframe thead th {\n",
              "        text-align: right;\n",
              "    }\n",
              "</style>\n",
              "<table border=\"1\" class=\"dataframe\">\n",
              "  <thead>\n",
              "    <tr style=\"text-align: right;\">\n",
              "      <th></th>\n",
              "      <th>0</th>\n",
              "      <th>1</th>\n",
              "      <th>2</th>\n",
              "      <th>3</th>\n",
              "      <th>4</th>\n",
              "      <th>5</th>\n",
              "      <th>6</th>\n",
              "      <th>7</th>\n",
              "      <th>8</th>\n",
              "      <th>9</th>\n",
              "      <th>...</th>\n",
              "      <th>4599</th>\n",
              "      <th>4600</th>\n",
              "      <th>4601</th>\n",
              "      <th>4602</th>\n",
              "      <th>4603</th>\n",
              "      <th>4604</th>\n",
              "      <th>4605</th>\n",
              "      <th>4606</th>\n",
              "      <th>4607</th>\n",
              "      <th>label</th>\n",
              "    </tr>\n",
              "  </thead>\n",
              "  <tbody>\n",
              "    <tr>\n",
              "      <th>0</th>\n",
              "      <td>0.117362</td>\n",
              "      <td>0.0</td>\n",
              "      <td>0.0</td>\n",
              "      <td>0.031917</td>\n",
              "      <td>0.086874</td>\n",
              "      <td>0.0</td>\n",
              "      <td>0.0</td>\n",
              "      <td>0.000000</td>\n",
              "      <td>0.0</td>\n",
              "      <td>0.0</td>\n",
              "      <td>...</td>\n",
              "      <td>0.000000</td>\n",
              "      <td>0.112116</td>\n",
              "      <td>0.0</td>\n",
              "      <td>0.170777</td>\n",
              "      <td>0.000000</td>\n",
              "      <td>0.0</td>\n",
              "      <td>0.0</td>\n",
              "      <td>0.0</td>\n",
              "      <td>0.0</td>\n",
              "      <td>1</td>\n",
              "    </tr>\n",
              "    <tr>\n",
              "      <th>1</th>\n",
              "      <td>0.341701</td>\n",
              "      <td>0.0</td>\n",
              "      <td>0.0</td>\n",
              "      <td>0.064578</td>\n",
              "      <td>0.000000</td>\n",
              "      <td>0.0</td>\n",
              "      <td>0.0</td>\n",
              "      <td>0.000000</td>\n",
              "      <td>0.0</td>\n",
              "      <td>0.0</td>\n",
              "      <td>...</td>\n",
              "      <td>0.191021</td>\n",
              "      <td>0.134804</td>\n",
              "      <td>0.0</td>\n",
              "      <td>0.502438</td>\n",
              "      <td>0.109345</td>\n",
              "      <td>0.0</td>\n",
              "      <td>0.0</td>\n",
              "      <td>0.0</td>\n",
              "      <td>0.0</td>\n",
              "      <td>0</td>\n",
              "    </tr>\n",
              "    <tr>\n",
              "      <th>2</th>\n",
              "      <td>0.257049</td>\n",
              "      <td>0.0</td>\n",
              "      <td>0.0</td>\n",
              "      <td>0.000000</td>\n",
              "      <td>0.000000</td>\n",
              "      <td>0.0</td>\n",
              "      <td>0.0</td>\n",
              "      <td>0.000000</td>\n",
              "      <td>0.0</td>\n",
              "      <td>0.0</td>\n",
              "      <td>...</td>\n",
              "      <td>0.000000</td>\n",
              "      <td>0.102626</td>\n",
              "      <td>0.0</td>\n",
              "      <td>0.000000</td>\n",
              "      <td>0.000000</td>\n",
              "      <td>0.0</td>\n",
              "      <td>0.0</td>\n",
              "      <td>0.0</td>\n",
              "      <td>0.0</td>\n",
              "      <td>0</td>\n",
              "    </tr>\n",
              "    <tr>\n",
              "      <th>3</th>\n",
              "      <td>0.612324</td>\n",
              "      <td>0.0</td>\n",
              "      <td>0.0</td>\n",
              "      <td>0.000000</td>\n",
              "      <td>0.000000</td>\n",
              "      <td>0.0</td>\n",
              "      <td>0.0</td>\n",
              "      <td>0.000000</td>\n",
              "      <td>0.0</td>\n",
              "      <td>0.0</td>\n",
              "      <td>...</td>\n",
              "      <td>0.135500</td>\n",
              "      <td>0.000000</td>\n",
              "      <td>0.0</td>\n",
              "      <td>0.194919</td>\n",
              "      <td>0.061947</td>\n",
              "      <td>0.0</td>\n",
              "      <td>0.0</td>\n",
              "      <td>0.0</td>\n",
              "      <td>0.0</td>\n",
              "      <td>0</td>\n",
              "    </tr>\n",
              "    <tr>\n",
              "      <th>4</th>\n",
              "      <td>0.460807</td>\n",
              "      <td>0.0</td>\n",
              "      <td>0.0</td>\n",
              "      <td>0.183993</td>\n",
              "      <td>0.000000</td>\n",
              "      <td>0.0</td>\n",
              "      <td>0.0</td>\n",
              "      <td>0.145652</td>\n",
              "      <td>0.0</td>\n",
              "      <td>0.0</td>\n",
              "      <td>...</td>\n",
              "      <td>0.426796</td>\n",
              "      <td>0.002291</td>\n",
              "      <td>0.0</td>\n",
              "      <td>0.625358</td>\n",
              "      <td>0.019704</td>\n",
              "      <td>0.0</td>\n",
              "      <td>0.0</td>\n",
              "      <td>0.0</td>\n",
              "      <td>0.0</td>\n",
              "      <td>1</td>\n",
              "    </tr>\n",
              "  </tbody>\n",
              "</table>\n",
              "<p>5 rows × 4609 columns</p>\n",
              "</div>\n",
              "      <button class=\"colab-df-convert\" onclick=\"convertToInteractive('df-135348ae-bb8f-4ac4-afb2-aa32125c736c')\"\n",
              "              title=\"Convert this dataframe to an interactive table.\"\n",
              "              style=\"display:none;\">\n",
              "        \n",
              "  <svg xmlns=\"http://www.w3.org/2000/svg\" height=\"24px\"viewBox=\"0 0 24 24\"\n",
              "       width=\"24px\">\n",
              "    <path d=\"M0 0h24v24H0V0z\" fill=\"none\"/>\n",
              "    <path d=\"M18.56 5.44l.94 2.06.94-2.06 2.06-.94-2.06-.94-.94-2.06-.94 2.06-2.06.94zm-11 1L8.5 8.5l.94-2.06 2.06-.94-2.06-.94L8.5 2.5l-.94 2.06-2.06.94zm10 10l.94 2.06.94-2.06 2.06-.94-2.06-.94-.94-2.06-.94 2.06-2.06.94z\"/><path d=\"M17.41 7.96l-1.37-1.37c-.4-.4-.92-.59-1.43-.59-.52 0-1.04.2-1.43.59L10.3 9.45l-7.72 7.72c-.78.78-.78 2.05 0 2.83L4 21.41c.39.39.9.59 1.41.59.51 0 1.02-.2 1.41-.59l7.78-7.78 2.81-2.81c.8-.78.8-2.07 0-2.86zM5.41 20L4 18.59l7.72-7.72 1.47 1.35L5.41 20z\"/>\n",
              "  </svg>\n",
              "      </button>\n",
              "      \n",
              "  <style>\n",
              "    .colab-df-container {\n",
              "      display:flex;\n",
              "      flex-wrap:wrap;\n",
              "      gap: 12px;\n",
              "    }\n",
              "\n",
              "    .colab-df-convert {\n",
              "      background-color: #E8F0FE;\n",
              "      border: none;\n",
              "      border-radius: 50%;\n",
              "      cursor: pointer;\n",
              "      display: none;\n",
              "      fill: #1967D2;\n",
              "      height: 32px;\n",
              "      padding: 0 0 0 0;\n",
              "      width: 32px;\n",
              "    }\n",
              "\n",
              "    .colab-df-convert:hover {\n",
              "      background-color: #E2EBFA;\n",
              "      box-shadow: 0px 1px 2px rgba(60, 64, 67, 0.3), 0px 1px 3px 1px rgba(60, 64, 67, 0.15);\n",
              "      fill: #174EA6;\n",
              "    }\n",
              "\n",
              "    [theme=dark] .colab-df-convert {\n",
              "      background-color: #3B4455;\n",
              "      fill: #D2E3FC;\n",
              "    }\n",
              "\n",
              "    [theme=dark] .colab-df-convert:hover {\n",
              "      background-color: #434B5C;\n",
              "      box-shadow: 0px 1px 3px 1px rgba(0, 0, 0, 0.15);\n",
              "      filter: drop-shadow(0px 1px 2px rgba(0, 0, 0, 0.3));\n",
              "      fill: #FFFFFF;\n",
              "    }\n",
              "  </style>\n",
              "\n",
              "      <script>\n",
              "        const buttonEl =\n",
              "          document.querySelector('#df-135348ae-bb8f-4ac4-afb2-aa32125c736c button.colab-df-convert');\n",
              "        buttonEl.style.display =\n",
              "          google.colab.kernel.accessAllowed ? 'block' : 'none';\n",
              "\n",
              "        async function convertToInteractive(key) {\n",
              "          const element = document.querySelector('#df-135348ae-bb8f-4ac4-afb2-aa32125c736c');\n",
              "          const dataTable =\n",
              "            await google.colab.kernel.invokeFunction('convertToInteractive',\n",
              "                                                     [key], {});\n",
              "          if (!dataTable) return;\n",
              "\n",
              "          const docLinkHtml = 'Like what you see? Visit the ' +\n",
              "            '<a target=\"_blank\" href=https://colab.research.google.com/notebooks/data_table.ipynb>data table notebook</a>'\n",
              "            + ' to learn more about interactive tables.';\n",
              "          element.innerHTML = '';\n",
              "          dataTable['output_type'] = 'display_data';\n",
              "          await google.colab.output.renderOutput(dataTable, element);\n",
              "          const docLink = document.createElement('div');\n",
              "          docLink.innerHTML = docLinkHtml;\n",
              "          element.appendChild(docLink);\n",
              "        }\n",
              "      </script>\n",
              "    </div>\n",
              "  </div>\n",
              "  "
            ]
          },
          "metadata": {},
          "execution_count": 9
        }
      ]
    },
    {
      "cell_type": "code",
      "source": [
        "df_test.shape"
      ],
      "metadata": {
        "colab": {
          "base_uri": "https://localhost:8080/"
        },
        "id": "DF0bCFIG99Dm",
        "outputId": "492652b4-7654-4984-da3a-cd5f3669f450"
      },
      "execution_count": 10,
      "outputs": [
        {
          "output_type": "execute_result",
          "data": {
            "text/plain": [
              "(2913, 4609)"
            ]
          },
          "metadata": {},
          "execution_count": 10
        }
      ]
    },
    {
      "cell_type": "markdown",
      "source": [
        "# Create X and y Data to Feed ML Models"
      ],
      "metadata": {
        "id": "A-Vc4OIg83q2"
      }
    },
    {
      "cell_type": "code",
      "source": [
        "X_train = np.array(df_train.iloc[:,:-1].copy())\n",
        "y_train = np.array(df_train['label'].copy())"
      ],
      "metadata": {
        "id": "OxBLdYzn8z1f"
      },
      "execution_count": 11,
      "outputs": []
    },
    {
      "cell_type": "code",
      "source": [
        "(X_train.shape, y_train.shape)"
      ],
      "metadata": {
        "colab": {
          "base_uri": "https://localhost:8080/"
        },
        "id": "ltij2W7s9iXX",
        "outputId": "e042c613-c792-4e8c-d0e2-9d55359899d8"
      },
      "execution_count": 12,
      "outputs": [
        {
          "output_type": "execute_result",
          "data": {
            "text/plain": [
              "((11649, 4608), (11649,))"
            ]
          },
          "metadata": {},
          "execution_count": 12
        }
      ]
    },
    {
      "cell_type": "code",
      "source": [
        "X_test = np.array(df_test.iloc[:,:-1].copy())\n",
        "y_test = np.array(df_test['label'].copy())"
      ],
      "metadata": {
        "id": "SCjmRZBj9yWE"
      },
      "execution_count": 13,
      "outputs": []
    },
    {
      "cell_type": "code",
      "source": [
        "(X_test.shape, y_test.shape)"
      ],
      "metadata": {
        "colab": {
          "base_uri": "https://localhost:8080/"
        },
        "id": "_6JOoK-R-GwH",
        "outputId": "783e7db0-3028-449c-9362-0b0b91a2655b"
      },
      "execution_count": 14,
      "outputs": [
        {
          "output_type": "execute_result",
          "data": {
            "text/plain": [
              "((2913, 4608), (2913,))"
            ]
          },
          "metadata": {},
          "execution_count": 14
        }
      ]
    },
    {
      "cell_type": "markdown",
      "source": [
        "# Classification - Logistic Regression"
      ],
      "metadata": {
        "id": "scLnxpXO-Lh2"
      }
    },
    {
      "cell_type": "code",
      "source": [
        "clf_lreg = LogisticRegression(max_iter=1000000).fit(X_train, y_train)\n",
        "y_pred = clf_lreg.predict(X_test)"
      ],
      "metadata": {
        "id": "S2XFWi1--Jen"
      },
      "execution_count": 15,
      "outputs": []
    },
    {
      "cell_type": "code",
      "source": [
        "cm= confusion_matrix(y_test,y_pred)\n",
        "disp = ConfusionMatrixDisplay(confusion_matrix=cm)\n",
        "disp.plot()\n",
        "plt.show()"
      ],
      "metadata": {
        "colab": {
          "base_uri": "https://localhost:8080/",
          "height": 449
        },
        "id": "ptqVT5pL-drb",
        "outputId": "87837182-6f6b-424b-fd26-dda35a14ea8b"
      },
      "execution_count": 16,
      "outputs": [
        {
          "output_type": "display_data",
          "data": {
            "text/plain": [
              "<Figure size 640x480 with 2 Axes>"
            ],
            "image/png": "[encoded data removed]"
          },
          "metadata": {}
        }
      ]
    },
    {
      "cell_type": "code",
      "source": [
        "print(classification_report(y_train, clf_lreg.predict(X_train)))"
      ],
      "metadata": {
        "colab": {
          "base_uri": "https://localhost:8080/"
        },
        "id": "wbr6vWUlTISq",
        "outputId": "e774f7b9-db2d-4734-f330-59287d1da9dc"
      },
      "execution_count": 17,
      "outputs": [
        {
          "output_type": "stream",
          "name": "stdout",
          "text": [
            "              precision    recall  f1-score   support\n",
            "\n",
            "           0       0.89      0.95      0.92      5818\n",
            "           1       0.95      0.89      0.92      5831\n",
            "\n",
            "    accuracy                           0.92     11649\n",
            "   macro avg       0.92      0.92      0.92     11649\n",
            "weighted avg       0.92      0.92      0.92     11649\n",
            "\n"
          ]
        }
      ]
    },
    {
      "cell_type": "code",
      "source": [
        "print(classification_report(y_test, y_pred))"
      ],
      "metadata": {
        "colab": {
          "base_uri": "https://localhost:8080/"
        },
        "id": "tBMVHhZjTbV5",
        "outputId": "b6953e32-aba7-42c0-9326-3586979fcee5"
      },
      "execution_count": 18,
      "outputs": [
        {
          "output_type": "stream",
          "name": "stdout",
          "text": [
            "              precision    recall  f1-score   support\n",
            "\n",
            "           0       0.85      0.90      0.88      1454\n",
            "           1       0.90      0.84      0.87      1459\n",
            "\n",
            "    accuracy                           0.87      2913\n",
            "   macro avg       0.87      0.87      0.87      2913\n",
            "weighted avg       0.87      0.87      0.87      2913\n",
            "\n"
          ]
        }
      ]
    },
    {
      "cell_type": "code",
      "source": [],
      "metadata": {
        "id": "SAyxe-W4TxSk"
      },
      "execution_count": 18,
      "outputs": []
    },
    {
      "cell_type": "code",
      "source": [
        "fpr_rf, tpr_rf, _ = roc_curve(y_train, clf_lreg.predict(X_train))\n",
        "\n",
        "plt.figure(1)\n",
        "plt.plot([0, 1], [0, 1], 'k--')\n",
        "plt.plot(fpr_rf, tpr_rf, label='LogRegress')\n",
        "plt.xlabel('False positive rate')\n",
        "plt.ylabel('True positive rate')\n",
        "plt.title('ROC curve - Training Data - Batch_2')\n",
        "plt.legend(loc='best')\n",
        "plt.show()"
      ],
      "metadata": {
        "colab": {
          "base_uri": "https://localhost:8080/",
          "height": 472
        },
        "id": "RDPindpwqeMv",
        "outputId": "99e3dc99-fc1c-415c-af60-5b997e378821"
      },
      "execution_count": 19,
      "outputs": [
        {
          "output_type": "display_data",
          "data": {
            "text/plain": [
              "<Figure size 640x480 with 1 Axes>"
            ],
            "image/png": "[encoded data removed]"
          },
          "metadata": {}
        }
      ]
    },
    {
      "cell_type": "code",
      "source": [
        "fpr_rf, tpr_rf, _ = roc_curve(y_test, clf_lreg.predict(X_test))\n",
        "\n",
        "plt.figure(1)\n",
        "plt.plot([0, 1], [0, 1], 'k--')\n",
        "plt.plot(fpr_rf, tpr_rf, label='LogRegress')\n",
        "plt.xlabel('False positive rate')\n",
        "plt.ylabel('True positive rate')\n",
        "plt.title('ROC curve - Test Data - Batch_2')\n",
        "plt.legend(loc='best')\n",
        "plt.show()"
      ],
      "metadata": {
        "colab": {
          "base_uri": "https://localhost:8080/",
          "height": 472
        },
        "id": "X7DMBYewUtWI",
        "outputId": "c3cd6c9a-2c0e-47c1-ea7d-77984d211d94"
      },
      "execution_count": 20,
      "outputs": [
        {
          "output_type": "display_data",
          "data": {
            "text/plain": [
              "<Figure size 640x480 with 1 Axes>"
            ],
            "image/png": "[encoded data removed]"
          },
          "metadata": {}
        }
      ]
    },
    {
      "cell_type": "markdown",
      "source": [
        "# Classification - Random Forest"
      ],
      "metadata": {
        "id": "XBFpRXgUVOuY"
      }
    },
    {
      "cell_type": "code",
      "source": [
        "clf_RF = RandomForestClassifier(n_estimators = 50, random_state = 42)"
      ],
      "metadata": {
        "id": "eSB4q5QOU-WB"
      },
      "execution_count": 21,
      "outputs": []
    },
    {
      "cell_type": "code",
      "source": [
        "clf_RF.fit(X_train, y_train)"
      ],
      "metadata": {
        "colab": {
          "base_uri": "https://localhost:8080/",
          "height": 74
        },
        "id": "tO6pOAtxVW4T",
        "outputId": "96c8e1ea-74c3-4577-a0b1-bcadcee69623"
      },
      "execution_count": 22,
      "outputs": [
        {
          "output_type": "execute_result",
          "data": {
            "text/plain": [
              "RandomForestClassifier(n_estimators=50, random_state=42)"
            ],
            "text/html": [
              "<style>#sk-container-id-1 {color: black;background-color: white;}#sk-container-id-1 pre{padding: 0;}#sk-container-id-1 div.sk-toggleable {background-color: white;}#sk-container-id-1 label.sk-toggleable__label {cursor: pointer;display: block;width: 100%;margin-bottom: 0;padding: 0.3em;box-sizing: border-box;text-align: center;}#sk-container-id-1 label.sk-toggleable__label-arrow:before {content: \"▸\";float: left;margin-right: 0.25em;color: #696969;}#sk-container-id-1 label.sk-toggleable__label-arrow:hover:before {color: black;}#sk-container-id-1 div.sk-estimator:hover label.sk-toggleable__label-arrow:before {color: black;}#sk-container-id-1 div.sk-toggleable__content {max-height: 0;max-width: 0;overflow: hidden;text-align: left;background-color: #f0f8ff;}#sk-container-id-1 div.sk-toggleable__content pre {margin: 0.2em;color: black;border-radius: 0.25em;background-color: #f0f8ff;}#sk-container-id-1 input.sk-toggleable__control:checked~div.sk-toggleable__content {max-height: 200px;max-width: 100%;overflow: auto;}#sk-container-id-1 input.sk-toggleable__control:checked~label.sk-toggleable__label-arrow:before {content: \"▾\";}#sk-container-id-1 div.sk-estimator input.sk-toggleable__control:checked~label.sk-toggleable__label {background-color: #d4ebff;}#sk-container-id-1 div.sk-label input.sk-toggleable__control:checked~label.sk-toggleable__label {background-color: #d4ebff;}#sk-container-id-1 input.sk-hidden--visually {border: 0;clip: rect(1px 1px 1px 1px);clip: rect(1px, 1px, 1px, 1px);height: 1px;margin: -1px;overflow: hidden;padding: 0;position: absolute;width: 1px;}#sk-container-id-1 div.sk-estimator {font-family: monospace;background-color: #f0f8ff;border: 1px dotted black;border-radius: 0.25em;box-sizing: border-box;margin-bottom: 0.5em;}#sk-container-id-1 div.sk-estimator:hover {background-color: #d4ebff;}#sk-container-id-1 div.sk-parallel-item::after {content: \"\";width: 100%;border-bottom: 1px solid gray;flex-grow: 1;}#sk-container-id-1 div.sk-label:hover label.sk-toggleable__label {background-color: #d4ebff;}#sk-container-id-1 div.sk-serial::before {content: \"\";position: absolute;border-left: 1px solid gray;box-sizing: border-box;top: 0;bottom: 0;left: 50%;z-index: 0;}#sk-container-id-1 div.sk-serial {display: flex;flex-direction: column;align-items: center;background-color: white;padding-right: 0.2em;padding-left: 0.2em;position: relative;}#sk-container-id-1 div.sk-item {position: relative;z-index: 1;}#sk-container-id-1 div.sk-parallel {display: flex;align-items: stretch;justify-content: center;background-color: white;position: relative;}#sk-container-id-1 div.sk-item::before, #sk-container-id-1 div.sk-parallel-item::before {content: \"\";position: absolute;border-left: 1px solid gray;box-sizing: border-box;top: 0;bottom: 0;left: 50%;z-index: -1;}#sk-container-id-1 div.sk-parallel-item {display: flex;flex-direction: column;z-index: 1;position: relative;background-color: white;}#sk-container-id-1 div.sk-parallel-item:first-child::after {align-self: flex-end;width: 50%;}#sk-container-id-1 div.sk-parallel-item:last-child::after {align-self: flex-start;width: 50%;}#sk-container-id-1 div.sk-parallel-item:only-child::after {width: 0;}#sk-container-id-1 div.sk-dashed-wrapped {border: 1px dashed gray;margin: 0 0.4em 0.5em 0.4em;box-sizing: border-box;padding-bottom: 0.4em;background-color: white;}#sk-container-id-1 div.sk-label label {font-family: monospace;font-weight: bold;display: inline-block;line-height: 1.2em;}#sk-container-id-1 div.sk-label-container {text-align: center;}#sk-container-id-1 div.sk-container {/* jupyter's `normalize.less` sets `[hidden] { display: none; }` but bootstrap.min.css set `[hidden] { display: none !important; }` so we also need the `!important` here to be able to override the default hidden behavior on the sphinx rendered scikit-learn.org. See: https://github.com/scikit-learn/scikit-learn/issues/21755 */display: inline-block !important;position: relative;}#sk-container-id-1 div.sk-text-repr-fallback {display: none;}</style><div id=\"sk-container-id-1\" class=\"sk-top-container\"><div class=\"sk-text-repr-fallback\"><pre>RandomForestClassifier(n_estimators=50, random_state=42)</pre><b>In a Jupyter environment, please rerun this cell to show the HTML representation or trust the notebook. <br />On GitHub, the HTML representation is unable to render, please try loading this page with nbviewer.org.</b></div><div class=\"sk-container\" hidden><div class=\"sk-item\"><div class=\"sk-estimator sk-toggleable\"><input class=\"sk-toggleable__control sk-hidden--visually\" id=\"sk-estimator-id-1\" type=\"checkbox\" checked><label for=\"sk-estimator-id-1\" class=\"sk-toggleable__label sk-toggleable__label-arrow\">RandomForestClassifier</label><div class=\"sk-toggleable__content\"><pre>RandomForestClassifier(n_estimators=50, random_state=42)</pre></div></div></div></div></div>"
            ]
          },
          "metadata": {},
          "execution_count": 22
        }
      ]
    },
    {
      "cell_type": "code",
      "source": [
        "y_pred = clf_RF.predict(X_test)\n",
        "cm= confusion_matrix(y_test,y_pred)\n",
        "disp = ConfusionMatrixDisplay(confusion_matrix=cm)\n",
        "disp.plot()\n",
        "plt.show()"
      ],
      "metadata": {
        "colab": {
          "base_uri": "https://localhost:8080/",
          "height": 449
        },
        "id": "YnkZyglLVbFQ",
        "outputId": "8bc9ddbe-4d47-4db0-fc15-536b01996339"
      },
      "execution_count": 23,
      "outputs": [
        {
          "output_type": "display_data",
          "data": {
            "text/plain": [
              "<Figure size 640x480 with 2 Axes>"
            ],
            "image/png": "[encoded data removed]"
          },
          "metadata": {}
        }
      ]
    },
    {
      "cell_type": "code",
      "source": [
        "print(classification_report(y_train, clf_RF.predict(X_train)))"
      ],
      "metadata": {
        "colab": {
          "base_uri": "https://localhost:8080/"
        },
        "id": "xMKyGuAcWgXI",
        "outputId": "cce9fcea-b1c5-4fde-ccf5-353fb338e9b2"
      },
      "execution_count": 24,
      "outputs": [
        {
          "output_type": "stream",
          "name": "stdout",
          "text": [
            "              precision    recall  f1-score   support\n",
            "\n",
            "           0       1.00      1.00      1.00      5818\n",
            "           1       1.00      1.00      1.00      5831\n",
            "\n",
            "    accuracy                           1.00     11649\n",
            "   macro avg       1.00      1.00      1.00     11649\n",
            "weighted avg       1.00      1.00      1.00     11649\n",
            "\n"
          ]
        }
      ]
    },
    {
      "cell_type": "code",
      "source": [
        "print(classification_report(y_test, y_pred))"
      ],
      "metadata": {
        "colab": {
          "base_uri": "https://localhost:8080/"
        },
        "id": "cdjJJBXRV5Iw",
        "outputId": "7cf13e70-48ea-41e6-81b9-ace5f233c5f2"
      },
      "execution_count": 25,
      "outputs": [
        {
          "output_type": "stream",
          "name": "stdout",
          "text": [
            "              precision    recall  f1-score   support\n",
            "\n",
            "           0       0.86      0.92      0.89      1454\n",
            "           1       0.91      0.85      0.88      1459\n",
            "\n",
            "    accuracy                           0.88      2913\n",
            "   macro avg       0.89      0.88      0.88      2913\n",
            "weighted avg       0.89      0.88      0.88      2913\n",
            "\n"
          ]
        }
      ]
    },
    {
      "cell_type": "code",
      "source": [
        "fpr_rf, tpr_rf, _ = roc_curve(y_train, clf_RF.predict(X_train))\n",
        "\n",
        "plt.figure(1)\n",
        "plt.plot([0, 1], [0, 1], 'k--')\n",
        "plt.plot(fpr_rf, tpr_rf, label='Random Forest')\n",
        "plt.xlabel('False positive rate')\n",
        "plt.ylabel('True positive rate')\n",
        "plt.title('ROC curve - Training Data - Batch_2')\n",
        "plt.legend(loc='best')\n",
        "plt.show()"
      ],
      "metadata": {
        "colab": {
          "base_uri": "https://localhost:8080/",
          "height": 472
        },
        "id": "GkVTZWoZWqOH",
        "outputId": "19a270aa-8014-4070-e14b-9d46436ed113"
      },
      "execution_count": 26,
      "outputs": [
        {
          "output_type": "display_data",
          "data": {
            "text/plain": [
              "<Figure size 640x480 with 1 Axes>"
            ],
            "image/png": "[encoded data removed]"
          },
          "metadata": {}
        }
      ]
    },
    {
      "cell_type": "code",
      "source": [
        "fpr_rf, tpr_rf, _ = roc_curve(y_test, clf_RF.predict(X_test))\n",
        "\n",
        "plt.figure(1)\n",
        "plt.plot([0, 1], [0, 1], 'k--')\n",
        "plt.plot(fpr_rf, tpr_rf, label='Random Forest')\n",
        "plt.xlabel('False positive rate')\n",
        "plt.ylabel('True positive rate')\n",
        "plt.title('ROC curve - Test Data - Batch_2')\n",
        "plt.legend(loc='best')\n",
        "plt.show()"
      ],
      "metadata": {
        "colab": {
          "base_uri": "https://localhost:8080/",
          "height": 472
        },
        "id": "W1RyyaXWVk9c",
        "outputId": "c56f02d5-4f0c-405f-fd65-280c8c45e798"
      },
      "execution_count": 27,
      "outputs": [
        {
          "output_type": "display_data",
          "data": {
            "text/plain": [
              "<Figure size 640x480 with 1 Axes>"
            ],
            "image/png": "[encoded data removed]"
          },
          "metadata": {}
        }
      ]
    },
    {
      "cell_type": "markdown",
      "source": [
        "# Classification - XGBoost"
      ],
      "metadata": {
        "id": "dXvEhFlcXrda"
      }
    },
    {
      "cell_type": "code",
      "source": [
        "clf_xgb = XGBClassifier(use_label_encoder=False,eval_metric='logloss',max_depth=50,n_estimators=50,random_state=2023)\n",
        "clf_xgb.fit(X_train, y_train)"
      ],
      "metadata": {
        "colab": {
          "base_uri": "https://localhost:8080/",
          "height": 282
        },
        "id": "1dCHRoWzV1zF",
        "outputId": "9ff68d96-b7d8-4b61-a9f4-d405d8641d8a"
      },
      "execution_count": 28,
      "outputs": [
        {
          "output_type": "stream",
          "name": "stderr",
          "text": [
            "/usr/local/lib/python3.9/dist-packages/xgboost/sklearn.py:1395: UserWarning: `use_label_encoder` is deprecated in 1.7.0.\n",
            "  warnings.warn(\"`use_label_encoder` is deprecated in 1.7.0.\")\n"
          ]
        },
        {
          "output_type": "execute_result",
          "data": {
            "text/plain": [
              "XGBClassifier(base_score=None, booster=None, callbacks=None,\n",
              "              colsample_bylevel=None, colsample_bynode=None,\n",
              "              colsample_bytree=None, early_stopping_rounds=None,\n",
              "              enable_categorical=False, eval_metric='logloss',\n",
              "              feature_types=None, gamma=None, gpu_id=None, grow_policy=None,\n",
              "              importance_type=None, interaction_constraints=None,\n",
              "              learning_rate=None, max_bin=None, max_cat_threshold=None,\n",
              "              max_cat_to_onehot=None, max_delta_step=None, max_depth=50,\n",
              "              max_leaves=None, min_child_weight=None, missing=nan,\n",
              "              monotone_constraints=None, n_estimators=50, n_jobs=None,\n",
              "              num_parallel_tree=None, predictor=None, random_state=2023, ...)"
            ],
            "text/html": [
              "<style>#sk-container-id-2 {color: black;background-color: white;}#sk-container-id-2 pre{padding: 0;}#sk-container-id-2 div.sk-toggleable {background-color: white;}#sk-container-id-2 label.sk-toggleable__label {cursor: pointer;display: block;width: 100%;margin-bottom: 0;padding: 0.3em;box-sizing: border-box;text-align: center;}#sk-container-id-2 label.sk-toggleable__label-arrow:before {content: \"▸\";float: left;margin-right: 0.25em;color: #696969;}#sk-container-id-2 label.sk-toggleable__label-arrow:hover:before {color: black;}#sk-container-id-2 div.sk-estimator:hover label.sk-toggleable__label-arrow:before {color: black;}#sk-container-id-2 div.sk-toggleable__content {max-height: 0;max-width: 0;overflow: hidden;text-align: left;background-color: #f0f8ff;}#sk-container-id-2 div.sk-toggleable__content pre {margin: 0.2em;color: black;border-radius: 0.25em;background-color: #f0f8ff;}#sk-container-id-2 input.sk-toggleable__control:checked~div.sk-toggleable__content {max-height: 200px;max-width: 100%;overflow: auto;}#sk-container-id-2 input.sk-toggleable__control:checked~label.sk-toggleable__label-arrow:before {content: \"▾\";}#sk-container-id-2 div.sk-estimator input.sk-toggleable__control:checked~label.sk-toggleable__label {background-color: #d4ebff;}#sk-container-id-2 div.sk-label input.sk-toggleable__control:checked~label.sk-toggleable__label {background-color: #d4ebff;}#sk-container-id-2 input.sk-hidden--visually {border: 0;clip: rect(1px 1px 1px 1px);clip: rect(1px, 1px, 1px, 1px);height: 1px;margin: -1px;overflow: hidden;padding: 0;position: absolute;width: 1px;}#sk-container-id-2 div.sk-estimator {font-family: monospace;background-color: #f0f8ff;border: 1px dotted black;border-radius: 0.25em;box-sizing: border-box;margin-bottom: 0.5em;}#sk-container-id-2 div.sk-estimator:hover {background-color: #d4ebff;}#sk-container-id-2 div.sk-parallel-item::after {content: \"\";width: 100%;border-bottom: 1px solid gray;flex-grow: 1;}#sk-container-id-2 div.sk-label:hover label.sk-toggleable__label {background-color: #d4ebff;}#sk-container-id-2 div.sk-serial::before {content: \"\";position: absolute;border-left: 1px solid gray;box-sizing: border-box;top: 0;bottom: 0;left: 50%;z-index: 0;}#sk-container-id-2 div.sk-serial {display: flex;flex-direction: column;align-items: center;background-color: white;padding-right: 0.2em;padding-left: 0.2em;position: relative;}#sk-container-id-2 div.sk-item {position: relative;z-index: 1;}#sk-container-id-2 div.sk-parallel {display: flex;align-items: stretch;justify-content: center;background-color: white;position: relative;}#sk-container-id-2 div.sk-item::before, #sk-container-id-2 div.sk-parallel-item::before {content: \"\";position: absolute;border-left: 1px solid gray;box-sizing: border-box;top: 0;bottom: 0;left: 50%;z-index: -1;}#sk-container-id-2 div.sk-parallel-item {display: flex;flex-direction: column;z-index: 1;position: relative;background-color: white;}#sk-container-id-2 div.sk-parallel-item:first-child::after {align-self: flex-end;width: 50%;}#sk-container-id-2 div.sk-parallel-item:last-child::after {align-self: flex-start;width: 50%;}#sk-container-id-2 div.sk-parallel-item:only-child::after {width: 0;}#sk-container-id-2 div.sk-dashed-wrapped {border: 1px dashed gray;margin: 0 0.4em 0.5em 0.4em;box-sizing: border-box;padding-bottom: 0.4em;background-color: white;}#sk-container-id-2 div.sk-label label {font-family: monospace;font-weight: bold;display: inline-block;line-height: 1.2em;}#sk-container-id-2 div.sk-label-container {text-align: center;}#sk-container-id-2 div.sk-container {/* jupyter's `normalize.less` sets `[hidden] { display: none; }` but bootstrap.min.css set `[hidden] { display: none !important; }` so we also need the `!important` here to be able to override the default hidden behavior on the sphinx rendered scikit-learn.org. See: https://github.com/scikit-learn/scikit-learn/issues/21755 */display: inline-block !important;position: relative;}#sk-container-id-2 div.sk-text-repr-fallback {display: none;}</style><div id=\"sk-container-id-2\" class=\"sk-top-container\"><div class=\"sk-text-repr-fallback\"><pre>XGBClassifier(base_score=None, booster=None, callbacks=None,\n",
              "              colsample_bylevel=None, colsample_bynode=None,\n",
              "              colsample_bytree=None, early_stopping_rounds=None,\n",
              "              enable_categorical=False, eval_metric=&#x27;logloss&#x27;,\n",
              "              feature_types=None, gamma=None, gpu_id=None, grow_policy=None,\n",
              "              importance_type=None, interaction_constraints=None,\n",
              "              learning_rate=None, max_bin=None, max_cat_threshold=None,\n",
              "              max_cat_to_onehot=None, max_delta_step=None, max_depth=50,\n",
              "              max_leaves=None, min_child_weight=None, missing=nan,\n",
              "              monotone_constraints=None, n_estimators=50, n_jobs=None,\n",
              "              num_parallel_tree=None, predictor=None, random_state=2023, ...)</pre><b>In a Jupyter environment, please rerun this cell to show the HTML representation or trust the notebook. <br />On GitHub, the HTML representation is unable to render, please try loading this page with nbviewer.org.</b></div><div class=\"sk-container\" hidden><div class=\"sk-item\"><div class=\"sk-estimator sk-toggleable\"><input class=\"sk-toggleable__control sk-hidden--visually\" id=\"sk-estimator-id-2\" type=\"checkbox\" checked><label for=\"sk-estimator-id-2\" class=\"sk-toggleable__label sk-toggleable__label-arrow\">XGBClassifier</label><div class=\"sk-toggleable__content\"><pre>XGBClassifier(base_score=None, booster=None, callbacks=None,\n",
              "              colsample_bylevel=None, colsample_bynode=None,\n",
              "              colsample_bytree=None, early_stopping_rounds=None,\n",
              "              enable_categorical=False, eval_metric=&#x27;logloss&#x27;,\n",
              "              feature_types=None, gamma=None, gpu_id=None, grow_policy=None,\n",
              "              importance_type=None, interaction_constraints=None,\n",
              "              learning_rate=None, max_bin=None, max_cat_threshold=None,\n",
              "              max_cat_to_onehot=None, max_delta_step=None, max_depth=50,\n",
              "              max_leaves=None, min_child_weight=None, missing=nan,\n",
              "              monotone_constraints=None, n_estimators=50, n_jobs=None,\n",
              "              num_parallel_tree=None, predictor=None, random_state=2023, ...)</pre></div></div></div></div></div>"
            ]
          },
          "metadata": {},
          "execution_count": 28
        }
      ]
    },
    {
      "cell_type": "code",
      "source": [
        "y_pred = clf_xgb.predict(X_test)\n",
        "cm= confusion_matrix(y_test,y_pred)\n",
        "disp = ConfusionMatrixDisplay(confusion_matrix=cm)\n",
        "disp.plot()\n",
        "plt.show()"
      ],
      "metadata": {
        "colab": {
          "base_uri": "https://localhost:8080/",
          "height": 449
        },
        "id": "V1RkhAkkX7CG",
        "outputId": "5d5ff2fe-589f-400a-e4cf-89743b87ef5b"
      },
      "execution_count": 29,
      "outputs": [
        {
          "output_type": "display_data",
          "data": {
            "text/plain": [
              "<Figure size 640x480 with 2 Axes>"
            ],
            "image/png": "[encoded data removed]"
          },
          "metadata": {}
        }
      ]
    },
    {
      "cell_type": "code",
      "source": [
        "print(classification_report(y_train, clf_xgb.predict(X_train)))"
      ],
      "metadata": {
        "colab": {
          "base_uri": "https://localhost:8080/"
        },
        "id": "FtDr_HUpZ3vX",
        "outputId": "aad03049-d298-4414-8dda-824c7628a90d"
      },
      "execution_count": 30,
      "outputs": [
        {
          "output_type": "stream",
          "name": "stdout",
          "text": [
            "              precision    recall  f1-score   support\n",
            "\n",
            "           0       1.00      1.00      1.00      5818\n",
            "           1       1.00      1.00      1.00      5831\n",
            "\n",
            "    accuracy                           1.00     11649\n",
            "   macro avg       1.00      1.00      1.00     11649\n",
            "weighted avg       1.00      1.00      1.00     11649\n",
            "\n"
          ]
        }
      ]
    },
    {
      "cell_type": "code",
      "source": [
        "print(classification_report(y_test, y_pred))"
      ],
      "metadata": {
        "colab": {
          "base_uri": "https://localhost:8080/"
        },
        "id": "ZEalCqXoaEse",
        "outputId": "f12224e3-cb77-433a-bf91-69427de1932d"
      },
      "execution_count": 31,
      "outputs": [
        {
          "output_type": "stream",
          "name": "stdout",
          "text": [
            "              precision    recall  f1-score   support\n",
            "\n",
            "           0       0.87      0.92      0.89      1454\n",
            "           1       0.92      0.86      0.89      1459\n",
            "\n",
            "    accuracy                           0.89      2913\n",
            "   macro avg       0.89      0.89      0.89      2913\n",
            "weighted avg       0.89      0.89      0.89      2913\n",
            "\n"
          ]
        }
      ]
    },
    {
      "cell_type": "markdown",
      "source": [
        "# Hyperparameter Tuning - Optuna\n",
        "\n",
        "\n",
        "https://medium.com/optuna/using-optuna-to-optimize-xgboost-hyperparameters-63bfcdfd3407\n"
      ],
      "metadata": {
        "id": "2HilNW1mb1g3"
      }
    },
    {
      "cell_type": "markdown",
      "source": [
        "## Objective Function for Optuna - XGBoost"
      ],
      "metadata": {
        "id": "dtDypiTQcVRy"
      }
    },
    {
      "cell_type": "code",
      "source": [
        "import xgboost as xgb"
      ],
      "metadata": {
        "id": "USYVzug_1-Ja"
      },
      "execution_count": 32,
      "outputs": []
    },
    {
      "cell_type": "code",
      "source": [
        "def objective(trial):\n",
        "    dtrain = xgb.DMatrix(X_train, label=y_train)\n",
        "    dtest = xgb.DMatrix(X_test, label=y_test)\n",
        "\n",
        "    param = {\n",
        "        'n_estimators'      : trial.suggest_int('n_estimators', 50, 500),\n",
        "        'max_depth'         : trial.suggest_int('max_depth', 50, 500),\n",
        "        'learning_rate'     : trial.suggest_float('learning_rate', 0.001, 1),\n",
        "        'verbosity'         : 1,\n",
        "        'random_state'      : 42,\n",
        "        'extra_trees'       : True,\n",
        "        \"objective\"         : \"binary:logistic\",\n",
        "        \"eval_metric\"       : \"auc\",\n",
        "        \"booster\"           : trial.suggest_categorical(\"booster\", [\"gbtree\", \"gblinear\", \"dart\"]),\n",
        "        \"lambda\"            : trial.suggest_float(\"lambda\", 1e-8, 1.0),\n",
        "        \"alpha\"             : trial.suggest_float(\"alpha\", 1e-8, 1.0),\n",
        "    }\n",
        "\n",
        "    if param[\"booster\"] == \"gbtree\" or param[\"booster\"] == \"dart\":\n",
        "        param[\"eta\"] = trial.suggest_float(\"eta\", 1e-8, 1.0)\n",
        "        param[\"gamma\"] = trial.suggest_float(\"gamma\", 1e-8, 1.0)\n",
        "        param[\"grow_policy\"] = trial.suggest_categorical(\"grow_policy\", [\"depthwise\", \"lossguide\"])\n",
        "    if param[\"booster\"] == \"dart\":\n",
        "        param[\"sample_type\"] = trial.suggest_categorical(\"sample_type\", [\"uniform\", \"weighted\"])\n",
        "        param[\"normalize_type\"] = trial.suggest_categorical(\"normalize_type\", [\"tree\", \"forest\"])\n",
        "        param[\"rate_drop\"] = trial.suggest_float(\"rate_drop\", 1e-8, 1.0)\n",
        "        param[\"skip_drop\"] = trial.suggest_float(\"skip_drop\", 1e-8, 1.0)\n",
        "\n",
        "    # Add a callback for pruning.\n",
        "    pruning_callback = optuna.integration.XGBoostPruningCallback(trial, \"validation-auc\")\n",
        "    bst = xgb.train(param, dtrain, evals=[(dtest, \"validation\")], callbacks=[pruning_callback])\n",
        "    preds = bst.predict(dtest)\n",
        "    pred_labels = np.rint(preds)\n",
        "    accuracy = sklearn.metrics.accuracy_score(y_test, pred_labels)\n",
        "    return accuracy"
      ],
      "metadata": {
        "id": "riiJSa_LbyDw"
      },
      "execution_count": 33,
      "outputs": []
    },
    {
      "cell_type": "markdown",
      "source": [
        "## Run Optuna"
      ],
      "metadata": {
        "id": "kKU3YaVJ3y1K"
      }
    },
    {
      "cell_type": "code",
      "source": [
        "study = optuna.create_study(direction=\"maximize\")\n",
        "study.optimize(objective, n_trials=100, timeout=1000)"
      ],
      "metadata": {
        "colab": {
          "base_uri": "https://localhost:8080/"
        },
        "id": "2BRvgKfKaKaj",
        "outputId": "454ccd2f-bc84-49b5-9685-98c9edbe1522"
      },
      "execution_count": 34,
      "outputs": [
        {
          "output_type": "stream",
          "name": "stderr",
          "text": [
            "\u001b[32m[I 2023-04-04 23:10:29,246]\u001b[0m A new study created in memory with name: no-name-343576c2-128d-45d4-ab56-325387843035\u001b[0m\n"
          ]
        },
        {
          "output_type": "stream",
          "name": "stdout",
          "text": [
            "[23:10:29] WARNING: ../src/learner.cc:767: \n",
            "Parameters: { \"extra_trees\", \"max_depth\", \"n_estimators\" } are not used.\n",
            "\n",
            "[0]\tvalidation-auc:0.50000\n",
            "[1]\tvalidation-auc:0.50000\n",
            "[2]\tvalidation-auc:0.50000\n",
            "[3]\tvalidation-auc:0.50000\n",
            "[4]\tvalidation-auc:0.50000\n",
            "[5]\tvalidation-auc:0.50000\n",
            "[6]\tvalidation-auc:0.50000\n",
            "[7]\tvalidation-auc:0.50000\n",
            "[8]\tvalidation-auc:0.50000\n",
            "[9]\tvalidation-auc:0.50000\n"
          ]
        },
        {
          "output_type": "stream",
          "name": "stderr",
          "text": [
            "\u001b[32m[I 2023-04-04 23:10:30,642]\u001b[0m Trial 0 finished with value: 0.5008582217645039 and parameters: {'n_estimators': 418, 'max_depth': 412, 'learning_rate': 0.5451000749568891, 'booster': 'gblinear', 'lambda': 0.3299583887590743, 'alpha': 0.8886679356852479}. Best is trial 0 with value: 0.5008582217645039.\u001b[0m\n"
          ]
        },
        {
          "output_type": "stream",
          "name": "stdout",
          "text": [
            "[23:10:31] WARNING: ../src/learner.cc:767: \n",
            "Parameters: { \"extra_trees\", \"n_estimators\" } are not used.\n",
            "\n",
            "[0]\tvalidation-auc:0.89367\n",
            "[1]\tvalidation-auc:0.90450\n",
            "[2]\tvalidation-auc:0.91112\n",
            "[3]\tvalidation-auc:0.91940\n",
            "[4]\tvalidation-auc:0.92495\n",
            "[5]\tvalidation-auc:0.92762\n",
            "[6]\tvalidation-auc:0.92893\n",
            "[7]\tvalidation-auc:0.93032\n",
            "[8]\tvalidation-auc:0.93151\n",
            "[9]\tvalidation-auc:0.93178\n"
          ]
        },
        {
          "output_type": "stream",
          "name": "stderr",
          "text": [
            "\u001b[32m[I 2023-04-04 23:10:56,361]\u001b[0m Trial 1 finished with value: 0.870236869207003 and parameters: {'n_estimators': 96, 'max_depth': 185, 'learning_rate': 0.7258195000046334, 'booster': 'gbtree', 'lambda': 0.19320103337377592, 'alpha': 0.8304458848762206, 'eta': 0.3841002726757665, 'gamma': 0.9190822402866147, 'grow_policy': 'lossguide'}. Best is trial 1 with value: 0.870236869207003.\u001b[0m\n"
          ]
        },
        {
          "output_type": "stream",
          "name": "stdout",
          "text": [
            "[23:10:56] WARNING: ../src/learner.cc:767: \n",
            "Parameters: { \"extra_trees\", \"n_estimators\" } are not used.\n",
            "\n",
            "[0]\tvalidation-auc:0.89766\n",
            "[1]\tvalidation-auc:0.90987\n",
            "[2]\tvalidation-auc:0.92143\n",
            "[3]\tvalidation-auc:0.92662\n",
            "[4]\tvalidation-auc:0.93002\n",
            "[5]\tvalidation-auc:0.93397\n",
            "[6]\tvalidation-auc:0.93680\n",
            "[7]\tvalidation-auc:0.93866\n",
            "[8]\tvalidation-auc:0.93891\n",
            "[9]\tvalidation-auc:0.94005\n"
          ]
        },
        {
          "output_type": "stream",
          "name": "stderr",
          "text": [
            "\u001b[32m[I 2023-04-04 23:11:25,018]\u001b[0m Trial 2 finished with value: 0.8781325094404394 and parameters: {'n_estimators': 60, 'max_depth': 391, 'learning_rate': 0.3640650832516342, 'booster': 'gbtree', 'lambda': 0.9876860682141181, 'alpha': 0.0701117022258982, 'eta': 0.7242714842791977, 'gamma': 0.7497483169411316, 'grow_policy': 'depthwise'}. Best is trial 2 with value: 0.8781325094404394.\u001b[0m\n"
          ]
        },
        {
          "output_type": "stream",
          "name": "stdout",
          "text": [
            "[23:11:25] WARNING: ../src/learner.cc:767: \n",
            "Parameters: { \"extra_trees\", \"n_estimators\" } are not used.\n",
            "\n",
            "[0]\tvalidation-auc:0.88694\n",
            "[1]\tvalidation-auc:0.89984\n",
            "[2]\tvalidation-auc:0.91192\n",
            "[3]\tvalidation-auc:0.91984\n",
            "[4]\tvalidation-auc:0.92444\n",
            "[5]\tvalidation-auc:0.92786\n",
            "[6]\tvalidation-auc:0.93111\n",
            "[7]\tvalidation-auc:0.93300\n",
            "[8]\tvalidation-auc:0.93323\n",
            "[9]\tvalidation-auc:0.93425\n"
          ]
        },
        {
          "output_type": "stream",
          "name": "stderr",
          "text": [
            "\u001b[32m[I 2023-04-04 23:11:47,739]\u001b[0m Trial 3 finished with value: 0.8712667353244078 and parameters: {'n_estimators': 162, 'max_depth': 166, 'learning_rate': 0.6514874459254313, 'booster': 'gbtree', 'lambda': 0.9092474382761448, 'alpha': 0.32846913437396014, 'eta': 0.28719723342942816, 'gamma': 0.83053546767756, 'grow_policy': 'lossguide'}. Best is trial 2 with value: 0.8781325094404394.\u001b[0m\n"
          ]
        },
        {
          "output_type": "stream",
          "name": "stdout",
          "text": [
            "[23:11:48] WARNING: ../src/learner.cc:767: \n",
            "Parameters: { \"extra_trees\", \"max_depth\", \"n_estimators\" } are not used.\n",
            "\n",
            "[0]\tvalidation-auc:0.50000\n",
            "[1]\tvalidation-auc:0.50000\n",
            "[2]\tvalidation-auc:0.50000\n",
            "[3]\tvalidation-auc:0.50000\n",
            "[4]\tvalidation-auc:0.50000\n",
            "[5]\tvalidation-auc:0.50000\n",
            "[6]\tvalidation-auc:0.50000\n",
            "[7]\tvalidation-auc:0.50000\n",
            "[8]\tvalidation-auc:0.50000\n",
            "[9]\tvalidation-auc:0.50000\n"
          ]
        },
        {
          "output_type": "stream",
          "name": "stderr",
          "text": [
            "\u001b[32m[I 2023-04-04 23:11:49,041]\u001b[0m Trial 4 finished with value: 0.5008582217645039 and parameters: {'n_estimators': 337, 'max_depth': 165, 'learning_rate': 0.9293507113109591, 'booster': 'gblinear', 'lambda': 0.5837392617406738, 'alpha': 0.695608552516889}. Best is trial 2 with value: 0.8781325094404394.\u001b[0m\n"
          ]
        },
        {
          "output_type": "stream",
          "name": "stdout",
          "text": [
            "[23:11:49] WARNING: ../src/learner.cc:767: \n",
            "Parameters: { \"extra_trees\", \"n_estimators\" } are not used.\n",
            "\n",
            "[0]\tvalidation-auc:0.88763\n",
            "[1]\tvalidation-auc:0.88763\n"
          ]
        },
        {
          "output_type": "stream",
          "name": "stderr",
          "text": [
            "\u001b[32m[I 2023-04-04 23:11:58,534]\u001b[0m Trial 5 pruned. Trial was pruned at iteration 1.\u001b[0m\n"
          ]
        },
        {
          "output_type": "stream",
          "name": "stdout",
          "text": [
            "[23:11:59] WARNING: ../src/learner.cc:767: \n",
            "Parameters: { \"extra_trees\", \"n_estimators\" } are not used.\n",
            "\n",
            "[0]\tvalidation-auc:0.89248\n",
            "[1]\tvalidation-auc:0.90962\n",
            "[2]\tvalidation-auc:0.91813\n",
            "[3]\tvalidation-auc:0.92442\n",
            "[4]\tvalidation-auc:0.92831\n",
            "[5]\tvalidation-auc:0.93065\n",
            "[6]\tvalidation-auc:0.93365\n",
            "[7]\tvalidation-auc:0.93617\n",
            "[8]\tvalidation-auc:0.93823\n",
            "[9]\tvalidation-auc:0.93891\n"
          ]
        },
        {
          "output_type": "stream",
          "name": "stderr",
          "text": [
            "\u001b[32m[I 2023-04-04 23:12:30,458]\u001b[0m Trial 6 finished with value: 0.874356333676622 and parameters: {'n_estimators': 297, 'max_depth': 486, 'learning_rate': 0.30252817920499847, 'booster': 'gbtree', 'lambda': 0.5838294194619953, 'alpha': 0.3521783893997074, 'eta': 0.7881778377118598, 'gamma': 0.8852745782092453, 'grow_policy': 'depthwise'}. Best is trial 2 with value: 0.8781325094404394.\u001b[0m\n"
          ]
        },
        {
          "output_type": "stream",
          "name": "stdout",
          "text": [
            "[23:12:30] WARNING: ../src/learner.cc:767: \n",
            "Parameters: { \"extra_trees\", \"n_estimators\" } are not used.\n",
            "\n"
          ]
        },
        {
          "output_type": "stream",
          "name": "stderr",
          "text": [
            "\u001b[32m[I 2023-04-04 23:12:35,086]\u001b[0m Trial 7 pruned. Trial was pruned at iteration 0.\u001b[0m\n"
          ]
        },
        {
          "output_type": "stream",
          "name": "stdout",
          "text": [
            "[23:12:35] WARNING: ../src/learner.cc:767: \n",
            "Parameters: { \"extra_trees\", \"max_depth\", \"n_estimators\" } are not used.\n",
            "\n",
            "[0]\tvalidation-auc:0.50000\n"
          ]
        },
        {
          "output_type": "stream",
          "name": "stderr",
          "text": [
            "\u001b[32m[I 2023-04-04 23:12:36,231]\u001b[0m Trial 8 pruned. Trial was pruned at iteration 0.\u001b[0m\n"
          ]
        },
        {
          "output_type": "stream",
          "name": "stdout",
          "text": [
            "[23:12:36] WARNING: ../src/learner.cc:767: \n",
            "Parameters: { \"extra_trees\", \"n_estimators\" } are not used.\n",
            "\n",
            "[0]\tvalidation-auc:0.89718\n",
            "[1]\tvalidation-auc:0.90613\n",
            "[2]\tvalidation-auc:0.91429\n",
            "[3]\tvalidation-auc:0.92073\n",
            "[4]\tvalidation-auc:0.92600\n",
            "[5]\tvalidation-auc:0.92838\n",
            "[6]\tvalidation-auc:0.93056\n",
            "[7]\tvalidation-auc:0.93252\n",
            "[8]\tvalidation-auc:0.93416\n",
            "[9]\tvalidation-auc:0.93516\n"
          ]
        },
        {
          "output_type": "stream",
          "name": "stderr",
          "text": [
            "\u001b[32m[I 2023-04-04 23:13:02,969]\u001b[0m Trial 9 finished with value: 0.8705801579128046 and parameters: {'n_estimators': 485, 'max_depth': 108, 'learning_rate': 0.4680872476056893, 'booster': 'gbtree', 'lambda': 0.8070307713495921, 'alpha': 0.2567886194549511, 'eta': 0.09881102069157352, 'gamma': 0.56074864594929, 'grow_policy': 'lossguide'}. Best is trial 2 with value: 0.8781325094404394.\u001b[0m\n"
          ]
        },
        {
          "output_type": "stream",
          "name": "stdout",
          "text": [
            "[23:13:03] WARNING: ../src/learner.cc:767: \n",
            "Parameters: { \"extra_trees\", \"n_estimators\" } are not used.\n",
            "\n",
            "[0]\tvalidation-auc:0.90538\n",
            "[1]\tvalidation-auc:0.90220\n"
          ]
        },
        {
          "output_type": "stream",
          "name": "stderr",
          "text": [
            "\u001b[32m[I 2023-04-04 23:13:15,182]\u001b[0m Trial 10 pruned. Trial was pruned at iteration 2.\u001b[0m\n"
          ]
        },
        {
          "output_type": "stream",
          "name": "stdout",
          "text": [
            "[23:13:15] WARNING: ../src/learner.cc:767: \n",
            "Parameters: { \"extra_trees\", \"n_estimators\" } are not used.\n",
            "\n",
            "[0]\tvalidation-auc:0.89494\n",
            "[1]\tvalidation-auc:0.91070\n",
            "[2]\tvalidation-auc:0.91624\n",
            "[3]\tvalidation-auc:0.92118\n",
            "[4]\tvalidation-auc:0.92742\n",
            "[5]\tvalidation-auc:0.93099\n",
            "[6]\tvalidation-auc:0.93366\n",
            "[7]\tvalidation-auc:0.93645\n",
            "[8]\tvalidation-auc:0.93760\n",
            "[9]\tvalidation-auc:0.93931\n"
          ]
        },
        {
          "output_type": "stream",
          "name": "stderr",
          "text": [
            "\u001b[32m[I 2023-04-04 23:13:45,802]\u001b[0m Trial 11 finished with value: 0.8726398901476141 and parameters: {'n_estimators': 271, 'max_depth': 485, 'learning_rate': 0.27836433696743, 'booster': 'gbtree', 'lambda': 0.6277110197417113, 'alpha': 2.013279824697456e-05, 'eta': 0.8236339684484354, 'gamma': 0.9931352742263081, 'grow_policy': 'depthwise'}. Best is trial 2 with value: 0.8781325094404394.\u001b[0m\n"
          ]
        },
        {
          "output_type": "stream",
          "name": "stdout",
          "text": [
            "[23:13:46] WARNING: ../src/learner.cc:767: \n",
            "Parameters: { \"extra_trees\", \"n_estimators\" } are not used.\n",
            "\n"
          ]
        },
        {
          "output_type": "stream",
          "name": "stderr",
          "text": [
            "\u001b[32m[I 2023-04-04 23:13:51,537]\u001b[0m Trial 12 pruned. Trial was pruned at iteration 0.\u001b[0m\n"
          ]
        },
        {
          "output_type": "stream",
          "name": "stdout",
          "text": [
            "[23:13:52] WARNING: ../src/learner.cc:767: \n",
            "Parameters: { \"extra_trees\", \"n_estimators\" } are not used.\n",
            "\n",
            "[0]\tvalidation-auc:0.89277\n"
          ]
        },
        {
          "output_type": "stream",
          "name": "stderr",
          "text": [
            "\u001b[32m[I 2023-04-04 23:13:57,847]\u001b[0m Trial 13 pruned. Trial was pruned at iteration 0.\u001b[0m\n"
          ]
        },
        {
          "output_type": "stream",
          "name": "stdout",
          "text": [
            "[23:13:58] WARNING: ../src/learner.cc:767: \n",
            "Parameters: { \"extra_trees\", \"n_estimators\" } are not used.\n",
            "\n",
            "[0]\tvalidation-auc:0.89588\n"
          ]
        },
        {
          "output_type": "stream",
          "name": "stderr",
          "text": [
            "\u001b[32m[I 2023-04-04 23:14:09,768]\u001b[0m Trial 14 pruned. Trial was pruned at iteration 1.\u001b[0m\n"
          ]
        },
        {
          "output_type": "stream",
          "name": "stdout",
          "text": [
            "[23:14:10] WARNING: ../src/learner.cc:767: \n",
            "Parameters: { \"extra_trees\", \"n_estimators\" } are not used.\n",
            "\n",
            "[0]\tvalidation-auc:0.89351\n",
            "[1]\tvalidation-auc:0.90761\n",
            "[2]\tvalidation-auc:0.91530\n",
            "[3]\tvalidation-auc:0.92230\n",
            "[4]\tvalidation-auc:0.92836\n",
            "[5]\tvalidation-auc:0.93257\n",
            "[6]\tvalidation-auc:0.93451\n",
            "[7]\tvalidation-auc:0.93032\n",
            "[8]\tvalidation-auc:0.93334\n",
            "[9]\tvalidation-auc:0.93582\n"
          ]
        },
        {
          "output_type": "stream",
          "name": "stderr",
          "text": [
            "\u001b[32m[I 2023-04-04 23:14:44,286]\u001b[0m Trial 15 finished with value: 0.870236869207003 and parameters: {'n_estimators': 335, 'max_depth': 450, 'learning_rate': 0.38232086268774446, 'booster': 'dart', 'lambda': 0.7448819585064357, 'alpha': 0.1674913540112548, 'eta': 0.71325233352668, 'gamma': 0.8044815072379333, 'grow_policy': 'depthwise', 'sample_type': 'uniform', 'normalize_type': 'forest', 'rate_drop': 0.9112065834350858, 'skip_drop': 0.9585408535110238}. Best is trial 2 with value: 0.8781325094404394.\u001b[0m\n"
          ]
        },
        {
          "output_type": "stream",
          "name": "stdout",
          "text": [
            "[23:14:44] WARNING: ../src/learner.cc:767: \n",
            "Parameters: { \"extra_trees\", \"n_estimators\" } are not used.\n",
            "\n"
          ]
        },
        {
          "output_type": "stream",
          "name": "stderr",
          "text": [
            "\u001b[32m[I 2023-04-04 23:14:51,247]\u001b[0m Trial 16 pruned. Trial was pruned at iteration 0.\u001b[0m\n"
          ]
        },
        {
          "output_type": "stream",
          "name": "stdout",
          "text": [
            "[23:14:52] WARNING: ../src/learner.cc:767: \n",
            "Parameters: { \"extra_trees\", \"n_estimators\" } are not used.\n",
            "\n",
            "[0]\tvalidation-auc:0.89573\n",
            "[1]\tvalidation-auc:0.91266\n",
            "[2]\tvalidation-auc:0.91746\n",
            "[3]\tvalidation-auc:0.92223\n",
            "[4]\tvalidation-auc:0.92926\n",
            "[5]\tvalidation-auc:0.93028\n",
            "[6]\tvalidation-auc:0.93302\n",
            "[7]\tvalidation-auc:0.93521\n",
            "[8]\tvalidation-auc:0.93833\n",
            "[9]\tvalidation-auc:0.93884\n"
          ]
        },
        {
          "output_type": "stream",
          "name": "stderr",
          "text": [
            "\u001b[32m[I 2023-04-04 23:15:20,509]\u001b[0m Trial 17 finished with value: 0.8798489529694473 and parameters: {'n_estimators': 203, 'max_depth': 500, 'learning_rate': 0.3473858423258842, 'booster': 'gbtree', 'lambda': 0.7086704188170093, 'alpha': 0.11746452288437197, 'eta': 0.8798281227785548, 'gamma': 0.3568771024519092, 'grow_policy': 'depthwise'}. Best is trial 17 with value: 0.8798489529694473.\u001b[0m\n"
          ]
        },
        {
          "output_type": "stream",
          "name": "stdout",
          "text": [
            "[23:15:21] WARNING: ../src/learner.cc:767: \n",
            "Parameters: { \"extra_trees\", \"n_estimators\" } are not used.\n",
            "\n"
          ]
        },
        {
          "output_type": "stream",
          "name": "stderr",
          "text": [
            "\u001b[32m[I 2023-04-04 23:15:26,858]\u001b[0m Trial 18 pruned. Trial was pruned at iteration 0.\u001b[0m\n"
          ]
        },
        {
          "output_type": "stream",
          "name": "stdout",
          "text": [
            "[23:15:27] WARNING: ../src/learner.cc:767: \n",
            "Parameters: { \"extra_trees\", \"max_depth\", \"n_estimators\" } are not used.\n",
            "\n",
            "[0]\tvalidation-auc:0.89584\n"
          ]
        },
        {
          "output_type": "stream",
          "name": "stderr",
          "text": [
            "\u001b[32m[I 2023-04-04 23:15:27,822]\u001b[0m Trial 19 pruned. Trial was pruned at iteration 1.\u001b[0m\n"
          ]
        },
        {
          "output_type": "stream",
          "name": "stdout",
          "text": [
            "[23:15:28] WARNING: ../src/learner.cc:767: \n",
            "Parameters: { \"extra_trees\", \"n_estimators\" } are not used.\n",
            "\n",
            "[0]\tvalidation-auc:0.89387\n"
          ]
        },
        {
          "output_type": "stream",
          "name": "stderr",
          "text": [
            "\u001b[32m[I 2023-04-04 23:15:39,405]\u001b[0m Trial 20 pruned. Trial was pruned at iteration 1.\u001b[0m\n"
          ]
        },
        {
          "output_type": "stream",
          "name": "stdout",
          "text": [
            "[23:15:39] WARNING: ../src/learner.cc:767: \n",
            "Parameters: { \"extra_trees\", \"n_estimators\" } are not used.\n",
            "\n",
            "[0]\tvalidation-auc:0.89249\n"
          ]
        },
        {
          "output_type": "stream",
          "name": "stderr",
          "text": [
            "\u001b[32m[I 2023-04-04 23:15:45,824]\u001b[0m Trial 21 pruned. Trial was pruned at iteration 0.\u001b[0m\n"
          ]
        },
        {
          "output_type": "stream",
          "name": "stdout",
          "text": [
            "[23:15:46] WARNING: ../src/learner.cc:767: \n",
            "Parameters: { \"extra_trees\", \"n_estimators\" } are not used.\n",
            "\n",
            "[0]\tvalidation-auc:0.89735\n"
          ]
        },
        {
          "output_type": "stream",
          "name": "stderr",
          "text": [
            "\u001b[32m[I 2023-04-04 23:15:55,277]\u001b[0m Trial 22 pruned. Trial was pruned at iteration 1.\u001b[0m\n"
          ]
        },
        {
          "output_type": "stream",
          "name": "stdout",
          "text": [
            "[23:15:55] WARNING: ../src/learner.cc:767: \n",
            "Parameters: { \"extra_trees\", \"n_estimators\" } are not used.\n",
            "\n",
            "[0]\tvalidation-auc:0.89576\n",
            "[1]\tvalidation-auc:0.90320\n"
          ]
        },
        {
          "output_type": "stream",
          "name": "stderr",
          "text": [
            "\u001b[32m[I 2023-04-04 23:16:07,001]\u001b[0m Trial 23 pruned. Trial was pruned at iteration 1.\u001b[0m\n"
          ]
        },
        {
          "output_type": "stream",
          "name": "stdout",
          "text": [
            "[23:16:07] WARNING: ../src/learner.cc:767: \n",
            "Parameters: { \"extra_trees\", \"n_estimators\" } are not used.\n",
            "\n",
            "[0]\tvalidation-auc:0.89567\n",
            "[1]\tvalidation-auc:0.90605\n"
          ]
        },
        {
          "output_type": "stream",
          "name": "stderr",
          "text": [
            "\u001b[32m[I 2023-04-04 23:16:16,448]\u001b[0m Trial 24 pruned. Trial was pruned at iteration 1.\u001b[0m\n"
          ]
        },
        {
          "output_type": "stream",
          "name": "stdout",
          "text": [
            "[23:16:17] WARNING: ../src/learner.cc:767: \n",
            "Parameters: { \"extra_trees\", \"n_estimators\" } are not used.\n",
            "\n",
            "[0]\tvalidation-auc:0.89309\n"
          ]
        },
        {
          "output_type": "stream",
          "name": "stderr",
          "text": [
            "\u001b[32m[I 2023-04-04 23:16:22,267]\u001b[0m Trial 25 pruned. Trial was pruned at iteration 0.\u001b[0m\n"
          ]
        },
        {
          "output_type": "stream",
          "name": "stdout",
          "text": [
            "[23:16:22] WARNING: ../src/learner.cc:767: \n",
            "Parameters: { \"extra_trees\", \"n_estimators\" } are not used.\n",
            "\n"
          ]
        },
        {
          "output_type": "stream",
          "name": "stderr",
          "text": [
            "\u001b[32m[I 2023-04-04 23:16:27,161]\u001b[0m Trial 26 pruned. Trial was pruned at iteration 0.\u001b[0m\n"
          ]
        },
        {
          "output_type": "stream",
          "name": "stdout",
          "text": [
            "[23:16:27] WARNING: ../src/learner.cc:767: \n",
            "Parameters: { \"extra_trees\", \"n_estimators\" } are not used.\n",
            "\n",
            "[0]\tvalidation-auc:0.88439\n"
          ]
        },
        {
          "output_type": "stream",
          "name": "stderr",
          "text": [
            "\u001b[32m[I 2023-04-04 23:16:33,252]\u001b[0m Trial 27 pruned. Trial was pruned at iteration 0.\u001b[0m\n"
          ]
        },
        {
          "output_type": "stream",
          "name": "stdout",
          "text": [
            "[23:16:33] WARNING: ../src/learner.cc:767: \n",
            "Parameters: { \"extra_trees\", \"n_estimators\" } are not used.\n",
            "\n",
            "[0]\tvalidation-auc:0.89001\n"
          ]
        },
        {
          "output_type": "stream",
          "name": "stderr",
          "text": [
            "\u001b[32m[I 2023-04-04 23:16:39,679]\u001b[0m Trial 28 pruned. Trial was pruned at iteration 0.\u001b[0m\n"
          ]
        },
        {
          "output_type": "stream",
          "name": "stdout",
          "text": [
            "[23:16:40] WARNING: ../src/learner.cc:767: \n",
            "Parameters: { \"extra_trees\", \"max_depth\", \"n_estimators\" } are not used.\n",
            "\n"
          ]
        },
        {
          "output_type": "stream",
          "name": "stderr",
          "text": [
            "\u001b[32m[I 2023-04-04 23:16:40,608]\u001b[0m Trial 29 pruned. Trial was pruned at iteration 0.\u001b[0m\n"
          ]
        },
        {
          "output_type": "stream",
          "name": "stdout",
          "text": [
            "[23:16:41] WARNING: ../src/learner.cc:767: \n",
            "Parameters: { \"extra_trees\", \"max_depth\", \"n_estimators\" } are not used.\n",
            "\n"
          ]
        },
        {
          "output_type": "stream",
          "name": "stderr",
          "text": [
            "\u001b[32m[I 2023-04-04 23:16:41,529]\u001b[0m Trial 30 pruned. Trial was pruned at iteration 0.\u001b[0m\n"
          ]
        },
        {
          "output_type": "stream",
          "name": "stdout",
          "text": [
            "[23:16:42] WARNING: ../src/learner.cc:767: \n",
            "Parameters: { \"extra_trees\", \"n_estimators\" } are not used.\n",
            "\n",
            "[0]\tvalidation-auc:0.89766\n",
            "[1]\tvalidation-auc:0.91013\n",
            "[2]\tvalidation-auc:0.91782\n",
            "[3]\tvalidation-auc:0.92655\n",
            "[4]\tvalidation-auc:0.93222\n",
            "[5]\tvalidation-auc:0.93383\n",
            "[6]\tvalidation-auc:0.93588\n",
            "[7]\tvalidation-auc:0.93758\n",
            "[8]\tvalidation-auc:0.93780\n",
            "[9]\tvalidation-auc:0.94009\n"
          ]
        },
        {
          "output_type": "stream",
          "name": "stderr",
          "text": [
            "\u001b[32m[I 2023-04-04 23:17:10,550]\u001b[0m Trial 31 finished with value: 0.8791623755578442 and parameters: {'n_estimators': 264, 'max_depth': 483, 'learning_rate': 0.3328815567307362, 'booster': 'gbtree', 'lambda': 0.6565088212013905, 'alpha': 0.012933427710998549, 'eta': 0.8397221377458937, 'gamma': 0.9855198722531101, 'grow_policy': 'depthwise'}. Best is trial 17 with value: 0.8798489529694473.\u001b[0m\n"
          ]
        },
        {
          "output_type": "stream",
          "name": "stdout",
          "text": [
            "[23:17:11] WARNING: ../src/learner.cc:767: \n",
            "Parameters: { \"extra_trees\", \"n_estimators\" } are not used.\n",
            "\n",
            "[0]\tvalidation-auc:0.89746\n",
            "[1]\tvalidation-auc:0.90861\n",
            "[2]\tvalidation-auc:0.91529\n"
          ]
        },
        {
          "output_type": "stream",
          "name": "stderr",
          "text": [
            "\u001b[32m[I 2023-04-04 23:17:24,434]\u001b[0m Trial 32 pruned. Trial was pruned at iteration 2.\u001b[0m\n"
          ]
        },
        {
          "output_type": "stream",
          "name": "stdout",
          "text": [
            "[23:17:24] WARNING: ../src/learner.cc:767: \n",
            "Parameters: { \"extra_trees\", \"n_estimators\" } are not used.\n",
            "\n"
          ]
        },
        {
          "output_type": "stream",
          "name": "stderr",
          "text": [
            "\u001b[32m[I 2023-04-04 23:17:29,550]\u001b[0m Trial 33 pruned. Trial was pruned at iteration 0.\u001b[0m\n"
          ]
        },
        {
          "output_type": "stream",
          "name": "stdout",
          "text": [
            "[23:17:30] WARNING: ../src/learner.cc:767: \n",
            "Parameters: { \"extra_trees\", \"n_estimators\" } are not used.\n",
            "\n",
            "[0]\tvalidation-auc:0.89664\n",
            "[1]\tvalidation-auc:0.90489\n"
          ]
        },
        {
          "output_type": "stream",
          "name": "stderr",
          "text": [
            "\u001b[32m[I 2023-04-04 23:17:39,245]\u001b[0m Trial 34 pruned. Trial was pruned at iteration 1.\u001b[0m\n"
          ]
        },
        {
          "output_type": "stream",
          "name": "stdout",
          "text": [
            "[23:17:39] WARNING: ../src/learner.cc:767: \n",
            "Parameters: { \"extra_trees\", \"n_estimators\" } are not used.\n",
            "\n",
            "[0]\tvalidation-auc:0.89688\n",
            "[1]\tvalidation-auc:0.90797\n",
            "[2]\tvalidation-auc:0.91906\n",
            "[3]\tvalidation-auc:0.92555\n",
            "[4]\tvalidation-auc:0.93101\n",
            "[5]\tvalidation-auc:0.93376\n",
            "[6]\tvalidation-auc:0.93705\n",
            "[7]\tvalidation-auc:0.94003\n",
            "[8]\tvalidation-auc:0.94136\n",
            "[9]\tvalidation-auc:0.94148\n"
          ]
        },
        {
          "output_type": "stream",
          "name": "stderr",
          "text": [
            "\u001b[32m[I 2023-04-04 23:18:08,564]\u001b[0m Trial 35 finished with value: 0.8795056642636457 and parameters: {'n_estimators': 164, 'max_depth': 428, 'learning_rate': 0.35723936707149656, 'booster': 'gbtree', 'lambda': 0.7683002003184369, 'alpha': 0.04488601054606495, 'eta': 0.93283459522292, 'gamma': 0.9885024022523675, 'grow_policy': 'depthwise'}. Best is trial 17 with value: 0.8798489529694473.\u001b[0m\n"
          ]
        },
        {
          "output_type": "stream",
          "name": "stdout",
          "text": [
            "[23:18:09] WARNING: ../src/learner.cc:767: \n",
            "Parameters: { \"extra_trees\", \"n_estimators\" } are not used.\n",
            "\n",
            "[0]\tvalidation-auc:0.89501\n",
            "[1]\tvalidation-auc:0.91179\n",
            "[2]\tvalidation-auc:0.91950\n",
            "[3]\tvalidation-auc:0.92373\n",
            "[4]\tvalidation-auc:0.92984\n",
            "[5]\tvalidation-auc:0.93169\n",
            "[6]\tvalidation-auc:0.93455\n",
            "[7]\tvalidation-auc:0.93607\n",
            "[8]\tvalidation-auc:0.93686\n",
            "[9]\tvalidation-auc:0.93752\n"
          ]
        },
        {
          "output_type": "stream",
          "name": "stderr",
          "text": [
            "\u001b[32m[I 2023-04-04 23:18:35,831]\u001b[0m Trial 36 finished with value: 0.8777892207346378 and parameters: {'n_estimators': 171, 'max_depth': 431, 'learning_rate': 0.5802194929379895, 'booster': 'gbtree', 'lambda': 0.7589289475405158, 'alpha': 0.0035390976686042394, 'eta': 0.9407773238274557, 'gamma': 0.9835542891555217, 'grow_policy': 'lossguide'}. Best is trial 17 with value: 0.8798489529694473.\u001b[0m\n"
          ]
        },
        {
          "output_type": "stream",
          "name": "stdout",
          "text": [
            "[23:18:36] WARNING: ../src/learner.cc:767: \n",
            "Parameters: { \"extra_trees\", \"n_estimators\" } are not used.\n",
            "\n",
            "[0]\tvalidation-auc:0.89503\n",
            "[1]\tvalidation-auc:0.90957\n",
            "[2]\tvalidation-auc:0.91897\n",
            "[3]\tvalidation-auc:0.92474\n",
            "[4]\tvalidation-auc:0.92870\n",
            "[5]\tvalidation-auc:0.93159\n",
            "[6]\tvalidation-auc:0.93265\n"
          ]
        },
        {
          "output_type": "stream",
          "name": "stderr",
          "text": [
            "\u001b[32m[I 2023-04-04 23:18:58,434]\u001b[0m Trial 37 pruned. Trial was pruned at iteration 6.\u001b[0m\n"
          ]
        },
        {
          "output_type": "stream",
          "name": "stdout",
          "text": [
            "[23:18:58] WARNING: ../src/learner.cc:767: \n",
            "Parameters: { \"extra_trees\", \"n_estimators\" } are not used.\n",
            "\n",
            "[0]\tvalidation-auc:0.89344\n"
          ]
        },
        {
          "output_type": "stream",
          "name": "stderr",
          "text": [
            "\u001b[32m[I 2023-04-04 23:19:06,492]\u001b[0m Trial 38 pruned. Trial was pruned at iteration 0.\u001b[0m\n"
          ]
        },
        {
          "output_type": "stream",
          "name": "stdout",
          "text": [
            "[23:19:07] WARNING: ../src/learner.cc:767: \n",
            "Parameters: { \"extra_trees\", \"max_depth\", \"n_estimators\" } are not used.\n",
            "\n",
            "[0]\tvalidation-auc:0.89612\n"
          ]
        },
        {
          "output_type": "stream",
          "name": "stderr",
          "text": [
            "\u001b[32m[I 2023-04-04 23:19:07,452]\u001b[0m Trial 39 pruned. Trial was pruned at iteration 1.\u001b[0m\n"
          ]
        },
        {
          "output_type": "stream",
          "name": "stdout",
          "text": [
            "[23:19:08] WARNING: ../src/learner.cc:767: \n",
            "Parameters: { \"extra_trees\", \"n_estimators\" } are not used.\n",
            "\n",
            "[0]\tvalidation-auc:0.89795\n",
            "[1]\tvalidation-auc:0.90958\n",
            "[2]\tvalidation-auc:0.91836\n",
            "[3]\tvalidation-auc:0.92596\n",
            "[4]\tvalidation-auc:0.93050\n",
            "[5]\tvalidation-auc:0.93459\n",
            "[6]\tvalidation-auc:0.93647\n",
            "[7]\tvalidation-auc:0.93808\n",
            "[8]\tvalidation-auc:0.94017\n",
            "[9]\tvalidation-auc:0.94064\n"
          ]
        },
        {
          "output_type": "stream",
          "name": "stderr",
          "text": [
            "\u001b[32m[I 2023-04-04 23:19:37,127]\u001b[0m Trial 40 finished with value: 0.88259526261586 and parameters: {'n_estimators': 81, 'max_depth': 287, 'learning_rate': 0.3491838107998255, 'booster': 'gbtree', 'lambda': 0.9167625640775877, 'alpha': 0.05477693729517126, 'eta': 0.7318011144393137, 'gamma': 0.7707785070774437, 'grow_policy': 'depthwise'}. Best is trial 40 with value: 0.88259526261586.\u001b[0m\n"
          ]
        },
        {
          "output_type": "stream",
          "name": "stdout",
          "text": [
            "[23:19:37] WARNING: ../src/learner.cc:767: \n",
            "Parameters: { \"extra_trees\", \"n_estimators\" } are not used.\n",
            "\n",
            "[0]\tvalidation-auc:0.89795\n",
            "[1]\tvalidation-auc:0.90958\n",
            "[2]\tvalidation-auc:0.91829\n",
            "[3]\tvalidation-auc:0.92531\n",
            "[4]\tvalidation-auc:0.92958\n",
            "[5]\tvalidation-auc:0.93150\n",
            "[6]\tvalidation-auc:0.93433\n",
            "[7]\tvalidation-auc:0.93601\n",
            "[8]\tvalidation-auc:0.93718\n"
          ]
        },
        {
          "output_type": "stream",
          "name": "stderr",
          "text": [
            "\u001b[32m[I 2023-04-04 23:20:05,788]\u001b[0m Trial 41 pruned. Trial was pruned at iteration 8.\u001b[0m\n"
          ]
        },
        {
          "output_type": "stream",
          "name": "stdout",
          "text": [
            "[23:20:06] WARNING: ../src/learner.cc:767: \n",
            "Parameters: { \"extra_trees\", \"n_estimators\" } are not used.\n",
            "\n",
            "[0]\tvalidation-auc:0.89782\n",
            "[1]\tvalidation-auc:0.90638\n"
          ]
        },
        {
          "output_type": "stream",
          "name": "stderr",
          "text": [
            "\u001b[32m[I 2023-04-04 23:20:15,282]\u001b[0m Trial 42 pruned. Trial was pruned at iteration 1.\u001b[0m\n"
          ]
        },
        {
          "output_type": "stream",
          "name": "stdout",
          "text": [
            "[23:20:15] WARNING: ../src/learner.cc:767: \n",
            "Parameters: { \"extra_trees\", \"n_estimators\" } are not used.\n",
            "\n",
            "[0]\tvalidation-auc:0.89617\n",
            "[1]\tvalidation-auc:0.90846\n"
          ]
        },
        {
          "output_type": "stream",
          "name": "stderr",
          "text": [
            "\u001b[32m[I 2023-04-04 23:20:26,429]\u001b[0m Trial 43 pruned. Trial was pruned at iteration 1.\u001b[0m\n"
          ]
        },
        {
          "output_type": "stream",
          "name": "stdout",
          "text": [
            "[23:20:27] WARNING: ../src/learner.cc:767: \n",
            "Parameters: { \"extra_trees\", \"n_estimators\" } are not used.\n",
            "\n",
            "[0]\tvalidation-auc:0.89570\n",
            "[1]\tvalidation-auc:0.90746\n"
          ]
        },
        {
          "output_type": "stream",
          "name": "stderr",
          "text": [
            "\u001b[32m[I 2023-04-04 23:20:38,009]\u001b[0m Trial 44 pruned. Trial was pruned at iteration 1.\u001b[0m\n"
          ]
        },
        {
          "output_type": "stream",
          "name": "stdout",
          "text": [
            "[23:20:38] WARNING: ../src/learner.cc:767: \n",
            "Parameters: { \"extra_trees\", \"n_estimators\" } are not used.\n",
            "\n",
            "[0]\tvalidation-auc:0.89740\n",
            "[1]\tvalidation-auc:0.91149\n",
            "[2]\tvalidation-auc:0.91792\n",
            "[3]\tvalidation-auc:0.92449\n",
            "[4]\tvalidation-auc:0.92809\n"
          ]
        },
        {
          "output_type": "stream",
          "name": "stderr",
          "text": [
            "\u001b[32m[I 2023-04-04 23:20:57,898]\u001b[0m Trial 45 pruned. Trial was pruned at iteration 4.\u001b[0m\n"
          ]
        },
        {
          "output_type": "stream",
          "name": "stdout",
          "text": [
            "[23:20:58] WARNING: ../src/learner.cc:767: \n",
            "Parameters: { \"extra_trees\", \"n_estimators\" } are not used.\n",
            "\n",
            "[0]\tvalidation-auc:0.89097\n"
          ]
        },
        {
          "output_type": "stream",
          "name": "stderr",
          "text": [
            "\u001b[32m[I 2023-04-04 23:21:05,773]\u001b[0m Trial 46 pruned. Trial was pruned at iteration 0.\u001b[0m\n"
          ]
        },
        {
          "output_type": "stream",
          "name": "stdout",
          "text": [
            "[23:21:06] WARNING: ../src/learner.cc:767: \n",
            "Parameters: { \"extra_trees\", \"n_estimators\" } are not used.\n",
            "\n",
            "[0]\tvalidation-auc:0.89823\n"
          ]
        },
        {
          "output_type": "stream",
          "name": "stderr",
          "text": [
            "\u001b[32m[I 2023-04-04 23:21:15,283]\u001b[0m Trial 47 pruned. Trial was pruned at iteration 1.\u001b[0m\n"
          ]
        },
        {
          "output_type": "stream",
          "name": "stdout",
          "text": [
            "[23:21:15] WARNING: ../src/learner.cc:767: \n",
            "Parameters: { \"extra_trees\", \"n_estimators\" } are not used.\n",
            "\n",
            "[0]\tvalidation-auc:0.89733\n",
            "[1]\tvalidation-auc:0.91078\n",
            "[2]\tvalidation-auc:0.91705\n"
          ]
        },
        {
          "output_type": "stream",
          "name": "stderr",
          "text": [
            "\u001b[32m[I 2023-04-04 23:21:35,228]\u001b[0m Trial 48 pruned. Trial was pruned at iteration 3.\u001b[0m\n"
          ]
        },
        {
          "output_type": "stream",
          "name": "stdout",
          "text": [
            "[23:21:35] WARNING: ../src/learner.cc:767: \n",
            "Parameters: { \"extra_trees\", \"n_estimators\" } are not used.\n",
            "\n",
            "[0]\tvalidation-auc:0.89524\n"
          ]
        },
        {
          "output_type": "stream",
          "name": "stderr",
          "text": [
            "\u001b[32m[I 2023-04-04 23:21:44,282]\u001b[0m Trial 49 pruned. Trial was pruned at iteration 1.\u001b[0m\n"
          ]
        },
        {
          "output_type": "stream",
          "name": "stdout",
          "text": [
            "[23:21:44] WARNING: ../src/learner.cc:767: \n",
            "Parameters: { \"extra_trees\", \"max_depth\", \"n_estimators\" } are not used.\n",
            "\n",
            "[0]\tvalidation-auc:0.50000\n"
          ]
        },
        {
          "output_type": "stream",
          "name": "stderr",
          "text": [
            "\u001b[32m[I 2023-04-04 23:21:45,291]\u001b[0m Trial 50 pruned. Trial was pruned at iteration 0.\u001b[0m\n"
          ]
        },
        {
          "output_type": "stream",
          "name": "stdout",
          "text": [
            "[23:21:45] WARNING: ../src/learner.cc:767: \n",
            "Parameters: { \"extra_trees\", \"n_estimators\" } are not used.\n",
            "\n",
            "[0]\tvalidation-auc:0.89817\n"
          ]
        },
        {
          "output_type": "stream",
          "name": "stderr",
          "text": [
            "\u001b[32m[I 2023-04-04 23:21:56,165]\u001b[0m Trial 51 pruned. Trial was pruned at iteration 1.\u001b[0m\n"
          ]
        },
        {
          "output_type": "stream",
          "name": "stdout",
          "text": [
            "[23:21:56] WARNING: ../src/learner.cc:767: \n",
            "Parameters: { \"extra_trees\", \"n_estimators\" } are not used.\n",
            "\n",
            "[0]\tvalidation-auc:0.89504\n"
          ]
        },
        {
          "output_type": "stream",
          "name": "stderr",
          "text": [
            "\u001b[32m[I 2023-04-04 23:22:07,044]\u001b[0m Trial 52 pruned. Trial was pruned at iteration 1.\u001b[0m\n"
          ]
        },
        {
          "output_type": "stream",
          "name": "stdout",
          "text": [
            "[23:22:07] WARNING: ../src/learner.cc:767: \n",
            "Parameters: { \"extra_trees\", \"n_estimators\" } are not used.\n",
            "\n",
            "[0]\tvalidation-auc:0.89670\n",
            "[1]\tvalidation-auc:0.90516\n"
          ]
        },
        {
          "output_type": "stream",
          "name": "stderr",
          "text": [
            "\u001b[32m[I 2023-04-04 23:22:16,953]\u001b[0m Trial 53 pruned. Trial was pruned at iteration 1.\u001b[0m\n"
          ]
        },
        {
          "output_type": "stream",
          "name": "stdout",
          "text": [
            "[23:22:17] WARNING: ../src/learner.cc:767: \n",
            "Parameters: { \"extra_trees\", \"n_estimators\" } are not used.\n",
            "\n",
            "[0]\tvalidation-auc:0.89827\n",
            "[1]\tvalidation-auc:0.90616\n"
          ]
        },
        {
          "output_type": "stream",
          "name": "stderr",
          "text": [
            "\u001b[32m[I 2023-04-04 23:22:27,029]\u001b[0m Trial 54 pruned. Trial was pruned at iteration 1.\u001b[0m\n"
          ]
        },
        {
          "output_type": "stream",
          "name": "stdout",
          "text": [
            "[23:22:27] WARNING: ../src/learner.cc:767: \n",
            "Parameters: { \"extra_trees\", \"n_estimators\" } are not used.\n",
            "\n",
            "[0]\tvalidation-auc:0.89605\n",
            "[1]\tvalidation-auc:0.91072\n",
            "[2]\tvalidation-auc:0.91844\n",
            "[3]\tvalidation-auc:0.92533\n",
            "[4]\tvalidation-auc:0.92901\n",
            "[5]\tvalidation-auc:0.93122\n",
            "[6]\tvalidation-auc:0.93403\n",
            "[7]\tvalidation-auc:0.93514\n"
          ]
        },
        {
          "output_type": "stream",
          "name": "stderr",
          "text": [
            "\u001b[32m[I 2023-04-04 23:22:52,990]\u001b[0m Trial 55 pruned. Trial was pruned at iteration 7.\u001b[0m\n"
          ]
        },
        {
          "output_type": "stream",
          "name": "stdout",
          "text": [
            "[23:22:53] WARNING: ../src/learner.cc:767: \n",
            "Parameters: { \"extra_trees\", \"n_estimators\" } are not used.\n",
            "\n",
            "[0]\tvalidation-auc:0.89815\n",
            "[1]\tvalidation-auc:0.91272\n",
            "[2]\tvalidation-auc:0.92297\n",
            "[3]\tvalidation-auc:0.93040\n",
            "[4]\tvalidation-auc:0.93485\n",
            "[5]\tvalidation-auc:0.93661\n",
            "[6]\tvalidation-auc:0.93823\n",
            "[7]\tvalidation-auc:0.93973\n",
            "[8]\tvalidation-auc:0.94049\n",
            "[9]\tvalidation-auc:0.94027\n"
          ]
        },
        {
          "output_type": "stream",
          "name": "stderr",
          "text": [
            "\u001b[32m[I 2023-04-04 23:23:19,460]\u001b[0m Trial 56 finished with value: 0.8729831788534157 and parameters: {'n_estimators': 204, 'max_depth': 384, 'learning_rate': 0.5787905709283062, 'booster': 'gbtree', 'lambda': 0.7313329785328916, 'alpha': 0.036682098349853066, 'eta': 0.9616794404754647, 'gamma': 0.8689655852907409, 'grow_policy': 'depthwise'}. Best is trial 40 with value: 0.88259526261586.\u001b[0m\n"
          ]
        },
        {
          "output_type": "stream",
          "name": "stdout",
          "text": [
            "[23:23:20] WARNING: ../src/learner.cc:767: \n",
            "Parameters: { \"extra_trees\", \"n_estimators\" } are not used.\n",
            "\n",
            "[0]\tvalidation-auc:0.89568\n"
          ]
        },
        {
          "output_type": "stream",
          "name": "stderr",
          "text": [
            "\u001b[32m[I 2023-04-04 23:23:29,384]\u001b[0m Trial 57 pruned. Trial was pruned at iteration 1.\u001b[0m\n"
          ]
        },
        {
          "output_type": "stream",
          "name": "stdout",
          "text": [
            "[23:23:29] WARNING: ../src/learner.cc:767: \n",
            "Parameters: { \"extra_trees\", \"n_estimators\" } are not used.\n",
            "\n",
            "[0]\tvalidation-auc:0.89449\n"
          ]
        },
        {
          "output_type": "stream",
          "name": "stderr",
          "text": [
            "\u001b[32m[I 2023-04-04 23:23:37,045]\u001b[0m Trial 58 pruned. Trial was pruned at iteration 0.\u001b[0m\n"
          ]
        },
        {
          "output_type": "stream",
          "name": "stdout",
          "text": [
            "[23:23:37] WARNING: ../src/learner.cc:767: \n",
            "Parameters: { \"extra_trees\", \"n_estimators\" } are not used.\n",
            "\n",
            "[0]\tvalidation-auc:0.89703\n",
            "[1]\tvalidation-auc:0.89703\n"
          ]
        },
        {
          "output_type": "stream",
          "name": "stderr",
          "text": [
            "\u001b[32m[I 2023-04-04 23:23:49,668]\u001b[0m Trial 59 pruned. Trial was pruned at iteration 1.\u001b[0m\n"
          ]
        },
        {
          "output_type": "stream",
          "name": "stdout",
          "text": [
            "[23:23:50] WARNING: ../src/learner.cc:767: \n",
            "Parameters: { \"extra_trees\", \"n_estimators\" } are not used.\n",
            "\n",
            "[0]\tvalidation-auc:0.89292\n"
          ]
        },
        {
          "output_type": "stream",
          "name": "stderr",
          "text": [
            "\u001b[32m[I 2023-04-04 23:23:55,766]\u001b[0m Trial 60 pruned. Trial was pruned at iteration 0.\u001b[0m\n"
          ]
        },
        {
          "output_type": "stream",
          "name": "stdout",
          "text": [
            "[23:23:56] WARNING: ../src/learner.cc:767: \n",
            "Parameters: { \"extra_trees\", \"n_estimators\" } are not used.\n",
            "\n",
            "[0]\tvalidation-auc:0.89766\n",
            "[1]\tvalidation-auc:0.90947\n"
          ]
        },
        {
          "output_type": "stream",
          "name": "stderr",
          "text": [
            "\u001b[32m[I 2023-04-04 23:24:05,805]\u001b[0m Trial 61 pruned. Trial was pruned at iteration 1.\u001b[0m\n"
          ]
        },
        {
          "output_type": "stream",
          "name": "stdout",
          "text": [
            "[23:24:06] WARNING: ../src/learner.cc:767: \n",
            "Parameters: { \"extra_trees\", \"n_estimators\" } are not used.\n",
            "\n",
            "[0]\tvalidation-auc:0.89303\n"
          ]
        },
        {
          "output_type": "stream",
          "name": "stderr",
          "text": [
            "\u001b[32m[I 2023-04-04 23:24:12,069]\u001b[0m Trial 62 pruned. Trial was pruned at iteration 0.\u001b[0m\n"
          ]
        },
        {
          "output_type": "stream",
          "name": "stdout",
          "text": [
            "[23:24:12] WARNING: ../src/learner.cc:767: \n",
            "Parameters: { \"extra_trees\", \"n_estimators\" } are not used.\n",
            "\n",
            "[0]\tvalidation-auc:0.89621\n",
            "[1]\tvalidation-auc:0.90814\n"
          ]
        },
        {
          "output_type": "stream",
          "name": "stderr",
          "text": [
            "\u001b[32m[I 2023-04-04 23:24:23,153]\u001b[0m Trial 63 pruned. Trial was pruned at iteration 1.\u001b[0m\n"
          ]
        },
        {
          "output_type": "stream",
          "name": "stdout",
          "text": [
            "[23:24:23] WARNING: ../src/learner.cc:767: \n",
            "Parameters: { \"extra_trees\", \"n_estimators\" } are not used.\n",
            "\n",
            "[0]\tvalidation-auc:0.89664\n",
            "[1]\tvalidation-auc:0.90699\n"
          ]
        },
        {
          "output_type": "stream",
          "name": "stderr",
          "text": [
            "\u001b[32m[I 2023-04-04 23:24:34,172]\u001b[0m Trial 64 pruned. Trial was pruned at iteration 1.\u001b[0m\n"
          ]
        },
        {
          "output_type": "stream",
          "name": "stdout",
          "text": [
            "[23:24:34] WARNING: ../src/learner.cc:767: \n",
            "Parameters: { \"extra_trees\", \"n_estimators\" } are not used.\n",
            "\n",
            "[0]\tvalidation-auc:0.89668\n"
          ]
        },
        {
          "output_type": "stream",
          "name": "stderr",
          "text": [
            "\u001b[32m[I 2023-04-04 23:24:42,652]\u001b[0m Trial 65 pruned. Trial was pruned at iteration 1.\u001b[0m\n"
          ]
        },
        {
          "output_type": "stream",
          "name": "stdout",
          "text": [
            "[23:24:43] WARNING: ../src/learner.cc:767: \n",
            "Parameters: { \"extra_trees\", \"n_estimators\" } are not used.\n",
            "\n",
            "[0]\tvalidation-auc:0.89610\n"
          ]
        },
        {
          "output_type": "stream",
          "name": "stderr",
          "text": [
            "\u001b[32m[I 2023-04-04 23:24:52,994]\u001b[0m Trial 66 pruned. Trial was pruned at iteration 1.\u001b[0m\n"
          ]
        },
        {
          "output_type": "stream",
          "name": "stdout",
          "text": [
            "[23:24:53] WARNING: ../src/learner.cc:767: \n",
            "Parameters: { \"extra_trees\", \"max_depth\", \"n_estimators\" } are not used.\n",
            "\n",
            "[0]\tvalidation-auc:0.50000\n"
          ]
        },
        {
          "output_type": "stream",
          "name": "stderr",
          "text": [
            "\u001b[32m[I 2023-04-04 23:24:53,946]\u001b[0m Trial 67 pruned. Trial was pruned at iteration 0.\u001b[0m\n"
          ]
        },
        {
          "output_type": "stream",
          "name": "stdout",
          "text": [
            "[23:24:54] WARNING: ../src/learner.cc:767: \n",
            "Parameters: { \"extra_trees\", \"n_estimators\" } are not used.\n",
            "\n",
            "[0]\tvalidation-auc:0.89547\n",
            "[1]\tvalidation-auc:0.90754\n"
          ]
        },
        {
          "output_type": "stream",
          "name": "stderr",
          "text": [
            "\u001b[32m[I 2023-04-04 23:25:05,274]\u001b[0m Trial 68 pruned. Trial was pruned at iteration 1.\u001b[0m\n"
          ]
        },
        {
          "output_type": "stream",
          "name": "stdout",
          "text": [
            "[23:25:05] WARNING: ../src/learner.cc:767: \n",
            "Parameters: { \"extra_trees\", \"n_estimators\" } are not used.\n",
            "\n"
          ]
        },
        {
          "output_type": "stream",
          "name": "stderr",
          "text": [
            "\u001b[32m[I 2023-04-04 23:25:10,387]\u001b[0m Trial 69 pruned. Trial was pruned at iteration 0.\u001b[0m\n"
          ]
        },
        {
          "output_type": "stream",
          "name": "stdout",
          "text": [
            "[23:25:11] WARNING: ../src/learner.cc:767: \n",
            "Parameters: { \"extra_trees\", \"n_estimators\" } are not used.\n",
            "\n",
            "[0]\tvalidation-auc:0.89675\n"
          ]
        },
        {
          "output_type": "stream",
          "name": "stderr",
          "text": [
            "\u001b[32m[I 2023-04-04 23:25:22,039]\u001b[0m Trial 70 pruned. Trial was pruned at iteration 1.\u001b[0m\n"
          ]
        },
        {
          "output_type": "stream",
          "name": "stdout",
          "text": [
            "[23:25:22] WARNING: ../src/learner.cc:767: \n",
            "Parameters: { \"extra_trees\", \"n_estimators\" } are not used.\n",
            "\n",
            "[0]\tvalidation-auc:0.89815\n",
            "[1]\tvalidation-auc:0.90722\n"
          ]
        },
        {
          "output_type": "stream",
          "name": "stderr",
          "text": [
            "\u001b[32m[I 2023-04-04 23:25:32,077]\u001b[0m Trial 71 pruned. Trial was pruned at iteration 1.\u001b[0m\n"
          ]
        },
        {
          "output_type": "stream",
          "name": "stdout",
          "text": [
            "[23:25:32] WARNING: ../src/learner.cc:767: \n",
            "Parameters: { \"extra_trees\", \"n_estimators\" } are not used.\n",
            "\n",
            "[0]\tvalidation-auc:0.89565\n"
          ]
        },
        {
          "output_type": "stream",
          "name": "stderr",
          "text": [
            "\u001b[32m[I 2023-04-04 23:25:42,252]\u001b[0m Trial 72 pruned. Trial was pruned at iteration 1.\u001b[0m\n"
          ]
        },
        {
          "output_type": "stream",
          "name": "stdout",
          "text": [
            "[23:25:42] WARNING: ../src/learner.cc:767: \n",
            "Parameters: { \"extra_trees\", \"n_estimators\" } are not used.\n",
            "\n"
          ]
        },
        {
          "output_type": "stream",
          "name": "stderr",
          "text": [
            "\u001b[32m[I 2023-04-04 23:25:50,238]\u001b[0m Trial 73 pruned. Trial was pruned at iteration 0.\u001b[0m\n"
          ]
        },
        {
          "output_type": "stream",
          "name": "stdout",
          "text": [
            "[23:25:50] WARNING: ../src/learner.cc:767: \n",
            "Parameters: { \"extra_trees\", \"n_estimators\" } are not used.\n",
            "\n",
            "[0]\tvalidation-auc:0.89515\n",
            "[1]\tvalidation-auc:0.90782\n"
          ]
        },
        {
          "output_type": "stream",
          "name": "stderr",
          "text": [
            "\u001b[32m[I 2023-04-04 23:26:01,566]\u001b[0m Trial 74 pruned. Trial was pruned at iteration 1.\u001b[0m\n"
          ]
        },
        {
          "output_type": "stream",
          "name": "stdout",
          "text": [
            "[23:26:02] WARNING: ../src/learner.cc:767: \n",
            "Parameters: { \"extra_trees\", \"n_estimators\" } are not used.\n",
            "\n",
            "[0]\tvalidation-auc:0.89848\n"
          ]
        },
        {
          "output_type": "stream",
          "name": "stderr",
          "text": [
            "\u001b[32m[I 2023-04-04 23:26:11,412]\u001b[0m Trial 75 pruned. Trial was pruned at iteration 1.\u001b[0m\n"
          ]
        },
        {
          "output_type": "stream",
          "name": "stdout",
          "text": [
            "[23:26:12] WARNING: ../src/learner.cc:767: \n",
            "Parameters: { \"extra_trees\", \"n_estimators\" } are not used.\n",
            "\n",
            "[0]\tvalidation-auc:0.89503\n",
            "[1]\tvalidation-auc:0.90892\n"
          ]
        },
        {
          "output_type": "stream",
          "name": "stderr",
          "text": [
            "\u001b[32m[I 2023-04-04 23:26:23,241]\u001b[0m Trial 76 pruned. Trial was pruned at iteration 1.\u001b[0m\n"
          ]
        },
        {
          "output_type": "stream",
          "name": "stdout",
          "text": [
            "[23:26:23] WARNING: ../src/learner.cc:767: \n",
            "Parameters: { \"extra_trees\", \"n_estimators\" } are not used.\n",
            "\n",
            "[0]\tvalidation-auc:0.89546\n"
          ]
        },
        {
          "output_type": "stream",
          "name": "stderr",
          "text": [
            "\u001b[32m[I 2023-04-04 23:26:34,224]\u001b[0m Trial 77 pruned. Trial was pruned at iteration 1.\u001b[0m\n"
          ]
        },
        {
          "output_type": "stream",
          "name": "stdout",
          "text": [
            "[23:26:34] WARNING: ../src/learner.cc:767: \n",
            "Parameters: { \"extra_trees\", \"max_depth\", \"n_estimators\" } are not used.\n",
            "\n",
            "[0]\tvalidation-auc:0.89761\n",
            "[1]\tvalidation-auc:0.89874\n"
          ]
        },
        {
          "output_type": "stream",
          "name": "stderr",
          "text": [
            "\u001b[32m[I 2023-04-04 23:26:35,212]\u001b[0m Trial 78 pruned. Trial was pruned at iteration 1.\u001b[0m\n"
          ]
        },
        {
          "output_type": "stream",
          "name": "stdout",
          "text": [
            "[23:26:35] WARNING: ../src/learner.cc:767: \n",
            "Parameters: { \"extra_trees\", \"n_estimators\" } are not used.\n",
            "\n",
            "[0]\tvalidation-auc:0.89739\n",
            "[1]\tvalidation-auc:0.90909\n"
          ]
        },
        {
          "output_type": "stream",
          "name": "stderr",
          "text": [
            "\u001b[32m[I 2023-04-04 23:26:46,590]\u001b[0m Trial 79 pruned. Trial was pruned at iteration 1.\u001b[0m\n"
          ]
        },
        {
          "output_type": "stream",
          "name": "stdout",
          "text": [
            "[23:26:47] WARNING: ../src/learner.cc:767: \n",
            "Parameters: { \"extra_trees\", \"n_estimators\" } are not used.\n",
            "\n",
            "[0]\tvalidation-auc:0.89772\n",
            "[1]\tvalidation-auc:0.90763\n"
          ]
        },
        {
          "output_type": "stream",
          "name": "stderr",
          "text": [
            "\u001b[32m[I 2023-04-04 23:26:55,089]\u001b[0m Trial 80 pruned. Trial was pruned at iteration 1.\u001b[0m\n"
          ]
        },
        {
          "output_type": "stream",
          "name": "stdout",
          "text": [
            "[23:26:55] WARNING: ../src/learner.cc:767: \n",
            "Parameters: { \"extra_trees\", \"n_estimators\" } are not used.\n",
            "\n",
            "[0]\tvalidation-auc:0.89766\n",
            "[1]\tvalidation-auc:0.90968\n",
            "[2]\tvalidation-auc:0.91730\n"
          ]
        },
        {
          "output_type": "stream",
          "name": "stderr",
          "text": [
            "\u001b[32m[I 2023-04-04 23:27:09,377]\u001b[0m Trial 81 pruned. Trial was pruned at iteration 2.\u001b[0m\n"
          ]
        }
      ]
    },
    {
      "cell_type": "markdown",
      "source": [
        "## Best XGBoster Model from Optuna"
      ],
      "metadata": {
        "id": "EAtP6sI_6iFS"
      }
    },
    {
      "cell_type": "code",
      "source": [
        "study.best_params"
      ],
      "metadata": {
        "colab": {
          "base_uri": "https://localhost:8080/"
        },
        "id": "gv-h-Ci5ERiA",
        "outputId": "354b6a73-f61d-4a8a-8a6b-f250e474b2bd"
      },
      "execution_count": 35,
      "outputs": [
        {
          "output_type": "execute_result",
          "data": {
            "text/plain": [
              "{'n_estimators': 81,\n",
              " 'max_depth': 287,\n",
              " 'learning_rate': 0.3491838107998255,\n",
              " 'booster': 'gbtree',\n",
              " 'lambda': 0.9167625640775877,\n",
              " 'alpha': 0.05477693729517126,\n",
              " 'eta': 0.7318011144393137,\n",
              " 'gamma': 0.7707785070774437,\n",
              " 'grow_policy': 'depthwise'}"
            ]
          },
          "metadata": {},
          "execution_count": 35
        }
      ]
    },
    {
      "cell_type": "code",
      "source": [
        "clf_xgb_opt= XGBClassifier(**study.best_params)"
      ],
      "metadata": {
        "id": "aQjDz7Kv38O8"
      },
      "execution_count": 36,
      "outputs": []
    },
    {
      "cell_type": "code",
      "source": [
        "clf_xgb_opt.fit(X_train, y_train)"
      ],
      "metadata": {
        "colab": {
          "base_uri": "https://localhost:8080/",
          "height": 251
        },
        "id": "A3yi4nl86rgf",
        "outputId": "a1a259bc-29c0-4f36-a2e2-1bdf25447533"
      },
      "execution_count": 37,
      "outputs": [
        {
          "output_type": "execute_result",
          "data": {
            "text/plain": [
              "XGBClassifier(alpha=0.05477693729517126, base_score=None, booster='gbtree',\n",
              "              callbacks=None, colsample_bylevel=None, colsample_bynode=None,\n",
              "              colsample_bytree=None, early_stopping_rounds=None,\n",
              "              enable_categorical=False, eta=0.7318011144393137,\n",
              "              eval_metric=None, feature_types=None, gamma=0.7707785070774437,\n",
              "              gpu_id=None, grow_policy='depthwise', importance_type=None,\n",
              "              interaction_constraints=None, lambda=0.9167625640775877,\n",
              "              learning_rate=0.3491838107998255, max_bin=None,\n",
              "              max_cat_threshold=None, max_cat_to_onehot=None,\n",
              "              max_delta_step=None, max_depth=287, max_leaves=None,\n",
              "              min_child_weight=None, missing=nan, monotone_constraints=None,\n",
              "              n_estimators=81, n_jobs=None, ...)"
            ],
            "text/html": [
              "<style>#sk-container-id-3 {color: black;background-color: white;}#sk-container-id-3 pre{padding: 0;}#sk-container-id-3 div.sk-toggleable {background-color: white;}#sk-container-id-3 label.sk-toggleable__label {cursor: pointer;display: block;width: 100%;margin-bottom: 0;padding: 0.3em;box-sizing: border-box;text-align: center;}#sk-container-id-3 label.sk-toggleable__label-arrow:before {content: \"▸\";float: left;margin-right: 0.25em;color: #696969;}#sk-container-id-3 label.sk-toggleable__label-arrow:hover:before {color: black;}#sk-container-id-3 div.sk-estimator:hover label.sk-toggleable__label-arrow:before {color: black;}#sk-container-id-3 div.sk-toggleable__content {max-height: 0;max-width: 0;overflow: hidden;text-align: left;background-color: #f0f8ff;}#sk-container-id-3 div.sk-toggleable__content pre {margin: 0.2em;color: black;border-radius: 0.25em;background-color: #f0f8ff;}#sk-container-id-3 input.sk-toggleable__control:checked~div.sk-toggleable__content {max-height: 200px;max-width: 100%;overflow: auto;}#sk-container-id-3 input.sk-toggleable__control:checked~label.sk-toggleable__label-arrow:before {content: \"▾\";}#sk-container-id-3 div.sk-estimator input.sk-toggleable__control:checked~label.sk-toggleable__label {background-color: #d4ebff;}#sk-container-id-3 div.sk-label input.sk-toggleable__control:checked~label.sk-toggleable__label {background-color: #d4ebff;}#sk-container-id-3 input.sk-hidden--visually {border: 0;clip: rect(1px 1px 1px 1px);clip: rect(1px, 1px, 1px, 1px);height: 1px;margin: -1px;overflow: hidden;padding: 0;position: absolute;width: 1px;}#sk-container-id-3 div.sk-estimator {font-family: monospace;background-color: #f0f8ff;border: 1px dotted black;border-radius: 0.25em;box-sizing: border-box;margin-bottom: 0.5em;}#sk-container-id-3 div.sk-estimator:hover {background-color: #d4ebff;}#sk-container-id-3 div.sk-parallel-item::after {content: \"\";width: 100%;border-bottom: 1px solid gray;flex-grow: 1;}#sk-container-id-3 div.sk-label:hover label.sk-toggleable__label {background-color: #d4ebff;}#sk-container-id-3 div.sk-serial::before {content: \"\";position: absolute;border-left: 1px solid gray;box-sizing: border-box;top: 0;bottom: 0;left: 50%;z-index: 0;}#sk-container-id-3 div.sk-serial {display: flex;flex-direction: column;align-items: center;background-color: white;padding-right: 0.2em;padding-left: 0.2em;position: relative;}#sk-container-id-3 div.sk-item {position: relative;z-index: 1;}#sk-container-id-3 div.sk-parallel {display: flex;align-items: stretch;justify-content: center;background-color: white;position: relative;}#sk-container-id-3 div.sk-item::before, #sk-container-id-3 div.sk-parallel-item::before {content: \"\";position: absolute;border-left: 1px solid gray;box-sizing: border-box;top: 0;bottom: 0;left: 50%;z-index: -1;}#sk-container-id-3 div.sk-parallel-item {display: flex;flex-direction: column;z-index: 1;position: relative;background-color: white;}#sk-container-id-3 div.sk-parallel-item:first-child::after {align-self: flex-end;width: 50%;}#sk-container-id-3 div.sk-parallel-item:last-child::after {align-self: flex-start;width: 50%;}#sk-container-id-3 div.sk-parallel-item:only-child::after {width: 0;}#sk-container-id-3 div.sk-dashed-wrapped {border: 1px dashed gray;margin: 0 0.4em 0.5em 0.4em;box-sizing: border-box;padding-bottom: 0.4em;background-color: white;}#sk-container-id-3 div.sk-label label {font-family: monospace;font-weight: bold;display: inline-block;line-height: 1.2em;}#sk-container-id-3 div.sk-label-container {text-align: center;}#sk-container-id-3 div.sk-container {/* jupyter's `normalize.less` sets `[hidden] { display: none; }` but bootstrap.min.css set `[hidden] { display: none !important; }` so we also need the `!important` here to be able to override the default hidden behavior on the sphinx rendered scikit-learn.org. See: https://github.com/scikit-learn/scikit-learn/issues/21755 */display: inline-block !important;position: relative;}#sk-container-id-3 div.sk-text-repr-fallback {display: none;}</style><div id=\"sk-container-id-3\" class=\"sk-top-container\"><div class=\"sk-text-repr-fallback\"><pre>XGBClassifier(alpha=0.05477693729517126, base_score=None, booster=&#x27;gbtree&#x27;,\n",
              "              callbacks=None, colsample_bylevel=None, colsample_bynode=None,\n",
              "              colsample_bytree=None, early_stopping_rounds=None,\n",
              "              enable_categorical=False, eta=0.7318011144393137,\n",
              "              eval_metric=None, feature_types=None, gamma=0.7707785070774437,\n",
              "              gpu_id=None, grow_policy=&#x27;depthwise&#x27;, importance_type=None,\n",
              "              interaction_constraints=None, lambda=0.9167625640775877,\n",
              "              learning_rate=0.3491838107998255, max_bin=None,\n",
              "              max_cat_threshold=None, max_cat_to_onehot=None,\n",
              "              max_delta_step=None, max_depth=287, max_leaves=None,\n",
              "              min_child_weight=None, missing=nan, monotone_constraints=None,\n",
              "              n_estimators=81, n_jobs=None, ...)</pre><b>In a Jupyter environment, please rerun this cell to show the HTML representation or trust the notebook. <br />On GitHub, the HTML representation is unable to render, please try loading this page with nbviewer.org.</b></div><div class=\"sk-container\" hidden><div class=\"sk-item\"><div class=\"sk-estimator sk-toggleable\"><input class=\"sk-toggleable__control sk-hidden--visually\" id=\"sk-estimator-id-3\" type=\"checkbox\" checked><label for=\"sk-estimator-id-3\" class=\"sk-toggleable__label sk-toggleable__label-arrow\">XGBClassifier</label><div class=\"sk-toggleable__content\"><pre>XGBClassifier(alpha=0.05477693729517126, base_score=None, booster=&#x27;gbtree&#x27;,\n",
              "              callbacks=None, colsample_bylevel=None, colsample_bynode=None,\n",
              "              colsample_bytree=None, early_stopping_rounds=None,\n",
              "              enable_categorical=False, eta=0.7318011144393137,\n",
              "              eval_metric=None, feature_types=None, gamma=0.7707785070774437,\n",
              "              gpu_id=None, grow_policy=&#x27;depthwise&#x27;, importance_type=None,\n",
              "              interaction_constraints=None, lambda=0.9167625640775877,\n",
              "              learning_rate=0.3491838107998255, max_bin=None,\n",
              "              max_cat_threshold=None, max_cat_to_onehot=None,\n",
              "              max_delta_step=None, max_depth=287, max_leaves=None,\n",
              "              min_child_weight=None, missing=nan, monotone_constraints=None,\n",
              "              n_estimators=81, n_jobs=None, ...)</pre></div></div></div></div></div>"
            ]
          },
          "metadata": {},
          "execution_count": 37
        }
      ]
    },
    {
      "cell_type": "code",
      "source": [
        "y_pred = clf_xgb_opt.predict(X_test)\n",
        "cm= confusion_matrix(y_test,y_pred)\n",
        "disp = ConfusionMatrixDisplay(confusion_matrix=cm)\n",
        "disp.plot()\n",
        "plt.show()"
      ],
      "metadata": {
        "colab": {
          "base_uri": "https://localhost:8080/",
          "height": 449
        },
        "id": "RMicN0SP6ysg",
        "outputId": "80e2dbf7-2be4-4ab3-a4a4-274698d95065"
      },
      "execution_count": 38,
      "outputs": [
        {
          "output_type": "display_data",
          "data": {
            "text/plain": [
              "<Figure size 640x480 with 2 Axes>"
            ],
            "image/png": "[encoded data removed]"
          },
          "metadata": {}
        }
      ]
    },
    {
      "cell_type": "code",
      "source": [
        "print(classification_report(y_train, clf_xgb.predict(X_train)))"
      ],
      "metadata": {
        "colab": {
          "base_uri": "https://localhost:8080/"
        },
        "id": "Mb512VWt7ZSc",
        "outputId": "adda95e0-f068-4774-c88f-e167e12fb57a"
      },
      "execution_count": 39,
      "outputs": [
        {
          "output_type": "stream",
          "name": "stdout",
          "text": [
            "              precision    recall  f1-score   support\n",
            "\n",
            "           0       1.00      1.00      1.00      5818\n",
            "           1       1.00      1.00      1.00      5831\n",
            "\n",
            "    accuracy                           1.00     11649\n",
            "   macro avg       1.00      1.00      1.00     11649\n",
            "weighted avg       1.00      1.00      1.00     11649\n",
            "\n"
          ]
        }
      ]
    },
    {
      "cell_type": "code",
      "source": [
        "print(classification_report(y_test, y_pred))"
      ],
      "metadata": {
        "colab": {
          "base_uri": "https://localhost:8080/"
        },
        "id": "0nZOHgfT8JZw",
        "outputId": "dde450df-37f4-42ee-bffb-530ba67bb0d3"
      },
      "execution_count": 40,
      "outputs": [
        {
          "output_type": "stream",
          "name": "stdout",
          "text": [
            "              precision    recall  f1-score   support\n",
            "\n",
            "           0       0.87      0.93      0.90      1454\n",
            "           1       0.93      0.86      0.89      1459\n",
            "\n",
            "    accuracy                           0.89      2913\n",
            "   macro avg       0.90      0.89      0.89      2913\n",
            "weighted avg       0.90      0.89      0.89      2913\n",
            "\n"
          ]
        }
      ]
    },
    {
      "cell_type": "code",
      "source": [
        "fpr_rf, tpr_rf, _ = roc_curve(y_test, clf_xgb_opt.predict(X_test))\n",
        "\n",
        "plt.figure(1)\n",
        "plt.plot([0, 1], [0, 1], 'k--')\n",
        "plt.plot(fpr_rf, tpr_rf, label='Random Forest - Optuna')\n",
        "plt.xlabel('False positive rate')\n",
        "plt.ylabel('True positive rate')\n",
        "plt.title('ROC curve - Test Data - Batch_2')\n",
        "plt.legend(loc='best')\n",
        "plt.show()"
      ],
      "metadata": {
        "colab": {
          "base_uri": "https://localhost:8080/",
          "height": 472
        },
        "id": "mA1E81FC8O7-",
        "outputId": "49e5d1ab-c405-4075-fca9-712bfd3a3eae"
      },
      "execution_count": 41,
      "outputs": [
        {
          "output_type": "display_data",
          "data": {
            "text/plain": [
              "<Figure size 640x480 with 1 Axes>"
            ],
            "image/png": "[encoded data removed]"
          },
          "metadata": {}
        }
      ]
    },
    {
      "cell_type": "code",
      "source": [],
      "metadata": {
        "id": "3Bjco3x98ZIr"
      },
      "execution_count": 41,
      "outputs": []
    }
  ]
}