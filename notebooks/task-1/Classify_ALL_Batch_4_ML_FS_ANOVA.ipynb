{
  "nbformat": 4,
  "nbformat_minor": 0,
  "metadata": {
    "colab": {
      "provenance": [],
      "machine_shape": "hm"
    },
    "kernelspec": {
      "name": "python3",
      "display_name": "Python 3"
    },
    "language_info": {
      "name": "python"
    },
    "accelerator": "GPU",
    "gpuClass": "premium"
  },
  "cells": [
    {
      "cell_type": "markdown",
      "source": [
        "# Project Description\n",
        "\n",
        "\n",
        "Detecting Pediatric Acute Lymphoblastic Leukemia using Computer Vision\n",
        "\n",
        "https://omdena.com/chapter-challenges/detecting-pediatric-acute-lymphoblastic-leukemia-using-computer-vision/"
      ],
      "metadata": {
        "id": "sp36hk4_W93x"
      }
    },
    {
      "cell_type": "markdown",
      "source": [
        "# Mount Google Drive"
      ],
      "metadata": {
        "id": "hztnIQgx7jWu"
      }
    },
    {
      "cell_type": "code",
      "source": [
        "from google.colab import drive\n",
        "drive.mount('/content/drive')"
      ],
      "metadata": {
        "colab": {
          "base_uri": "https://localhost:8080/"
        },
        "id": "2EoWACMl7jC-",
        "outputId": "76a09aa1-5860-4225-e79d-8d9b2daade85"
      },
      "execution_count": 2,
      "outputs": [
        {
          "output_type": "stream",
          "name": "stdout",
          "text": [
            "Mounted at /content/drive\n"
          ]
        }
      ]
    },
    {
      "cell_type": "markdown",
      "source": [
        "# Install Required Packages"
      ],
      "metadata": {
        "id": "0FYPubi9agxi"
      }
    },
    {
      "cell_type": "code",
      "source": [
        "!pip install optuna"
      ],
      "metadata": {
        "colab": {
          "base_uri": "https://localhost:8080/"
        },
        "id": "Kohrf4mEakX4",
        "outputId": "c27e5b94-73a4-40bb-fed8-88979b66db6a"
      },
      "execution_count": 3,
      "outputs": [
        {
          "output_type": "stream",
          "name": "stdout",
          "text": [
            "Looking in indexes: https://pypi.org/simple, https://us-python.pkg.dev/colab-wheels/public/simple/\n",
            "Collecting optuna\n",
            "  Downloading optuna-3.1.1-py3-none-any.whl (365 kB)\n",
            "\u001b[2K     \u001b[90m━━━━━━━━━━━━━━━━━━━━━━━━━━━━━━━━━━━━━━\u001b[0m \u001b[32m365.7/365.7 kB\u001b[0m \u001b[31m15.6 MB/s\u001b[0m eta \u001b[36m0:00:00\u001b[0m\n",
            "\u001b[?25hRequirement already satisfied: packaging>=20.0 in /usr/local/lib/python3.9/dist-packages (from optuna) (23.0)\n",
            "Requirement already satisfied: tqdm in /usr/local/lib/python3.9/dist-packages (from optuna) (4.65.0)\n",
            "Requirement already satisfied: PyYAML in /usr/local/lib/python3.9/dist-packages (from optuna) (6.0)\n",
            "Requirement already satisfied: sqlalchemy>=1.3.0 in /usr/local/lib/python3.9/dist-packages (from optuna) (2.0.9)\n",
            "Collecting alembic>=1.5.0\n",
            "  Downloading alembic-1.10.3-py3-none-any.whl (212 kB)\n",
            "\u001b[2K     \u001b[90m━━━━━━━━━━━━━━━━━━━━━━━━━━━━━━━━━━━━━━\u001b[0m \u001b[32m212.3/212.3 kB\u001b[0m \u001b[31m24.7 MB/s\u001b[0m eta \u001b[36m0:00:00\u001b[0m\n",
            "\u001b[?25hCollecting colorlog\n",
            "  Downloading colorlog-6.7.0-py2.py3-none-any.whl (11 kB)\n",
            "Requirement already satisfied: numpy in /usr/local/lib/python3.9/dist-packages (from optuna) (1.22.4)\n",
            "Collecting cmaes>=0.9.1\n",
            "  Downloading cmaes-0.9.1-py3-none-any.whl (21 kB)\n",
            "Requirement already satisfied: typing-extensions>=4 in /usr/local/lib/python3.9/dist-packages (from alembic>=1.5.0->optuna) (4.5.0)\n",
            "Collecting Mako\n",
            "  Downloading Mako-1.2.4-py3-none-any.whl (78 kB)\n",
            "\u001b[2K     \u001b[90m━━━━━━━━━━━━━━━━━━━━━━━━━━━━━━━━━━━━━━━━\u001b[0m \u001b[32m78.7/78.7 kB\u001b[0m \u001b[31m10.4 MB/s\u001b[0m eta \u001b[36m0:00:00\u001b[0m\n",
            "\u001b[?25hRequirement already satisfied: greenlet!=0.4.17 in /usr/local/lib/python3.9/dist-packages (from sqlalchemy>=1.3.0->optuna) (2.0.2)\n",
            "Requirement already satisfied: MarkupSafe>=0.9.2 in /usr/local/lib/python3.9/dist-packages (from Mako->alembic>=1.5.0->optuna) (2.1.2)\n",
            "Installing collected packages: Mako, colorlog, cmaes, alembic, optuna\n",
            "Successfully installed Mako-1.2.4 alembic-1.10.3 cmaes-0.9.1 colorlog-6.7.0 optuna-3.1.1\n"
          ]
        }
      ]
    },
    {
      "cell_type": "markdown",
      "source": [
        "# Imports"
      ],
      "metadata": {
        "id": "vdvzKQ3U5u1m"
      }
    },
    {
      "cell_type": "code",
      "execution_count": 4,
      "metadata": {
        "id": "9acYcSBp5enI"
      },
      "outputs": [],
      "source": [
        "import pandas as pd\n",
        "import numpy as np\n",
        "\n",
        "import matplotlib.pyplot as plt\n",
        "%matplotlib inline\n",
        "import seaborn as sns\n",
        "  \n",
        "\n",
        "from sklearn.preprocessing import StandardScaler\n",
        "\n",
        "from sklearn.linear_model import LogisticRegression\n",
        "from sklearn.ensemble import RandomForestClassifier\n",
        "from xgboost import XGBClassifier\n",
        "\n",
        "import sklearn.metrics\n",
        "from sklearn.metrics import confusion_matrix, ConfusionMatrixDisplay\n",
        "from sklearn.metrics import roc_curve, auc\n",
        "from sklearn.metrics import classification_report\n",
        "\n",
        "from sklearn.feature_selection import SelectKBest\n",
        "from sklearn.feature_selection import f_classif\n",
        "\n",
        "import optuna\n",
        "\n",
        "\n"
      ]
    },
    {
      "cell_type": "markdown",
      "source": [
        "# Load Data - Batch 4\n"
      ],
      "metadata": {
        "id": "4F8M-Ci373du"
      }
    },
    {
      "cell_type": "code",
      "source": [
        "!unzip '/content/drive/MyDrive/omdena_liverpool_all/C-NMC_Leukemia/training_test_pickle/batch_4.zip'"
      ],
      "metadata": {
        "colab": {
          "base_uri": "https://localhost:8080/"
        },
        "id": "b8BJXmk4709W",
        "outputId": "b9a57a19-b259-4511-cc63-d6946fc19c40"
      },
      "execution_count": 5,
      "outputs": [
        {
          "output_type": "stream",
          "name": "stdout",
          "text": [
            "Archive:  /content/drive/MyDrive/omdena_liverpool_all/C-NMC_Leukemia/training_test_pickle/batch_4.zip\n",
            " extracting: batch_4/class_labels.txt  \n",
            "  inflating: batch_4/test_data.pickle  \n",
            "  inflating: batch_4/train_data.pickle  \n"
          ]
        }
      ]
    },
    {
      "cell_type": "code",
      "source": [
        "df_train = pd.read_pickle('./batch_4/train_data.pickle')\n",
        "df_test = pd.read_pickle('./batch_4/test_data.pickle')"
      ],
      "metadata": {
        "id": "kfH03qOY8LRk"
      },
      "execution_count": 6,
      "outputs": []
    },
    {
      "cell_type": "code",
      "source": [
        "df_train.info()"
      ],
      "metadata": {
        "colab": {
          "base_uri": "https://localhost:8080/"
        },
        "id": "78EnG3h58kB0",
        "outputId": "1a50ba29-191f-4deb-cc5e-8af06418b1a3"
      },
      "execution_count": 7,
      "outputs": [
        {
          "output_type": "stream",
          "name": "stdout",
          "text": [
            "<class 'pandas.core.frame.DataFrame'>\n",
            "RangeIndex: 11917 entries, 0 to 11916\n",
            "Columns: 4609 entries, 0 to label\n",
            "dtypes: float32(4608), int32(1)\n",
            "memory usage: 209.5 MB\n"
          ]
        }
      ]
    },
    {
      "cell_type": "code",
      "source": [
        "df_train.head()"
      ],
      "metadata": {
        "colab": {
          "base_uri": "https://localhost:8080/",
          "height": 235
        },
        "id": "usBS3pRI8sGF",
        "outputId": "7af4735a-d32c-4fa7-bac3-1ef340ac04fe"
      },
      "execution_count": 8,
      "outputs": [
        {
          "output_type": "execute_result",
          "data": {
            "text/plain": [
              "          0    1        2         3    4    5    6         7    8    9  ...  \\\n",
              "0  0.185833  0.0  0.00000  0.000000  0.0  0.0  0.0  0.231458  0.0  0.0  ...   \n",
              "1  0.123157  0.0  0.56544  0.350086  0.0  0.0  0.0  0.228849  0.0  0.0  ...   \n",
              "2  0.197977  0.0  0.00000  0.000000  0.0  0.0  0.0  0.155163  0.0  0.0  ...   \n",
              "3  0.580151  0.0  0.00000  0.000000  0.0  0.0  0.0  0.298566  0.0  0.0  ...   \n",
              "4  0.066450  0.0  0.00000  0.000000  0.0  0.0  0.0  0.145156  0.0  0.0  ...   \n",
              "\n",
              "       4599      4600  4601      4602      4603  4604  4605      4606  4607  \\\n",
              "0  0.545079  0.170755   0.0  0.096298  0.174819   0.0   0.0  0.361853   0.0   \n",
              "1  0.663390  0.115025   0.0  0.099379  0.516193   0.0   0.0  0.239392   0.0   \n",
              "2  0.663023  0.021846   0.0  0.000000  0.173690   0.0   0.0  0.270634   0.0   \n",
              "3  0.470815  0.000000   0.0  0.000000  0.118325   0.0   0.0  0.000000   0.0   \n",
              "4  0.645798  0.015262   0.0  0.027536  0.275665   0.0   0.0  0.000000   0.0   \n",
              "\n",
              "   label  \n",
              "0      0  \n",
              "1      1  \n",
              "2      1  \n",
              "3      0  \n",
              "4      0  \n",
              "\n",
              "[5 rows x 4609 columns]"
            ],
            "text/html": [
              "\n",
              "  <div id=\"df-e8d31a00-c9b7-4b10-8f9c-f78731810a0d\">\n",
              "    <div class=\"colab-df-container\">\n",
              "      <div>\n",
              "<style scoped>\n",
              "    .dataframe tbody tr th:only-of-type {\n",
              "        vertical-align: middle;\n",
              "    }\n",
              "\n",
              "    .dataframe tbody tr th {\n",
              "        vertical-align: top;\n",
              "    }\n",
              "\n",
              "    .dataframe thead th {\n",
              "        text-align: right;\n",
              "    }\n",
              "</style>\n",
              "<table border=\"1\" class=\"dataframe\">\n",
              "  <thead>\n",
              "    <tr style=\"text-align: right;\">\n",
              "      <th></th>\n",
              "      <th>0</th>\n",
              "      <th>1</th>\n",
              "      <th>2</th>\n",
              "      <th>3</th>\n",
              "      <th>4</th>\n",
              "      <th>5</th>\n",
              "      <th>6</th>\n",
              "      <th>7</th>\n",
              "      <th>8</th>\n",
              "      <th>9</th>\n",
              "      <th>...</th>\n",
              "      <th>4599</th>\n",
              "      <th>4600</th>\n",
              "      <th>4601</th>\n",
              "      <th>4602</th>\n",
              "      <th>4603</th>\n",
              "      <th>4604</th>\n",
              "      <th>4605</th>\n",
              "      <th>4606</th>\n",
              "      <th>4607</th>\n",
              "      <th>label</th>\n",
              "    </tr>\n",
              "  </thead>\n",
              "  <tbody>\n",
              "    <tr>\n",
              "      <th>0</th>\n",
              "      <td>0.185833</td>\n",
              "      <td>0.0</td>\n",
              "      <td>0.00000</td>\n",
              "      <td>0.000000</td>\n",
              "      <td>0.0</td>\n",
              "      <td>0.0</td>\n",
              "      <td>0.0</td>\n",
              "      <td>0.231458</td>\n",
              "      <td>0.0</td>\n",
              "      <td>0.0</td>\n",
              "      <td>...</td>\n",
              "      <td>0.545079</td>\n",
              "      <td>0.170755</td>\n",
              "      <td>0.0</td>\n",
              "      <td>0.096298</td>\n",
              "      <td>0.174819</td>\n",
              "      <td>0.0</td>\n",
              "      <td>0.0</td>\n",
              "      <td>0.361853</td>\n",
              "      <td>0.0</td>\n",
              "      <td>0</td>\n",
              "    </tr>\n",
              "    <tr>\n",
              "      <th>1</th>\n",
              "      <td>0.123157</td>\n",
              "      <td>0.0</td>\n",
              "      <td>0.56544</td>\n",
              "      <td>0.350086</td>\n",
              "      <td>0.0</td>\n",
              "      <td>0.0</td>\n",
              "      <td>0.0</td>\n",
              "      <td>0.228849</td>\n",
              "      <td>0.0</td>\n",
              "      <td>0.0</td>\n",
              "      <td>...</td>\n",
              "      <td>0.663390</td>\n",
              "      <td>0.115025</td>\n",
              "      <td>0.0</td>\n",
              "      <td>0.099379</td>\n",
              "      <td>0.516193</td>\n",
              "      <td>0.0</td>\n",
              "      <td>0.0</td>\n",
              "      <td>0.239392</td>\n",
              "      <td>0.0</td>\n",
              "      <td>1</td>\n",
              "    </tr>\n",
              "    <tr>\n",
              "      <th>2</th>\n",
              "      <td>0.197977</td>\n",
              "      <td>0.0</td>\n",
              "      <td>0.00000</td>\n",
              "      <td>0.000000</td>\n",
              "      <td>0.0</td>\n",
              "      <td>0.0</td>\n",
              "      <td>0.0</td>\n",
              "      <td>0.155163</td>\n",
              "      <td>0.0</td>\n",
              "      <td>0.0</td>\n",
              "      <td>...</td>\n",
              "      <td>0.663023</td>\n",
              "      <td>0.021846</td>\n",
              "      <td>0.0</td>\n",
              "      <td>0.000000</td>\n",
              "      <td>0.173690</td>\n",
              "      <td>0.0</td>\n",
              "      <td>0.0</td>\n",
              "      <td>0.270634</td>\n",
              "      <td>0.0</td>\n",
              "      <td>1</td>\n",
              "    </tr>\n",
              "    <tr>\n",
              "      <th>3</th>\n",
              "      <td>0.580151</td>\n",
              "      <td>0.0</td>\n",
              "      <td>0.00000</td>\n",
              "      <td>0.000000</td>\n",
              "      <td>0.0</td>\n",
              "      <td>0.0</td>\n",
              "      <td>0.0</td>\n",
              "      <td>0.298566</td>\n",
              "      <td>0.0</td>\n",
              "      <td>0.0</td>\n",
              "      <td>...</td>\n",
              "      <td>0.470815</td>\n",
              "      <td>0.000000</td>\n",
              "      <td>0.0</td>\n",
              "      <td>0.000000</td>\n",
              "      <td>0.118325</td>\n",
              "      <td>0.0</td>\n",
              "      <td>0.0</td>\n",
              "      <td>0.000000</td>\n",
              "      <td>0.0</td>\n",
              "      <td>0</td>\n",
              "    </tr>\n",
              "    <tr>\n",
              "      <th>4</th>\n",
              "      <td>0.066450</td>\n",
              "      <td>0.0</td>\n",
              "      <td>0.00000</td>\n",
              "      <td>0.000000</td>\n",
              "      <td>0.0</td>\n",
              "      <td>0.0</td>\n",
              "      <td>0.0</td>\n",
              "      <td>0.145156</td>\n",
              "      <td>0.0</td>\n",
              "      <td>0.0</td>\n",
              "      <td>...</td>\n",
              "      <td>0.645798</td>\n",
              "      <td>0.015262</td>\n",
              "      <td>0.0</td>\n",
              "      <td>0.027536</td>\n",
              "      <td>0.275665</td>\n",
              "      <td>0.0</td>\n",
              "      <td>0.0</td>\n",
              "      <td>0.000000</td>\n",
              "      <td>0.0</td>\n",
              "      <td>0</td>\n",
              "    </tr>\n",
              "  </tbody>\n",
              "</table>\n",
              "<p>5 rows × 4609 columns</p>\n",
              "</div>\n",
              "      <button class=\"colab-df-convert\" onclick=\"convertToInteractive('df-e8d31a00-c9b7-4b10-8f9c-f78731810a0d')\"\n",
              "              title=\"Convert this dataframe to an interactive table.\"\n",
              "              style=\"display:none;\">\n",
              "        \n",
              "  <svg xmlns=\"http://www.w3.org/2000/svg\" height=\"24px\"viewBox=\"0 0 24 24\"\n",
              "       width=\"24px\">\n",
              "    <path d=\"M0 0h24v24H0V0z\" fill=\"none\"/>\n",
              "    <path d=\"M18.56 5.44l.94 2.06.94-2.06 2.06-.94-2.06-.94-.94-2.06-.94 2.06-2.06.94zm-11 1L8.5 8.5l.94-2.06 2.06-.94-2.06-.94L8.5 2.5l-.94 2.06-2.06.94zm10 10l.94 2.06.94-2.06 2.06-.94-2.06-.94-.94-2.06-.94 2.06-2.06.94z\"/><path d=\"M17.41 7.96l-1.37-1.37c-.4-.4-.92-.59-1.43-.59-.52 0-1.04.2-1.43.59L10.3 9.45l-7.72 7.72c-.78.78-.78 2.05 0 2.83L4 21.41c.39.39.9.59 1.41.59.51 0 1.02-.2 1.41-.59l7.78-7.78 2.81-2.81c.8-.78.8-2.07 0-2.86zM5.41 20L4 18.59l7.72-7.72 1.47 1.35L5.41 20z\"/>\n",
              "  </svg>\n",
              "      </button>\n",
              "      \n",
              "  <style>\n",
              "    .colab-df-container {\n",
              "      display:flex;\n",
              "      flex-wrap:wrap;\n",
              "      gap: 12px;\n",
              "    }\n",
              "\n",
              "    .colab-df-convert {\n",
              "      background-color: #E8F0FE;\n",
              "      border: none;\n",
              "      border-radius: 50%;\n",
              "      cursor: pointer;\n",
              "      display: none;\n",
              "      fill: #1967D2;\n",
              "      height: 32px;\n",
              "      padding: 0 0 0 0;\n",
              "      width: 32px;\n",
              "    }\n",
              "\n",
              "    .colab-df-convert:hover {\n",
              "      background-color: #E2EBFA;\n",
              "      box-shadow: 0px 1px 2px rgba(60, 64, 67, 0.3), 0px 1px 3px 1px rgba(60, 64, 67, 0.15);\n",
              "      fill: #174EA6;\n",
              "    }\n",
              "\n",
              "    [theme=dark] .colab-df-convert {\n",
              "      background-color: #3B4455;\n",
              "      fill: #D2E3FC;\n",
              "    }\n",
              "\n",
              "    [theme=dark] .colab-df-convert:hover {\n",
              "      background-color: #434B5C;\n",
              "      box-shadow: 0px 1px 3px 1px rgba(0, 0, 0, 0.15);\n",
              "      filter: drop-shadow(0px 1px 2px rgba(0, 0, 0, 0.3));\n",
              "      fill: #FFFFFF;\n",
              "    }\n",
              "  </style>\n",
              "\n",
              "      <script>\n",
              "        const buttonEl =\n",
              "          document.querySelector('#df-e8d31a00-c9b7-4b10-8f9c-f78731810a0d button.colab-df-convert');\n",
              "        buttonEl.style.display =\n",
              "          google.colab.kernel.accessAllowed ? 'block' : 'none';\n",
              "\n",
              "        async function convertToInteractive(key) {\n",
              "          const element = document.querySelector('#df-e8d31a00-c9b7-4b10-8f9c-f78731810a0d');\n",
              "          const dataTable =\n",
              "            await google.colab.kernel.invokeFunction('convertToInteractive',\n",
              "                                                     [key], {});\n",
              "          if (!dataTable) return;\n",
              "\n",
              "          const docLinkHtml = 'Like what you see? Visit the ' +\n",
              "            '<a target=\"_blank\" href=https://colab.research.google.com/notebooks/data_table.ipynb>data table notebook</a>'\n",
              "            + ' to learn more about interactive tables.';\n",
              "          element.innerHTML = '';\n",
              "          dataTable['output_type'] = 'display_data';\n",
              "          await google.colab.output.renderOutput(dataTable, element);\n",
              "          const docLink = document.createElement('div');\n",
              "          docLink.innerHTML = docLinkHtml;\n",
              "          element.appendChild(docLink);\n",
              "        }\n",
              "      </script>\n",
              "    </div>\n",
              "  </div>\n",
              "  "
            ]
          },
          "metadata": {},
          "execution_count": 8
        }
      ]
    },
    {
      "cell_type": "code",
      "source": [
        "df_train.shape"
      ],
      "metadata": {
        "colab": {
          "base_uri": "https://localhost:8080/"
        },
        "id": "u3_kxH1Z95ze",
        "outputId": "064aae70-83c3-419e-97a8-d93382c3d824"
      },
      "execution_count": 9,
      "outputs": [
        {
          "output_type": "execute_result",
          "data": {
            "text/plain": [
              "(11917, 4609)"
            ]
          },
          "metadata": {},
          "execution_count": 9
        }
      ]
    },
    {
      "cell_type": "code",
      "source": [
        "df_test.head()"
      ],
      "metadata": {
        "colab": {
          "base_uri": "https://localhost:8080/",
          "height": 235
        },
        "id": "ii39RwU58v93",
        "outputId": "3f97b2ec-5a38-4c45-ac2c-23c3953e2b95"
      },
      "execution_count": 10,
      "outputs": [
        {
          "output_type": "execute_result",
          "data": {
            "text/plain": [
              "          0    1         2         3    4    5    6         7    8    9  ...  \\\n",
              "0  0.141500  0.0  0.000000  0.000000  0.0  0.0  0.0  0.151137  0.0  0.0  ...   \n",
              "1  0.047403  0.0  0.000000  0.000000  0.0  0.0  0.0  0.000000  0.0  0.0  ...   \n",
              "2  0.000000  0.0  0.000000  0.023559  0.0  0.0  0.0  0.060329  0.0  0.0  ...   \n",
              "3  0.002286  0.0  0.655825  0.259398  0.0  0.0  0.0  0.000000  0.0  0.0  ...   \n",
              "4  0.279953  0.0  0.000000  0.000000  0.0  0.0  0.0  0.168589  0.0  0.0  ...   \n",
              "\n",
              "       4599      4600  4601      4602      4603  4604  4605      4606  4607  \\\n",
              "0  0.885778  0.066009   0.0  0.169458  0.570154   0.0   0.0  0.090579   0.0   \n",
              "1  0.649062  0.260996   0.0  0.049776  0.494771   0.0   0.0  0.480568   0.0   \n",
              "2  0.725523  0.166289   0.0  0.131945  0.299330   0.0   0.0  0.000000   0.0   \n",
              "3  0.626934  0.244303   0.0  0.100791  0.448022   0.0   0.0  0.295682   0.0   \n",
              "4  0.489483  0.166786   0.0  0.000000  0.212874   0.0   0.0  0.000000   0.0   \n",
              "\n",
              "   label  \n",
              "0      0  \n",
              "1      0  \n",
              "2      0  \n",
              "3      0  \n",
              "4      0  \n",
              "\n",
              "[5 rows x 4609 columns]"
            ],
            "text/html": [
              "\n",
              "  <div id=\"df-3dc36c1e-ace8-4fd8-be58-37cce69eda5f\">\n",
              "    <div class=\"colab-df-container\">\n",
              "      <div>\n",
              "<style scoped>\n",
              "    .dataframe tbody tr th:only-of-type {\n",
              "        vertical-align: middle;\n",
              "    }\n",
              "\n",
              "    .dataframe tbody tr th {\n",
              "        vertical-align: top;\n",
              "    }\n",
              "\n",
              "    .dataframe thead th {\n",
              "        text-align: right;\n",
              "    }\n",
              "</style>\n",
              "<table border=\"1\" class=\"dataframe\">\n",
              "  <thead>\n",
              "    <tr style=\"text-align: right;\">\n",
              "      <th></th>\n",
              "      <th>0</th>\n",
              "      <th>1</th>\n",
              "      <th>2</th>\n",
              "      <th>3</th>\n",
              "      <th>4</th>\n",
              "      <th>5</th>\n",
              "      <th>6</th>\n",
              "      <th>7</th>\n",
              "      <th>8</th>\n",
              "      <th>9</th>\n",
              "      <th>...</th>\n",
              "      <th>4599</th>\n",
              "      <th>4600</th>\n",
              "      <th>4601</th>\n",
              "      <th>4602</th>\n",
              "      <th>4603</th>\n",
              "      <th>4604</th>\n",
              "      <th>4605</th>\n",
              "      <th>4606</th>\n",
              "      <th>4607</th>\n",
              "      <th>label</th>\n",
              "    </tr>\n",
              "  </thead>\n",
              "  <tbody>\n",
              "    <tr>\n",
              "      <th>0</th>\n",
              "      <td>0.141500</td>\n",
              "      <td>0.0</td>\n",
              "      <td>0.000000</td>\n",
              "      <td>0.000000</td>\n",
              "      <td>0.0</td>\n",
              "      <td>0.0</td>\n",
              "      <td>0.0</td>\n",
              "      <td>0.151137</td>\n",
              "      <td>0.0</td>\n",
              "      <td>0.0</td>\n",
              "      <td>...</td>\n",
              "      <td>0.885778</td>\n",
              "      <td>0.066009</td>\n",
              "      <td>0.0</td>\n",
              "      <td>0.169458</td>\n",
              "      <td>0.570154</td>\n",
              "      <td>0.0</td>\n",
              "      <td>0.0</td>\n",
              "      <td>0.090579</td>\n",
              "      <td>0.0</td>\n",
              "      <td>0</td>\n",
              "    </tr>\n",
              "    <tr>\n",
              "      <th>1</th>\n",
              "      <td>0.047403</td>\n",
              "      <td>0.0</td>\n",
              "      <td>0.000000</td>\n",
              "      <td>0.000000</td>\n",
              "      <td>0.0</td>\n",
              "      <td>0.0</td>\n",
              "      <td>0.0</td>\n",
              "      <td>0.000000</td>\n",
              "      <td>0.0</td>\n",
              "      <td>0.0</td>\n",
              "      <td>...</td>\n",
              "      <td>0.649062</td>\n",
              "      <td>0.260996</td>\n",
              "      <td>0.0</td>\n",
              "      <td>0.049776</td>\n",
              "      <td>0.494771</td>\n",
              "      <td>0.0</td>\n",
              "      <td>0.0</td>\n",
              "      <td>0.480568</td>\n",
              "      <td>0.0</td>\n",
              "      <td>0</td>\n",
              "    </tr>\n",
              "    <tr>\n",
              "      <th>2</th>\n",
              "      <td>0.000000</td>\n",
              "      <td>0.0</td>\n",
              "      <td>0.000000</td>\n",
              "      <td>0.023559</td>\n",
              "      <td>0.0</td>\n",
              "      <td>0.0</td>\n",
              "      <td>0.0</td>\n",
              "      <td>0.060329</td>\n",
              "      <td>0.0</td>\n",
              "      <td>0.0</td>\n",
              "      <td>...</td>\n",
              "      <td>0.725523</td>\n",
              "      <td>0.166289</td>\n",
              "      <td>0.0</td>\n",
              "      <td>0.131945</td>\n",
              "      <td>0.299330</td>\n",
              "      <td>0.0</td>\n",
              "      <td>0.0</td>\n",
              "      <td>0.000000</td>\n",
              "      <td>0.0</td>\n",
              "      <td>0</td>\n",
              "    </tr>\n",
              "    <tr>\n",
              "      <th>3</th>\n",
              "      <td>0.002286</td>\n",
              "      <td>0.0</td>\n",
              "      <td>0.655825</td>\n",
              "      <td>0.259398</td>\n",
              "      <td>0.0</td>\n",
              "      <td>0.0</td>\n",
              "      <td>0.0</td>\n",
              "      <td>0.000000</td>\n",
              "      <td>0.0</td>\n",
              "      <td>0.0</td>\n",
              "      <td>...</td>\n",
              "      <td>0.626934</td>\n",
              "      <td>0.244303</td>\n",
              "      <td>0.0</td>\n",
              "      <td>0.100791</td>\n",
              "      <td>0.448022</td>\n",
              "      <td>0.0</td>\n",
              "      <td>0.0</td>\n",
              "      <td>0.295682</td>\n",
              "      <td>0.0</td>\n",
              "      <td>0</td>\n",
              "    </tr>\n",
              "    <tr>\n",
              "      <th>4</th>\n",
              "      <td>0.279953</td>\n",
              "      <td>0.0</td>\n",
              "      <td>0.000000</td>\n",
              "      <td>0.000000</td>\n",
              "      <td>0.0</td>\n",
              "      <td>0.0</td>\n",
              "      <td>0.0</td>\n",
              "      <td>0.168589</td>\n",
              "      <td>0.0</td>\n",
              "      <td>0.0</td>\n",
              "      <td>...</td>\n",
              "      <td>0.489483</td>\n",
              "      <td>0.166786</td>\n",
              "      <td>0.0</td>\n",
              "      <td>0.000000</td>\n",
              "      <td>0.212874</td>\n",
              "      <td>0.0</td>\n",
              "      <td>0.0</td>\n",
              "      <td>0.000000</td>\n",
              "      <td>0.0</td>\n",
              "      <td>0</td>\n",
              "    </tr>\n",
              "  </tbody>\n",
              "</table>\n",
              "<p>5 rows × 4609 columns</p>\n",
              "</div>\n",
              "      <button class=\"colab-df-convert\" onclick=\"convertToInteractive('df-3dc36c1e-ace8-4fd8-be58-37cce69eda5f')\"\n",
              "              title=\"Convert this dataframe to an interactive table.\"\n",
              "              style=\"display:none;\">\n",
              "        \n",
              "  <svg xmlns=\"http://www.w3.org/2000/svg\" height=\"24px\"viewBox=\"0 0 24 24\"\n",
              "       width=\"24px\">\n",
              "    <path d=\"M0 0h24v24H0V0z\" fill=\"none\"/>\n",
              "    <path d=\"M18.56 5.44l.94 2.06.94-2.06 2.06-.94-2.06-.94-.94-2.06-.94 2.06-2.06.94zm-11 1L8.5 8.5l.94-2.06 2.06-.94-2.06-.94L8.5 2.5l-.94 2.06-2.06.94zm10 10l.94 2.06.94-2.06 2.06-.94-2.06-.94-.94-2.06-.94 2.06-2.06.94z\"/><path d=\"M17.41 7.96l-1.37-1.37c-.4-.4-.92-.59-1.43-.59-.52 0-1.04.2-1.43.59L10.3 9.45l-7.72 7.72c-.78.78-.78 2.05 0 2.83L4 21.41c.39.39.9.59 1.41.59.51 0 1.02-.2 1.41-.59l7.78-7.78 2.81-2.81c.8-.78.8-2.07 0-2.86zM5.41 20L4 18.59l7.72-7.72 1.47 1.35L5.41 20z\"/>\n",
              "  </svg>\n",
              "      </button>\n",
              "      \n",
              "  <style>\n",
              "    .colab-df-container {\n",
              "      display:flex;\n",
              "      flex-wrap:wrap;\n",
              "      gap: 12px;\n",
              "    }\n",
              "\n",
              "    .colab-df-convert {\n",
              "      background-color: #E8F0FE;\n",
              "      border: none;\n",
              "      border-radius: 50%;\n",
              "      cursor: pointer;\n",
              "      display: none;\n",
              "      fill: #1967D2;\n",
              "      height: 32px;\n",
              "      padding: 0 0 0 0;\n",
              "      width: 32px;\n",
              "    }\n",
              "\n",
              "    .colab-df-convert:hover {\n",
              "      background-color: #E2EBFA;\n",
              "      box-shadow: 0px 1px 2px rgba(60, 64, 67, 0.3), 0px 1px 3px 1px rgba(60, 64, 67, 0.15);\n",
              "      fill: #174EA6;\n",
              "    }\n",
              "\n",
              "    [theme=dark] .colab-df-convert {\n",
              "      background-color: #3B4455;\n",
              "      fill: #D2E3FC;\n",
              "    }\n",
              "\n",
              "    [theme=dark] .colab-df-convert:hover {\n",
              "      background-color: #434B5C;\n",
              "      box-shadow: 0px 1px 3px 1px rgba(0, 0, 0, 0.15);\n",
              "      filter: drop-shadow(0px 1px 2px rgba(0, 0, 0, 0.3));\n",
              "      fill: #FFFFFF;\n",
              "    }\n",
              "  </style>\n",
              "\n",
              "      <script>\n",
              "        const buttonEl =\n",
              "          document.querySelector('#df-3dc36c1e-ace8-4fd8-be58-37cce69eda5f button.colab-df-convert');\n",
              "        buttonEl.style.display =\n",
              "          google.colab.kernel.accessAllowed ? 'block' : 'none';\n",
              "\n",
              "        async function convertToInteractive(key) {\n",
              "          const element = document.querySelector('#df-3dc36c1e-ace8-4fd8-be58-37cce69eda5f');\n",
              "          const dataTable =\n",
              "            await google.colab.kernel.invokeFunction('convertToInteractive',\n",
              "                                                     [key], {});\n",
              "          if (!dataTable) return;\n",
              "\n",
              "          const docLinkHtml = 'Like what you see? Visit the ' +\n",
              "            '<a target=\"_blank\" href=https://colab.research.google.com/notebooks/data_table.ipynb>data table notebook</a>'\n",
              "            + ' to learn more about interactive tables.';\n",
              "          element.innerHTML = '';\n",
              "          dataTable['output_type'] = 'display_data';\n",
              "          await google.colab.output.renderOutput(dataTable, element);\n",
              "          const docLink = document.createElement('div');\n",
              "          docLink.innerHTML = docLinkHtml;\n",
              "          element.appendChild(docLink);\n",
              "        }\n",
              "      </script>\n",
              "    </div>\n",
              "  </div>\n",
              "  "
            ]
          },
          "metadata": {},
          "execution_count": 10
        }
      ]
    },
    {
      "cell_type": "code",
      "source": [
        "df_test.shape"
      ],
      "metadata": {
        "colab": {
          "base_uri": "https://localhost:8080/"
        },
        "id": "DF0bCFIG99Dm",
        "outputId": "a0391de6-da21-4839-9dc5-b76f3020ec9f"
      },
      "execution_count": 11,
      "outputs": [
        {
          "output_type": "execute_result",
          "data": {
            "text/plain": [
              "(1794, 4609)"
            ]
          },
          "metadata": {},
          "execution_count": 11
        }
      ]
    },
    {
      "cell_type": "markdown",
      "source": [
        "# Create X and y Data to Feed ML Models"
      ],
      "metadata": {
        "id": "A-Vc4OIg83q2"
      }
    },
    {
      "cell_type": "code",
      "source": [
        "X_train = np.array(df_train.iloc[:,:-1].copy())\n",
        "y_train = np.array(df_train['label'].copy())"
      ],
      "metadata": {
        "id": "OxBLdYzn8z1f"
      },
      "execution_count": 31,
      "outputs": []
    },
    {
      "cell_type": "code",
      "source": [
        "(X_train.shape, y_train.shape)"
      ],
      "metadata": {
        "colab": {
          "base_uri": "https://localhost:8080/"
        },
        "id": "ltij2W7s9iXX",
        "outputId": "bb93106f-eff9-4450-ccbd-eb2c4fd8ece8"
      },
      "execution_count": 32,
      "outputs": [
        {
          "output_type": "execute_result",
          "data": {
            "text/plain": [
              "((11917, 4608), (11917,))"
            ]
          },
          "metadata": {},
          "execution_count": 32
        }
      ]
    },
    {
      "cell_type": "code",
      "source": [
        "X_test = np.array(df_test.iloc[:,:-1].copy())\n",
        "y_test = np.array(df_test['label'].copy())"
      ],
      "metadata": {
        "id": "SCjmRZBj9yWE"
      },
      "execution_count": 33,
      "outputs": []
    },
    {
      "cell_type": "code",
      "source": [
        "(X_test.shape, y_test.shape)"
      ],
      "metadata": {
        "colab": {
          "base_uri": "https://localhost:8080/"
        },
        "id": "_6JOoK-R-GwH",
        "outputId": "0642b207-dff1-4f0c-a301-f6ce18dbbc81"
      },
      "execution_count": 34,
      "outputs": [
        {
          "output_type": "execute_result",
          "data": {
            "text/plain": [
              "((1794, 4608), (1794,))"
            ]
          },
          "metadata": {},
          "execution_count": 34
        }
      ]
    },
    {
      "cell_type": "markdown",
      "source": [
        "# Feature Selection - ANOVA\n",
        "\n",
        "REF: https://machinelearningmastery.com/feature-selection-with-numerical-input-data/"
      ],
      "metadata": {
        "id": "5iTEHeMAMHC3"
      }
    },
    {
      "cell_type": "code",
      "source": [
        "# feature selection\n",
        "def select_features(X_train_, y_train_, X_test_, SelRate = 0.2):\n",
        "    # configure to select most important\n",
        "    kSel = int(round(X_train_.shape[1]*SelRate))\n",
        "    fs = SelectKBest(score_func=f_classif, k=kSel)\n",
        "    # learn relationship from training data\n",
        "    fs.fit(X_train_, y_train_)\n",
        "    # transform train input data\n",
        "    X_train_fs = fs.transform(X_train_)\n",
        "    # transform test input data\n",
        "    X_test_fs = fs.transform(X_test_)\n",
        "    return X_train_fs, X_test_fs, fs"
      ],
      "metadata": {
        "id": "Zohh0HBZMGtD"
      },
      "execution_count": 47,
      "outputs": []
    },
    {
      "cell_type": "code",
      "source": [
        "X_train_fs, X_test_fs, FeatSel = select_features(X_train, y_train, X_test, 0.2)"
      ],
      "metadata": {
        "colab": {
          "base_uri": "https://localhost:8080/"
        },
        "id": "IsJptQheMSu-",
        "outputId": "8d2fa5c8-62a8-4ea3-ecc4-59c435b535cc"
      },
      "execution_count": 48,
      "outputs": [
        {
          "output_type": "stream",
          "name": "stderr",
          "text": [
            "/usr/local/lib/python3.9/dist-packages/sklearn/feature_selection/_univariate_selection.py:112: UserWarning: Features [   5   13   19   25   38   61   64   65   68   74   78   90  107  115\n",
            "  130  131  140  144  145  167  204  230  252  263  268  278  281  286\n",
            "  288  295  302  304  310  337  348  351  364  366  373  376  406  420\n",
            "  421  427  456  460  461  476  484  493  513  517  522  525  531  532\n",
            "  537  550  552  553  573  576  577  580  586  590  592  602  608  617\n",
            "  626  642  643  652  656  657  663  679  715  716  732  733  772  780\n",
            "  782  784  790  798  807  812  814  816  822  849  860  872  876  878\n",
            "  880  885  888  890  891  911  932  933  939  954  968  972  988  991\n",
            "  996 1025 1034 1037 1043 1049 1062 1064 1065 1085 1089 1092 1098 1102\n",
            " 1104 1109 1114 1120 1129 1131 1138 1154 1155 1164 1169 1175 1186 1191\n",
            " 1208 1213 1227 1228 1231 1244 1245 1284 1292 1296 1302 1305 1310 1312\n",
            " 1324 1326 1328 1334 1357 1361 1372 1384 1388 1390 1397 1400 1402 1403\n",
            " 1413 1423 1444 1445 1446 1451 1461 1466 1481 1484 1500 1503 1549 1556\n",
            " 1561 1597 1600 1604 1614 1681 1703 1740 1804 1806 1814 1822 1846 1873\n",
            " 1884 1925 1956 1957 2049 2053 2056 2061 2086 2109 2113 2116 2126 2128\n",
            " 2138 2144 2153 2162 2175 2178 2188 2199 2210 2215 2232 2237 2239 2251\n",
            " 2252 2265 2269 2278 2294 2298 2308 2316 2326 2334 2350 2352 2358 2362\n",
            " 2366 2372 2378 2385 2396 2408 2410 2424 2427 2447 2468 2469 2475 2476\n",
            " 2508 2513 2524 2561 2568 2573 2598 2621 2624 2628 2638 2640 2650 2665\n",
            " 2674 2700 2705 2711 2722 2727 2744 2749 2763 2764 2777 2780 2781 2790\n",
            " 2810 2820 2828 2838 2846 2862 2864 2870 2874 2884 2890 2897 2908 2920\n",
            " 2922 2933 2934 2936 2938 2939 2959 2980 2981 2987 2988 3003 3020 3025\n",
            " 3030 3036 3053 3073 3085 3097 3110 3133 3136 3137 3140 3150 3151 3162\n",
            " 3186 3202 3217 3239 3276 3283 3302 3340 3342 3350 3353 3382 3386 3409\n",
            " 3420 3448 3451 3461 3492 3523 3583 3585 3592 3622 3625 3645 3649 3652\n",
            " 3659 3662 3674 3691 3698 3714 3735 3751 3768 3773 3785 3787 3788 3795\n",
            " 3804 3805 3814 3844 3847 3862 3886 3888 3894 3898 3908 3914 3921 3932\n",
            " 3944 3946 3948 3958 3963 3983 4004 4040 4044 4049 4097 4104 4117 4135\n",
            " 4137 4157 4164 4169 4171 4174 4186 4192 4210 4226 4236 4241 4247 4258\n",
            " 4263 4280 4299 4300 4307 4313 4317 4326 4356 4364 4374 4377 4398 4400\n",
            " 4406 4410 4420 4426 4433 4444 4456 4458 4460 4472 4474 4475 4495 4516\n",
            " 4517 4523 4552 4556 4561 4566 4604 4607] are constant.\n",
            "  warnings.warn(\"Features %s are constant.\" % constant_features_idx, UserWarning)\n",
            "/usr/local/lib/python3.9/dist-packages/sklearn/feature_selection/_univariate_selection.py:113: RuntimeWarning: invalid value encountered in true_divide\n",
            "  f = msb / msw\n"
          ]
        }
      ]
    },
    {
      "cell_type": "code",
      "source": [
        "X_train = X_train_fs.copy()"
      ],
      "metadata": {
        "id": "CaH7g_AsNv_n"
      },
      "execution_count": 49,
      "outputs": []
    },
    {
      "cell_type": "code",
      "source": [
        "X_test = X_test_fs.copy()"
      ],
      "metadata": {
        "id": "uPtGuF8vN1Yu"
      },
      "execution_count": 50,
      "outputs": []
    },
    {
      "cell_type": "code",
      "source": [
        "(X_train.shape, X_test.shape)"
      ],
      "metadata": {
        "colab": {
          "base_uri": "https://localhost:8080/"
        },
        "id": "s_ySp7k6Nccn",
        "outputId": "ed6e1ecf-fdce-443f-afb7-aea23e6d1cae"
      },
      "execution_count": 51,
      "outputs": [
        {
          "output_type": "execute_result",
          "data": {
            "text/plain": [
              "((11917, 922), (1794, 922))"
            ]
          },
          "metadata": {},
          "execution_count": 51
        }
      ]
    },
    {
      "cell_type": "markdown",
      "source": [
        "# Classification - Logistic Regression"
      ],
      "metadata": {
        "id": "scLnxpXO-Lh2"
      }
    },
    {
      "cell_type": "code",
      "source": [
        "clf_lreg = LogisticRegression(max_iter=1000000).fit(X_train, y_train)\n",
        "y_pred = clf_lreg.predict(X_test)"
      ],
      "metadata": {
        "id": "S2XFWi1--Jen"
      },
      "execution_count": 52,
      "outputs": []
    },
    {
      "cell_type": "code",
      "source": [
        "cm= confusion_matrix(y_test,y_pred)\n",
        "disp = ConfusionMatrixDisplay(confusion_matrix=cm)\n",
        "disp.plot()\n",
        "plt.show()"
      ],
      "metadata": {
        "colab": {
          "base_uri": "https://localhost:8080/",
          "height": 449
        },
        "id": "ptqVT5pL-drb",
        "outputId": "55eb6e0a-fbe7-4574-c8d6-8ef599ef3619"
      },
      "execution_count": 53,
      "outputs": [
        {
          "output_type": "display_data",
          "data": {
            "text/plain": [
              "<Figure size 640x480 with 2 Axes>"
            ],
            "image/png": "[encoded data removed]"
          },
          "metadata": {}
        }
      ]
    },
    {
      "cell_type": "code",
      "source": [
        "print(classification_report(y_train, clf_lreg.predict(X_train)))"
      ],
      "metadata": {
        "colab": {
          "base_uri": "https://localhost:8080/"
        },
        "id": "wbr6vWUlTISq",
        "outputId": "0b7ee564-e44e-47e4-aa7d-9802a660dea1"
      },
      "execution_count": 54,
      "outputs": [
        {
          "output_type": "stream",
          "name": "stdout",
          "text": [
            "              precision    recall  f1-score   support\n",
            "\n",
            "           0       0.90      0.86      0.88      6100\n",
            "           1       0.86      0.91      0.88      5817\n",
            "\n",
            "    accuracy                           0.88     11917\n",
            "   macro avg       0.88      0.88      0.88     11917\n",
            "weighted avg       0.88      0.88      0.88     11917\n",
            "\n"
          ]
        }
      ]
    },
    {
      "cell_type": "code",
      "source": [
        "print(classification_report(y_test, y_pred))"
      ],
      "metadata": {
        "colab": {
          "base_uri": "https://localhost:8080/"
        },
        "id": "tBMVHhZjTbV5",
        "outputId": "572dfa3b-da0d-42be-b99b-86a661285eb8"
      },
      "execution_count": 55,
      "outputs": [
        {
          "output_type": "stream",
          "name": "stdout",
          "text": [
            "              precision    recall  f1-score   support\n",
            "\n",
            "           0       0.53      0.64      0.58       339\n",
            "           1       0.91      0.87      0.89      1455\n",
            "\n",
            "    accuracy                           0.82      1794\n",
            "   macro avg       0.72      0.75      0.73      1794\n",
            "weighted avg       0.84      0.82      0.83      1794\n",
            "\n"
          ]
        }
      ]
    },
    {
      "cell_type": "code",
      "source": [
        "fpr_rf, tpr_rf, _ = roc_curve(y_train, clf_lreg.predict(X_train))\n",
        "\n",
        "plt.figure(1)\n",
        "plt.plot([0, 1], [0, 1], 'k--')\n",
        "plt.plot(fpr_rf, tpr_rf, label='LogRegress')\n",
        "plt.xlabel('False positive rate')\n",
        "plt.ylabel('True positive rate')\n",
        "plt.title('ROC curve - Training Data - Batch_4')\n",
        "plt.legend(loc='best')\n",
        "plt.show()"
      ],
      "metadata": {
        "colab": {
          "base_uri": "https://localhost:8080/",
          "height": 472
        },
        "id": "RDPindpwqeMv",
        "outputId": "89a9298d-d87b-4b16-fc48-f15071afb575"
      },
      "execution_count": 56,
      "outputs": [
        {
          "output_type": "display_data",
          "data": {
            "text/plain": [
              "<Figure size 640x480 with 1 Axes>"
            ],
            "image/png": "[encoded data removed]"
          },
          "metadata": {}
        }
      ]
    },
    {
      "cell_type": "code",
      "source": [
        "fpr_rf, tpr_rf, _ = roc_curve(y_test, clf_lreg.predict(X_test))\n",
        "\n",
        "plt.figure(1)\n",
        "plt.plot([0, 1], [0, 1], 'k--')\n",
        "plt.plot(fpr_rf, tpr_rf, label='LogRegress')\n",
        "plt.xlabel('False positive rate')\n",
        "plt.ylabel('True positive rate')\n",
        "plt.title('ROC curve - Test Data - Batch_4')\n",
        "plt.legend(loc='best')\n",
        "plt.show()"
      ],
      "metadata": {
        "colab": {
          "base_uri": "https://localhost:8080/",
          "height": 472
        },
        "id": "X7DMBYewUtWI",
        "outputId": "dc120779-7da7-43a1-d8e0-7db57013eb12"
      },
      "execution_count": 57,
      "outputs": [
        {
          "output_type": "display_data",
          "data": {
            "text/plain": [
              "<Figure size 640x480 with 1 Axes>"
            ],
            "image/png": "[encoded data removed]"
          },
          "metadata": {}
        }
      ]
    },
    {
      "cell_type": "markdown",
      "source": [
        "# Classification - Random Forest"
      ],
      "metadata": {
        "id": "XBFpRXgUVOuY"
      }
    },
    {
      "cell_type": "code",
      "source": [
        "clf_RF = RandomForestClassifier(n_estimators = 50, random_state = 42)"
      ],
      "metadata": {
        "id": "eSB4q5QOU-WB"
      },
      "execution_count": 58,
      "outputs": []
    },
    {
      "cell_type": "code",
      "source": [
        "clf_RF.fit(X_train, y_train)"
      ],
      "metadata": {
        "colab": {
          "base_uri": "https://localhost:8080/",
          "height": 74
        },
        "id": "tO6pOAtxVW4T",
        "outputId": "67e15b8f-0a01-489f-eecb-dbe44d269bbc"
      },
      "execution_count": 59,
      "outputs": [
        {
          "output_type": "execute_result",
          "data": {
            "text/plain": [
              "RandomForestClassifier(n_estimators=50, random_state=42)"
            ],
            "text/html": [
              "<style>#sk-container-id-1 {color: black;background-color: white;}#sk-container-id-1 pre{padding: 0;}#sk-container-id-1 div.sk-toggleable {background-color: white;}#sk-container-id-1 label.sk-toggleable__label {cursor: pointer;display: block;width: 100%;margin-bottom: 0;padding: 0.3em;box-sizing: border-box;text-align: center;}#sk-container-id-1 label.sk-toggleable__label-arrow:before {content: \"▸\";float: left;margin-right: 0.25em;color: #696969;}#sk-container-id-1 label.sk-toggleable__label-arrow:hover:before {color: black;}#sk-container-id-1 div.sk-estimator:hover label.sk-toggleable__label-arrow:before {color: black;}#sk-container-id-1 div.sk-toggleable__content {max-height: 0;max-width: 0;overflow: hidden;text-align: left;background-color: #f0f8ff;}#sk-container-id-1 div.sk-toggleable__content pre {margin: 0.2em;color: black;border-radius: 0.25em;background-color: #f0f8ff;}#sk-container-id-1 input.sk-toggleable__control:checked~div.sk-toggleable__content {max-height: 200px;max-width: 100%;overflow: auto;}#sk-container-id-1 input.sk-toggleable__control:checked~label.sk-toggleable__label-arrow:before {content: \"▾\";}#sk-container-id-1 div.sk-estimator input.sk-toggleable__control:checked~label.sk-toggleable__label {background-color: #d4ebff;}#sk-container-id-1 div.sk-label input.sk-toggleable__control:checked~label.sk-toggleable__label {background-color: #d4ebff;}#sk-container-id-1 input.sk-hidden--visually {border: 0;clip: rect(1px 1px 1px 1px);clip: rect(1px, 1px, 1px, 1px);height: 1px;margin: -1px;overflow: hidden;padding: 0;position: absolute;width: 1px;}#sk-container-id-1 div.sk-estimator {font-family: monospace;background-color: #f0f8ff;border: 1px dotted black;border-radius: 0.25em;box-sizing: border-box;margin-bottom: 0.5em;}#sk-container-id-1 div.sk-estimator:hover {background-color: #d4ebff;}#sk-container-id-1 div.sk-parallel-item::after {content: \"\";width: 100%;border-bottom: 1px solid gray;flex-grow: 1;}#sk-container-id-1 div.sk-label:hover label.sk-toggleable__label {background-color: #d4ebff;}#sk-container-id-1 div.sk-serial::before {content: \"\";position: absolute;border-left: 1px solid gray;box-sizing: border-box;top: 0;bottom: 0;left: 50%;z-index: 0;}#sk-container-id-1 div.sk-serial {display: flex;flex-direction: column;align-items: center;background-color: white;padding-right: 0.2em;padding-left: 0.2em;position: relative;}#sk-container-id-1 div.sk-item {position: relative;z-index: 1;}#sk-container-id-1 div.sk-parallel {display: flex;align-items: stretch;justify-content: center;background-color: white;position: relative;}#sk-container-id-1 div.sk-item::before, #sk-container-id-1 div.sk-parallel-item::before {content: \"\";position: absolute;border-left: 1px solid gray;box-sizing: border-box;top: 0;bottom: 0;left: 50%;z-index: -1;}#sk-container-id-1 div.sk-parallel-item {display: flex;flex-direction: column;z-index: 1;position: relative;background-color: white;}#sk-container-id-1 div.sk-parallel-item:first-child::after {align-self: flex-end;width: 50%;}#sk-container-id-1 div.sk-parallel-item:last-child::after {align-self: flex-start;width: 50%;}#sk-container-id-1 div.sk-parallel-item:only-child::after {width: 0;}#sk-container-id-1 div.sk-dashed-wrapped {border: 1px dashed gray;margin: 0 0.4em 0.5em 0.4em;box-sizing: border-box;padding-bottom: 0.4em;background-color: white;}#sk-container-id-1 div.sk-label label {font-family: monospace;font-weight: bold;display: inline-block;line-height: 1.2em;}#sk-container-id-1 div.sk-label-container {text-align: center;}#sk-container-id-1 div.sk-container {/* jupyter's `normalize.less` sets `[hidden] { display: none; }` but bootstrap.min.css set `[hidden] { display: none !important; }` so we also need the `!important` here to be able to override the default hidden behavior on the sphinx rendered scikit-learn.org. See: https://github.com/scikit-learn/scikit-learn/issues/21755 */display: inline-block !important;position: relative;}#sk-container-id-1 div.sk-text-repr-fallback {display: none;}</style><div id=\"sk-container-id-1\" class=\"sk-top-container\"><div class=\"sk-text-repr-fallback\"><pre>RandomForestClassifier(n_estimators=50, random_state=42)</pre><b>In a Jupyter environment, please rerun this cell to show the HTML representation or trust the notebook. <br />On GitHub, the HTML representation is unable to render, please try loading this page with nbviewer.org.</b></div><div class=\"sk-container\" hidden><div class=\"sk-item\"><div class=\"sk-estimator sk-toggleable\"><input class=\"sk-toggleable__control sk-hidden--visually\" id=\"sk-estimator-id-1\" type=\"checkbox\" checked><label for=\"sk-estimator-id-1\" class=\"sk-toggleable__label sk-toggleable__label-arrow\">RandomForestClassifier</label><div class=\"sk-toggleable__content\"><pre>RandomForestClassifier(n_estimators=50, random_state=42)</pre></div></div></div></div></div>"
            ]
          },
          "metadata": {},
          "execution_count": 59
        }
      ]
    },
    {
      "cell_type": "code",
      "source": [
        "y_pred = clf_RF.predict(X_test)\n",
        "cm= confusion_matrix(y_test,y_pred)\n",
        "disp = ConfusionMatrixDisplay(confusion_matrix=cm)\n",
        "disp.plot()\n",
        "plt.show()"
      ],
      "metadata": {
        "colab": {
          "base_uri": "https://localhost:8080/",
          "height": 449
        },
        "id": "YnkZyglLVbFQ",
        "outputId": "f58e5c79-2ef3-4f75-cbc6-d0da8d2cfbb6"
      },
      "execution_count": 60,
      "outputs": [
        {
          "output_type": "display_data",
          "data": {
            "text/plain": [
              "<Figure size 640x480 with 2 Axes>"
            ],
            "image/png": "[encoded data removed]"
          },
          "metadata": {}
        }
      ]
    },
    {
      "cell_type": "code",
      "source": [
        "print(classification_report(y_train, clf_RF.predict(X_train)))"
      ],
      "metadata": {
        "colab": {
          "base_uri": "https://localhost:8080/"
        },
        "id": "xMKyGuAcWgXI",
        "outputId": "a2b821a2-0432-45e0-86f7-6bdb06f9a08b"
      },
      "execution_count": 61,
      "outputs": [
        {
          "output_type": "stream",
          "name": "stdout",
          "text": [
            "              precision    recall  f1-score   support\n",
            "\n",
            "           0       1.00      1.00      1.00      6100\n",
            "           1       1.00      1.00      1.00      5817\n",
            "\n",
            "    accuracy                           1.00     11917\n",
            "   macro avg       1.00      1.00      1.00     11917\n",
            "weighted avg       1.00      1.00      1.00     11917\n",
            "\n"
          ]
        }
      ]
    },
    {
      "cell_type": "code",
      "source": [
        "print(classification_report(y_test, y_pred))"
      ],
      "metadata": {
        "colab": {
          "base_uri": "https://localhost:8080/"
        },
        "id": "cdjJJBXRV5Iw",
        "outputId": "bd960469-eb36-4400-f1f1-5d448a35a68d"
      },
      "execution_count": 62,
      "outputs": [
        {
          "output_type": "stream",
          "name": "stdout",
          "text": [
            "              precision    recall  f1-score   support\n",
            "\n",
            "           0       0.55      0.65      0.59       339\n",
            "           1       0.92      0.87      0.89      1455\n",
            "\n",
            "    accuracy                           0.83      1794\n",
            "   macro avg       0.73      0.76      0.74      1794\n",
            "weighted avg       0.85      0.83      0.84      1794\n",
            "\n"
          ]
        }
      ]
    },
    {
      "cell_type": "code",
      "source": [
        "fpr_rf, tpr_rf, _ = roc_curve(y_train, clf_RF.predict(X_train))\n",
        "\n",
        "plt.figure(1)\n",
        "plt.plot([0, 1], [0, 1], 'k--')\n",
        "plt.plot(fpr_rf, tpr_rf, label='Random Forest')\n",
        "plt.xlabel('False positive rate')\n",
        "plt.ylabel('True positive rate')\n",
        "plt.title('ROC curve - Training Data - Batch_4')\n",
        "plt.legend(loc='best')\n",
        "plt.show()"
      ],
      "metadata": {
        "colab": {
          "base_uri": "https://localhost:8080/",
          "height": 472
        },
        "id": "GkVTZWoZWqOH",
        "outputId": "bc717027-c61e-416b-d82a-68638c665a94"
      },
      "execution_count": 63,
      "outputs": [
        {
          "output_type": "display_data",
          "data": {
            "text/plain": [
              "<Figure size 640x480 with 1 Axes>"
            ],
            "image/png": "[encoded data removed]"
          },
          "metadata": {}
        }
      ]
    },
    {
      "cell_type": "code",
      "source": [
        "fpr_rf, tpr_rf, _ = roc_curve(y_test, clf_RF.predict(X_test))\n",
        "\n",
        "plt.figure(1)\n",
        "plt.plot([0, 1], [0, 1], 'k--')\n",
        "plt.plot(fpr_rf, tpr_rf, label='Random Forest')\n",
        "plt.xlabel('False positive rate')\n",
        "plt.ylabel('True positive rate')\n",
        "plt.title('ROC curve - Test Data - Batch_4')\n",
        "plt.legend(loc='best')\n",
        "plt.show()"
      ],
      "metadata": {
        "colab": {
          "base_uri": "https://localhost:8080/",
          "height": 472
        },
        "id": "W1RyyaXWVk9c",
        "outputId": "593f263d-3430-47b8-f527-11a702d83e0c"
      },
      "execution_count": 64,
      "outputs": [
        {
          "output_type": "display_data",
          "data": {
            "text/plain": [
              "<Figure size 640x480 with 1 Axes>"
            ],
            "image/png": "[encoded data removed]"
          },
          "metadata": {}
        }
      ]
    },
    {
      "cell_type": "markdown",
      "source": [
        "# Classification - XGBoost"
      ],
      "metadata": {
        "id": "dXvEhFlcXrda"
      }
    },
    {
      "cell_type": "code",
      "source": [
        "clf_xgb = XGBClassifier(use_label_encoder=False,eval_metric='logloss',max_depth=50,n_estimators=50,random_state=2023)\n",
        "clf_xgb.fit(X_train, y_train)"
      ],
      "metadata": {
        "colab": {
          "base_uri": "https://localhost:8080/",
          "height": 283
        },
        "id": "1dCHRoWzV1zF",
        "outputId": "fad921c5-9ab6-4173-dbab-acf0426f8022"
      },
      "execution_count": 65,
      "outputs": [
        {
          "output_type": "stream",
          "name": "stderr",
          "text": [
            "/usr/local/lib/python3.9/dist-packages/xgboost/sklearn.py:1395: UserWarning: `use_label_encoder` is deprecated in 1.7.0.\n",
            "  warnings.warn(\"`use_label_encoder` is deprecated in 1.7.0.\")\n"
          ]
        },
        {
          "output_type": "execute_result",
          "data": {
            "text/plain": [
              "XGBClassifier(base_score=None, booster=None, callbacks=None,\n",
              "              colsample_bylevel=None, colsample_bynode=None,\n",
              "              colsample_bytree=None, early_stopping_rounds=None,\n",
              "              enable_categorical=False, eval_metric='logloss',\n",
              "              feature_types=None, gamma=None, gpu_id=None, grow_policy=None,\n",
              "              importance_type=None, interaction_constraints=None,\n",
              "              learning_rate=None, max_bin=None, max_cat_threshold=None,\n",
              "              max_cat_to_onehot=None, max_delta_step=None, max_depth=50,\n",
              "              max_leaves=None, min_child_weight=None, missing=nan,\n",
              "              monotone_constraints=None, n_estimators=50, n_jobs=None,\n",
              "              num_parallel_tree=None, predictor=None, random_state=2023, ...)"
            ],
            "text/html": [
              "<style>#sk-container-id-2 {color: black;background-color: white;}#sk-container-id-2 pre{padding: 0;}#sk-container-id-2 div.sk-toggleable {background-color: white;}#sk-container-id-2 label.sk-toggleable__label {cursor: pointer;display: block;width: 100%;margin-bottom: 0;padding: 0.3em;box-sizing: border-box;text-align: center;}#sk-container-id-2 label.sk-toggleable__label-arrow:before {content: \"▸\";float: left;margin-right: 0.25em;color: #696969;}#sk-container-id-2 label.sk-toggleable__label-arrow:hover:before {color: black;}#sk-container-id-2 div.sk-estimator:hover label.sk-toggleable__label-arrow:before {color: black;}#sk-container-id-2 div.sk-toggleable__content {max-height: 0;max-width: 0;overflow: hidden;text-align: left;background-color: #f0f8ff;}#sk-container-id-2 div.sk-toggleable__content pre {margin: 0.2em;color: black;border-radius: 0.25em;background-color: #f0f8ff;}#sk-container-id-2 input.sk-toggleable__control:checked~div.sk-toggleable__content {max-height: 200px;max-width: 100%;overflow: auto;}#sk-container-id-2 input.sk-toggleable__control:checked~label.sk-toggleable__label-arrow:before {content: \"▾\";}#sk-container-id-2 div.sk-estimator input.sk-toggleable__control:checked~label.sk-toggleable__label {background-color: #d4ebff;}#sk-container-id-2 div.sk-label input.sk-toggleable__control:checked~label.sk-toggleable__label {background-color: #d4ebff;}#sk-container-id-2 input.sk-hidden--visually {border: 0;clip: rect(1px 1px 1px 1px);clip: rect(1px, 1px, 1px, 1px);height: 1px;margin: -1px;overflow: hidden;padding: 0;position: absolute;width: 1px;}#sk-container-id-2 div.sk-estimator {font-family: monospace;background-color: #f0f8ff;border: 1px dotted black;border-radius: 0.25em;box-sizing: border-box;margin-bottom: 0.5em;}#sk-container-id-2 div.sk-estimator:hover {background-color: #d4ebff;}#sk-container-id-2 div.sk-parallel-item::after {content: \"\";width: 100%;border-bottom: 1px solid gray;flex-grow: 1;}#sk-container-id-2 div.sk-label:hover label.sk-toggleable__label {background-color: #d4ebff;}#sk-container-id-2 div.sk-serial::before {content: \"\";position: absolute;border-left: 1px solid gray;box-sizing: border-box;top: 0;bottom: 0;left: 50%;z-index: 0;}#sk-container-id-2 div.sk-serial {display: flex;flex-direction: column;align-items: center;background-color: white;padding-right: 0.2em;padding-left: 0.2em;position: relative;}#sk-container-id-2 div.sk-item {position: relative;z-index: 1;}#sk-container-id-2 div.sk-parallel {display: flex;align-items: stretch;justify-content: center;background-color: white;position: relative;}#sk-container-id-2 div.sk-item::before, #sk-container-id-2 div.sk-parallel-item::before {content: \"\";position: absolute;border-left: 1px solid gray;box-sizing: border-box;top: 0;bottom: 0;left: 50%;z-index: -1;}#sk-container-id-2 div.sk-parallel-item {display: flex;flex-direction: column;z-index: 1;position: relative;background-color: white;}#sk-container-id-2 div.sk-parallel-item:first-child::after {align-self: flex-end;width: 50%;}#sk-container-id-2 div.sk-parallel-item:last-child::after {align-self: flex-start;width: 50%;}#sk-container-id-2 div.sk-parallel-item:only-child::after {width: 0;}#sk-container-id-2 div.sk-dashed-wrapped {border: 1px dashed gray;margin: 0 0.4em 0.5em 0.4em;box-sizing: border-box;padding-bottom: 0.4em;background-color: white;}#sk-container-id-2 div.sk-label label {font-family: monospace;font-weight: bold;display: inline-block;line-height: 1.2em;}#sk-container-id-2 div.sk-label-container {text-align: center;}#sk-container-id-2 div.sk-container {/* jupyter's `normalize.less` sets `[hidden] { display: none; }` but bootstrap.min.css set `[hidden] { display: none !important; }` so we also need the `!important` here to be able to override the default hidden behavior on the sphinx rendered scikit-learn.org. See: https://github.com/scikit-learn/scikit-learn/issues/21755 */display: inline-block !important;position: relative;}#sk-container-id-2 div.sk-text-repr-fallback {display: none;}</style><div id=\"sk-container-id-2\" class=\"sk-top-container\"><div class=\"sk-text-repr-fallback\"><pre>XGBClassifier(base_score=None, booster=None, callbacks=None,\n",
              "              colsample_bylevel=None, colsample_bynode=None,\n",
              "              colsample_bytree=None, early_stopping_rounds=None,\n",
              "              enable_categorical=False, eval_metric=&#x27;logloss&#x27;,\n",
              "              feature_types=None, gamma=None, gpu_id=None, grow_policy=None,\n",
              "              importance_type=None, interaction_constraints=None,\n",
              "              learning_rate=None, max_bin=None, max_cat_threshold=None,\n",
              "              max_cat_to_onehot=None, max_delta_step=None, max_depth=50,\n",
              "              max_leaves=None, min_child_weight=None, missing=nan,\n",
              "              monotone_constraints=None, n_estimators=50, n_jobs=None,\n",
              "              num_parallel_tree=None, predictor=None, random_state=2023, ...)</pre><b>In a Jupyter environment, please rerun this cell to show the HTML representation or trust the notebook. <br />On GitHub, the HTML representation is unable to render, please try loading this page with nbviewer.org.</b></div><div class=\"sk-container\" hidden><div class=\"sk-item\"><div class=\"sk-estimator sk-toggleable\"><input class=\"sk-toggleable__control sk-hidden--visually\" id=\"sk-estimator-id-2\" type=\"checkbox\" checked><label for=\"sk-estimator-id-2\" class=\"sk-toggleable__label sk-toggleable__label-arrow\">XGBClassifier</label><div class=\"sk-toggleable__content\"><pre>XGBClassifier(base_score=None, booster=None, callbacks=None,\n",
              "              colsample_bylevel=None, colsample_bynode=None,\n",
              "              colsample_bytree=None, early_stopping_rounds=None,\n",
              "              enable_categorical=False, eval_metric=&#x27;logloss&#x27;,\n",
              "              feature_types=None, gamma=None, gpu_id=None, grow_policy=None,\n",
              "              importance_type=None, interaction_constraints=None,\n",
              "              learning_rate=None, max_bin=None, max_cat_threshold=None,\n",
              "              max_cat_to_onehot=None, max_delta_step=None, max_depth=50,\n",
              "              max_leaves=None, min_child_weight=None, missing=nan,\n",
              "              monotone_constraints=None, n_estimators=50, n_jobs=None,\n",
              "              num_parallel_tree=None, predictor=None, random_state=2023, ...)</pre></div></div></div></div></div>"
            ]
          },
          "metadata": {},
          "execution_count": 65
        }
      ]
    },
    {
      "cell_type": "code",
      "source": [
        "y_pred = clf_xgb.predict(X_test)\n",
        "cm= confusion_matrix(y_test,y_pred)\n",
        "disp = ConfusionMatrixDisplay(confusion_matrix=cm)\n",
        "disp.plot()\n",
        "plt.show()"
      ],
      "metadata": {
        "colab": {
          "base_uri": "https://localhost:8080/",
          "height": 449
        },
        "id": "V1RkhAkkX7CG",
        "outputId": "29f5b4c7-d181-4ae7-ada3-307e0713e3e3"
      },
      "execution_count": 66,
      "outputs": [
        {
          "output_type": "display_data",
          "data": {
            "text/plain": [
              "<Figure size 640x480 with 2 Axes>"
            ],
            "image/png": "[encoded data removed]"
          },
          "metadata": {}
        }
      ]
    },
    {
      "cell_type": "code",
      "source": [
        "print(classification_report(y_train, clf_xgb.predict(X_train)))"
      ],
      "metadata": {
        "colab": {
          "base_uri": "https://localhost:8080/"
        },
        "id": "FtDr_HUpZ3vX",
        "outputId": "4aed3aa4-a35b-47f3-c5ba-bdd2b3ae9676"
      },
      "execution_count": 67,
      "outputs": [
        {
          "output_type": "stream",
          "name": "stdout",
          "text": [
            "              precision    recall  f1-score   support\n",
            "\n",
            "           0       1.00      1.00      1.00      6100\n",
            "           1       1.00      1.00      1.00      5817\n",
            "\n",
            "    accuracy                           1.00     11917\n",
            "   macro avg       1.00      1.00      1.00     11917\n",
            "weighted avg       1.00      1.00      1.00     11917\n",
            "\n"
          ]
        }
      ]
    },
    {
      "cell_type": "code",
      "source": [
        "print(classification_report(y_test, y_pred))"
      ],
      "metadata": {
        "colab": {
          "base_uri": "https://localhost:8080/"
        },
        "id": "ZEalCqXoaEse",
        "outputId": "e6a7fdf8-838d-4568-dc60-82842838b96f"
      },
      "execution_count": 68,
      "outputs": [
        {
          "output_type": "stream",
          "name": "stdout",
          "text": [
            "              precision    recall  f1-score   support\n",
            "\n",
            "           0       0.58      0.69      0.63       339\n",
            "           1       0.92      0.88      0.90      1455\n",
            "\n",
            "    accuracy                           0.85      1794\n",
            "   macro avg       0.75      0.78      0.76      1794\n",
            "weighted avg       0.86      0.85      0.85      1794\n",
            "\n"
          ]
        }
      ]
    },
    {
      "cell_type": "markdown",
      "source": [
        "# Hyperparameter Tuning - Optuna\n",
        "\n",
        "\n",
        "https://medium.com/optuna/using-optuna-to-optimize-xgboost-hyperparameters-63bfcdfd3407\n"
      ],
      "metadata": {
        "id": "2HilNW1mb1g3"
      }
    },
    {
      "cell_type": "markdown",
      "source": [
        "## Objective Function for Optuna - XGBoost"
      ],
      "metadata": {
        "id": "dtDypiTQcVRy"
      }
    },
    {
      "cell_type": "code",
      "source": [
        "import xgboost as xgb"
      ],
      "metadata": {
        "id": "USYVzug_1-Ja"
      },
      "execution_count": 69,
      "outputs": []
    },
    {
      "cell_type": "code",
      "source": [
        "def objective(trial):\n",
        "    dtrain = xgb.DMatrix(X_train, label=y_train)\n",
        "    dtest = xgb.DMatrix(X_test, label=y_test)\n",
        "\n",
        "    param = {\n",
        "        'n_estimators'      : trial.suggest_int('n_estimators', 50, 500),\n",
        "        'max_depth'         : trial.suggest_int('max_depth', 50, 500),\n",
        "        'learning_rate'     : trial.suggest_float('learning_rate', 0.001, 1),\n",
        "        'verbosity'         : 1,\n",
        "        'random_state'      : 42,\n",
        "        'extra_trees'       : True,\n",
        "        \"objective\"         : \"binary:logistic\",\n",
        "        \"eval_metric\"       : \"auc\",\n",
        "        \"booster\"           : trial.suggest_categorical(\"booster\", [\"gbtree\", \"gblinear\", \"dart\"]),\n",
        "        \"lambda\"            : trial.suggest_float(\"lambda\", 1e-8, 1.0),\n",
        "        \"alpha\"             : trial.suggest_float(\"alpha\", 1e-8, 1.0),\n",
        "    }\n",
        "\n",
        "    if param[\"booster\"] == \"gbtree\" or param[\"booster\"] == \"dart\":\n",
        "        param[\"eta\"] = trial.suggest_float(\"eta\", 1e-8, 1.0)\n",
        "        param[\"gamma\"] = trial.suggest_float(\"gamma\", 1e-8, 1.0)\n",
        "        param[\"grow_policy\"] = trial.suggest_categorical(\"grow_policy\", [\"depthwise\", \"lossguide\"])\n",
        "    if param[\"booster\"] == \"dart\":\n",
        "        param[\"sample_type\"] = trial.suggest_categorical(\"sample_type\", [\"uniform\", \"weighted\"])\n",
        "        param[\"normalize_type\"] = trial.suggest_categorical(\"normalize_type\", [\"tree\", \"forest\"])\n",
        "        param[\"rate_drop\"] = trial.suggest_float(\"rate_drop\", 1e-8, 1.0)\n",
        "        param[\"skip_drop\"] = trial.suggest_float(\"skip_drop\", 1e-8, 1.0)\n",
        "\n",
        "    # Add a callback for pruning.\n",
        "    pruning_callback = optuna.integration.XGBoostPruningCallback(trial, \"validation-auc\")\n",
        "    bst = xgb.train(param, dtrain, evals=[(dtest, \"validation\")], callbacks=[pruning_callback])\n",
        "    preds = bst.predict(dtest)\n",
        "    pred_labels = np.rint(preds)\n",
        "    accuracy = sklearn.metrics.accuracy_score(y_test, pred_labels)\n",
        "    return accuracy"
      ],
      "metadata": {
        "id": "riiJSa_LbyDw"
      },
      "execution_count": 70,
      "outputs": []
    },
    {
      "cell_type": "markdown",
      "source": [
        "## Run Optuna"
      ],
      "metadata": {
        "id": "kKU3YaVJ3y1K"
      }
    },
    {
      "cell_type": "code",
      "source": [
        "study = optuna.create_study(direction=\"maximize\")\n",
        "study.optimize(objective, n_trials=100, timeout=1000)"
      ],
      "metadata": {
        "colab": {
          "base_uri": "https://localhost:8080/"
        },
        "id": "2BRvgKfKaKaj",
        "outputId": "94b85d96-2f73-4005-e086-ae16fd8a593c"
      },
      "execution_count": 71,
      "outputs": [
        {
          "output_type": "stream",
          "name": "stderr",
          "text": [
            "\u001b[32m[I 2023-04-14 01:02:56,908]\u001b[0m A new study created in memory with name: no-name-849040de-1f62-4ce4-8f97-9a57dc272fe0\u001b[0m\n"
          ]
        },
        {
          "output_type": "stream",
          "name": "stdout",
          "text": [
            "[01:02:57] WARNING: ../src/learner.cc:767: \n",
            "Parameters: { \"extra_trees\", \"n_estimators\" } are not used.\n",
            "\n",
            "[0]\tvalidation-auc:0.73101\n",
            "[1]\tvalidation-auc:0.75724\n",
            "[2]\tvalidation-auc:0.78313\n",
            "[3]\tvalidation-auc:0.80123\n",
            "[4]\tvalidation-auc:0.81008\n",
            "[5]\tvalidation-auc:0.81411\n",
            "[6]\tvalidation-auc:0.81734\n",
            "[7]\tvalidation-auc:0.82094\n",
            "[8]\tvalidation-auc:0.82427\n",
            "[9]\tvalidation-auc:0.82972\n"
          ]
        },
        {
          "output_type": "stream",
          "name": "stderr",
          "text": [
            "\u001b[32m[I 2023-04-14 01:03:21,329]\u001b[0m Trial 0 finished with value: 0.8054626532887402 and parameters: {'n_estimators': 415, 'max_depth': 415, 'learning_rate': 0.5074979922111239, 'booster': 'gbtree', 'lambda': 0.7481739263158014, 'alpha': 0.804699655416543, 'eta': 0.8864210627714543, 'gamma': 0.812425265111548, 'grow_policy': 'lossguide'}. Best is trial 0 with value: 0.8054626532887402.\u001b[0m\n"
          ]
        },
        {
          "output_type": "stream",
          "name": "stdout",
          "text": [
            "[01:03:21] WARNING: ../src/learner.cc:767: \n",
            "Parameters: { \"extra_trees\", \"n_estimators\" } are not used.\n",
            "\n",
            "[0]\tvalidation-auc:0.72283\n",
            "[1]\tvalidation-auc:0.75000\n",
            "[2]\tvalidation-auc:0.76610\n",
            "[3]\tvalidation-auc:0.77211\n",
            "[4]\tvalidation-auc:0.77676\n",
            "[5]\tvalidation-auc:0.78747\n",
            "[6]\tvalidation-auc:0.79385\n",
            "[7]\tvalidation-auc:0.80274\n",
            "[8]\tvalidation-auc:0.80539\n",
            "[9]\tvalidation-auc:0.81009\n"
          ]
        },
        {
          "output_type": "stream",
          "name": "stderr",
          "text": [
            "\u001b[32m[I 2023-04-14 01:03:47,682]\u001b[0m Trial 1 finished with value: 0.7971014492753623 and parameters: {'n_estimators': 438, 'max_depth': 452, 'learning_rate': 0.1113698758114355, 'booster': 'gbtree', 'lambda': 0.013465459997700614, 'alpha': 0.257439783952254, 'eta': 0.30106041015536855, 'gamma': 0.15966775266560124, 'grow_policy': 'lossguide'}. Best is trial 0 with value: 0.8054626532887402.\u001b[0m\n"
          ]
        },
        {
          "output_type": "stream",
          "name": "stdout",
          "text": [
            "[01:03:47] WARNING: ../src/learner.cc:767: \n",
            "Parameters: { \"extra_trees\", \"n_estimators\" } are not used.\n",
            "\n",
            "[0]\tvalidation-auc:0.71890\n",
            "[1]\tvalidation-auc:0.75019\n",
            "[2]\tvalidation-auc:0.77096\n",
            "[3]\tvalidation-auc:0.78368\n",
            "[4]\tvalidation-auc:0.79708\n",
            "[5]\tvalidation-auc:0.80365\n",
            "[6]\tvalidation-auc:0.80868\n",
            "[7]\tvalidation-auc:0.81134\n",
            "[8]\tvalidation-auc:0.81516\n",
            "[9]\tvalidation-auc:0.81903\n"
          ]
        },
        {
          "output_type": "stream",
          "name": "stderr",
          "text": [
            "\u001b[32m[I 2023-04-14 01:04:10,655]\u001b[0m Trial 2 finished with value: 0.8088071348940914 and parameters: {'n_estimators': 309, 'max_depth': 96, 'learning_rate': 0.7521368942086786, 'booster': 'dart', 'lambda': 0.4507782678580792, 'alpha': 0.10101357807238442, 'eta': 0.26043953498013406, 'gamma': 0.8111619826892462, 'grow_policy': 'lossguide', 'sample_type': 'weighted', 'normalize_type': 'tree', 'rate_drop': 0.17128298848452606, 'skip_drop': 0.9215309283254317}. Best is trial 2 with value: 0.8088071348940914.\u001b[0m\n"
          ]
        },
        {
          "output_type": "stream",
          "name": "stdout",
          "text": [
            "[01:04:10] WARNING: ../src/learner.cc:767: \n",
            "Parameters: { \"extra_trees\", \"max_depth\", \"n_estimators\" } are not used.\n",
            "\n",
            "[0]\tvalidation-auc:0.55398\n",
            "[1]\tvalidation-auc:0.55390\n",
            "[2]\tvalidation-auc:0.55397\n",
            "[3]\tvalidation-auc:0.55384\n",
            "[4]\tvalidation-auc:0.56831\n",
            "[5]\tvalidation-auc:0.56319\n",
            "[6]\tvalidation-auc:0.56201\n",
            "[7]\tvalidation-auc:0.56171\n",
            "[8]\tvalidation-auc:0.56159\n",
            "[9]\tvalidation-auc:0.56153\n"
          ]
        },
        {
          "output_type": "stream",
          "name": "stderr",
          "text": [
            "\u001b[32m[I 2023-04-14 01:04:11,358]\u001b[0m Trial 3 finished with value: 0.18896321070234115 and parameters: {'n_estimators': 384, 'max_depth': 152, 'learning_rate': 0.535216493812932, 'booster': 'gblinear', 'lambda': 0.2900617528407218, 'alpha': 0.06844256144386678}. Best is trial 2 with value: 0.8088071348940914.\u001b[0m\n"
          ]
        },
        {
          "output_type": "stream",
          "name": "stdout",
          "text": [
            "[01:04:11] WARNING: ../src/learner.cc:767: \n",
            "Parameters: { \"extra_trees\", \"n_estimators\" } are not used.\n",
            "\n",
            "[0]\tvalidation-auc:0.72285\n",
            "[1]\tvalidation-auc:0.76907\n",
            "[2]\tvalidation-auc:0.78962\n",
            "[3]\tvalidation-auc:0.80559\n",
            "[4]\tvalidation-auc:0.81017\n",
            "[5]\tvalidation-auc:0.81781\n",
            "[6]\tvalidation-auc:0.82435\n",
            "[7]\tvalidation-auc:0.82761\n",
            "[8]\tvalidation-auc:0.82971\n",
            "[9]\tvalidation-auc:0.83224\n"
          ]
        },
        {
          "output_type": "stream",
          "name": "stderr",
          "text": [
            "\u001b[32m[I 2023-04-14 01:04:33,954]\u001b[0m Trial 4 finished with value: 0.8160535117056856 and parameters: {'n_estimators': 267, 'max_depth': 237, 'learning_rate': 0.7464932431294754, 'booster': 'gbtree', 'lambda': 0.599633066670702, 'alpha': 0.06600942552638732, 'eta': 0.6912635082430784, 'gamma': 0.46162083664414666, 'grow_policy': 'depthwise'}. Best is trial 4 with value: 0.8160535117056856.\u001b[0m\n"
          ]
        },
        {
          "output_type": "stream",
          "name": "stdout",
          "text": [
            "[01:04:34] WARNING: ../src/learner.cc:767: \n",
            "Parameters: { \"extra_trees\", \"n_estimators\" } are not used.\n",
            "\n"
          ]
        },
        {
          "output_type": "stream",
          "name": "stderr",
          "text": [
            "\u001b[32m[I 2023-04-14 01:04:37,085]\u001b[0m Trial 5 pruned. Trial was pruned at iteration 0.\u001b[0m\n"
          ]
        },
        {
          "output_type": "stream",
          "name": "stdout",
          "text": [
            "[01:04:37] WARNING: ../src/learner.cc:767: \n",
            "Parameters: { \"extra_trees\", \"n_estimators\" } are not used.\n",
            "\n",
            "[0]\tvalidation-auc:0.72923\n",
            "[1]\tvalidation-auc:0.76006\n",
            "[2]\tvalidation-auc:0.78657\n",
            "[3]\tvalidation-auc:0.80584\n",
            "[4]\tvalidation-auc:0.81751\n",
            "[5]\tvalidation-auc:0.82180\n",
            "[6]\tvalidation-auc:0.82751\n",
            "[7]\tvalidation-auc:0.83487\n",
            "[8]\tvalidation-auc:0.83855\n",
            "[9]\tvalidation-auc:0.84157\n"
          ]
        },
        {
          "output_type": "stream",
          "name": "stderr",
          "text": [
            "\u001b[32m[I 2023-04-14 01:05:02,942]\u001b[0m Trial 6 finished with value: 0.8249721293199554 and parameters: {'n_estimators': 68, 'max_depth': 240, 'learning_rate': 0.445525139136214, 'booster': 'dart', 'lambda': 0.4465528986730449, 'alpha': 0.3711173270286856, 'eta': 0.8916837505590623, 'gamma': 0.9306726378241267, 'grow_policy': 'depthwise', 'sample_type': 'uniform', 'normalize_type': 'tree', 'rate_drop': 0.007340302100005225, 'skip_drop': 0.04303402363227761}. Best is trial 6 with value: 0.8249721293199554.\u001b[0m\n"
          ]
        },
        {
          "output_type": "stream",
          "name": "stdout",
          "text": [
            "[01:05:03] WARNING: ../src/learner.cc:767: \n",
            "Parameters: { \"extra_trees\", \"n_estimators\" } are not used.\n",
            "\n",
            "[0]\tvalidation-auc:0.73114\n",
            "[1]\tvalidation-auc:0.73114\n"
          ]
        },
        {
          "output_type": "stream",
          "name": "stderr",
          "text": [
            "\u001b[32m[I 2023-04-14 01:05:08,631]\u001b[0m Trial 7 pruned. Trial was pruned at iteration 1.\u001b[0m\n"
          ]
        },
        {
          "output_type": "stream",
          "name": "stdout",
          "text": [
            "[01:05:08] WARNING: ../src/learner.cc:767: \n",
            "Parameters: { \"extra_trees\", \"max_depth\", \"n_estimators\" } are not used.\n",
            "\n",
            "[0]\tvalidation-auc:0.50000\n"
          ]
        },
        {
          "output_type": "stream",
          "name": "stderr",
          "text": [
            "\u001b[32m[I 2023-04-14 01:05:08,921]\u001b[0m Trial 8 pruned. Trial was pruned at iteration 0.\u001b[0m\n"
          ]
        },
        {
          "output_type": "stream",
          "name": "stdout",
          "text": [
            "[01:05:09] WARNING: ../src/learner.cc:767: \n",
            "Parameters: { \"extra_trees\", \"max_depth\", \"n_estimators\" } are not used.\n",
            "\n",
            "[0]\tvalidation-auc:0.50000\n"
          ]
        },
        {
          "output_type": "stream",
          "name": "stderr",
          "text": [
            "\u001b[32m[I 2023-04-14 01:05:09,217]\u001b[0m Trial 9 pruned. Trial was pruned at iteration 0.\u001b[0m\n"
          ]
        },
        {
          "output_type": "stream",
          "name": "stdout",
          "text": [
            "[01:05:09] WARNING: ../src/learner.cc:767: \n",
            "Parameters: { \"extra_trees\", \"n_estimators\" } are not used.\n",
            "\n",
            "[0]\tvalidation-auc:0.73838\n",
            "[1]\tvalidation-auc:0.76634\n",
            "[2]\tvalidation-auc:0.78098\n"
          ]
        },
        {
          "output_type": "stream",
          "name": "stderr",
          "text": [
            "\u001b[32m[I 2023-04-14 01:05:22,201]\u001b[0m Trial 10 pruned. Trial was pruned at iteration 3.\u001b[0m\n"
          ]
        },
        {
          "output_type": "stream",
          "name": "stdout",
          "text": [
            "[01:05:22] WARNING: ../src/learner.cc:767: \n",
            "Parameters: { \"extra_trees\", \"n_estimators\" } are not used.\n",
            "\n",
            "[0]\tvalidation-auc:0.72829\n",
            "[1]\tvalidation-auc:0.76264\n",
            "[2]\tvalidation-auc:0.77977\n"
          ]
        },
        {
          "output_type": "stream",
          "name": "stderr",
          "text": [
            "\u001b[32m[I 2023-04-14 01:05:33,106]\u001b[0m Trial 11 pruned. Trial was pruned at iteration 3.\u001b[0m\n"
          ]
        },
        {
          "output_type": "stream",
          "name": "stdout",
          "text": [
            "[01:05:33] WARNING: ../src/learner.cc:767: \n",
            "Parameters: { \"extra_trees\", \"n_estimators\" } are not used.\n",
            "\n",
            "[0]\tvalidation-auc:0.72291\n"
          ]
        },
        {
          "output_type": "stream",
          "name": "stderr",
          "text": [
            "\u001b[32m[I 2023-04-14 01:05:38,849]\u001b[0m Trial 12 pruned. Trial was pruned at iteration 1.\u001b[0m\n"
          ]
        },
        {
          "output_type": "stream",
          "name": "stdout",
          "text": [
            "[01:05:39] WARNING: ../src/learner.cc:767: \n",
            "Parameters: { \"extra_trees\", \"n_estimators\" } are not used.\n",
            "\n",
            "[0]\tvalidation-auc:0.73747\n",
            "[1]\tvalidation-auc:0.75536\n",
            "[2]\tvalidation-auc:0.78020\n"
          ]
        },
        {
          "output_type": "stream",
          "name": "stderr",
          "text": [
            "\u001b[32m[I 2023-04-14 01:05:49,787]\u001b[0m Trial 13 pruned. Trial was pruned at iteration 3.\u001b[0m\n"
          ]
        },
        {
          "output_type": "stream",
          "name": "stdout",
          "text": [
            "[01:05:50] WARNING: ../src/learner.cc:767: \n",
            "Parameters: { \"extra_trees\", \"n_estimators\" } are not used.\n",
            "\n",
            "[0]\tvalidation-auc:0.72981\n",
            "[1]\tvalidation-auc:0.72981\n"
          ]
        },
        {
          "output_type": "stream",
          "name": "stderr",
          "text": [
            "\u001b[32m[I 2023-04-14 01:05:57,806]\u001b[0m Trial 14 pruned. Trial was pruned at iteration 1.\u001b[0m\n"
          ]
        },
        {
          "output_type": "stream",
          "name": "stdout",
          "text": [
            "[01:05:58] WARNING: ../src/learner.cc:767: \n",
            "Parameters: { \"extra_trees\", \"n_estimators\" } are not used.\n",
            "\n",
            "[0]\tvalidation-auc:0.73632\n",
            "[1]\tvalidation-auc:0.77560\n",
            "[2]\tvalidation-auc:0.78662\n",
            "[3]\tvalidation-auc:0.79656\n",
            "[4]\tvalidation-auc:0.80556\n",
            "[5]\tvalidation-auc:0.81421\n",
            "[6]\tvalidation-auc:0.81604\n",
            "[7]\tvalidation-auc:0.82149\n",
            "[8]\tvalidation-auc:0.82645\n",
            "[9]\tvalidation-auc:0.82642\n"
          ]
        },
        {
          "output_type": "stream",
          "name": "stderr",
          "text": [
            "\u001b[32m[I 2023-04-14 01:06:19,482]\u001b[0m Trial 15 finished with value: 0.8138238573021181 and parameters: {'n_estimators': 224, 'max_depth': 168, 'learning_rate': 0.6841273410941578, 'booster': 'gbtree', 'lambda': 0.9841762414347084, 'alpha': 0.6235775139576298, 'eta': 0.5823098363394517, 'gamma': 0.3696250481814731, 'grow_policy': 'depthwise'}. Best is trial 6 with value: 0.8249721293199554.\u001b[0m\n"
          ]
        },
        {
          "output_type": "stream",
          "name": "stdout",
          "text": [
            "[01:06:19] WARNING: ../src/learner.cc:767: \n",
            "Parameters: { \"extra_trees\", \"n_estimators\" } are not used.\n",
            "\n"
          ]
        },
        {
          "output_type": "stream",
          "name": "stderr",
          "text": [
            "\u001b[32m[I 2023-04-14 01:06:25,410]\u001b[0m Trial 16 pruned. Trial was pruned at iteration 0.\u001b[0m\n"
          ]
        },
        {
          "output_type": "stream",
          "name": "stdout",
          "text": [
            "[01:06:25] WARNING: ../src/learner.cc:767: \n",
            "Parameters: { \"extra_trees\", \"n_estimators\" } are not used.\n",
            "\n"
          ]
        },
        {
          "output_type": "stream",
          "name": "stderr",
          "text": [
            "\u001b[32m[I 2023-04-14 01:06:29,060]\u001b[0m Trial 17 pruned. Trial was pruned at iteration 0.\u001b[0m\n"
          ]
        },
        {
          "output_type": "stream",
          "name": "stdout",
          "text": [
            "[01:06:29] WARNING: ../src/learner.cc:767: \n",
            "Parameters: { \"extra_trees\", \"n_estimators\" } are not used.\n",
            "\n",
            "[0]\tvalidation-auc:0.73804\n",
            "[1]\tvalidation-auc:0.76325\n"
          ]
        },
        {
          "output_type": "stream",
          "name": "stderr",
          "text": [
            "\u001b[32m[I 2023-04-14 01:06:39,699]\u001b[0m Trial 18 pruned. Trial was pruned at iteration 2.\u001b[0m\n",
            "\u001b[32m[I 2023-04-14 01:06:40,081]\u001b[0m Trial 19 pruned. Trial was pruned at iteration 0.\u001b[0m\n"
          ]
        },
        {
          "output_type": "stream",
          "name": "stdout",
          "text": [
            "[01:06:39] WARNING: ../src/learner.cc:767: \n",
            "Parameters: { \"extra_trees\", \"max_depth\", \"n_estimators\" } are not used.\n",
            "\n",
            "[01:06:40] WARNING: ../src/learner.cc:767: \n",
            "Parameters: { \"extra_trees\", \"n_estimators\" } are not used.\n",
            "\n"
          ]
        },
        {
          "output_type": "stream",
          "name": "stderr",
          "text": [
            "\u001b[32m[I 2023-04-14 01:06:43,802]\u001b[0m Trial 20 pruned. Trial was pruned at iteration 0.\u001b[0m\n"
          ]
        },
        {
          "output_type": "stream",
          "name": "stdout",
          "text": [
            "[01:06:43] WARNING: ../src/learner.cc:767: \n",
            "Parameters: { \"extra_trees\", \"n_estimators\" } are not used.\n",
            "\n",
            "[0]\tvalidation-auc:0.73634\n",
            "[1]\tvalidation-auc:0.77749\n",
            "[2]\tvalidation-auc:0.78760\n",
            "[3]\tvalidation-auc:0.80134\n",
            "[4]\tvalidation-auc:0.80790\n",
            "[5]\tvalidation-auc:0.81443\n",
            "[6]\tvalidation-auc:0.82028\n",
            "[7]\tvalidation-auc:0.82286\n",
            "[8]\tvalidation-auc:0.82486\n"
          ]
        },
        {
          "output_type": "stream",
          "name": "stderr",
          "text": [
            "\u001b[32m[I 2023-04-14 01:07:07,618]\u001b[0m Trial 21 pruned. Trial was pruned at iteration 9.\u001b[0m\n"
          ]
        },
        {
          "output_type": "stream",
          "name": "stdout",
          "text": [
            "[01:07:07] WARNING: ../src/learner.cc:767: \n",
            "Parameters: { \"extra_trees\", \"n_estimators\" } are not used.\n",
            "\n",
            "[0]\tvalidation-auc:0.73612\n",
            "[1]\tvalidation-auc:0.76640\n"
          ]
        },
        {
          "output_type": "stream",
          "name": "stderr",
          "text": [
            "\u001b[32m[I 2023-04-14 01:07:15,341]\u001b[0m Trial 22 pruned. Trial was pruned at iteration 2.\u001b[0m\n"
          ]
        },
        {
          "output_type": "stream",
          "name": "stdout",
          "text": [
            "[01:07:15] WARNING: ../src/learner.cc:767: \n",
            "Parameters: { \"extra_trees\", \"n_estimators\" } are not used.\n",
            "\n",
            "[0]\tvalidation-auc:0.73475\n",
            "[1]\tvalidation-auc:0.76641\n"
          ]
        },
        {
          "output_type": "stream",
          "name": "stderr",
          "text": [
            "\u001b[32m[I 2023-04-14 01:07:25,031]\u001b[0m Trial 23 pruned. Trial was pruned at iteration 2.\u001b[0m\n"
          ]
        },
        {
          "output_type": "stream",
          "name": "stdout",
          "text": [
            "[01:07:25] WARNING: ../src/learner.cc:767: \n",
            "Parameters: { \"extra_trees\", \"n_estimators\" } are not used.\n",
            "\n",
            "[0]\tvalidation-auc:0.72889\n",
            "[1]\tvalidation-auc:0.77056\n",
            "[2]\tvalidation-auc:0.79448\n",
            "[3]\tvalidation-auc:0.80307\n",
            "[4]\tvalidation-auc:0.81458\n",
            "[5]\tvalidation-auc:0.82349\n",
            "[6]\tvalidation-auc:0.82645\n",
            "[7]\tvalidation-auc:0.82776\n",
            "[8]\tvalidation-auc:0.83051\n",
            "[9]\tvalidation-auc:0.83437\n"
          ]
        },
        {
          "output_type": "stream",
          "name": "stderr",
          "text": [
            "\u001b[32m[I 2023-04-14 01:07:47,122]\u001b[0m Trial 24 finished with value: 0.8082497212931996 and parameters: {'n_estimators': 233, 'max_depth': 213, 'learning_rate': 0.6334158430728625, 'booster': 'gbtree', 'lambda': 0.8407947858621206, 'alpha': 0.1331404797732557, 'eta': 0.8141616072160679, 'gamma': 0.5807526933002853, 'grow_policy': 'depthwise'}. Best is trial 6 with value: 0.8249721293199554.\u001b[0m\n"
          ]
        },
        {
          "output_type": "stream",
          "name": "stdout",
          "text": [
            "[01:07:47] WARNING: ../src/learner.cc:767: \n",
            "Parameters: { \"extra_trees\", \"n_estimators\" } are not used.\n",
            "\n",
            "[0]\tvalidation-auc:0.73153\n"
          ]
        },
        {
          "output_type": "stream",
          "name": "stderr",
          "text": [
            "\u001b[32m[I 2023-04-14 01:07:54,043]\u001b[0m Trial 25 pruned. Trial was pruned at iteration 1.\u001b[0m\n"
          ]
        },
        {
          "output_type": "stream",
          "name": "stdout",
          "text": [
            "[01:07:54] WARNING: ../src/learner.cc:767: \n",
            "Parameters: { \"extra_trees\", \"n_estimators\" } are not used.\n",
            "\n",
            "[0]\tvalidation-auc:0.71953\n"
          ]
        },
        {
          "output_type": "stream",
          "name": "stderr",
          "text": [
            "\u001b[32m[I 2023-04-14 01:07:57,680]\u001b[0m Trial 26 pruned. Trial was pruned at iteration 0.\u001b[0m\n"
          ]
        },
        {
          "output_type": "stream",
          "name": "stdout",
          "text": [
            "[01:07:57] WARNING: ../src/learner.cc:767: \n",
            "Parameters: { \"extra_trees\", \"n_estimators\" } are not used.\n",
            "\n",
            "[0]\tvalidation-auc:0.73426\n"
          ]
        },
        {
          "output_type": "stream",
          "name": "stderr",
          "text": [
            "\u001b[32m[I 2023-04-14 01:08:05,642]\u001b[0m Trial 27 pruned. Trial was pruned at iteration 1.\u001b[0m\n"
          ]
        },
        {
          "output_type": "stream",
          "name": "stdout",
          "text": [
            "[01:08:05] WARNING: ../src/learner.cc:767: \n",
            "Parameters: { \"extra_trees\", \"n_estimators\" } are not used.\n",
            "\n",
            "[0]\tvalidation-auc:0.73188\n",
            "[1]\tvalidation-auc:0.76357\n",
            "[2]\tvalidation-auc:0.78776\n",
            "[3]\tvalidation-auc:0.79778\n"
          ]
        },
        {
          "output_type": "stream",
          "name": "stderr",
          "text": [
            "\u001b[32m[I 2023-04-14 01:08:15,703]\u001b[0m Trial 28 pruned. Trial was pruned at iteration 3.\u001b[0m\n"
          ]
        },
        {
          "output_type": "stream",
          "name": "stdout",
          "text": [
            "[01:08:16] WARNING: ../src/learner.cc:767: \n",
            "Parameters: { \"extra_trees\", \"max_depth\", \"n_estimators\" } are not used.\n",
            "\n",
            "[0]\tvalidation-auc:0.50000\n"
          ]
        },
        {
          "output_type": "stream",
          "name": "stderr",
          "text": [
            "\u001b[32m[I 2023-04-14 01:08:16,395]\u001b[0m Trial 29 pruned. Trial was pruned at iteration 0.\u001b[0m\n"
          ]
        },
        {
          "output_type": "stream",
          "name": "stdout",
          "text": [
            "[01:08:16] WARNING: ../src/learner.cc:767: \n",
            "Parameters: { \"extra_trees\", \"n_estimators\" } are not used.\n",
            "\n",
            "[0]\tvalidation-auc:0.73200\n",
            "[1]\tvalidation-auc:0.74578\n"
          ]
        },
        {
          "output_type": "stream",
          "name": "stderr",
          "text": [
            "\u001b[32m[I 2023-04-14 01:08:23,187]\u001b[0m Trial 30 pruned. Trial was pruned at iteration 1.\u001b[0m\n"
          ]
        },
        {
          "output_type": "stream",
          "name": "stdout",
          "text": [
            "[01:08:23] WARNING: ../src/learner.cc:767: \n",
            "Parameters: { \"extra_trees\", \"n_estimators\" } are not used.\n",
            "\n"
          ]
        },
        {
          "output_type": "stream",
          "name": "stderr",
          "text": [
            "\u001b[32m[I 2023-04-14 01:08:26,985]\u001b[0m Trial 31 pruned. Trial was pruned at iteration 0.\u001b[0m\n"
          ]
        },
        {
          "output_type": "stream",
          "name": "stdout",
          "text": [
            "[01:08:27] WARNING: ../src/learner.cc:767: \n",
            "Parameters: { \"extra_trees\", \"n_estimators\" } are not used.\n",
            "\n"
          ]
        },
        {
          "output_type": "stream",
          "name": "stderr",
          "text": [
            "\u001b[32m[I 2023-04-14 01:08:32,580]\u001b[0m Trial 32 pruned. Trial was pruned at iteration 0.\u001b[0m\n"
          ]
        },
        {
          "output_type": "stream",
          "name": "stdout",
          "text": [
            "[01:08:32] WARNING: ../src/learner.cc:767: \n",
            "Parameters: { \"extra_trees\", \"n_estimators\" } are not used.\n",
            "\n",
            "[0]\tvalidation-auc:0.71141\n"
          ]
        },
        {
          "output_type": "stream",
          "name": "stderr",
          "text": [
            "\u001b[32m[I 2023-04-14 01:08:36,376]\u001b[0m Trial 33 pruned. Trial was pruned at iteration 0.\u001b[0m\n"
          ]
        },
        {
          "output_type": "stream",
          "name": "stdout",
          "text": [
            "[01:08:36] WARNING: ../src/learner.cc:767: \n",
            "Parameters: { \"extra_trees\", \"n_estimators\" } are not used.\n",
            "\n",
            "[0]\tvalidation-auc:0.73038\n"
          ]
        },
        {
          "output_type": "stream",
          "name": "stderr",
          "text": [
            "\u001b[32m[I 2023-04-14 01:08:42,138]\u001b[0m Trial 34 pruned. Trial was pruned at iteration 1.\u001b[0m\n"
          ]
        },
        {
          "output_type": "stream",
          "name": "stdout",
          "text": [
            "[01:08:42] WARNING: ../src/learner.cc:767: \n",
            "Parameters: { \"extra_trees\", \"n_estimators\" } are not used.\n",
            "\n",
            "[0]\tvalidation-auc:0.72252\n"
          ]
        },
        {
          "output_type": "stream",
          "name": "stderr",
          "text": [
            "\u001b[32m[I 2023-04-14 01:08:48,193]\u001b[0m Trial 35 pruned. Trial was pruned at iteration 0.\u001b[0m\n"
          ]
        },
        {
          "output_type": "stream",
          "name": "stdout",
          "text": [
            "[01:08:48] WARNING: ../src/learner.cc:767: \n",
            "Parameters: { \"extra_trees\", \"n_estimators\" } are not used.\n",
            "\n",
            "[0]\tvalidation-auc:0.73066\n",
            "[1]\tvalidation-auc:0.76861\n",
            "[2]\tvalidation-auc:0.79123\n"
          ]
        },
        {
          "output_type": "stream",
          "name": "stderr",
          "text": [
            "\u001b[32m[I 2023-04-14 01:08:59,875]\u001b[0m Trial 36 pruned. Trial was pruned at iteration 3.\u001b[0m\n"
          ]
        },
        {
          "output_type": "stream",
          "name": "stdout",
          "text": [
            "[01:09:00] WARNING: ../src/learner.cc:767: \n",
            "Parameters: { \"extra_trees\", \"max_depth\", \"n_estimators\" } are not used.\n",
            "\n",
            "[0]\tvalidation-auc:0.50000\n"
          ]
        },
        {
          "output_type": "stream",
          "name": "stderr",
          "text": [
            "\u001b[32m[I 2023-04-14 01:09:00,322]\u001b[0m Trial 37 pruned. Trial was pruned at iteration 0.\u001b[0m\n"
          ]
        },
        {
          "output_type": "stream",
          "name": "stdout",
          "text": [
            "[01:09:00] WARNING: ../src/learner.cc:767: \n",
            "Parameters: { \"extra_trees\", \"n_estimators\" } are not used.\n",
            "\n",
            "[0]\tvalidation-auc:0.73222\n",
            "[1]\tvalidation-auc:0.75973\n",
            "[2]\tvalidation-auc:0.78548\n"
          ]
        },
        {
          "output_type": "stream",
          "name": "stderr",
          "text": [
            "\u001b[32m[I 2023-04-14 01:09:08,983]\u001b[0m Trial 38 pruned. Trial was pruned at iteration 3.\u001b[0m\n"
          ]
        },
        {
          "output_type": "stream",
          "name": "stdout",
          "text": [
            "[01:09:09] WARNING: ../src/learner.cc:767: \n",
            "Parameters: { \"extra_trees\", \"n_estimators\" } are not used.\n",
            "\n",
            "[0]\tvalidation-auc:0.72373\n"
          ]
        },
        {
          "output_type": "stream",
          "name": "stderr",
          "text": [
            "\u001b[32m[I 2023-04-14 01:09:15,057]\u001b[0m Trial 39 pruned. Trial was pruned at iteration 0.\u001b[0m\n"
          ]
        },
        {
          "output_type": "stream",
          "name": "stdout",
          "text": [
            "[01:09:15] WARNING: ../src/learner.cc:767: \n",
            "Parameters: { \"extra_trees\", \"max_depth\", \"n_estimators\" } are not used.\n",
            "\n"
          ]
        },
        {
          "output_type": "stream",
          "name": "stderr",
          "text": [
            "\u001b[32m[I 2023-04-14 01:09:15,365]\u001b[0m Trial 40 pruned. Trial was pruned at iteration 0.\u001b[0m\n"
          ]
        },
        {
          "output_type": "stream",
          "name": "stdout",
          "text": [
            "[01:09:15] WARNING: ../src/learner.cc:767: \n",
            "Parameters: { \"extra_trees\", \"n_estimators\" } are not used.\n",
            "\n",
            "[0]\tvalidation-auc:0.72889\n",
            "[1]\tvalidation-auc:0.76980\n",
            "[2]\tvalidation-auc:0.79448\n",
            "[3]\tvalidation-auc:0.80467\n",
            "[4]\tvalidation-auc:0.81481\n",
            "[5]\tvalidation-auc:0.81947\n",
            "[6]\tvalidation-auc:0.82459\n",
            "[7]\tvalidation-auc:0.82777\n",
            "[8]\tvalidation-auc:0.82923\n",
            "[9]\tvalidation-auc:0.83051\n"
          ]
        },
        {
          "output_type": "stream",
          "name": "stderr",
          "text": [
            "\u001b[32m[I 2023-04-14 01:09:36,856]\u001b[0m Trial 41 finished with value: 0.8110367892976589 and parameters: {'n_estimators': 223, 'max_depth': 213, 'learning_rate': 0.6360293069714709, 'booster': 'gbtree', 'lambda': 0.8308332690571936, 'alpha': 0.13919432877447463, 'eta': 0.7901163728014593, 'gamma': 0.5650007088257434, 'grow_policy': 'depthwise'}. Best is trial 6 with value: 0.8249721293199554.\u001b[0m\n"
          ]
        },
        {
          "output_type": "stream",
          "name": "stdout",
          "text": [
            "[01:09:37] WARNING: ../src/learner.cc:767: \n",
            "Parameters: { \"extra_trees\", \"n_estimators\" } are not used.\n",
            "\n",
            "[0]\tvalidation-auc:0.72555\n"
          ]
        },
        {
          "output_type": "stream",
          "name": "stderr",
          "text": [
            "\u001b[32m[I 2023-04-14 01:09:42,750]\u001b[0m Trial 42 pruned. Trial was pruned at iteration 0.\u001b[0m\n"
          ]
        },
        {
          "output_type": "stream",
          "name": "stdout",
          "text": [
            "[01:09:42] WARNING: ../src/learner.cc:767: \n",
            "Parameters: { \"extra_trees\", \"n_estimators\" } are not used.\n",
            "\n",
            "[0]\tvalidation-auc:0.73029\n",
            "[1]\tvalidation-auc:0.76257\n"
          ]
        },
        {
          "output_type": "stream",
          "name": "stderr",
          "text": [
            "\u001b[32m[I 2023-04-14 01:09:50,605]\u001b[0m Trial 43 pruned. Trial was pruned at iteration 2.\u001b[0m\n"
          ]
        },
        {
          "output_type": "stream",
          "name": "stdout",
          "text": [
            "[01:09:50] WARNING: ../src/learner.cc:767: \n",
            "Parameters: { \"extra_trees\", \"n_estimators\" } are not used.\n",
            "\n"
          ]
        },
        {
          "output_type": "stream",
          "name": "stderr",
          "text": [
            "\u001b[32m[I 2023-04-14 01:09:56,086]\u001b[0m Trial 44 pruned. Trial was pruned at iteration 0.\u001b[0m\n"
          ]
        },
        {
          "output_type": "stream",
          "name": "stdout",
          "text": [
            "[01:09:56] WARNING: ../src/learner.cc:767: \n",
            "Parameters: { \"extra_trees\", \"n_estimators\" } are not used.\n",
            "\n",
            "[0]\tvalidation-auc:0.72891\n",
            "[1]\tvalidation-auc:0.76422\n",
            "[2]\tvalidation-auc:0.79091\n",
            "[3]\tvalidation-auc:0.80580\n",
            "[4]\tvalidation-auc:0.81278\n",
            "[5]\tvalidation-auc:0.81749\n",
            "[6]\tvalidation-auc:0.82286\n",
            "[7]\tvalidation-auc:0.82935\n",
            "[8]\tvalidation-auc:0.83196\n",
            "[9]\tvalidation-auc:0.83727\n"
          ]
        },
        {
          "output_type": "stream",
          "name": "stderr",
          "text": [
            "\u001b[32m[I 2023-04-14 01:10:17,603]\u001b[0m Trial 45 finished with value: 0.8082497212931996 and parameters: {'n_estimators': 220, 'max_depth': 232, 'learning_rate': 0.5598476847162459, 'booster': 'gbtree', 'lambda': 0.9873452669819487, 'alpha': 0.05855552427164801, 'eta': 0.9134708793693824, 'gamma': 0.38469129656854884, 'grow_policy': 'depthwise'}. Best is trial 6 with value: 0.8249721293199554.\u001b[0m\n"
          ]
        },
        {
          "output_type": "stream",
          "name": "stdout",
          "text": [
            "[01:10:17] WARNING: ../src/learner.cc:767: \n",
            "Parameters: { \"extra_trees\", \"n_estimators\" } are not used.\n",
            "\n",
            "[0]\tvalidation-auc:0.72963\n",
            "[1]\tvalidation-auc:0.76281\n",
            "[2]\tvalidation-auc:0.78704\n",
            "[3]\tvalidation-auc:0.79999\n"
          ]
        },
        {
          "output_type": "stream",
          "name": "stderr",
          "text": [
            "\u001b[32m[I 2023-04-14 01:10:28,775]\u001b[0m Trial 46 pruned. Trial was pruned at iteration 3.\u001b[0m\n"
          ]
        },
        {
          "output_type": "stream",
          "name": "stdout",
          "text": [
            "[01:10:28] WARNING: ../src/learner.cc:767: \n",
            "Parameters: { \"extra_trees\", \"n_estimators\" } are not used.\n",
            "\n",
            "[0]\tvalidation-auc:0.72318\n"
          ]
        },
        {
          "output_type": "stream",
          "name": "stderr",
          "text": [
            "\u001b[32m[I 2023-04-14 01:10:32,502]\u001b[0m Trial 47 pruned. Trial was pruned at iteration 0.\u001b[0m\n"
          ]
        },
        {
          "output_type": "stream",
          "name": "stdout",
          "text": [
            "[01:10:32] WARNING: ../src/learner.cc:767: \n",
            "Parameters: { \"extra_trees\", \"n_estimators\" } are not used.\n",
            "\n",
            "[0]\tvalidation-auc:0.73067\n",
            "[1]\tvalidation-auc:0.75031\n"
          ]
        },
        {
          "output_type": "stream",
          "name": "stderr",
          "text": [
            "\u001b[32m[I 2023-04-14 01:10:40,423]\u001b[0m Trial 48 pruned. Trial was pruned at iteration 1.\u001b[0m\n"
          ]
        },
        {
          "output_type": "stream",
          "name": "stdout",
          "text": [
            "[01:10:40] WARNING: ../src/learner.cc:767: \n",
            "Parameters: { \"extra_trees\", \"n_estimators\" } are not used.\n",
            "\n",
            "[0]\tvalidation-auc:0.73200\n"
          ]
        },
        {
          "output_type": "stream",
          "name": "stderr",
          "text": [
            "\u001b[32m[I 2023-04-14 01:10:46,321]\u001b[0m Trial 49 pruned. Trial was pruned at iteration 1.\u001b[0m\n"
          ]
        },
        {
          "output_type": "stream",
          "name": "stdout",
          "text": [
            "[01:10:46] WARNING: ../src/learner.cc:767: \n",
            "Parameters: { \"extra_trees\", \"n_estimators\" } are not used.\n",
            "\n",
            "[0]\tvalidation-auc:0.72990\n"
          ]
        },
        {
          "output_type": "stream",
          "name": "stderr",
          "text": [
            "\u001b[32m[I 2023-04-14 01:10:54,430]\u001b[0m Trial 50 pruned. Trial was pruned at iteration 1.\u001b[0m\n"
          ]
        },
        {
          "output_type": "stream",
          "name": "stdout",
          "text": [
            "[01:10:54] WARNING: ../src/learner.cc:767: \n",
            "Parameters: { \"extra_trees\", \"n_estimators\" } are not used.\n",
            "\n",
            "[0]\tvalidation-auc:0.73137\n",
            "[1]\tvalidation-auc:0.76879\n",
            "[2]\tvalidation-auc:0.78820\n"
          ]
        },
        {
          "output_type": "stream",
          "name": "stderr",
          "text": [
            "\u001b[32m[I 2023-04-14 01:11:06,184]\u001b[0m Trial 51 pruned. Trial was pruned at iteration 3.\u001b[0m\n"
          ]
        },
        {
          "output_type": "stream",
          "name": "stdout",
          "text": [
            "[01:11:06] WARNING: ../src/learner.cc:767: \n",
            "Parameters: { \"extra_trees\", \"n_estimators\" } are not used.\n",
            "\n",
            "[0]\tvalidation-auc:0.72995\n",
            "[1]\tvalidation-auc:0.76770\n",
            "[2]\tvalidation-auc:0.79077\n",
            "[3]\tvalidation-auc:0.80414\n",
            "[4]\tvalidation-auc:0.81128\n",
            "[5]\tvalidation-auc:0.81672\n",
            "[6]\tvalidation-auc:0.82148\n",
            "[7]\tvalidation-auc:0.82587\n",
            "[8]\tvalidation-auc:0.83032\n",
            "[9]\tvalidation-auc:0.83382\n"
          ]
        },
        {
          "output_type": "stream",
          "name": "stderr",
          "text": [
            "\u001b[32m[I 2023-04-14 01:11:26,117]\u001b[0m Trial 52 finished with value: 0.8032329988851727 and parameters: {'n_estimators': 228, 'max_depth': 197, 'learning_rate': 0.7133789482513093, 'booster': 'gbtree', 'lambda': 0.849500617973276, 'alpha': 0.14888464830965348, 'eta': 0.8252556869999075, 'gamma': 0.582865645931352, 'grow_policy': 'depthwise'}. Best is trial 6 with value: 0.8249721293199554.\u001b[0m\n"
          ]
        },
        {
          "output_type": "stream",
          "name": "stdout",
          "text": [
            "[01:11:26] WARNING: ../src/learner.cc:767: \n",
            "Parameters: { \"extra_trees\", \"n_estimators\" } are not used.\n",
            "\n",
            "[0]\tvalidation-auc:0.72530\n"
          ]
        },
        {
          "output_type": "stream",
          "name": "stderr",
          "text": [
            "\u001b[32m[I 2023-04-14 01:11:29,859]\u001b[0m Trial 53 pruned. Trial was pruned at iteration 0.\u001b[0m\n"
          ]
        },
        {
          "output_type": "stream",
          "name": "stdout",
          "text": [
            "[01:11:30] WARNING: ../src/learner.cc:767: \n",
            "Parameters: { \"extra_trees\", \"n_estimators\" } are not used.\n",
            "\n",
            "[0]\tvalidation-auc:0.73703\n",
            "[1]\tvalidation-auc:0.77010\n",
            "[2]\tvalidation-auc:0.79086\n",
            "[3]\tvalidation-auc:0.80486\n",
            "[4]\tvalidation-auc:0.81619\n",
            "[5]\tvalidation-auc:0.81871\n",
            "[6]\tvalidation-auc:0.82370\n",
            "[7]\tvalidation-auc:0.82549\n"
          ]
        },
        {
          "output_type": "stream",
          "name": "stderr",
          "text": [
            "\u001b[32m[I 2023-04-14 01:11:50,724]\u001b[0m Trial 54 pruned. Trial was pruned at iteration 7.\u001b[0m\n"
          ]
        },
        {
          "output_type": "stream",
          "name": "stdout",
          "text": [
            "[01:11:50] WARNING: ../src/learner.cc:767: \n",
            "Parameters: { \"extra_trees\", \"n_estimators\" } are not used.\n",
            "\n",
            "[0]\tvalidation-auc:0.73173\n",
            "[1]\tvalidation-auc:0.77110\n"
          ]
        },
        {
          "output_type": "stream",
          "name": "stderr",
          "text": [
            "\u001b[32m[I 2023-04-14 01:11:58,379]\u001b[0m Trial 55 pruned. Trial was pruned at iteration 2.\u001b[0m\n"
          ]
        },
        {
          "output_type": "stream",
          "name": "stdout",
          "text": [
            "[01:11:58] WARNING: ../src/learner.cc:767: \n",
            "Parameters: { \"extra_trees\", \"max_depth\", \"n_estimators\" } are not used.\n",
            "\n"
          ]
        },
        {
          "output_type": "stream",
          "name": "stderr",
          "text": [
            "\u001b[32m[I 2023-04-14 01:11:59,105]\u001b[0m Trial 56 pruned. Trial was pruned at iteration 0.\u001b[0m\n"
          ]
        },
        {
          "output_type": "stream",
          "name": "stdout",
          "text": [
            "[01:11:59] WARNING: ../src/learner.cc:767: \n",
            "Parameters: { \"extra_trees\", \"n_estimators\" } are not used.\n",
            "\n",
            "[0]\tvalidation-auc:0.73141\n",
            "[1]\tvalidation-auc:0.76527\n",
            "[2]\tvalidation-auc:0.79298\n",
            "[3]\tvalidation-auc:0.80603\n",
            "[4]\tvalidation-auc:0.81545\n",
            "[5]\tvalidation-auc:0.82222\n",
            "[6]\tvalidation-auc:0.82847\n",
            "[7]\tvalidation-auc:0.82902\n",
            "[8]\tvalidation-auc:0.83493\n",
            "[9]\tvalidation-auc:0.83556\n"
          ]
        },
        {
          "output_type": "stream",
          "name": "stderr",
          "text": [
            "\u001b[32m[I 2023-04-14 01:12:21,332]\u001b[0m Trial 57 finished with value: 0.8149386845039019 and parameters: {'n_estimators': 331, 'max_depth': 154, 'learning_rate': 0.5988520766039489, 'booster': 'gbtree', 'lambda': 0.5092842433878196, 'alpha': 0.3100886991871075, 'eta': 0.8504634106315565, 'gamma': 0.7228113470234646, 'grow_policy': 'depthwise'}. Best is trial 6 with value: 0.8249721293199554.\u001b[0m\n"
          ]
        },
        {
          "output_type": "stream",
          "name": "stdout",
          "text": [
            "[01:12:21] WARNING: ../src/learner.cc:767: \n",
            "Parameters: { \"extra_trees\", \"n_estimators\" } are not used.\n",
            "\n",
            "[0]\tvalidation-auc:0.73118\n",
            "[1]\tvalidation-auc:0.75988\n"
          ]
        },
        {
          "output_type": "stream",
          "name": "stderr",
          "text": [
            "\u001b[32m[I 2023-04-14 01:12:27,629]\u001b[0m Trial 58 pruned. Trial was pruned at iteration 1.\u001b[0m\n"
          ]
        },
        {
          "output_type": "stream",
          "name": "stdout",
          "text": [
            "[01:12:27] WARNING: ../src/learner.cc:767: \n",
            "Parameters: { \"extra_trees\", \"n_estimators\" } are not used.\n",
            "\n",
            "[0]\tvalidation-auc:0.72951\n"
          ]
        },
        {
          "output_type": "stream",
          "name": "stderr",
          "text": [
            "\u001b[32m[I 2023-04-14 01:12:34,513]\u001b[0m Trial 59 pruned. Trial was pruned at iteration 1.\u001b[0m\n"
          ]
        },
        {
          "output_type": "stream",
          "name": "stdout",
          "text": [
            "[01:12:34] WARNING: ../src/learner.cc:767: \n",
            "Parameters: { \"extra_trees\", \"n_estimators\" } are not used.\n",
            "\n",
            "[0]\tvalidation-auc:0.73622\n",
            "[1]\tvalidation-auc:0.77204\n",
            "[2]\tvalidation-auc:0.79020\n",
            "[3]\tvalidation-auc:0.79613\n"
          ]
        },
        {
          "output_type": "stream",
          "name": "stderr",
          "text": [
            "\u001b[32m[I 2023-04-14 01:12:46,633]\u001b[0m Trial 60 pruned. Trial was pruned at iteration 3.\u001b[0m\n"
          ]
        },
        {
          "output_type": "stream",
          "name": "stdout",
          "text": [
            "[01:12:46] WARNING: ../src/learner.cc:767: \n",
            "Parameters: { \"extra_trees\", \"n_estimators\" } are not used.\n",
            "\n",
            "[0]\tvalidation-auc:0.71771\n"
          ]
        },
        {
          "output_type": "stream",
          "name": "stderr",
          "text": [
            "\u001b[32m[I 2023-04-14 01:12:50,217]\u001b[0m Trial 61 pruned. Trial was pruned at iteration 0.\u001b[0m\n"
          ]
        },
        {
          "output_type": "stream",
          "name": "stdout",
          "text": [
            "[01:12:50] WARNING: ../src/learner.cc:767: \n",
            "Parameters: { \"extra_trees\", \"n_estimators\" } are not used.\n",
            "\n",
            "[0]\tvalidation-auc:0.73330\n",
            "[1]\tvalidation-auc:0.76340\n"
          ]
        },
        {
          "output_type": "stream",
          "name": "stderr",
          "text": [
            "\u001b[32m[I 2023-04-14 01:12:56,315]\u001b[0m Trial 62 pruned. Trial was pruned at iteration 1.\u001b[0m\n"
          ]
        },
        {
          "output_type": "stream",
          "name": "stdout",
          "text": [
            "[01:12:56] WARNING: ../src/learner.cc:767: \n",
            "Parameters: { \"extra_trees\", \"n_estimators\" } are not used.\n",
            "\n",
            "[0]\tvalidation-auc:0.72989\n",
            "[1]\tvalidation-auc:0.77545\n",
            "[2]\tvalidation-auc:0.78998\n"
          ]
        },
        {
          "output_type": "stream",
          "name": "stderr",
          "text": [
            "\u001b[32m[I 2023-04-14 01:13:06,751]\u001b[0m Trial 63 pruned. Trial was pruned at iteration 3.\u001b[0m\n"
          ]
        },
        {
          "output_type": "stream",
          "name": "stdout",
          "text": [
            "[01:13:06] WARNING: ../src/learner.cc:767: \n",
            "Parameters: { \"extra_trees\", \"n_estimators\" } are not used.\n",
            "\n",
            "[0]\tvalidation-auc:0.73121\n"
          ]
        },
        {
          "output_type": "stream",
          "name": "stderr",
          "text": [
            "\u001b[32m[I 2023-04-14 01:13:14,772]\u001b[0m Trial 64 pruned. Trial was pruned at iteration 1.\u001b[0m\n"
          ]
        },
        {
          "output_type": "stream",
          "name": "stdout",
          "text": [
            "[01:13:15] WARNING: ../src/learner.cc:767: \n",
            "Parameters: { \"extra_trees\", \"n_estimators\" } are not used.\n",
            "\n",
            "[0]\tvalidation-auc:0.73145\n"
          ]
        },
        {
          "output_type": "stream",
          "name": "stderr",
          "text": [
            "\u001b[32m[I 2023-04-14 01:13:20,461]\u001b[0m Trial 65 pruned. Trial was pruned at iteration 1.\u001b[0m\n"
          ]
        },
        {
          "output_type": "stream",
          "name": "stdout",
          "text": [
            "[01:13:20] WARNING: ../src/learner.cc:767: \n",
            "Parameters: { \"extra_trees\", \"n_estimators\" } are not used.\n",
            "\n"
          ]
        },
        {
          "output_type": "stream",
          "name": "stderr",
          "text": [
            "\u001b[32m[I 2023-04-14 01:13:24,690]\u001b[0m Trial 66 pruned. Trial was pruned at iteration 0.\u001b[0m\n"
          ]
        },
        {
          "output_type": "stream",
          "name": "stdout",
          "text": [
            "[01:13:25] WARNING: ../src/learner.cc:767: \n",
            "Parameters: { \"extra_trees\", \"n_estimators\" } are not used.\n",
            "\n",
            "[0]\tvalidation-auc:0.71854\n"
          ]
        },
        {
          "output_type": "stream",
          "name": "stderr",
          "text": [
            "\u001b[32m[I 2023-04-14 01:13:29,800]\u001b[0m Trial 67 pruned. Trial was pruned at iteration 0.\u001b[0m\n"
          ]
        },
        {
          "output_type": "stream",
          "name": "stdout",
          "text": [
            "[01:13:30] WARNING: ../src/learner.cc:767: \n",
            "Parameters: { \"extra_trees\", \"max_depth\", \"n_estimators\" } are not used.\n",
            "\n",
            "[0]\tvalidation-auc:0.50000\n"
          ]
        },
        {
          "output_type": "stream",
          "name": "stderr",
          "text": [
            "\u001b[32m[I 2023-04-14 01:13:30,140]\u001b[0m Trial 68 pruned. Trial was pruned at iteration 0.\u001b[0m\n"
          ]
        },
        {
          "output_type": "stream",
          "name": "stdout",
          "text": [
            "[01:13:30] WARNING: ../src/learner.cc:767: \n",
            "Parameters: { \"extra_trees\", \"n_estimators\" } are not used.\n",
            "\n",
            "[0]\tvalidation-auc:0.73671\n"
          ]
        },
        {
          "output_type": "stream",
          "name": "stderr",
          "text": [
            "\u001b[32m[I 2023-04-14 01:13:36,172]\u001b[0m Trial 69 pruned. Trial was pruned at iteration 1.\u001b[0m\n"
          ]
        },
        {
          "output_type": "stream",
          "name": "stdout",
          "text": [
            "[01:13:36] WARNING: ../src/learner.cc:767: \n",
            "Parameters: { \"extra_trees\", \"n_estimators\" } are not used.\n",
            "\n"
          ]
        },
        {
          "output_type": "stream",
          "name": "stderr",
          "text": [
            "\u001b[32m[I 2023-04-14 01:13:42,088]\u001b[0m Trial 70 pruned. Trial was pruned at iteration 0.\u001b[0m\n"
          ]
        },
        {
          "output_type": "stream",
          "name": "stdout",
          "text": [
            "[01:13:42] WARNING: ../src/learner.cc:767: \n",
            "Parameters: { \"extra_trees\", \"n_estimators\" } are not used.\n",
            "\n",
            "[0]\tvalidation-auc:0.72928\n",
            "[1]\tvalidation-auc:0.76488\n"
          ]
        },
        {
          "output_type": "stream",
          "name": "stderr",
          "text": [
            "\u001b[32m[I 2023-04-14 01:13:50,168]\u001b[0m Trial 71 pruned. Trial was pruned at iteration 2.\u001b[0m\n"
          ]
        },
        {
          "output_type": "stream",
          "name": "stdout",
          "text": [
            "[01:13:50] WARNING: ../src/learner.cc:767: \n",
            "Parameters: { \"extra_trees\", \"n_estimators\" } are not used.\n",
            "\n",
            "[0]\tvalidation-auc:0.73043\n",
            "[1]\tvalidation-auc:0.77321\n",
            "[2]\tvalidation-auc:0.79155\n",
            "[3]\tvalidation-auc:0.80633\n",
            "[4]\tvalidation-auc:0.81751\n",
            "[5]\tvalidation-auc:0.82471\n",
            "[6]\tvalidation-auc:0.82660\n",
            "[7]\tvalidation-auc:0.82871\n",
            "[8]\tvalidation-auc:0.83165\n",
            "[9]\tvalidation-auc:0.83416\n"
          ]
        },
        {
          "output_type": "stream",
          "name": "stderr",
          "text": [
            "\u001b[32m[I 2023-04-14 01:14:14,086]\u001b[0m Trial 72 finished with value: 0.8160535117056856 and parameters: {'n_estimators': 224, 'max_depth': 239, 'learning_rate': 0.5912932800743779, 'booster': 'gbtree', 'lambda': 0.9599790938320907, 'alpha': 0.043638849694438535, 'eta': 0.8985711595251064, 'gamma': 0.3952848384834284, 'grow_policy': 'depthwise'}. Best is trial 6 with value: 0.8249721293199554.\u001b[0m\n"
          ]
        },
        {
          "output_type": "stream",
          "name": "stdout",
          "text": [
            "[01:14:14] WARNING: ../src/learner.cc:767: \n",
            "Parameters: { \"extra_trees\", \"n_estimators\" } are not used.\n",
            "\n",
            "[0]\tvalidation-auc:0.73192\n",
            "[1]\tvalidation-auc:0.76634\n",
            "[2]\tvalidation-auc:0.78310\n"
          ]
        },
        {
          "output_type": "stream",
          "name": "stderr",
          "text": [
            "\u001b[32m[I 2023-04-14 01:14:24,392]\u001b[0m Trial 73 pruned. Trial was pruned at iteration 2.\u001b[0m\n"
          ]
        },
        {
          "output_type": "stream",
          "name": "stdout",
          "text": [
            "[01:14:24] WARNING: ../src/learner.cc:767: \n",
            "Parameters: { \"extra_trees\", \"n_estimators\" } are not used.\n",
            "\n",
            "[0]\tvalidation-auc:0.73284\n",
            "[1]\tvalidation-auc:0.76622\n",
            "[2]\tvalidation-auc:0.78330\n"
          ]
        },
        {
          "output_type": "stream",
          "name": "stderr",
          "text": [
            "\u001b[32m[I 2023-04-14 01:14:31,890]\u001b[0m Trial 74 pruned. Trial was pruned at iteration 2.\u001b[0m\n"
          ]
        },
        {
          "output_type": "stream",
          "name": "stdout",
          "text": [
            "[01:14:32] WARNING: ../src/learner.cc:767: \n",
            "Parameters: { \"extra_trees\", \"n_estimators\" } are not used.\n",
            "\n"
          ]
        },
        {
          "output_type": "stream",
          "name": "stderr",
          "text": [
            "\u001b[32m[I 2023-04-14 01:14:37,774]\u001b[0m Trial 75 pruned. Trial was pruned at iteration 0.\u001b[0m\n"
          ]
        },
        {
          "output_type": "stream",
          "name": "stdout",
          "text": [
            "[01:14:37] WARNING: ../src/learner.cc:767: \n",
            "Parameters: { \"extra_trees\", \"n_estimators\" } are not used.\n",
            "\n",
            "[0]\tvalidation-auc:0.72941\n",
            "[1]\tvalidation-auc:0.76613\n"
          ]
        },
        {
          "output_type": "stream",
          "name": "stderr",
          "text": [
            "\u001b[32m[I 2023-04-14 01:14:46,237]\u001b[0m Trial 76 pruned. Trial was pruned at iteration 2.\u001b[0m\n"
          ]
        },
        {
          "output_type": "stream",
          "name": "stdout",
          "text": [
            "[01:14:46] WARNING: ../src/learner.cc:767: \n",
            "Parameters: { \"extra_trees\", \"n_estimators\" } are not used.\n",
            "\n",
            "[0]\tvalidation-auc:0.73138\n"
          ]
        },
        {
          "output_type": "stream",
          "name": "stderr",
          "text": [
            "\u001b[32m[I 2023-04-14 01:14:54,487]\u001b[0m Trial 77 pruned. Trial was pruned at iteration 1.\u001b[0m\n"
          ]
        },
        {
          "output_type": "stream",
          "name": "stdout",
          "text": [
            "[01:14:54] WARNING: ../src/learner.cc:767: \n",
            "Parameters: { \"extra_trees\", \"n_estimators\" } are not used.\n",
            "\n",
            "[0]\tvalidation-auc:0.72947\n",
            "[1]\tvalidation-auc:0.76852\n",
            "[2]\tvalidation-auc:0.78555\n"
          ]
        },
        {
          "output_type": "stream",
          "name": "stderr",
          "text": [
            "\u001b[32m[I 2023-04-14 01:15:02,028]\u001b[0m Trial 78 pruned. Trial was pruned at iteration 2.\u001b[0m\n"
          ]
        },
        {
          "output_type": "stream",
          "name": "stdout",
          "text": [
            "[01:15:02] WARNING: ../src/learner.cc:767: \n",
            "Parameters: { \"extra_trees\", \"n_estimators\" } are not used.\n",
            "\n",
            "[0]\tvalidation-auc:0.72768\n"
          ]
        },
        {
          "output_type": "stream",
          "name": "stderr",
          "text": [
            "\u001b[32m[I 2023-04-14 01:15:07,674]\u001b[0m Trial 79 pruned. Trial was pruned at iteration 0.\u001b[0m\n"
          ]
        },
        {
          "output_type": "stream",
          "name": "stdout",
          "text": [
            "[01:15:07] WARNING: ../src/learner.cc:767: \n",
            "Parameters: { \"extra_trees\", \"max_depth\", \"n_estimators\" } are not used.\n",
            "\n",
            "[0]\tvalidation-auc:0.50000\n"
          ]
        },
        {
          "output_type": "stream",
          "name": "stderr",
          "text": [
            "\u001b[32m[I 2023-04-14 01:15:08,004]\u001b[0m Trial 80 pruned. Trial was pruned at iteration 0.\u001b[0m\n"
          ]
        },
        {
          "output_type": "stream",
          "name": "stdout",
          "text": [
            "[01:15:08] WARNING: ../src/learner.cc:767: \n",
            "Parameters: { \"extra_trees\", \"n_estimators\" } are not used.\n",
            "\n",
            "[0]\tvalidation-auc:0.72926\n",
            "[1]\tvalidation-auc:0.76690\n",
            "[2]\tvalidation-auc:0.79555\n",
            "[3]\tvalidation-auc:0.80526\n",
            "[4]\tvalidation-auc:0.81725\n",
            "[5]\tvalidation-auc:0.82350\n",
            "[6]\tvalidation-auc:0.82593\n",
            "[7]\tvalidation-auc:0.82896\n",
            "[8]\tvalidation-auc:0.83399\n",
            "[9]\tvalidation-auc:0.83643\n"
          ]
        },
        {
          "output_type": "stream",
          "name": "stderr",
          "text": [
            "\u001b[32m[I 2023-04-14 01:15:29,325]\u001b[0m Trial 81 finished with value: 0.81438127090301 and parameters: {'n_estimators': 225, 'max_depth': 227, 'learning_rate': 0.5729348803490291, 'booster': 'gbtree', 'lambda': 0.9981260957202077, 'alpha': 0.0628248886053768, 'eta': 0.9063307124920588, 'gamma': 0.3986973318222705, 'grow_policy': 'depthwise'}. Best is trial 6 with value: 0.8249721293199554.\u001b[0m\n"
          ]
        },
        {
          "output_type": "stream",
          "name": "stdout",
          "text": [
            "[01:15:29] WARNING: ../src/learner.cc:767: \n",
            "Parameters: { \"extra_trees\", \"n_estimators\" } are not used.\n",
            "\n",
            "[0]\tvalidation-auc:0.72894\n"
          ]
        },
        {
          "output_type": "stream",
          "name": "stderr",
          "text": [
            "\u001b[32m[I 2023-04-14 01:15:34,722]\u001b[0m Trial 82 pruned. Trial was pruned at iteration 0.\u001b[0m\n"
          ]
        },
        {
          "output_type": "stream",
          "name": "stdout",
          "text": [
            "[01:15:34] WARNING: ../src/learner.cc:767: \n",
            "Parameters: { \"extra_trees\", \"n_estimators\" } are not used.\n",
            "\n",
            "[0]\tvalidation-auc:0.72989\n",
            "[1]\tvalidation-auc:0.76190\n"
          ]
        },
        {
          "output_type": "stream",
          "name": "stderr",
          "text": [
            "\u001b[32m[I 2023-04-14 01:15:40,888]\u001b[0m Trial 83 pruned. Trial was pruned at iteration 1.\u001b[0m\n"
          ]
        },
        {
          "output_type": "stream",
          "name": "stdout",
          "text": [
            "[01:15:41] WARNING: ../src/learner.cc:767: \n",
            "Parameters: { \"extra_trees\", \"n_estimators\" } are not used.\n",
            "\n",
            "[0]\tvalidation-auc:0.73043\n",
            "[1]\tvalidation-auc:0.77105\n",
            "[2]\tvalidation-auc:0.77699\n"
          ]
        },
        {
          "output_type": "stream",
          "name": "stderr",
          "text": [
            "\u001b[32m[I 2023-04-14 01:15:51,254]\u001b[0m Trial 84 pruned. Trial was pruned at iteration 2.\u001b[0m\n"
          ]
        },
        {
          "output_type": "stream",
          "name": "stdout",
          "text": [
            "[01:15:51] WARNING: ../src/learner.cc:767: \n",
            "Parameters: { \"extra_trees\", \"n_estimators\" } are not used.\n",
            "\n",
            "[0]\tvalidation-auc:0.73298\n",
            "[1]\tvalidation-auc:0.77006\n",
            "[2]\tvalidation-auc:0.79022\n",
            "[3]\tvalidation-auc:0.80594\n",
            "[4]\tvalidation-auc:0.81786\n",
            "[5]\tvalidation-auc:0.82100\n",
            "[6]\tvalidation-auc:0.82453\n",
            "[7]\tvalidation-auc:0.83003\n",
            "[8]\tvalidation-auc:0.83387\n",
            "[9]\tvalidation-auc:0.83622\n"
          ]
        },
        {
          "output_type": "stream",
          "name": "stderr",
          "text": [
            "\u001b[32m[I 2023-04-14 01:16:12,414]\u001b[0m Trial 85 finished with value: 0.8238573021181717 and parameters: {'n_estimators': 315, 'max_depth': 240, 'learning_rate': 0.6693903530097097, 'booster': 'gbtree', 'lambda': 0.8385542569910625, 'alpha': 0.032138352881994736, 'eta': 0.8442104245956105, 'gamma': 0.35989610080056444, 'grow_policy': 'depthwise'}. Best is trial 6 with value: 0.8249721293199554.\u001b[0m\n"
          ]
        },
        {
          "output_type": "stream",
          "name": "stdout",
          "text": [
            "[01:16:12] WARNING: ../src/learner.cc:767: \n",
            "Parameters: { \"extra_trees\", \"n_estimators\" } are not used.\n",
            "\n",
            "[0]\tvalidation-auc:0.72786\n"
          ]
        },
        {
          "output_type": "stream",
          "name": "stderr",
          "text": [
            "\u001b[32m[I 2023-04-14 01:16:17,926]\u001b[0m Trial 86 pruned. Trial was pruned at iteration 0.\u001b[0m\n"
          ]
        },
        {
          "output_type": "stream",
          "name": "stdout",
          "text": [
            "[01:16:18] WARNING: ../src/learner.cc:767: \n",
            "Parameters: { \"extra_trees\", \"n_estimators\" } are not used.\n",
            "\n",
            "[0]\tvalidation-auc:0.72935\n",
            "[1]\tvalidation-auc:0.76049\n"
          ]
        },
        {
          "output_type": "stream",
          "name": "stderr",
          "text": [
            "\u001b[32m[I 2023-04-14 01:16:24,009]\u001b[0m Trial 87 pruned. Trial was pruned at iteration 1.\u001b[0m\n"
          ]
        },
        {
          "output_type": "stream",
          "name": "stdout",
          "text": [
            "[01:16:24] WARNING: ../src/learner.cc:767: \n",
            "Parameters: { \"extra_trees\", \"n_estimators\" } are not used.\n",
            "\n",
            "[0]\tvalidation-auc:0.72896\n"
          ]
        },
        {
          "output_type": "stream",
          "name": "stderr",
          "text": [
            "\u001b[32m[I 2023-04-14 01:16:28,553]\u001b[0m Trial 88 pruned. Trial was pruned at iteration 0.\u001b[0m\n"
          ]
        },
        {
          "output_type": "stream",
          "name": "stdout",
          "text": [
            "[01:16:28] WARNING: ../src/learner.cc:767: \n",
            "Parameters: { \"extra_trees\", \"n_estimators\" } are not used.\n",
            "\n",
            "[0]\tvalidation-auc:0.73143\n",
            "[1]\tvalidation-auc:0.76787\n"
          ]
        },
        {
          "output_type": "stream",
          "name": "stderr",
          "text": [
            "\u001b[32m[I 2023-04-14 01:16:37,233]\u001b[0m Trial 89 pruned. Trial was pruned at iteration 2.\u001b[0m\n"
          ]
        },
        {
          "output_type": "stream",
          "name": "stdout",
          "text": [
            "[01:16:37] WARNING: ../src/learner.cc:767: \n",
            "Parameters: { \"extra_trees\", \"n_estimators\" } are not used.\n",
            "\n",
            "[0]\tvalidation-auc:0.72588\n"
          ]
        },
        {
          "output_type": "stream",
          "name": "stderr",
          "text": [
            "\u001b[32m[I 2023-04-14 01:16:40,964]\u001b[0m Trial 90 pruned. Trial was pruned at iteration 0.\u001b[0m\n"
          ]
        },
        {
          "output_type": "stream",
          "name": "stdout",
          "text": [
            "[01:16:41] WARNING: ../src/learner.cc:767: \n",
            "Parameters: { \"extra_trees\", \"n_estimators\" } are not used.\n",
            "\n",
            "[0]\tvalidation-auc:0.72991\n",
            "[1]\tvalidation-auc:0.76556\n"
          ]
        },
        {
          "output_type": "stream",
          "name": "stderr",
          "text": [
            "\u001b[32m[I 2023-04-14 01:16:48,632]\u001b[0m Trial 91 pruned. Trial was pruned at iteration 1.\u001b[0m\n"
          ]
        },
        {
          "output_type": "stream",
          "name": "stdout",
          "text": [
            "[01:16:48] WARNING: ../src/learner.cc:767: \n",
            "Parameters: { \"extra_trees\", \"n_estimators\" } are not used.\n",
            "\n"
          ]
        },
        {
          "output_type": "stream",
          "name": "stderr",
          "text": [
            "\u001b[32m[I 2023-04-14 01:16:52,397]\u001b[0m Trial 92 pruned. Trial was pruned at iteration 0.\u001b[0m\n"
          ]
        },
        {
          "output_type": "stream",
          "name": "stdout",
          "text": [
            "[01:16:52] WARNING: ../src/learner.cc:767: \n",
            "Parameters: { \"extra_trees\", \"n_estimators\" } are not used.\n",
            "\n",
            "[0]\tvalidation-auc:0.73099\n",
            "[1]\tvalidation-auc:0.76662\n"
          ]
        },
        {
          "output_type": "stream",
          "name": "stderr",
          "text": [
            "\u001b[32m[I 2023-04-14 01:17:00,109]\u001b[0m Trial 93 pruned. Trial was pruned at iteration 1.\u001b[0m\n"
          ]
        },
        {
          "output_type": "stream",
          "name": "stdout",
          "text": [
            "[01:17:00] WARNING: ../src/learner.cc:767: \n",
            "Parameters: { \"extra_trees\", \"n_estimators\" } are not used.\n",
            "\n"
          ]
        },
        {
          "output_type": "stream",
          "name": "stderr",
          "text": [
            "\u001b[32m[I 2023-04-14 01:17:03,860]\u001b[0m Trial 94 pruned. Trial was pruned at iteration 0.\u001b[0m\n"
          ]
        },
        {
          "output_type": "stream",
          "name": "stdout",
          "text": [
            "[01:17:04] WARNING: ../src/learner.cc:767: \n",
            "Parameters: { \"extra_trees\", \"n_estimators\" } are not used.\n",
            "\n"
          ]
        },
        {
          "output_type": "stream",
          "name": "stderr",
          "text": [
            "\u001b[32m[I 2023-04-14 01:17:07,203]\u001b[0m Trial 95 pruned. Trial was pruned at iteration 0.\u001b[0m\n"
          ]
        },
        {
          "output_type": "stream",
          "name": "stdout",
          "text": [
            "[01:17:07] WARNING: ../src/learner.cc:767: \n",
            "Parameters: { \"extra_trees\", \"n_estimators\" } are not used.\n",
            "\n"
          ]
        },
        {
          "output_type": "stream",
          "name": "stderr",
          "text": [
            "\u001b[32m[I 2023-04-14 01:17:13,016]\u001b[0m Trial 96 pruned. Trial was pruned at iteration 0.\u001b[0m\n"
          ]
        },
        {
          "output_type": "stream",
          "name": "stdout",
          "text": [
            "[01:17:13] WARNING: ../src/learner.cc:767: \n",
            "Parameters: { \"extra_trees\", \"n_estimators\" } are not used.\n",
            "\n",
            "[0]\tvalidation-auc:0.72925\n",
            "[1]\tvalidation-auc:0.76843\n"
          ]
        },
        {
          "output_type": "stream",
          "name": "stderr",
          "text": [
            "\u001b[32m[I 2023-04-14 01:17:21,155]\u001b[0m Trial 97 pruned. Trial was pruned at iteration 2.\u001b[0m\n"
          ]
        },
        {
          "output_type": "stream",
          "name": "stdout",
          "text": [
            "[01:17:21] WARNING: ../src/learner.cc:767: \n",
            "Parameters: { \"extra_trees\", \"n_estimators\" } are not used.\n",
            "\n",
            "[0]\tvalidation-auc:0.73462\n",
            "[1]\tvalidation-auc:0.77270\n"
          ]
        },
        {
          "output_type": "stream",
          "name": "stderr",
          "text": [
            "\u001b[32m[I 2023-04-14 01:17:30,709]\u001b[0m Trial 98 pruned. Trial was pruned at iteration 2.\u001b[0m\n"
          ]
        },
        {
          "output_type": "stream",
          "name": "stdout",
          "text": [
            "[01:17:30] WARNING: ../src/learner.cc:767: \n",
            "Parameters: { \"extra_trees\", \"n_estimators\" } are not used.\n",
            "\n",
            "[0]\tvalidation-auc:0.73271\n",
            "[1]\tvalidation-auc:0.75539\n"
          ]
        },
        {
          "output_type": "stream",
          "name": "stderr",
          "text": [
            "\u001b[32m[I 2023-04-14 01:17:36,595]\u001b[0m Trial 99 pruned. Trial was pruned at iteration 1.\u001b[0m\n"
          ]
        }
      ]
    },
    {
      "cell_type": "markdown",
      "source": [
        "## Best XGBoost Model from Optuna"
      ],
      "metadata": {
        "id": "EAtP6sI_6iFS"
      }
    },
    {
      "cell_type": "code",
      "source": [
        "study.best_params"
      ],
      "metadata": {
        "colab": {
          "base_uri": "https://localhost:8080/"
        },
        "id": "gv-h-Ci5ERiA",
        "outputId": "d5a935f8-6b08-4131-bb02-23090525f300"
      },
      "execution_count": 72,
      "outputs": [
        {
          "output_type": "execute_result",
          "data": {
            "text/plain": [
              "{'n_estimators': 68,\n",
              " 'max_depth': 240,\n",
              " 'learning_rate': 0.445525139136214,\n",
              " 'booster': 'dart',\n",
              " 'lambda': 0.4465528986730449,\n",
              " 'alpha': 0.3711173270286856,\n",
              " 'eta': 0.8916837505590623,\n",
              " 'gamma': 0.9306726378241267,\n",
              " 'grow_policy': 'depthwise',\n",
              " 'sample_type': 'uniform',\n",
              " 'normalize_type': 'tree',\n",
              " 'rate_drop': 0.007340302100005225,\n",
              " 'skip_drop': 0.04303402363227761}"
            ]
          },
          "metadata": {},
          "execution_count": 72
        }
      ]
    },
    {
      "cell_type": "code",
      "source": [
        "clf_xgb_opt= XGBClassifier(**study.best_params)"
      ],
      "metadata": {
        "id": "aQjDz7Kv38O8"
      },
      "execution_count": 73,
      "outputs": []
    },
    {
      "cell_type": "code",
      "source": [
        "clf_xgb_opt.fit(X_train, y_train)"
      ],
      "metadata": {
        "colab": {
          "base_uri": "https://localhost:8080/",
          "height": 251
        },
        "id": "A3yi4nl86rgf",
        "outputId": "78515a4f-9556-47ea-e237-31bf2be3e879"
      },
      "execution_count": 74,
      "outputs": [
        {
          "output_type": "execute_result",
          "data": {
            "text/plain": [
              "XGBClassifier(alpha=0.3711173270286856, base_score=None, booster='dart',\n",
              "              callbacks=None, colsample_bylevel=None, colsample_bynode=None,\n",
              "              colsample_bytree=None, early_stopping_rounds=None,\n",
              "              enable_categorical=False, eta=0.8916837505590623,\n",
              "              eval_metric=None, feature_types=None, gamma=0.9306726378241267,\n",
              "              gpu_id=None, grow_policy='depthwise', importance_type=None,\n",
              "              interaction_constraints=None, lambda=0.4465528986730449,\n",
              "              learning_rate=0.445525139136214, max_bin=None,\n",
              "              max_cat_threshold=None, max_cat_to_onehot=None,\n",
              "              max_delta_step=None, max_depth=240, max_leaves=None,\n",
              "              min_child_weight=None, missing=nan, monotone_constraints=None,\n",
              "              n_estimators=68, n_jobs=None, ...)"
            ],
            "text/html": [
              "<style>#sk-container-id-3 {color: black;background-color: white;}#sk-container-id-3 pre{padding: 0;}#sk-container-id-3 div.sk-toggleable {background-color: white;}#sk-container-id-3 label.sk-toggleable__label {cursor: pointer;display: block;width: 100%;margin-bottom: 0;padding: 0.3em;box-sizing: border-box;text-align: center;}#sk-container-id-3 label.sk-toggleable__label-arrow:before {content: \"▸\";float: left;margin-right: 0.25em;color: #696969;}#sk-container-id-3 label.sk-toggleable__label-arrow:hover:before {color: black;}#sk-container-id-3 div.sk-estimator:hover label.sk-toggleable__label-arrow:before {color: black;}#sk-container-id-3 div.sk-toggleable__content {max-height: 0;max-width: 0;overflow: hidden;text-align: left;background-color: #f0f8ff;}#sk-container-id-3 div.sk-toggleable__content pre {margin: 0.2em;color: black;border-radius: 0.25em;background-color: #f0f8ff;}#sk-container-id-3 input.sk-toggleable__control:checked~div.sk-toggleable__content {max-height: 200px;max-width: 100%;overflow: auto;}#sk-container-id-3 input.sk-toggleable__control:checked~label.sk-toggleable__label-arrow:before {content: \"▾\";}#sk-container-id-3 div.sk-estimator input.sk-toggleable__control:checked~label.sk-toggleable__label {background-color: #d4ebff;}#sk-container-id-3 div.sk-label input.sk-toggleable__control:checked~label.sk-toggleable__label {background-color: #d4ebff;}#sk-container-id-3 input.sk-hidden--visually {border: 0;clip: rect(1px 1px 1px 1px);clip: rect(1px, 1px, 1px, 1px);height: 1px;margin: -1px;overflow: hidden;padding: 0;position: absolute;width: 1px;}#sk-container-id-3 div.sk-estimator {font-family: monospace;background-color: #f0f8ff;border: 1px dotted black;border-radius: 0.25em;box-sizing: border-box;margin-bottom: 0.5em;}#sk-container-id-3 div.sk-estimator:hover {background-color: #d4ebff;}#sk-container-id-3 div.sk-parallel-item::after {content: \"\";width: 100%;border-bottom: 1px solid gray;flex-grow: 1;}#sk-container-id-3 div.sk-label:hover label.sk-toggleable__label {background-color: #d4ebff;}#sk-container-id-3 div.sk-serial::before {content: \"\";position: absolute;border-left: 1px solid gray;box-sizing: border-box;top: 0;bottom: 0;left: 50%;z-index: 0;}#sk-container-id-3 div.sk-serial {display: flex;flex-direction: column;align-items: center;background-color: white;padding-right: 0.2em;padding-left: 0.2em;position: relative;}#sk-container-id-3 div.sk-item {position: relative;z-index: 1;}#sk-container-id-3 div.sk-parallel {display: flex;align-items: stretch;justify-content: center;background-color: white;position: relative;}#sk-container-id-3 div.sk-item::before, #sk-container-id-3 div.sk-parallel-item::before {content: \"\";position: absolute;border-left: 1px solid gray;box-sizing: border-box;top: 0;bottom: 0;left: 50%;z-index: -1;}#sk-container-id-3 div.sk-parallel-item {display: flex;flex-direction: column;z-index: 1;position: relative;background-color: white;}#sk-container-id-3 div.sk-parallel-item:first-child::after {align-self: flex-end;width: 50%;}#sk-container-id-3 div.sk-parallel-item:last-child::after {align-self: flex-start;width: 50%;}#sk-container-id-3 div.sk-parallel-item:only-child::after {width: 0;}#sk-container-id-3 div.sk-dashed-wrapped {border: 1px dashed gray;margin: 0 0.4em 0.5em 0.4em;box-sizing: border-box;padding-bottom: 0.4em;background-color: white;}#sk-container-id-3 div.sk-label label {font-family: monospace;font-weight: bold;display: inline-block;line-height: 1.2em;}#sk-container-id-3 div.sk-label-container {text-align: center;}#sk-container-id-3 div.sk-container {/* jupyter's `normalize.less` sets `[hidden] { display: none; }` but bootstrap.min.css set `[hidden] { display: none !important; }` so we also need the `!important` here to be able to override the default hidden behavior on the sphinx rendered scikit-learn.org. See: https://github.com/scikit-learn/scikit-learn/issues/21755 */display: inline-block !important;position: relative;}#sk-container-id-3 div.sk-text-repr-fallback {display: none;}</style><div id=\"sk-container-id-3\" class=\"sk-top-container\"><div class=\"sk-text-repr-fallback\"><pre>XGBClassifier(alpha=0.3711173270286856, base_score=None, booster=&#x27;dart&#x27;,\n",
              "              callbacks=None, colsample_bylevel=None, colsample_bynode=None,\n",
              "              colsample_bytree=None, early_stopping_rounds=None,\n",
              "              enable_categorical=False, eta=0.8916837505590623,\n",
              "              eval_metric=None, feature_types=None, gamma=0.9306726378241267,\n",
              "              gpu_id=None, grow_policy=&#x27;depthwise&#x27;, importance_type=None,\n",
              "              interaction_constraints=None, lambda=0.4465528986730449,\n",
              "              learning_rate=0.445525139136214, max_bin=None,\n",
              "              max_cat_threshold=None, max_cat_to_onehot=None,\n",
              "              max_delta_step=None, max_depth=240, max_leaves=None,\n",
              "              min_child_weight=None, missing=nan, monotone_constraints=None,\n",
              "              n_estimators=68, n_jobs=None, ...)</pre><b>In a Jupyter environment, please rerun this cell to show the HTML representation or trust the notebook. <br />On GitHub, the HTML representation is unable to render, please try loading this page with nbviewer.org.</b></div><div class=\"sk-container\" hidden><div class=\"sk-item\"><div class=\"sk-estimator sk-toggleable\"><input class=\"sk-toggleable__control sk-hidden--visually\" id=\"sk-estimator-id-3\" type=\"checkbox\" checked><label for=\"sk-estimator-id-3\" class=\"sk-toggleable__label sk-toggleable__label-arrow\">XGBClassifier</label><div class=\"sk-toggleable__content\"><pre>XGBClassifier(alpha=0.3711173270286856, base_score=None, booster=&#x27;dart&#x27;,\n",
              "              callbacks=None, colsample_bylevel=None, colsample_bynode=None,\n",
              "              colsample_bytree=None, early_stopping_rounds=None,\n",
              "              enable_categorical=False, eta=0.8916837505590623,\n",
              "              eval_metric=None, feature_types=None, gamma=0.9306726378241267,\n",
              "              gpu_id=None, grow_policy=&#x27;depthwise&#x27;, importance_type=None,\n",
              "              interaction_constraints=None, lambda=0.4465528986730449,\n",
              "              learning_rate=0.445525139136214, max_bin=None,\n",
              "              max_cat_threshold=None, max_cat_to_onehot=None,\n",
              "              max_delta_step=None, max_depth=240, max_leaves=None,\n",
              "              min_child_weight=None, missing=nan, monotone_constraints=None,\n",
              "              n_estimators=68, n_jobs=None, ...)</pre></div></div></div></div></div>"
            ]
          },
          "metadata": {},
          "execution_count": 74
        }
      ]
    },
    {
      "cell_type": "code",
      "source": [
        "y_pred = clf_xgb_opt.predict(X_test)\n",
        "cm= confusion_matrix(y_test,y_pred)\n",
        "disp = ConfusionMatrixDisplay(confusion_matrix=cm)\n",
        "disp.plot()\n",
        "plt.show()"
      ],
      "metadata": {
        "colab": {
          "base_uri": "https://localhost:8080/",
          "height": 449
        },
        "id": "RMicN0SP6ysg",
        "outputId": "6b3d55da-dd04-4fb4-e26e-4e6b17999231"
      },
      "execution_count": 75,
      "outputs": [
        {
          "output_type": "display_data",
          "data": {
            "text/plain": [
              "<Figure size 640x480 with 2 Axes>"
            ],
            "image/png": "[encoded data removed]"
          },
          "metadata": {}
        }
      ]
    },
    {
      "cell_type": "code",
      "source": [
        "print(classification_report(y_train, clf_xgb_opt.predict(X_train)))"
      ],
      "metadata": {
        "colab": {
          "base_uri": "https://localhost:8080/"
        },
        "id": "Mb512VWt7ZSc",
        "outputId": "a6b27f73-c90f-4628-f70c-99211c70815d"
      },
      "execution_count": 76,
      "outputs": [
        {
          "output_type": "stream",
          "name": "stdout",
          "text": [
            "              precision    recall  f1-score   support\n",
            "\n",
            "           0       1.00      1.00      1.00      6100\n",
            "           1       1.00      1.00      1.00      5817\n",
            "\n",
            "    accuracy                           1.00     11917\n",
            "   macro avg       1.00      1.00      1.00     11917\n",
            "weighted avg       1.00      1.00      1.00     11917\n",
            "\n"
          ]
        }
      ]
    },
    {
      "cell_type": "code",
      "source": [
        "print(classification_report(y_test, y_pred))"
      ],
      "metadata": {
        "colab": {
          "base_uri": "https://localhost:8080/"
        },
        "id": "0nZOHgfT8JZw",
        "outputId": "ff1e0ea0-dc53-4574-fb00-2978c202ff56"
      },
      "execution_count": 77,
      "outputs": [
        {
          "output_type": "stream",
          "name": "stdout",
          "text": [
            "              precision    recall  f1-score   support\n",
            "\n",
            "           0       0.55      0.69      0.61       339\n",
            "           1       0.92      0.87      0.90      1455\n",
            "\n",
            "    accuracy                           0.84      1794\n",
            "   macro avg       0.74      0.78      0.76      1794\n",
            "weighted avg       0.85      0.84      0.84      1794\n",
            "\n"
          ]
        }
      ]
    },
    {
      "cell_type": "code",
      "source": [
        "fpr_rf, tpr_rf, _ = roc_curve(y_test, clf_xgb_opt.predict(X_test))\n",
        "\n",
        "plt.figure(1)\n",
        "plt.plot([0, 1], [0, 1], 'k--')\n",
        "plt.plot(fpr_rf, tpr_rf, label='Random Forest - Optuna')\n",
        "plt.xlabel('False positive rate')\n",
        "plt.ylabel('True positive rate')\n",
        "plt.title('ROC curve - Test Data - Batch_4')\n",
        "plt.legend(loc='best')\n",
        "plt.show()"
      ],
      "metadata": {
        "colab": {
          "base_uri": "https://localhost:8080/",
          "height": 472
        },
        "id": "mA1E81FC8O7-",
        "outputId": "c332cebf-ce51-4bec-88bf-3ba80b2083d8"
      },
      "execution_count": 78,
      "outputs": [
        {
          "output_type": "display_data",
          "data": {
            "text/plain": [
              "<Figure size 640x480 with 1 Axes>"
            ],
            "image/png": "[encoded data removed]"
          },
          "metadata": {}
        }
      ]
    },
    {
      "cell_type": "code",
      "source": [],
      "metadata": {
        "id": "3Bjco3x98ZIr"
      },
      "execution_count": null,
      "outputs": []
    }
  ]
}