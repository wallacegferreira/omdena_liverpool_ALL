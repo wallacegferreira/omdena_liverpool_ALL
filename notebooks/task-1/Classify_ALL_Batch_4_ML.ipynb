{
  "nbformat": 4,
  "nbformat_minor": 0,
  "metadata": {
    "colab": {
      "provenance": [],
      "machine_shape": "hm"
    },
    "kernelspec": {
      "name": "python3",
      "display_name": "Python 3"
    },
    "language_info": {
      "name": "python"
    },
    "accelerator": "GPU",
    "gpuClass": "premium"
  },
  "cells": [
    {
      "cell_type": "markdown",
      "source": [
        "# Project Description\n",
        "\n",
        "\n",
        "Detecting Pediatric Acute Lymphoblastic Leukemia using Computer Vision\n",
        "\n",
        "https://omdena.com/chapter-challenges/detecting-pediatric-acute-lymphoblastic-leukemia-using-computer-vision/"
      ],
      "metadata": {
        "id": "sp36hk4_W93x"
      }
    },
    {
      "cell_type": "markdown",
      "source": [
        "# Mount Google Drive"
      ],
      "metadata": {
        "id": "hztnIQgx7jWu"
      }
    },
    {
      "cell_type": "code",
      "source": [
        "from google.colab import drive\n",
        "drive.mount('/content/drive')"
      ],
      "metadata": {
        "colab": {
          "base_uri": "https://localhost:8080/"
        },
        "id": "2EoWACMl7jC-",
        "outputId": "17e2fffe-f002-4084-8bb5-840ad1c5f052"
      },
      "execution_count": null,
      "outputs": [
        {
          "output_type": "stream",
          "name": "stdout",
          "text": [
            "Mounted at /content/drive\n"
          ]
        }
      ]
    },
    {
      "cell_type": "markdown",
      "source": [
        "# Install Required Packages"
      ],
      "metadata": {
        "id": "0FYPubi9agxi"
      }
    },
    {
      "cell_type": "code",
      "source": [
        "!pip install optuna"
      ],
      "metadata": {
        "colab": {
          "base_uri": "https://localhost:8080/"
        },
        "id": "Kohrf4mEakX4",
        "outputId": "f87c63ed-b083-4d3a-b065-1bb956c11171"
      },
      "execution_count": null,
      "outputs": [
        {
          "output_type": "stream",
          "name": "stdout",
          "text": [
            "Looking in indexes: https://pypi.org/simple, https://us-python.pkg.dev/colab-wheels/public/simple/\n",
            "Collecting optuna\n",
            "  Downloading optuna-3.1.1-py3-none-any.whl (365 kB)\n",
            "\u001b[2K     \u001b[90m━━━━━━━━━━━━━━━━━━━━━━━━━━━━━━━━━━━━━━━\u001b[0m \u001b[32m365.7/365.7 kB\u001b[0m \u001b[31m7.1 MB/s\u001b[0m eta \u001b[36m0:00:00\u001b[0m\n",
            "\u001b[?25hRequirement already satisfied: sqlalchemy>=1.3.0 in /usr/local/lib/python3.9/dist-packages (from optuna) (2.0.9)\n",
            "Requirement already satisfied: numpy in /usr/local/lib/python3.9/dist-packages (from optuna) (1.22.4)\n",
            "Requirement already satisfied: tqdm in /usr/local/lib/python3.9/dist-packages (from optuna) (4.65.0)\n",
            "Collecting alembic>=1.5.0\n",
            "  Downloading alembic-1.10.3-py3-none-any.whl (212 kB)\n",
            "\u001b[2K     \u001b[90m━━━━━━━━━━━━━━━━━━━━━━━━━━━━━━━━━━━━━━\u001b[0m \u001b[32m212.3/212.3 kB\u001b[0m \u001b[31m26.0 MB/s\u001b[0m eta \u001b[36m0:00:00\u001b[0m\n",
            "\u001b[?25hCollecting cmaes>=0.9.1\n",
            "  Downloading cmaes-0.9.1-py3-none-any.whl (21 kB)\n",
            "Requirement already satisfied: PyYAML in /usr/local/lib/python3.9/dist-packages (from optuna) (6.0)\n",
            "Collecting colorlog\n",
            "  Downloading colorlog-6.7.0-py2.py3-none-any.whl (11 kB)\n",
            "Requirement already satisfied: packaging>=20.0 in /usr/local/lib/python3.9/dist-packages (from optuna) (23.0)\n",
            "Collecting Mako\n",
            "  Downloading Mako-1.2.4-py3-none-any.whl (78 kB)\n",
            "\u001b[2K     \u001b[90m━━━━━━━━━━━━━━━━━━━━━━━━━━━━━━━━━━━━━━━━\u001b[0m \u001b[32m78.7/78.7 kB\u001b[0m \u001b[31m10.4 MB/s\u001b[0m eta \u001b[36m0:00:00\u001b[0m\n",
            "\u001b[?25hRequirement already satisfied: typing-extensions>=4 in /usr/local/lib/python3.9/dist-packages (from alembic>=1.5.0->optuna) (4.5.0)\n",
            "Requirement already satisfied: greenlet!=0.4.17 in /usr/local/lib/python3.9/dist-packages (from sqlalchemy>=1.3.0->optuna) (2.0.2)\n",
            "Requirement already satisfied: MarkupSafe>=0.9.2 in /usr/local/lib/python3.9/dist-packages (from Mako->alembic>=1.5.0->optuna) (2.1.2)\n",
            "Installing collected packages: Mako, colorlog, cmaes, alembic, optuna\n",
            "Successfully installed Mako-1.2.4 alembic-1.10.3 cmaes-0.9.1 colorlog-6.7.0 optuna-3.1.1\n"
          ]
        }
      ]
    },
    {
      "cell_type": "markdown",
      "source": [
        "# Imports"
      ],
      "metadata": {
        "id": "vdvzKQ3U5u1m"
      }
    },
    {
      "cell_type": "code",
      "execution_count": null,
      "metadata": {
        "id": "9acYcSBp5enI"
      },
      "outputs": [],
      "source": [
        "import pandas as pd\n",
        "import numpy as np\n",
        "\n",
        "import matplotlib.pyplot as plt\n",
        "%matplotlib inline\n",
        "import seaborn as sns\n",
        "  \n",
        "\n",
        "from sklearn.preprocessing import StandardScaler\n",
        "\n",
        "from sklearn.linear_model import LogisticRegression\n",
        "from sklearn.ensemble import RandomForestClassifier\n",
        "from xgboost import XGBClassifier\n",
        "\n",
        "import sklearn.metrics\n",
        "from sklearn.metrics import confusion_matrix, ConfusionMatrixDisplay\n",
        "from sklearn.metrics import roc_curve, auc\n",
        "from sklearn.metrics import classification_report\n",
        "\n",
        "import optuna\n",
        "\n",
        "\n"
      ]
    },
    {
      "cell_type": "markdown",
      "source": [
        "# Load Data - Batch 4\n"
      ],
      "metadata": {
        "id": "4F8M-Ci373du"
      }
    },
    {
      "cell_type": "code",
      "source": [
        "!unzip '/content/drive/MyDrive/omdena_liverpool_all/C-NMC_Leukemia/training_test_pickle/batch_4.zip'"
      ],
      "metadata": {
        "colab": {
          "base_uri": "https://localhost:8080/"
        },
        "id": "b8BJXmk4709W",
        "outputId": "ca4110f7-1c6d-47d4-bf1c-c34b845394f7"
      },
      "execution_count": null,
      "outputs": [
        {
          "output_type": "stream",
          "name": "stdout",
          "text": [
            "Archive:  /content/drive/MyDrive/omdena_liverpool_all/C-NMC_Leukemia/training_test_pickle/batch_4.zip\n",
            " extracting: batch_4/class_labels.txt  \n",
            "  inflating: batch_4/test_data.pickle  \n",
            "  inflating: batch_4/train_data.pickle  \n"
          ]
        }
      ]
    },
    {
      "cell_type": "code",
      "source": [
        "df_train = pd.read_pickle('./batch_4/train_data.pickle')\n",
        "df_test = pd.read_pickle('./batch_4/test_data.pickle')"
      ],
      "metadata": {
        "id": "kfH03qOY8LRk"
      },
      "execution_count": null,
      "outputs": []
    },
    {
      "cell_type": "code",
      "source": [
        "df_train.info()"
      ],
      "metadata": {
        "colab": {
          "base_uri": "https://localhost:8080/"
        },
        "id": "78EnG3h58kB0",
        "outputId": "240acd01-1113-426d-c90b-8bb522020490"
      },
      "execution_count": null,
      "outputs": [
        {
          "output_type": "stream",
          "name": "stdout",
          "text": [
            "<class 'pandas.core.frame.DataFrame'>\n",
            "RangeIndex: 11917 entries, 0 to 11916\n",
            "Columns: 4609 entries, 0 to label\n",
            "dtypes: float32(4608), int32(1)\n",
            "memory usage: 209.5 MB\n"
          ]
        }
      ]
    },
    {
      "cell_type": "code",
      "source": [
        "df_train.head()"
      ],
      "metadata": {
        "colab": {
          "base_uri": "https://localhost:8080/",
          "height": 235
        },
        "id": "usBS3pRI8sGF",
        "outputId": "f0087d47-8e11-42b1-f929-8f570d0f8bfb"
      },
      "execution_count": null,
      "outputs": [
        {
          "output_type": "execute_result",
          "data": {
            "text/plain": [
              "          0    1        2         3    4    5    6         7    8    9  ...  \\\n",
              "0  0.185833  0.0  0.00000  0.000000  0.0  0.0  0.0  0.231458  0.0  0.0  ...   \n",
              "1  0.123157  0.0  0.56544  0.350086  0.0  0.0  0.0  0.228849  0.0  0.0  ...   \n",
              "2  0.197977  0.0  0.00000  0.000000  0.0  0.0  0.0  0.155163  0.0  0.0  ...   \n",
              "3  0.580151  0.0  0.00000  0.000000  0.0  0.0  0.0  0.298566  0.0  0.0  ...   \n",
              "4  0.066450  0.0  0.00000  0.000000  0.0  0.0  0.0  0.145156  0.0  0.0  ...   \n",
              "\n",
              "       4599      4600  4601      4602      4603  4604  4605      4606  4607  \\\n",
              "0  0.545079  0.170755   0.0  0.096298  0.174819   0.0   0.0  0.361853   0.0   \n",
              "1  0.663390  0.115025   0.0  0.099379  0.516193   0.0   0.0  0.239392   0.0   \n",
              "2  0.663023  0.021846   0.0  0.000000  0.173690   0.0   0.0  0.270634   0.0   \n",
              "3  0.470815  0.000000   0.0  0.000000  0.118325   0.0   0.0  0.000000   0.0   \n",
              "4  0.645798  0.015262   0.0  0.027536  0.275665   0.0   0.0  0.000000   0.0   \n",
              "\n",
              "   label  \n",
              "0      0  \n",
              "1      1  \n",
              "2      1  \n",
              "3      0  \n",
              "4      0  \n",
              "\n",
              "[5 rows x 4609 columns]"
            ],
            "text/html": [
              "\n",
              "  <div id=\"df-fd1b486e-045c-483f-a599-22a9eb41264a\">\n",
              "    <div class=\"colab-df-container\">\n",
              "      <div>\n",
              "<style scoped>\n",
              "    .dataframe tbody tr th:only-of-type {\n",
              "        vertical-align: middle;\n",
              "    }\n",
              "\n",
              "    .dataframe tbody tr th {\n",
              "        vertical-align: top;\n",
              "    }\n",
              "\n",
              "    .dataframe thead th {\n",
              "        text-align: right;\n",
              "    }\n",
              "</style>\n",
              "<table border=\"1\" class=\"dataframe\">\n",
              "  <thead>\n",
              "    <tr style=\"text-align: right;\">\n",
              "      <th></th>\n",
              "      <th>0</th>\n",
              "      <th>1</th>\n",
              "      <th>2</th>\n",
              "      <th>3</th>\n",
              "      <th>4</th>\n",
              "      <th>5</th>\n",
              "      <th>6</th>\n",
              "      <th>7</th>\n",
              "      <th>8</th>\n",
              "      <th>9</th>\n",
              "      <th>...</th>\n",
              "      <th>4599</th>\n",
              "      <th>4600</th>\n",
              "      <th>4601</th>\n",
              "      <th>4602</th>\n",
              "      <th>4603</th>\n",
              "      <th>4604</th>\n",
              "      <th>4605</th>\n",
              "      <th>4606</th>\n",
              "      <th>4607</th>\n",
              "      <th>label</th>\n",
              "    </tr>\n",
              "  </thead>\n",
              "  <tbody>\n",
              "    <tr>\n",
              "      <th>0</th>\n",
              "      <td>0.185833</td>\n",
              "      <td>0.0</td>\n",
              "      <td>0.00000</td>\n",
              "      <td>0.000000</td>\n",
              "      <td>0.0</td>\n",
              "      <td>0.0</td>\n",
              "      <td>0.0</td>\n",
              "      <td>0.231458</td>\n",
              "      <td>0.0</td>\n",
              "      <td>0.0</td>\n",
              "      <td>...</td>\n",
              "      <td>0.545079</td>\n",
              "      <td>0.170755</td>\n",
              "      <td>0.0</td>\n",
              "      <td>0.096298</td>\n",
              "      <td>0.174819</td>\n",
              "      <td>0.0</td>\n",
              "      <td>0.0</td>\n",
              "      <td>0.361853</td>\n",
              "      <td>0.0</td>\n",
              "      <td>0</td>\n",
              "    </tr>\n",
              "    <tr>\n",
              "      <th>1</th>\n",
              "      <td>0.123157</td>\n",
              "      <td>0.0</td>\n",
              "      <td>0.56544</td>\n",
              "      <td>0.350086</td>\n",
              "      <td>0.0</td>\n",
              "      <td>0.0</td>\n",
              "      <td>0.0</td>\n",
              "      <td>0.228849</td>\n",
              "      <td>0.0</td>\n",
              "      <td>0.0</td>\n",
              "      <td>...</td>\n",
              "      <td>0.663390</td>\n",
              "      <td>0.115025</td>\n",
              "      <td>0.0</td>\n",
              "      <td>0.099379</td>\n",
              "      <td>0.516193</td>\n",
              "      <td>0.0</td>\n",
              "      <td>0.0</td>\n",
              "      <td>0.239392</td>\n",
              "      <td>0.0</td>\n",
              "      <td>1</td>\n",
              "    </tr>\n",
              "    <tr>\n",
              "      <th>2</th>\n",
              "      <td>0.197977</td>\n",
              "      <td>0.0</td>\n",
              "      <td>0.00000</td>\n",
              "      <td>0.000000</td>\n",
              "      <td>0.0</td>\n",
              "      <td>0.0</td>\n",
              "      <td>0.0</td>\n",
              "      <td>0.155163</td>\n",
              "      <td>0.0</td>\n",
              "      <td>0.0</td>\n",
              "      <td>...</td>\n",
              "      <td>0.663023</td>\n",
              "      <td>0.021846</td>\n",
              "      <td>0.0</td>\n",
              "      <td>0.000000</td>\n",
              "      <td>0.173690</td>\n",
              "      <td>0.0</td>\n",
              "      <td>0.0</td>\n",
              "      <td>0.270634</td>\n",
              "      <td>0.0</td>\n",
              "      <td>1</td>\n",
              "    </tr>\n",
              "    <tr>\n",
              "      <th>3</th>\n",
              "      <td>0.580151</td>\n",
              "      <td>0.0</td>\n",
              "      <td>0.00000</td>\n",
              "      <td>0.000000</td>\n",
              "      <td>0.0</td>\n",
              "      <td>0.0</td>\n",
              "      <td>0.0</td>\n",
              "      <td>0.298566</td>\n",
              "      <td>0.0</td>\n",
              "      <td>0.0</td>\n",
              "      <td>...</td>\n",
              "      <td>0.470815</td>\n",
              "      <td>0.000000</td>\n",
              "      <td>0.0</td>\n",
              "      <td>0.000000</td>\n",
              "      <td>0.118325</td>\n",
              "      <td>0.0</td>\n",
              "      <td>0.0</td>\n",
              "      <td>0.000000</td>\n",
              "      <td>0.0</td>\n",
              "      <td>0</td>\n",
              "    </tr>\n",
              "    <tr>\n",
              "      <th>4</th>\n",
              "      <td>0.066450</td>\n",
              "      <td>0.0</td>\n",
              "      <td>0.00000</td>\n",
              "      <td>0.000000</td>\n",
              "      <td>0.0</td>\n",
              "      <td>0.0</td>\n",
              "      <td>0.0</td>\n",
              "      <td>0.145156</td>\n",
              "      <td>0.0</td>\n",
              "      <td>0.0</td>\n",
              "      <td>...</td>\n",
              "      <td>0.645798</td>\n",
              "      <td>0.015262</td>\n",
              "      <td>0.0</td>\n",
              "      <td>0.027536</td>\n",
              "      <td>0.275665</td>\n",
              "      <td>0.0</td>\n",
              "      <td>0.0</td>\n",
              "      <td>0.000000</td>\n",
              "      <td>0.0</td>\n",
              "      <td>0</td>\n",
              "    </tr>\n",
              "  </tbody>\n",
              "</table>\n",
              "<p>5 rows × 4609 columns</p>\n",
              "</div>\n",
              "      <button class=\"colab-df-convert\" onclick=\"convertToInteractive('df-fd1b486e-045c-483f-a599-22a9eb41264a')\"\n",
              "              title=\"Convert this dataframe to an interactive table.\"\n",
              "              style=\"display:none;\">\n",
              "        \n",
              "  <svg xmlns=\"http://www.w3.org/2000/svg\" height=\"24px\"viewBox=\"0 0 24 24\"\n",
              "       width=\"24px\">\n",
              "    <path d=\"M0 0h24v24H0V0z\" fill=\"none\"/>\n",
              "    <path d=\"M18.56 5.44l.94 2.06.94-2.06 2.06-.94-2.06-.94-.94-2.06-.94 2.06-2.06.94zm-11 1L8.5 8.5l.94-2.06 2.06-.94-2.06-.94L8.5 2.5l-.94 2.06-2.06.94zm10 10l.94 2.06.94-2.06 2.06-.94-2.06-.94-.94-2.06-.94 2.06-2.06.94z\"/><path d=\"M17.41 7.96l-1.37-1.37c-.4-.4-.92-.59-1.43-.59-.52 0-1.04.2-1.43.59L10.3 9.45l-7.72 7.72c-.78.78-.78 2.05 0 2.83L4 21.41c.39.39.9.59 1.41.59.51 0 1.02-.2 1.41-.59l7.78-7.78 2.81-2.81c.8-.78.8-2.07 0-2.86zM5.41 20L4 18.59l7.72-7.72 1.47 1.35L5.41 20z\"/>\n",
              "  </svg>\n",
              "      </button>\n",
              "      \n",
              "  <style>\n",
              "    .colab-df-container {\n",
              "      display:flex;\n",
              "      flex-wrap:wrap;\n",
              "      gap: 12px;\n",
              "    }\n",
              "\n",
              "    .colab-df-convert {\n",
              "      background-color: #E8F0FE;\n",
              "      border: none;\n",
              "      border-radius: 50%;\n",
              "      cursor: pointer;\n",
              "      display: none;\n",
              "      fill: #1967D2;\n",
              "      height: 32px;\n",
              "      padding: 0 0 0 0;\n",
              "      width: 32px;\n",
              "    }\n",
              "\n",
              "    .colab-df-convert:hover {\n",
              "      background-color: #E2EBFA;\n",
              "      box-shadow: 0px 1px 2px rgba(60, 64, 67, 0.3), 0px 1px 3px 1px rgba(60, 64, 67, 0.15);\n",
              "      fill: #174EA6;\n",
              "    }\n",
              "\n",
              "    [theme=dark] .colab-df-convert {\n",
              "      background-color: #3B4455;\n",
              "      fill: #D2E3FC;\n",
              "    }\n",
              "\n",
              "    [theme=dark] .colab-df-convert:hover {\n",
              "      background-color: #434B5C;\n",
              "      box-shadow: 0px 1px 3px 1px rgba(0, 0, 0, 0.15);\n",
              "      filter: drop-shadow(0px 1px 2px rgba(0, 0, 0, 0.3));\n",
              "      fill: #FFFFFF;\n",
              "    }\n",
              "  </style>\n",
              "\n",
              "      <script>\n",
              "        const buttonEl =\n",
              "          document.querySelector('#df-fd1b486e-045c-483f-a599-22a9eb41264a button.colab-df-convert');\n",
              "        buttonEl.style.display =\n",
              "          google.colab.kernel.accessAllowed ? 'block' : 'none';\n",
              "\n",
              "        async function convertToInteractive(key) {\n",
              "          const element = document.querySelector('#df-fd1b486e-045c-483f-a599-22a9eb41264a');\n",
              "          const dataTable =\n",
              "            await google.colab.kernel.invokeFunction('convertToInteractive',\n",
              "                                                     [key], {});\n",
              "          if (!dataTable) return;\n",
              "\n",
              "          const docLinkHtml = 'Like what you see? Visit the ' +\n",
              "            '<a target=\"_blank\" href=https://colab.research.google.com/notebooks/data_table.ipynb>data table notebook</a>'\n",
              "            + ' to learn more about interactive tables.';\n",
              "          element.innerHTML = '';\n",
              "          dataTable['output_type'] = 'display_data';\n",
              "          await google.colab.output.renderOutput(dataTable, element);\n",
              "          const docLink = document.createElement('div');\n",
              "          docLink.innerHTML = docLinkHtml;\n",
              "          element.appendChild(docLink);\n",
              "        }\n",
              "      </script>\n",
              "    </div>\n",
              "  </div>\n",
              "  "
            ]
          },
          "metadata": {},
          "execution_count": 7
        }
      ]
    },
    {
      "cell_type": "code",
      "source": [
        "df_train.shape"
      ],
      "metadata": {
        "colab": {
          "base_uri": "https://localhost:8080/"
        },
        "id": "u3_kxH1Z95ze",
        "outputId": "cdc660bd-e780-4641-d5ea-84e691731501"
      },
      "execution_count": null,
      "outputs": [
        {
          "output_type": "execute_result",
          "data": {
            "text/plain": [
              "(11917, 4609)"
            ]
          },
          "metadata": {},
          "execution_count": 8
        }
      ]
    },
    {
      "cell_type": "code",
      "source": [
        "df_test.head()"
      ],
      "metadata": {
        "colab": {
          "base_uri": "https://localhost:8080/",
          "height": 235
        },
        "id": "ii39RwU58v93",
        "outputId": "f095c76d-c2ab-4035-d040-4bfadaa2ec98"
      },
      "execution_count": null,
      "outputs": [
        {
          "output_type": "execute_result",
          "data": {
            "text/plain": [
              "          0    1         2         3    4    5    6         7    8    9  ...  \\\n",
              "0  0.141500  0.0  0.000000  0.000000  0.0  0.0  0.0  0.151137  0.0  0.0  ...   \n",
              "1  0.047403  0.0  0.000000  0.000000  0.0  0.0  0.0  0.000000  0.0  0.0  ...   \n",
              "2  0.000000  0.0  0.000000  0.023559  0.0  0.0  0.0  0.060329  0.0  0.0  ...   \n",
              "3  0.002286  0.0  0.655825  0.259398  0.0  0.0  0.0  0.000000  0.0  0.0  ...   \n",
              "4  0.279953  0.0  0.000000  0.000000  0.0  0.0  0.0  0.168589  0.0  0.0  ...   \n",
              "\n",
              "       4599      4600  4601      4602      4603  4604  4605      4606  4607  \\\n",
              "0  0.885778  0.066009   0.0  0.169458  0.570154   0.0   0.0  0.090579   0.0   \n",
              "1  0.649062  0.260996   0.0  0.049776  0.494771   0.0   0.0  0.480568   0.0   \n",
              "2  0.725523  0.166289   0.0  0.131945  0.299330   0.0   0.0  0.000000   0.0   \n",
              "3  0.626934  0.244303   0.0  0.100791  0.448022   0.0   0.0  0.295682   0.0   \n",
              "4  0.489483  0.166786   0.0  0.000000  0.212874   0.0   0.0  0.000000   0.0   \n",
              "\n",
              "   label  \n",
              "0      0  \n",
              "1      0  \n",
              "2      0  \n",
              "3      0  \n",
              "4      0  \n",
              "\n",
              "[5 rows x 4609 columns]"
            ],
            "text/html": [
              "\n",
              "  <div id=\"df-a1615719-3aa6-4cac-9a5f-49eb909a6397\">\n",
              "    <div class=\"colab-df-container\">\n",
              "      <div>\n",
              "<style scoped>\n",
              "    .dataframe tbody tr th:only-of-type {\n",
              "        vertical-align: middle;\n",
              "    }\n",
              "\n",
              "    .dataframe tbody tr th {\n",
              "        vertical-align: top;\n",
              "    }\n",
              "\n",
              "    .dataframe thead th {\n",
              "        text-align: right;\n",
              "    }\n",
              "</style>\n",
              "<table border=\"1\" class=\"dataframe\">\n",
              "  <thead>\n",
              "    <tr style=\"text-align: right;\">\n",
              "      <th></th>\n",
              "      <th>0</th>\n",
              "      <th>1</th>\n",
              "      <th>2</th>\n",
              "      <th>3</th>\n",
              "      <th>4</th>\n",
              "      <th>5</th>\n",
              "      <th>6</th>\n",
              "      <th>7</th>\n",
              "      <th>8</th>\n",
              "      <th>9</th>\n",
              "      <th>...</th>\n",
              "      <th>4599</th>\n",
              "      <th>4600</th>\n",
              "      <th>4601</th>\n",
              "      <th>4602</th>\n",
              "      <th>4603</th>\n",
              "      <th>4604</th>\n",
              "      <th>4605</th>\n",
              "      <th>4606</th>\n",
              "      <th>4607</th>\n",
              "      <th>label</th>\n",
              "    </tr>\n",
              "  </thead>\n",
              "  <tbody>\n",
              "    <tr>\n",
              "      <th>0</th>\n",
              "      <td>0.141500</td>\n",
              "      <td>0.0</td>\n",
              "      <td>0.000000</td>\n",
              "      <td>0.000000</td>\n",
              "      <td>0.0</td>\n",
              "      <td>0.0</td>\n",
              "      <td>0.0</td>\n",
              "      <td>0.151137</td>\n",
              "      <td>0.0</td>\n",
              "      <td>0.0</td>\n",
              "      <td>...</td>\n",
              "      <td>0.885778</td>\n",
              "      <td>0.066009</td>\n",
              "      <td>0.0</td>\n",
              "      <td>0.169458</td>\n",
              "      <td>0.570154</td>\n",
              "      <td>0.0</td>\n",
              "      <td>0.0</td>\n",
              "      <td>0.090579</td>\n",
              "      <td>0.0</td>\n",
              "      <td>0</td>\n",
              "    </tr>\n",
              "    <tr>\n",
              "      <th>1</th>\n",
              "      <td>0.047403</td>\n",
              "      <td>0.0</td>\n",
              "      <td>0.000000</td>\n",
              "      <td>0.000000</td>\n",
              "      <td>0.0</td>\n",
              "      <td>0.0</td>\n",
              "      <td>0.0</td>\n",
              "      <td>0.000000</td>\n",
              "      <td>0.0</td>\n",
              "      <td>0.0</td>\n",
              "      <td>...</td>\n",
              "      <td>0.649062</td>\n",
              "      <td>0.260996</td>\n",
              "      <td>0.0</td>\n",
              "      <td>0.049776</td>\n",
              "      <td>0.494771</td>\n",
              "      <td>0.0</td>\n",
              "      <td>0.0</td>\n",
              "      <td>0.480568</td>\n",
              "      <td>0.0</td>\n",
              "      <td>0</td>\n",
              "    </tr>\n",
              "    <tr>\n",
              "      <th>2</th>\n",
              "      <td>0.000000</td>\n",
              "      <td>0.0</td>\n",
              "      <td>0.000000</td>\n",
              "      <td>0.023559</td>\n",
              "      <td>0.0</td>\n",
              "      <td>0.0</td>\n",
              "      <td>0.0</td>\n",
              "      <td>0.060329</td>\n",
              "      <td>0.0</td>\n",
              "      <td>0.0</td>\n",
              "      <td>...</td>\n",
              "      <td>0.725523</td>\n",
              "      <td>0.166289</td>\n",
              "      <td>0.0</td>\n",
              "      <td>0.131945</td>\n",
              "      <td>0.299330</td>\n",
              "      <td>0.0</td>\n",
              "      <td>0.0</td>\n",
              "      <td>0.000000</td>\n",
              "      <td>0.0</td>\n",
              "      <td>0</td>\n",
              "    </tr>\n",
              "    <tr>\n",
              "      <th>3</th>\n",
              "      <td>0.002286</td>\n",
              "      <td>0.0</td>\n",
              "      <td>0.655825</td>\n",
              "      <td>0.259398</td>\n",
              "      <td>0.0</td>\n",
              "      <td>0.0</td>\n",
              "      <td>0.0</td>\n",
              "      <td>0.000000</td>\n",
              "      <td>0.0</td>\n",
              "      <td>0.0</td>\n",
              "      <td>...</td>\n",
              "      <td>0.626934</td>\n",
              "      <td>0.244303</td>\n",
              "      <td>0.0</td>\n",
              "      <td>0.100791</td>\n",
              "      <td>0.448022</td>\n",
              "      <td>0.0</td>\n",
              "      <td>0.0</td>\n",
              "      <td>0.295682</td>\n",
              "      <td>0.0</td>\n",
              "      <td>0</td>\n",
              "    </tr>\n",
              "    <tr>\n",
              "      <th>4</th>\n",
              "      <td>0.279953</td>\n",
              "      <td>0.0</td>\n",
              "      <td>0.000000</td>\n",
              "      <td>0.000000</td>\n",
              "      <td>0.0</td>\n",
              "      <td>0.0</td>\n",
              "      <td>0.0</td>\n",
              "      <td>0.168589</td>\n",
              "      <td>0.0</td>\n",
              "      <td>0.0</td>\n",
              "      <td>...</td>\n",
              "      <td>0.489483</td>\n",
              "      <td>0.166786</td>\n",
              "      <td>0.0</td>\n",
              "      <td>0.000000</td>\n",
              "      <td>0.212874</td>\n",
              "      <td>0.0</td>\n",
              "      <td>0.0</td>\n",
              "      <td>0.000000</td>\n",
              "      <td>0.0</td>\n",
              "      <td>0</td>\n",
              "    </tr>\n",
              "  </tbody>\n",
              "</table>\n",
              "<p>5 rows × 4609 columns</p>\n",
              "</div>\n",
              "      <button class=\"colab-df-convert\" onclick=\"convertToInteractive('df-a1615719-3aa6-4cac-9a5f-49eb909a6397')\"\n",
              "              title=\"Convert this dataframe to an interactive table.\"\n",
              "              style=\"display:none;\">\n",
              "        \n",
              "  <svg xmlns=\"http://www.w3.org/2000/svg\" height=\"24px\"viewBox=\"0 0 24 24\"\n",
              "       width=\"24px\">\n",
              "    <path d=\"M0 0h24v24H0V0z\" fill=\"none\"/>\n",
              "    <path d=\"M18.56 5.44l.94 2.06.94-2.06 2.06-.94-2.06-.94-.94-2.06-.94 2.06-2.06.94zm-11 1L8.5 8.5l.94-2.06 2.06-.94-2.06-.94L8.5 2.5l-.94 2.06-2.06.94zm10 10l.94 2.06.94-2.06 2.06-.94-2.06-.94-.94-2.06-.94 2.06-2.06.94z\"/><path d=\"M17.41 7.96l-1.37-1.37c-.4-.4-.92-.59-1.43-.59-.52 0-1.04.2-1.43.59L10.3 9.45l-7.72 7.72c-.78.78-.78 2.05 0 2.83L4 21.41c.39.39.9.59 1.41.59.51 0 1.02-.2 1.41-.59l7.78-7.78 2.81-2.81c.8-.78.8-2.07 0-2.86zM5.41 20L4 18.59l7.72-7.72 1.47 1.35L5.41 20z\"/>\n",
              "  </svg>\n",
              "      </button>\n",
              "      \n",
              "  <style>\n",
              "    .colab-df-container {\n",
              "      display:flex;\n",
              "      flex-wrap:wrap;\n",
              "      gap: 12px;\n",
              "    }\n",
              "\n",
              "    .colab-df-convert {\n",
              "      background-color: #E8F0FE;\n",
              "      border: none;\n",
              "      border-radius: 50%;\n",
              "      cursor: pointer;\n",
              "      display: none;\n",
              "      fill: #1967D2;\n",
              "      height: 32px;\n",
              "      padding: 0 0 0 0;\n",
              "      width: 32px;\n",
              "    }\n",
              "\n",
              "    .colab-df-convert:hover {\n",
              "      background-color: #E2EBFA;\n",
              "      box-shadow: 0px 1px 2px rgba(60, 64, 67, 0.3), 0px 1px 3px 1px rgba(60, 64, 67, 0.15);\n",
              "      fill: #174EA6;\n",
              "    }\n",
              "\n",
              "    [theme=dark] .colab-df-convert {\n",
              "      background-color: #3B4455;\n",
              "      fill: #D2E3FC;\n",
              "    }\n",
              "\n",
              "    [theme=dark] .colab-df-convert:hover {\n",
              "      background-color: #434B5C;\n",
              "      box-shadow: 0px 1px 3px 1px rgba(0, 0, 0, 0.15);\n",
              "      filter: drop-shadow(0px 1px 2px rgba(0, 0, 0, 0.3));\n",
              "      fill: #FFFFFF;\n",
              "    }\n",
              "  </style>\n",
              "\n",
              "      <script>\n",
              "        const buttonEl =\n",
              "          document.querySelector('#df-a1615719-3aa6-4cac-9a5f-49eb909a6397 button.colab-df-convert');\n",
              "        buttonEl.style.display =\n",
              "          google.colab.kernel.accessAllowed ? 'block' : 'none';\n",
              "\n",
              "        async function convertToInteractive(key) {\n",
              "          const element = document.querySelector('#df-a1615719-3aa6-4cac-9a5f-49eb909a6397');\n",
              "          const dataTable =\n",
              "            await google.colab.kernel.invokeFunction('convertToInteractive',\n",
              "                                                     [key], {});\n",
              "          if (!dataTable) return;\n",
              "\n",
              "          const docLinkHtml = 'Like what you see? Visit the ' +\n",
              "            '<a target=\"_blank\" href=https://colab.research.google.com/notebooks/data_table.ipynb>data table notebook</a>'\n",
              "            + ' to learn more about interactive tables.';\n",
              "          element.innerHTML = '';\n",
              "          dataTable['output_type'] = 'display_data';\n",
              "          await google.colab.output.renderOutput(dataTable, element);\n",
              "          const docLink = document.createElement('div');\n",
              "          docLink.innerHTML = docLinkHtml;\n",
              "          element.appendChild(docLink);\n",
              "        }\n",
              "      </script>\n",
              "    </div>\n",
              "  </div>\n",
              "  "
            ]
          },
          "metadata": {},
          "execution_count": 9
        }
      ]
    },
    {
      "cell_type": "code",
      "source": [
        "df_test.shape"
      ],
      "metadata": {
        "colab": {
          "base_uri": "https://localhost:8080/"
        },
        "id": "DF0bCFIG99Dm",
        "outputId": "64f165c2-b2bd-44a3-918b-d17b19ddd592"
      },
      "execution_count": null,
      "outputs": [
        {
          "output_type": "execute_result",
          "data": {
            "text/plain": [
              "(1794, 4609)"
            ]
          },
          "metadata": {},
          "execution_count": 10
        }
      ]
    },
    {
      "cell_type": "markdown",
      "source": [
        "# Create X and y Data to Feed ML Models"
      ],
      "metadata": {
        "id": "A-Vc4OIg83q2"
      }
    },
    {
      "cell_type": "code",
      "source": [
        "X_train = np.array(df_train.iloc[:,:-1].copy())\n",
        "y_train = np.array(df_train['label'].copy())"
      ],
      "metadata": {
        "id": "OxBLdYzn8z1f"
      },
      "execution_count": null,
      "outputs": []
    },
    {
      "cell_type": "code",
      "source": [
        "(X_train.shape, y_train.shape)"
      ],
      "metadata": {
        "colab": {
          "base_uri": "https://localhost:8080/"
        },
        "id": "ltij2W7s9iXX",
        "outputId": "bc651145-c629-4c6f-f1de-b6c8a5810fcb"
      },
      "execution_count": null,
      "outputs": [
        {
          "output_type": "execute_result",
          "data": {
            "text/plain": [
              "((11917, 4608), (11917,))"
            ]
          },
          "metadata": {},
          "execution_count": 12
        }
      ]
    },
    {
      "cell_type": "code",
      "source": [
        "X_test = np.array(df_test.iloc[:,:-1].copy())\n",
        "y_test = np.array(df_test['label'].copy())"
      ],
      "metadata": {
        "id": "SCjmRZBj9yWE"
      },
      "execution_count": null,
      "outputs": []
    },
    {
      "cell_type": "code",
      "source": [
        "(X_test.shape, y_test.shape)"
      ],
      "metadata": {
        "colab": {
          "base_uri": "https://localhost:8080/"
        },
        "id": "_6JOoK-R-GwH",
        "outputId": "957ce86f-09b5-439b-bec4-e2d8f5885756"
      },
      "execution_count": null,
      "outputs": [
        {
          "output_type": "execute_result",
          "data": {
            "text/plain": [
              "((1794, 4608), (1794,))"
            ]
          },
          "metadata": {},
          "execution_count": 14
        }
      ]
    },
    {
      "cell_type": "markdown",
      "source": [
        "# Classification - Logistic Regression"
      ],
      "metadata": {
        "id": "scLnxpXO-Lh2"
      }
    },
    {
      "cell_type": "code",
      "source": [
        "clf_lreg = LogisticRegression(max_iter=1000000).fit(X_train, y_train)\n",
        "y_pred = clf_lreg.predict(X_test)"
      ],
      "metadata": {
        "id": "S2XFWi1--Jen"
      },
      "execution_count": null,
      "outputs": []
    },
    {
      "cell_type": "code",
      "source": [
        "cm= confusion_matrix(y_test,y_pred)\n",
        "disp = ConfusionMatrixDisplay(confusion_matrix=cm)\n",
        "disp.plot()\n",
        "plt.show()"
      ],
      "metadata": {
        "colab": {
          "base_uri": "https://localhost:8080/",
          "height": 449
        },
        "id": "ptqVT5pL-drb",
        "outputId": "5b48363e-769b-4e33-9f1d-2dafe6703020"
      },
      "execution_count": null,
      "outputs": [
        {
          "output_type": "display_data",
          "data": {
            "text/plain": [
              "<Figure size 640x480 with 2 Axes>"
            ],
            "image/png": "[encoded data removed]"
          },
          "metadata": {}
        }
      ]
    },
    {
      "cell_type": "code",
      "source": [
        "print(classification_report(y_train, clf_lreg.predict(X_train)))"
      ],
      "metadata": {
        "colab": {
          "base_uri": "https://localhost:8080/"
        },
        "id": "wbr6vWUlTISq",
        "outputId": "b3e2e6a5-ae4a-491e-d0cc-de17ad3c1a9a"
      },
      "execution_count": null,
      "outputs": [
        {
          "output_type": "stream",
          "name": "stdout",
          "text": [
            "              precision    recall  f1-score   support\n",
            "\n",
            "           0       0.95      0.91      0.93      6100\n",
            "           1       0.91      0.94      0.93      5817\n",
            "\n",
            "    accuracy                           0.93     11917\n",
            "   macro avg       0.93      0.93      0.93     11917\n",
            "weighted avg       0.93      0.93      0.93     11917\n",
            "\n"
          ]
        }
      ]
    },
    {
      "cell_type": "code",
      "source": [
        "print(classification_report(y_test, y_pred))"
      ],
      "metadata": {
        "colab": {
          "base_uri": "https://localhost:8080/"
        },
        "id": "tBMVHhZjTbV5",
        "outputId": "e5faade0-431f-466c-e311-aaa4b58343c1"
      },
      "execution_count": null,
      "outputs": [
        {
          "output_type": "stream",
          "name": "stdout",
          "text": [
            "              precision    recall  f1-score   support\n",
            "\n",
            "           0       0.53      0.68      0.60       339\n",
            "           1       0.92      0.86      0.89      1455\n",
            "\n",
            "    accuracy                           0.83      1794\n",
            "   macro avg       0.73      0.77      0.74      1794\n",
            "weighted avg       0.85      0.83      0.83      1794\n",
            "\n"
          ]
        }
      ]
    },
    {
      "cell_type": "code",
      "source": [
        "fpr_rf, tpr_rf, _ = roc_curve(y_train, clf_lreg.predict(X_train))\n",
        "\n",
        "plt.figure(1)\n",
        "plt.plot([0, 1], [0, 1], 'k--')\n",
        "plt.plot(fpr_rf, tpr_rf, label='LogRegress')\n",
        "plt.xlabel('False positive rate')\n",
        "plt.ylabel('True positive rate')\n",
        "plt.title('ROC curve - Training Data - Batch_4')\n",
        "plt.legend(loc='best')\n",
        "plt.show()"
      ],
      "metadata": {
        "colab": {
          "base_uri": "https://localhost:8080/",
          "height": 472
        },
        "id": "RDPindpwqeMv",
        "outputId": "0a87e36e-c77d-4d5a-d93b-5a4076f32fed"
      },
      "execution_count": null,
      "outputs": [
        {
          "output_type": "display_data",
          "data": {
            "text/plain": [
              "<Figure size 640x480 with 1 Axes>"
            ],
            "image/png": "[encoded data removed]"
          },
          "metadata": {}
        }
      ]
    },
    {
      "cell_type": "code",
      "source": [
        "fpr_rf, tpr_rf, _ = roc_curve(y_test, clf_lreg.predict(X_test))\n",
        "\n",
        "plt.figure(1)\n",
        "plt.plot([0, 1], [0, 1], 'k--')\n",
        "plt.plot(fpr_rf, tpr_rf, label='LogRegress')\n",
        "plt.xlabel('False positive rate')\n",
        "plt.ylabel('True positive rate')\n",
        "plt.title('ROC curve - Test Data - Batch_4')\n",
        "plt.legend(loc='best')\n",
        "plt.show()"
      ],
      "metadata": {
        "colab": {
          "base_uri": "https://localhost:8080/",
          "height": 472
        },
        "id": "X7DMBYewUtWI",
        "outputId": "8577bc06-2334-454b-a69a-6c9856e36ccd"
      },
      "execution_count": null,
      "outputs": [
        {
          "output_type": "display_data",
          "data": {
            "text/plain": [
              "<Figure size 640x480 with 1 Axes>"
            ],
            "image/png": "[encoded data removed]"
          },
          "metadata": {}
        }
      ]
    },
    {
      "cell_type": "markdown",
      "source": [
        "# Classification - Random Forest"
      ],
      "metadata": {
        "id": "XBFpRXgUVOuY"
      }
    },
    {
      "cell_type": "code",
      "source": [
        "clf_RF = RandomForestClassifier(n_estimators = 50, random_state = 42)"
      ],
      "metadata": {
        "id": "eSB4q5QOU-WB"
      },
      "execution_count": null,
      "outputs": []
    },
    {
      "cell_type": "code",
      "source": [
        "clf_RF.fit(X_train, y_train)"
      ],
      "metadata": {
        "colab": {
          "base_uri": "https://localhost:8080/",
          "height": 74
        },
        "id": "tO6pOAtxVW4T",
        "outputId": "707a5665-ef10-431e-980a-445213dea44c"
      },
      "execution_count": null,
      "outputs": [
        {
          "output_type": "execute_result",
          "data": {
            "text/plain": [
              "RandomForestClassifier(n_estimators=50, random_state=42)"
            ],
            "text/html": [
              "<style>#sk-container-id-1 {color: black;background-color: white;}#sk-container-id-1 pre{padding: 0;}#sk-container-id-1 div.sk-toggleable {background-color: white;}#sk-container-id-1 label.sk-toggleable__label {cursor: pointer;display: block;width: 100%;margin-bottom: 0;padding: 0.3em;box-sizing: border-box;text-align: center;}#sk-container-id-1 label.sk-toggleable__label-arrow:before {content: \"▸\";float: left;margin-right: 0.25em;color: #696969;}#sk-container-id-1 label.sk-toggleable__label-arrow:hover:before {color: black;}#sk-container-id-1 div.sk-estimator:hover label.sk-toggleable__label-arrow:before {color: black;}#sk-container-id-1 div.sk-toggleable__content {max-height: 0;max-width: 0;overflow: hidden;text-align: left;background-color: #f0f8ff;}#sk-container-id-1 div.sk-toggleable__content pre {margin: 0.2em;color: black;border-radius: 0.25em;background-color: #f0f8ff;}#sk-container-id-1 input.sk-toggleable__control:checked~div.sk-toggleable__content {max-height: 200px;max-width: 100%;overflow: auto;}#sk-container-id-1 input.sk-toggleable__control:checked~label.sk-toggleable__label-arrow:before {content: \"▾\";}#sk-container-id-1 div.sk-estimator input.sk-toggleable__control:checked~label.sk-toggleable__label {background-color: #d4ebff;}#sk-container-id-1 div.sk-label input.sk-toggleable__control:checked~label.sk-toggleable__label {background-color: #d4ebff;}#sk-container-id-1 input.sk-hidden--visually {border: 0;clip: rect(1px 1px 1px 1px);clip: rect(1px, 1px, 1px, 1px);height: 1px;margin: -1px;overflow: hidden;padding: 0;position: absolute;width: 1px;}#sk-container-id-1 div.sk-estimator {font-family: monospace;background-color: #f0f8ff;border: 1px dotted black;border-radius: 0.25em;box-sizing: border-box;margin-bottom: 0.5em;}#sk-container-id-1 div.sk-estimator:hover {background-color: #d4ebff;}#sk-container-id-1 div.sk-parallel-item::after {content: \"\";width: 100%;border-bottom: 1px solid gray;flex-grow: 1;}#sk-container-id-1 div.sk-label:hover label.sk-toggleable__label {background-color: #d4ebff;}#sk-container-id-1 div.sk-serial::before {content: \"\";position: absolute;border-left: 1px solid gray;box-sizing: border-box;top: 0;bottom: 0;left: 50%;z-index: 0;}#sk-container-id-1 div.sk-serial {display: flex;flex-direction: column;align-items: center;background-color: white;padding-right: 0.2em;padding-left: 0.2em;position: relative;}#sk-container-id-1 div.sk-item {position: relative;z-index: 1;}#sk-container-id-1 div.sk-parallel {display: flex;align-items: stretch;justify-content: center;background-color: white;position: relative;}#sk-container-id-1 div.sk-item::before, #sk-container-id-1 div.sk-parallel-item::before {content: \"\";position: absolute;border-left: 1px solid gray;box-sizing: border-box;top: 0;bottom: 0;left: 50%;z-index: -1;}#sk-container-id-1 div.sk-parallel-item {display: flex;flex-direction: column;z-index: 1;position: relative;background-color: white;}#sk-container-id-1 div.sk-parallel-item:first-child::after {align-self: flex-end;width: 50%;}#sk-container-id-1 div.sk-parallel-item:last-child::after {align-self: flex-start;width: 50%;}#sk-container-id-1 div.sk-parallel-item:only-child::after {width: 0;}#sk-container-id-1 div.sk-dashed-wrapped {border: 1px dashed gray;margin: 0 0.4em 0.5em 0.4em;box-sizing: border-box;padding-bottom: 0.4em;background-color: white;}#sk-container-id-1 div.sk-label label {font-family: monospace;font-weight: bold;display: inline-block;line-height: 1.2em;}#sk-container-id-1 div.sk-label-container {text-align: center;}#sk-container-id-1 div.sk-container {/* jupyter's `normalize.less` sets `[hidden] { display: none; }` but bootstrap.min.css set `[hidden] { display: none !important; }` so we also need the `!important` here to be able to override the default hidden behavior on the sphinx rendered scikit-learn.org. See: https://github.com/scikit-learn/scikit-learn/issues/21755 */display: inline-block !important;position: relative;}#sk-container-id-1 div.sk-text-repr-fallback {display: none;}</style><div id=\"sk-container-id-1\" class=\"sk-top-container\"><div class=\"sk-text-repr-fallback\"><pre>RandomForestClassifier(n_estimators=50, random_state=42)</pre><b>In a Jupyter environment, please rerun this cell to show the HTML representation or trust the notebook. <br />On GitHub, the HTML representation is unable to render, please try loading this page with nbviewer.org.</b></div><div class=\"sk-container\" hidden><div class=\"sk-item\"><div class=\"sk-estimator sk-toggleable\"><input class=\"sk-toggleable__control sk-hidden--visually\" id=\"sk-estimator-id-1\" type=\"checkbox\" checked><label for=\"sk-estimator-id-1\" class=\"sk-toggleable__label sk-toggleable__label-arrow\">RandomForestClassifier</label><div class=\"sk-toggleable__content\"><pre>RandomForestClassifier(n_estimators=50, random_state=42)</pre></div></div></div></div></div>"
            ]
          },
          "metadata": {},
          "execution_count": 22
        }
      ]
    },
    {
      "cell_type": "code",
      "source": [
        "y_pred = clf_RF.predict(X_test)\n",
        "cm= confusion_matrix(y_test,y_pred)\n",
        "disp = ConfusionMatrixDisplay(confusion_matrix=cm)\n",
        "disp.plot()\n",
        "plt.show()"
      ],
      "metadata": {
        "colab": {
          "base_uri": "https://localhost:8080/",
          "height": 449
        },
        "id": "YnkZyglLVbFQ",
        "outputId": "e25dd100-5bca-4787-a147-e09d796de4ab"
      },
      "execution_count": null,
      "outputs": [
        {
          "output_type": "display_data",
          "data": {
            "text/plain": [
              "<Figure size 640x480 with 2 Axes>"
            ],
            "image/png": "[encoded data removed]"
          },
          "metadata": {}
        }
      ]
    },
    {
      "cell_type": "code",
      "source": [
        "print(classification_report(y_train, clf_RF.predict(X_train)))"
      ],
      "metadata": {
        "colab": {
          "base_uri": "https://localhost:8080/"
        },
        "id": "xMKyGuAcWgXI",
        "outputId": "beb51786-9248-4ff8-de45-acfc1ceb583a"
      },
      "execution_count": null,
      "outputs": [
        {
          "output_type": "stream",
          "name": "stdout",
          "text": [
            "              precision    recall  f1-score   support\n",
            "\n",
            "           0       1.00      1.00      1.00      6100\n",
            "           1       1.00      1.00      1.00      5817\n",
            "\n",
            "    accuracy                           1.00     11917\n",
            "   macro avg       1.00      1.00      1.00     11917\n",
            "weighted avg       1.00      1.00      1.00     11917\n",
            "\n"
          ]
        }
      ]
    },
    {
      "cell_type": "code",
      "source": [
        "print(classification_report(y_test, y_pred))"
      ],
      "metadata": {
        "colab": {
          "base_uri": "https://localhost:8080/"
        },
        "id": "cdjJJBXRV5Iw",
        "outputId": "83ec7608-387d-4c65-ed84-ca19eefb7a4d"
      },
      "execution_count": null,
      "outputs": [
        {
          "output_type": "stream",
          "name": "stdout",
          "text": [
            "              precision    recall  f1-score   support\n",
            "\n",
            "           0       0.56      0.64      0.60       339\n",
            "           1       0.91      0.88      0.90      1455\n",
            "\n",
            "    accuracy                           0.84      1794\n",
            "   macro avg       0.74      0.76      0.75      1794\n",
            "weighted avg       0.85      0.84      0.84      1794\n",
            "\n"
          ]
        }
      ]
    },
    {
      "cell_type": "code",
      "source": [
        "fpr_rf, tpr_rf, _ = roc_curve(y_train, clf_RF.predict(X_train))\n",
        "\n",
        "plt.figure(1)\n",
        "plt.plot([0, 1], [0, 1], 'k--')\n",
        "plt.plot(fpr_rf, tpr_rf, label='Random Forest')\n",
        "plt.xlabel('False positive rate')\n",
        "plt.ylabel('True positive rate')\n",
        "plt.title('ROC curve - Training Data - Batch_4')\n",
        "plt.legend(loc='best')\n",
        "plt.show()"
      ],
      "metadata": {
        "colab": {
          "base_uri": "https://localhost:8080/",
          "height": 472
        },
        "id": "GkVTZWoZWqOH",
        "outputId": "08cc37f3-2760-4426-e77d-873814f0c1fd"
      },
      "execution_count": null,
      "outputs": [
        {
          "output_type": "display_data",
          "data": {
            "text/plain": [
              "<Figure size 640x480 with 1 Axes>"
            ],
            "image/png": "[encoded data removed]"
          },
          "metadata": {}
        }
      ]
    },
    {
      "cell_type": "code",
      "source": [
        "fpr_rf, tpr_rf, _ = roc_curve(y_test, clf_RF.predict(X_test))\n",
        "\n",
        "plt.figure(1)\n",
        "plt.plot([0, 1], [0, 1], 'k--')\n",
        "plt.plot(fpr_rf, tpr_rf, label='Random Forest')\n",
        "plt.xlabel('False positive rate')\n",
        "plt.ylabel('True positive rate')\n",
        "plt.title('ROC curve - Test Data - Batch_4')\n",
        "plt.legend(loc='best')\n",
        "plt.show()"
      ],
      "metadata": {
        "colab": {
          "base_uri": "https://localhost:8080/",
          "height": 472
        },
        "id": "W1RyyaXWVk9c",
        "outputId": "07a40122-8a88-4879-de40-0ce7f44d164d"
      },
      "execution_count": null,
      "outputs": [
        {
          "output_type": "display_data",
          "data": {
            "text/plain": [
              "<Figure size 640x480 with 1 Axes>"
            ],
            "image/png": "[encoded data removed]"
          },
          "metadata": {}
        }
      ]
    },
    {
      "cell_type": "markdown",
      "source": [
        "# Classification - XGBoost"
      ],
      "metadata": {
        "id": "dXvEhFlcXrda"
      }
    },
    {
      "cell_type": "code",
      "source": [
        "clf_xgb = XGBClassifier(use_label_encoder=False,eval_metric='logloss',max_depth=50,n_estimators=50,random_state=2023)\n",
        "clf_xgb.fit(X_train, y_train)"
      ],
      "metadata": {
        "colab": {
          "base_uri": "https://localhost:8080/",
          "height": 283
        },
        "id": "1dCHRoWzV1zF",
        "outputId": "d24042e3-d3ab-4c94-baa9-15e7cdc0ac00"
      },
      "execution_count": null,
      "outputs": [
        {
          "output_type": "stream",
          "name": "stderr",
          "text": [
            "/usr/local/lib/python3.9/dist-packages/xgboost/sklearn.py:1395: UserWarning: `use_label_encoder` is deprecated in 1.7.0.\n",
            "  warnings.warn(\"`use_label_encoder` is deprecated in 1.7.0.\")\n"
          ]
        },
        {
          "output_type": "execute_result",
          "data": {
            "text/plain": [
              "XGBClassifier(base_score=None, booster=None, callbacks=None,\n",
              "              colsample_bylevel=None, colsample_bynode=None,\n",
              "              colsample_bytree=None, early_stopping_rounds=None,\n",
              "              enable_categorical=False, eval_metric='logloss',\n",
              "              feature_types=None, gamma=None, gpu_id=None, grow_policy=None,\n",
              "              importance_type=None, interaction_constraints=None,\n",
              "              learning_rate=None, max_bin=None, max_cat_threshold=None,\n",
              "              max_cat_to_onehot=None, max_delta_step=None, max_depth=50,\n",
              "              max_leaves=None, min_child_weight=None, missing=nan,\n",
              "              monotone_constraints=None, n_estimators=50, n_jobs=None,\n",
              "              num_parallel_tree=None, predictor=None, random_state=2023, ...)"
            ],
            "text/html": [
              "<style>#sk-container-id-2 {color: black;background-color: white;}#sk-container-id-2 pre{padding: 0;}#sk-container-id-2 div.sk-toggleable {background-color: white;}#sk-container-id-2 label.sk-toggleable__label {cursor: pointer;display: block;width: 100%;margin-bottom: 0;padding: 0.3em;box-sizing: border-box;text-align: center;}#sk-container-id-2 label.sk-toggleable__label-arrow:before {content: \"▸\";float: left;margin-right: 0.25em;color: #696969;}#sk-container-id-2 label.sk-toggleable__label-arrow:hover:before {color: black;}#sk-container-id-2 div.sk-estimator:hover label.sk-toggleable__label-arrow:before {color: black;}#sk-container-id-2 div.sk-toggleable__content {max-height: 0;max-width: 0;overflow: hidden;text-align: left;background-color: #f0f8ff;}#sk-container-id-2 div.sk-toggleable__content pre {margin: 0.2em;color: black;border-radius: 0.25em;background-color: #f0f8ff;}#sk-container-id-2 input.sk-toggleable__control:checked~div.sk-toggleable__content {max-height: 200px;max-width: 100%;overflow: auto;}#sk-container-id-2 input.sk-toggleable__control:checked~label.sk-toggleable__label-arrow:before {content: \"▾\";}#sk-container-id-2 div.sk-estimator input.sk-toggleable__control:checked~label.sk-toggleable__label {background-color: #d4ebff;}#sk-container-id-2 div.sk-label input.sk-toggleable__control:checked~label.sk-toggleable__label {background-color: #d4ebff;}#sk-container-id-2 input.sk-hidden--visually {border: 0;clip: rect(1px 1px 1px 1px);clip: rect(1px, 1px, 1px, 1px);height: 1px;margin: -1px;overflow: hidden;padding: 0;position: absolute;width: 1px;}#sk-container-id-2 div.sk-estimator {font-family: monospace;background-color: #f0f8ff;border: 1px dotted black;border-radius: 0.25em;box-sizing: border-box;margin-bottom: 0.5em;}#sk-container-id-2 div.sk-estimator:hover {background-color: #d4ebff;}#sk-container-id-2 div.sk-parallel-item::after {content: \"\";width: 100%;border-bottom: 1px solid gray;flex-grow: 1;}#sk-container-id-2 div.sk-label:hover label.sk-toggleable__label {background-color: #d4ebff;}#sk-container-id-2 div.sk-serial::before {content: \"\";position: absolute;border-left: 1px solid gray;box-sizing: border-box;top: 0;bottom: 0;left: 50%;z-index: 0;}#sk-container-id-2 div.sk-serial {display: flex;flex-direction: column;align-items: center;background-color: white;padding-right: 0.2em;padding-left: 0.2em;position: relative;}#sk-container-id-2 div.sk-item {position: relative;z-index: 1;}#sk-container-id-2 div.sk-parallel {display: flex;align-items: stretch;justify-content: center;background-color: white;position: relative;}#sk-container-id-2 div.sk-item::before, #sk-container-id-2 div.sk-parallel-item::before {content: \"\";position: absolute;border-left: 1px solid gray;box-sizing: border-box;top: 0;bottom: 0;left: 50%;z-index: -1;}#sk-container-id-2 div.sk-parallel-item {display: flex;flex-direction: column;z-index: 1;position: relative;background-color: white;}#sk-container-id-2 div.sk-parallel-item:first-child::after {align-self: flex-end;width: 50%;}#sk-container-id-2 div.sk-parallel-item:last-child::after {align-self: flex-start;width: 50%;}#sk-container-id-2 div.sk-parallel-item:only-child::after {width: 0;}#sk-container-id-2 div.sk-dashed-wrapped {border: 1px dashed gray;margin: 0 0.4em 0.5em 0.4em;box-sizing: border-box;padding-bottom: 0.4em;background-color: white;}#sk-container-id-2 div.sk-label label {font-family: monospace;font-weight: bold;display: inline-block;line-height: 1.2em;}#sk-container-id-2 div.sk-label-container {text-align: center;}#sk-container-id-2 div.sk-container {/* jupyter's `normalize.less` sets `[hidden] { display: none; }` but bootstrap.min.css set `[hidden] { display: none !important; }` so we also need the `!important` here to be able to override the default hidden behavior on the sphinx rendered scikit-learn.org. See: https://github.com/scikit-learn/scikit-learn/issues/21755 */display: inline-block !important;position: relative;}#sk-container-id-2 div.sk-text-repr-fallback {display: none;}</style><div id=\"sk-container-id-2\" class=\"sk-top-container\"><div class=\"sk-text-repr-fallback\"><pre>XGBClassifier(base_score=None, booster=None, callbacks=None,\n",
              "              colsample_bylevel=None, colsample_bynode=None,\n",
              "              colsample_bytree=None, early_stopping_rounds=None,\n",
              "              enable_categorical=False, eval_metric=&#x27;logloss&#x27;,\n",
              "              feature_types=None, gamma=None, gpu_id=None, grow_policy=None,\n",
              "              importance_type=None, interaction_constraints=None,\n",
              "              learning_rate=None, max_bin=None, max_cat_threshold=None,\n",
              "              max_cat_to_onehot=None, max_delta_step=None, max_depth=50,\n",
              "              max_leaves=None, min_child_weight=None, missing=nan,\n",
              "              monotone_constraints=None, n_estimators=50, n_jobs=None,\n",
              "              num_parallel_tree=None, predictor=None, random_state=2023, ...)</pre><b>In a Jupyter environment, please rerun this cell to show the HTML representation or trust the notebook. <br />On GitHub, the HTML representation is unable to render, please try loading this page with nbviewer.org.</b></div><div class=\"sk-container\" hidden><div class=\"sk-item\"><div class=\"sk-estimator sk-toggleable\"><input class=\"sk-toggleable__control sk-hidden--visually\" id=\"sk-estimator-id-2\" type=\"checkbox\" checked><label for=\"sk-estimator-id-2\" class=\"sk-toggleable__label sk-toggleable__label-arrow\">XGBClassifier</label><div class=\"sk-toggleable__content\"><pre>XGBClassifier(base_score=None, booster=None, callbacks=None,\n",
              "              colsample_bylevel=None, colsample_bynode=None,\n",
              "              colsample_bytree=None, early_stopping_rounds=None,\n",
              "              enable_categorical=False, eval_metric=&#x27;logloss&#x27;,\n",
              "              feature_types=None, gamma=None, gpu_id=None, grow_policy=None,\n",
              "              importance_type=None, interaction_constraints=None,\n",
              "              learning_rate=None, max_bin=None, max_cat_threshold=None,\n",
              "              max_cat_to_onehot=None, max_delta_step=None, max_depth=50,\n",
              "              max_leaves=None, min_child_weight=None, missing=nan,\n",
              "              monotone_constraints=None, n_estimators=50, n_jobs=None,\n",
              "              num_parallel_tree=None, predictor=None, random_state=2023, ...)</pre></div></div></div></div></div>"
            ]
          },
          "metadata": {},
          "execution_count": 28
        }
      ]
    },
    {
      "cell_type": "code",
      "source": [
        "y_pred = clf_xgb.predict(X_test)\n",
        "cm= confusion_matrix(y_test,y_pred)\n",
        "disp = ConfusionMatrixDisplay(confusion_matrix=cm)\n",
        "disp.plot()\n",
        "plt.show()"
      ],
      "metadata": {
        "colab": {
          "base_uri": "https://localhost:8080/",
          "height": 449
        },
        "id": "V1RkhAkkX7CG",
        "outputId": "7131710a-f3af-4f3c-c680-fb559756892e"
      },
      "execution_count": null,
      "outputs": [
        {
          "output_type": "display_data",
          "data": {
            "text/plain": [
              "<Figure size 640x480 with 2 Axes>"
            ],
            "image/png": "[encoded data removed]"
          },
          "metadata": {}
        }
      ]
    },
    {
      "cell_type": "code",
      "source": [
        "print(classification_report(y_train, clf_xgb.predict(X_train)))"
      ],
      "metadata": {
        "colab": {
          "base_uri": "https://localhost:8080/"
        },
        "id": "FtDr_HUpZ3vX",
        "outputId": "fc792fbf-72d5-4e50-d954-ec77413f6a3e"
      },
      "execution_count": null,
      "outputs": [
        {
          "output_type": "stream",
          "name": "stdout",
          "text": [
            "              precision    recall  f1-score   support\n",
            "\n",
            "           0       1.00      1.00      1.00      6100\n",
            "           1       1.00      1.00      1.00      5817\n",
            "\n",
            "    accuracy                           1.00     11917\n",
            "   macro avg       1.00      1.00      1.00     11917\n",
            "weighted avg       1.00      1.00      1.00     11917\n",
            "\n"
          ]
        }
      ]
    },
    {
      "cell_type": "code",
      "source": [
        "print(classification_report(y_test, y_pred))"
      ],
      "metadata": {
        "colab": {
          "base_uri": "https://localhost:8080/"
        },
        "id": "ZEalCqXoaEse",
        "outputId": "31941912-28e3-4791-b0c8-f5a937931456"
      },
      "execution_count": null,
      "outputs": [
        {
          "output_type": "stream",
          "name": "stdout",
          "text": [
            "              precision    recall  f1-score   support\n",
            "\n",
            "           0       0.56      0.68      0.62       339\n",
            "           1       0.92      0.88      0.90      1455\n",
            "\n",
            "    accuracy                           0.84      1794\n",
            "   macro avg       0.74      0.78      0.76      1794\n",
            "weighted avg       0.85      0.84      0.85      1794\n",
            "\n"
          ]
        }
      ]
    },
    {
      "cell_type": "markdown",
      "source": [
        "# Hyperparameter Tuning - Optuna\n",
        "\n",
        "\n",
        "https://medium.com/optuna/using-optuna-to-optimize-xgboost-hyperparameters-63bfcdfd3407\n"
      ],
      "metadata": {
        "id": "2HilNW1mb1g3"
      }
    },
    {
      "cell_type": "markdown",
      "source": [
        "## Objective Function for Optuna - XGBoost"
      ],
      "metadata": {
        "id": "dtDypiTQcVRy"
      }
    },
    {
      "cell_type": "code",
      "source": [
        "import xgboost as xgb"
      ],
      "metadata": {
        "id": "USYVzug_1-Ja"
      },
      "execution_count": null,
      "outputs": []
    },
    {
      "cell_type": "code",
      "source": [
        "def objective(trial):\n",
        "    dtrain = xgb.DMatrix(X_train, label=y_train)\n",
        "    dtest = xgb.DMatrix(X_test, label=y_test)\n",
        "\n",
        "    param = {\n",
        "        'n_estimators'      : trial.suggest_int('n_estimators', 50, 500),\n",
        "        'max_depth'         : trial.suggest_int('max_depth', 50, 500),\n",
        "        'learning_rate'     : trial.suggest_float('learning_rate', 0.001, 1),\n",
        "        'verbosity'         : 1,\n",
        "        'random_state'      : 42,\n",
        "        'extra_trees'       : True,\n",
        "        \"objective\"         : \"binary:logistic\",\n",
        "        \"eval_metric\"       : \"auc\",\n",
        "        \"booster\"           : trial.suggest_categorical(\"booster\", [\"gbtree\", \"gblinear\", \"dart\"]),\n",
        "        \"lambda\"            : trial.suggest_float(\"lambda\", 1e-8, 1.0),\n",
        "        \"alpha\"             : trial.suggest_float(\"alpha\", 1e-8, 1.0),\n",
        "    }\n",
        "\n",
        "    if param[\"booster\"] == \"gbtree\" or param[\"booster\"] == \"dart\":\n",
        "        param[\"eta\"] = trial.suggest_float(\"eta\", 1e-8, 1.0)\n",
        "        param[\"gamma\"] = trial.suggest_float(\"gamma\", 1e-8, 1.0)\n",
        "        param[\"grow_policy\"] = trial.suggest_categorical(\"grow_policy\", [\"depthwise\", \"lossguide\"])\n",
        "    if param[\"booster\"] == \"dart\":\n",
        "        param[\"sample_type\"] = trial.suggest_categorical(\"sample_type\", [\"uniform\", \"weighted\"])\n",
        "        param[\"normalize_type\"] = trial.suggest_categorical(\"normalize_type\", [\"tree\", \"forest\"])\n",
        "        param[\"rate_drop\"] = trial.suggest_float(\"rate_drop\", 1e-8, 1.0)\n",
        "        param[\"skip_drop\"] = trial.suggest_float(\"skip_drop\", 1e-8, 1.0)\n",
        "\n",
        "    # Add a callback for pruning.\n",
        "    pruning_callback = optuna.integration.XGBoostPruningCallback(trial, \"validation-auc\")\n",
        "    bst = xgb.train(param, dtrain, evals=[(dtest, \"validation\")], callbacks=[pruning_callback])\n",
        "    preds = bst.predict(dtest)\n",
        "    pred_labels = np.rint(preds)\n",
        "    accuracy = sklearn.metrics.accuracy_score(y_test, pred_labels)\n",
        "    return accuracy"
      ],
      "metadata": {
        "id": "riiJSa_LbyDw"
      },
      "execution_count": null,
      "outputs": []
    },
    {
      "cell_type": "markdown",
      "source": [
        "## Run Optuna"
      ],
      "metadata": {
        "id": "kKU3YaVJ3y1K"
      }
    },
    {
      "cell_type": "code",
      "source": [
        "study = optuna.create_study(direction=\"maximize\")\n",
        "study.optimize(objective, n_trials=100, timeout=1000)"
      ],
      "metadata": {
        "colab": {
          "base_uri": "https://localhost:8080/"
        },
        "id": "2BRvgKfKaKaj",
        "outputId": "75358218-dc83-4a3a-8e8a-b02779204070"
      },
      "execution_count": null,
      "outputs": [
        {
          "output_type": "stream",
          "name": "stderr",
          "text": [
            "\u001b[32m[I 2023-04-13 11:21:10,976]\u001b[0m A new study created in memory with name: no-name-068822c3-71ab-4041-a603-770372fb79af\u001b[0m\n"
          ]
        },
        {
          "output_type": "stream",
          "name": "stdout",
          "text": [
            "[11:21:11] WARNING: ../src/learner.cc:767: \n",
            "Parameters: { \"extra_trees\", \"n_estimators\" } are not used.\n",
            "\n",
            "[0]\tvalidation-auc:0.73062\n",
            "[1]\tvalidation-auc:0.74125\n",
            "[2]\tvalidation-auc:0.76045\n",
            "[3]\tvalidation-auc:0.77831\n",
            "[4]\tvalidation-auc:0.78693\n",
            "[5]\tvalidation-auc:0.79466\n",
            "[6]\tvalidation-auc:0.79776\n",
            "[7]\tvalidation-auc:0.79708\n",
            "[8]\tvalidation-auc:0.80031\n",
            "[9]\tvalidation-auc:0.80343\n"
          ]
        },
        {
          "output_type": "stream",
          "name": "stderr",
          "text": [
            "\u001b[32m[I 2023-04-13 11:22:54,162]\u001b[0m Trial 0 finished with value: 0.7948717948717948 and parameters: {'n_estimators': 209, 'max_depth': 449, 'learning_rate': 0.06783995261991273, 'booster': 'dart', 'lambda': 0.45859539861452364, 'alpha': 0.9617754002347482, 'eta': 0.7847511344061694, 'gamma': 0.8914811529963291, 'grow_policy': 'depthwise', 'sample_type': 'weighted', 'normalize_type': 'tree', 'rate_drop': 0.8785772694580658, 'skip_drop': 0.771870453330727}. Best is trial 0 with value: 0.7948717948717948.\u001b[0m\n"
          ]
        },
        {
          "output_type": "stream",
          "name": "stdout",
          "text": [
            "[11:22:55] WARNING: ../src/learner.cc:767: \n",
            "Parameters: { \"extra_trees\", \"max_depth\", \"n_estimators\" } are not used.\n",
            "\n",
            "[0]\tvalidation-auc:0.50000\n",
            "[1]\tvalidation-auc:0.50000\n",
            "[2]\tvalidation-auc:0.50000\n",
            "[3]\tvalidation-auc:0.50000\n",
            "[4]\tvalidation-auc:0.50000\n",
            "[5]\tvalidation-auc:0.50000\n",
            "[6]\tvalidation-auc:0.50000\n",
            "[7]\tvalidation-auc:0.50000\n",
            "[8]\tvalidation-auc:0.50000\n",
            "[9]\tvalidation-auc:0.50000\n"
          ]
        },
        {
          "output_type": "stream",
          "name": "stderr",
          "text": [
            "\u001b[32m[I 2023-04-13 11:22:57,466]\u001b[0m Trial 1 finished with value: 0.18896321070234115 and parameters: {'n_estimators': 373, 'max_depth': 373, 'learning_rate': 0.18878244879369668, 'booster': 'gblinear', 'lambda': 0.5225131127107652, 'alpha': 0.3130392717020851}. Best is trial 0 with value: 0.7948717948717948.\u001b[0m\n"
          ]
        },
        {
          "output_type": "stream",
          "name": "stdout",
          "text": [
            "[11:22:58] WARNING: ../src/learner.cc:767: \n",
            "Parameters: { \"extra_trees\", \"n_estimators\" } are not used.\n",
            "\n",
            "[0]\tvalidation-auc:0.73154\n",
            "[1]\tvalidation-auc:0.75303\n",
            "[2]\tvalidation-auc:0.77142\n",
            "[3]\tvalidation-auc:0.78574\n",
            "[4]\tvalidation-auc:0.79176\n",
            "[5]\tvalidation-auc:0.79662\n",
            "[6]\tvalidation-auc:0.79940\n",
            "[7]\tvalidation-auc:0.80519\n",
            "[8]\tvalidation-auc:0.80826\n",
            "[9]\tvalidation-auc:0.81347\n"
          ]
        },
        {
          "output_type": "stream",
          "name": "stderr",
          "text": [
            "\u001b[32m[I 2023-04-13 11:24:08,054]\u001b[0m Trial 2 finished with value: 0.8082497212931996 and parameters: {'n_estimators': 382, 'max_depth': 139, 'learning_rate': 0.5210436833223696, 'booster': 'gbtree', 'lambda': 0.9306582440125677, 'alpha': 0.45382182440731333, 'eta': 0.13670813391848582, 'gamma': 0.559317705579118, 'grow_policy': 'depthwise'}. Best is trial 2 with value: 0.8082497212931996.\u001b[0m\n"
          ]
        },
        {
          "output_type": "stream",
          "name": "stdout",
          "text": [
            "[11:24:08] WARNING: ../src/learner.cc:767: \n",
            "Parameters: { \"extra_trees\", \"max_depth\", \"n_estimators\" } are not used.\n",
            "\n",
            "[0]\tvalidation-auc:0.50000\n",
            "[1]\tvalidation-auc:0.50000\n",
            "[2]\tvalidation-auc:0.50000\n",
            "[3]\tvalidation-auc:0.50000\n",
            "[4]\tvalidation-auc:0.50000\n",
            "[5]\tvalidation-auc:0.50000\n",
            "[6]\tvalidation-auc:0.50000\n",
            "[7]\tvalidation-auc:0.50000\n",
            "[8]\tvalidation-auc:0.50000\n",
            "[9]\tvalidation-auc:0.50000\n"
          ]
        },
        {
          "output_type": "stream",
          "name": "stderr",
          "text": [
            "\u001b[32m[I 2023-04-13 11:24:10,647]\u001b[0m Trial 3 finished with value: 0.18896321070234115 and parameters: {'n_estimators': 92, 'max_depth': 279, 'learning_rate': 0.7980428664933821, 'booster': 'gblinear', 'lambda': 0.9138281385364738, 'alpha': 0.6161361675108082}. Best is trial 2 with value: 0.8082497212931996.\u001b[0m\n"
          ]
        },
        {
          "output_type": "stream",
          "name": "stdout",
          "text": [
            "[11:24:11] WARNING: ../src/learner.cc:767: \n",
            "Parameters: { \"extra_trees\", \"n_estimators\" } are not used.\n",
            "\n",
            "[0]\tvalidation-auc:0.72943\n",
            "[1]\tvalidation-auc:0.75777\n",
            "[2]\tvalidation-auc:0.77550\n",
            "[3]\tvalidation-auc:0.78461\n",
            "[4]\tvalidation-auc:0.79432\n",
            "[5]\tvalidation-auc:0.80034\n",
            "[6]\tvalidation-auc:0.80209\n",
            "[7]\tvalidation-auc:0.80608\n",
            "[8]\tvalidation-auc:0.81136\n",
            "[9]\tvalidation-auc:0.81203\n"
          ]
        },
        {
          "output_type": "stream",
          "name": "stderr",
          "text": [
            "\u001b[32m[I 2023-04-13 11:25:14,094]\u001b[0m Trial 4 finished with value: 0.798216276477146 and parameters: {'n_estimators': 398, 'max_depth': 468, 'learning_rate': 0.8056536727257742, 'booster': 'gbtree', 'lambda': 0.37435128373335524, 'alpha': 0.801008896323205, 'eta': 0.011651229445668763, 'gamma': 0.9713384174159163, 'grow_policy': 'lossguide'}. Best is trial 2 with value: 0.8082497212931996.\u001b[0m\n"
          ]
        },
        {
          "output_type": "stream",
          "name": "stdout",
          "text": [
            "[11:25:15] WARNING: ../src/learner.cc:767: \n",
            "Parameters: { \"extra_trees\", \"n_estimators\" } are not used.\n",
            "\n",
            "[0]\tvalidation-auc:0.73085\n",
            "[1]\tvalidation-auc:0.76133\n",
            "[2]\tvalidation-auc:0.75234\n",
            "[3]\tvalidation-auc:0.76795\n"
          ]
        },
        {
          "output_type": "stream",
          "name": "stderr",
          "text": [
            "\u001b[32m[I 2023-04-13 11:25:54,882]\u001b[0m Trial 5 pruned. Trial was pruned at iteration 3.\u001b[0m\n"
          ]
        },
        {
          "output_type": "stream",
          "name": "stdout",
          "text": [
            "[11:25:56] WARNING: ../src/learner.cc:767: \n",
            "Parameters: { \"extra_trees\", \"max_depth\", \"n_estimators\" } are not used.\n",
            "\n",
            "[0]\tvalidation-auc:0.50000\n"
          ]
        },
        {
          "output_type": "stream",
          "name": "stderr",
          "text": [
            "\u001b[32m[I 2023-04-13 11:25:57,130]\u001b[0m Trial 6 pruned. Trial was pruned at iteration 0.\u001b[0m\n"
          ]
        },
        {
          "output_type": "stream",
          "name": "stdout",
          "text": [
            "[11:25:58] WARNING: ../src/learner.cc:767: \n",
            "Parameters: { \"extra_trees\", \"n_estimators\" } are not used.\n",
            "\n",
            "[0]\tvalidation-auc:0.74112\n",
            "[1]\tvalidation-auc:0.74865\n",
            "[2]\tvalidation-auc:0.77465\n",
            "[3]\tvalidation-auc:0.79238\n",
            "[4]\tvalidation-auc:0.80179\n",
            "[5]\tvalidation-auc:0.80625\n",
            "[6]\tvalidation-auc:0.80945\n",
            "[7]\tvalidation-auc:0.81229\n",
            "[8]\tvalidation-auc:0.81377\n",
            "[9]\tvalidation-auc:0.81582\n"
          ]
        },
        {
          "output_type": "stream",
          "name": "stderr",
          "text": [
            "\u001b[32m[I 2023-04-13 11:27:05,890]\u001b[0m Trial 7 finished with value: 0.798216276477146 and parameters: {'n_estimators': 495, 'max_depth': 406, 'learning_rate': 0.7991072068756226, 'booster': 'gbtree', 'lambda': 0.24195785512217527, 'alpha': 0.5313110538145337, 'eta': 0.9133247906244315, 'gamma': 0.6113545268833096, 'grow_policy': 'depthwise'}. Best is trial 2 with value: 0.8082497212931996.\u001b[0m\n"
          ]
        },
        {
          "output_type": "stream",
          "name": "stdout",
          "text": [
            "[11:27:07] WARNING: ../src/learner.cc:767: \n",
            "Parameters: { \"extra_trees\", \"n_estimators\" } are not used.\n",
            "\n"
          ]
        },
        {
          "output_type": "stream",
          "name": "stderr",
          "text": [
            "\u001b[32m[I 2023-04-13 11:27:18,409]\u001b[0m Trial 8 pruned. Trial was pruned at iteration 0.\u001b[0m\n"
          ]
        },
        {
          "output_type": "stream",
          "name": "stdout",
          "text": [
            "[11:27:19] WARNING: ../src/learner.cc:767: \n",
            "Parameters: { \"extra_trees\", \"max_depth\", \"n_estimators\" } are not used.\n",
            "\n",
            "[0]\tvalidation-auc:0.50000\n"
          ]
        },
        {
          "output_type": "stream",
          "name": "stderr",
          "text": [
            "\u001b[32m[I 2023-04-13 11:27:20,501]\u001b[0m Trial 9 pruned. Trial was pruned at iteration 0.\u001b[0m\n"
          ]
        },
        {
          "output_type": "stream",
          "name": "stdout",
          "text": [
            "[11:27:21] WARNING: ../src/learner.cc:767: \n",
            "Parameters: { \"extra_trees\", \"n_estimators\" } are not used.\n",
            "\n"
          ]
        },
        {
          "output_type": "stream",
          "name": "stderr",
          "text": [
            "\u001b[32m[I 2023-04-13 11:27:31,123]\u001b[0m Trial 10 pruned. Trial was pruned at iteration 0.\u001b[0m\n"
          ]
        },
        {
          "output_type": "stream",
          "name": "stdout",
          "text": [
            "[11:27:32] WARNING: ../src/learner.cc:767: \n",
            "Parameters: { \"extra_trees\", \"n_estimators\" } are not used.\n",
            "\n",
            "[0]\tvalidation-auc:0.73391\n",
            "[1]\tvalidation-auc:0.76399\n",
            "[2]\tvalidation-auc:0.79090\n",
            "[3]\tvalidation-auc:0.80474\n",
            "[4]\tvalidation-auc:0.81630\n",
            "[5]\tvalidation-auc:0.81785\n",
            "[6]\tvalidation-auc:0.82201\n",
            "[7]\tvalidation-auc:0.82133\n",
            "[8]\tvalidation-auc:0.82004\n",
            "[9]\tvalidation-auc:0.81915\n"
          ]
        },
        {
          "output_type": "stream",
          "name": "stderr",
          "text": [
            "\u001b[32m[I 2023-04-13 11:28:38,874]\u001b[0m Trial 11 finished with value: 0.7993311036789298 and parameters: {'n_estimators': 446, 'max_depth': 138, 'learning_rate': 0.6061310987099447, 'booster': 'gbtree', 'lambda': 0.6990133123849342, 'alpha': 0.7494350964510551, 'eta': 0.010311123835091945, 'gamma': 0.9796853394847794, 'grow_policy': 'lossguide'}. Best is trial 2 with value: 0.8082497212931996.\u001b[0m\n"
          ]
        },
        {
          "output_type": "stream",
          "name": "stdout",
          "text": [
            "[11:28:39] WARNING: ../src/learner.cc:767: \n",
            "Parameters: { \"extra_trees\", \"n_estimators\" } are not used.\n",
            "\n",
            "[0]\tvalidation-auc:0.73597\n",
            "[1]\tvalidation-auc:0.76520\n",
            "[2]\tvalidation-auc:0.77720\n",
            "[3]\tvalidation-auc:0.79301\n",
            "[4]\tvalidation-auc:0.80255\n",
            "[5]\tvalidation-auc:0.80720\n",
            "[6]\tvalidation-auc:0.81348\n",
            "[7]\tvalidation-auc:0.81767\n",
            "[8]\tvalidation-auc:0.82075\n",
            "[9]\tvalidation-auc:0.82644\n"
          ]
        },
        {
          "output_type": "stream",
          "name": "stderr",
          "text": [
            "\u001b[32m[I 2023-04-13 11:29:54,555]\u001b[0m Trial 12 finished with value: 0.8160535117056856 and parameters: {'n_estimators': 491, 'max_depth': 118, 'learning_rate': 0.5734408762582545, 'booster': 'gbtree', 'lambda': 0.7543696124864167, 'alpha': 0.7590016616913465, 'eta': 0.24348819510443373, 'gamma': 0.3805880436191422, 'grow_policy': 'lossguide'}. Best is trial 12 with value: 0.8160535117056856.\u001b[0m\n"
          ]
        },
        {
          "output_type": "stream",
          "name": "stdout",
          "text": [
            "[11:29:55] WARNING: ../src/learner.cc:767: \n",
            "Parameters: { \"extra_trees\", \"n_estimators\" } are not used.\n",
            "\n",
            "[0]\tvalidation-auc:0.73255\n",
            "[1]\tvalidation-auc:0.75601\n",
            "[2]\tvalidation-auc:0.77492\n",
            "[3]\tvalidation-auc:0.79074\n",
            "[4]\tvalidation-auc:0.79759\n",
            "[5]\tvalidation-auc:0.80575\n",
            "[6]\tvalidation-auc:0.81180\n",
            "[7]\tvalidation-auc:0.81850\n",
            "[8]\tvalidation-auc:0.82267\n",
            "[9]\tvalidation-auc:0.82372\n"
          ]
        },
        {
          "output_type": "stream",
          "name": "stderr",
          "text": [
            "\u001b[32m[I 2023-04-13 11:31:06,178]\u001b[0m Trial 13 finished with value: 0.8171683389074693 and parameters: {'n_estimators': 500, 'max_depth': 162, 'learning_rate': 0.5500388244958505, 'booster': 'gbtree', 'lambda': 0.9497707470545131, 'alpha': 0.6932318576292608, 'eta': 0.3097434255697108, 'gamma': 0.3950933837134097, 'grow_policy': 'lossguide'}. Best is trial 13 with value: 0.8171683389074693.\u001b[0m\n"
          ]
        },
        {
          "output_type": "stream",
          "name": "stdout",
          "text": [
            "[11:31:07] WARNING: ../src/learner.cc:767: \n",
            "Parameters: { \"extra_trees\", \"n_estimators\" } are not used.\n",
            "\n",
            "[0]\tvalidation-auc:0.73202\n",
            "[1]\tvalidation-auc:0.77077\n",
            "[2]\tvalidation-auc:0.79605\n",
            "[3]\tvalidation-auc:0.80934\n",
            "[4]\tvalidation-auc:0.81616\n",
            "[5]\tvalidation-auc:0.82215\n",
            "[6]\tvalidation-auc:0.82640\n",
            "[7]\tvalidation-auc:0.82695\n",
            "[8]\tvalidation-auc:0.82697\n",
            "[9]\tvalidation-auc:0.82886\n"
          ]
        },
        {
          "output_type": "stream",
          "name": "stderr",
          "text": [
            "\u001b[32m[I 2023-04-13 11:32:15,036]\u001b[0m Trial 14 finished with value: 0.8182831661092531 and parameters: {'n_estimators': 489, 'max_depth': 203, 'learning_rate': 0.622107307413558, 'booster': 'gbtree', 'lambda': 0.7965775448775266, 'alpha': 0.7062272830332902, 'eta': 0.35196680086062293, 'gamma': 0.3060599220585563, 'grow_policy': 'lossguide'}. Best is trial 14 with value: 0.8182831661092531.\u001b[0m\n"
          ]
        },
        {
          "output_type": "stream",
          "name": "stdout",
          "text": [
            "[11:32:15] WARNING: ../src/learner.cc:767: \n",
            "Parameters: { \"extra_trees\", \"n_estimators\" } are not used.\n",
            "\n"
          ]
        },
        {
          "output_type": "stream",
          "name": "stderr",
          "text": [
            "\u001b[32m[I 2023-04-13 11:32:28,927]\u001b[0m Trial 15 pruned. Trial was pruned at iteration 0.\u001b[0m\n"
          ]
        },
        {
          "output_type": "stream",
          "name": "stdout",
          "text": [
            "[11:32:29] WARNING: ../src/learner.cc:767: \n",
            "Parameters: { \"extra_trees\", \"n_estimators\" } are not used.\n",
            "\n",
            "[0]\tvalidation-auc:0.73974\n",
            "[1]\tvalidation-auc:0.75758\n",
            "[2]\tvalidation-auc:0.78054\n",
            "[3]\tvalidation-auc:0.79473\n",
            "[4]\tvalidation-auc:0.81084\n",
            "[5]\tvalidation-auc:0.81778\n",
            "[6]\tvalidation-auc:0.82176\n",
            "[7]\tvalidation-auc:0.82638\n",
            "[8]\tvalidation-auc:0.83134\n",
            "[9]\tvalidation-auc:0.83314\n"
          ]
        },
        {
          "output_type": "stream",
          "name": "stderr",
          "text": [
            "\u001b[32m[I 2023-04-13 11:33:49,322]\u001b[0m Trial 16 finished with value: 0.8216276477146043 and parameters: {'n_estimators': 453, 'max_depth': 208, 'learning_rate': 0.4113658168508172, 'booster': 'dart', 'lambda': 0.8092482278879187, 'alpha': 0.8615699181871486, 'eta': 0.5028673708555346, 'gamma': 0.3441683987664652, 'grow_policy': 'lossguide', 'sample_type': 'uniform', 'normalize_type': 'forest', 'rate_drop': 0.010688990181732583, 'skip_drop': 0.9511230983330283}. Best is trial 16 with value: 0.8216276477146043.\u001b[0m\n"
          ]
        },
        {
          "output_type": "stream",
          "name": "stdout",
          "text": [
            "[11:33:50] WARNING: ../src/learner.cc:767: \n",
            "Parameters: { \"extra_trees\", \"n_estimators\" } are not used.\n",
            "\n",
            "[0]\tvalidation-auc:0.74005\n",
            "[1]\tvalidation-auc:0.76240\n",
            "[2]\tvalidation-auc:0.78558\n",
            "[3]\tvalidation-auc:0.80288\n",
            "[4]\tvalidation-auc:0.81765\n",
            "[5]\tvalidation-auc:0.82628\n",
            "[6]\tvalidation-auc:0.83418\n",
            "[7]\tvalidation-auc:0.83605\n",
            "[8]\tvalidation-auc:0.84011\n",
            "[9]\tvalidation-auc:0.84396\n"
          ]
        },
        {
          "output_type": "stream",
          "name": "stderr",
          "text": [
            "\u001b[32m[I 2023-04-13 11:35:14,016]\u001b[0m Trial 17 finished with value: 0.8216276477146043 and parameters: {'n_estimators': 445, 'max_depth': 229, 'learning_rate': 0.35097613067871325, 'booster': 'dart', 'lambda': 0.8055016037642846, 'alpha': 0.8226929418581664, 'eta': 0.5764064288767756, 'gamma': 0.1785600381526364, 'grow_policy': 'lossguide', 'sample_type': 'uniform', 'normalize_type': 'forest', 'rate_drop': 0.09517376545636841, 'skip_drop': 0.9890855843345003}. Best is trial 16 with value: 0.8216276477146043.\u001b[0m\n"
          ]
        },
        {
          "output_type": "stream",
          "name": "stdout",
          "text": [
            "[11:35:14] WARNING: ../src/learner.cc:767: \n",
            "Parameters: { \"extra_trees\", \"n_estimators\" } are not used.\n",
            "\n",
            "[0]\tvalidation-auc:0.73458\n",
            "[1]\tvalidation-auc:0.77401\n",
            "[2]\tvalidation-auc:0.78721\n",
            "[3]\tvalidation-auc:0.79450\n",
            "[4]\tvalidation-auc:0.80439\n",
            "[5]\tvalidation-auc:0.81011\n",
            "[6]\tvalidation-auc:0.81682\n",
            "[7]\tvalidation-auc:0.82017\n",
            "[8]\tvalidation-auc:0.82325\n",
            "[9]\tvalidation-auc:0.82805\n"
          ]
        },
        {
          "output_type": "stream",
          "name": "stderr",
          "text": [
            "\u001b[32m[I 2023-04-13 11:36:35,940]\u001b[0m Trial 18 finished with value: 0.8182831661092531 and parameters: {'n_estimators': 317, 'max_depth': 265, 'learning_rate': 0.34970482520131274, 'booster': 'dart', 'lambda': 0.6448801853675402, 'alpha': 0.8405620984198057, 'eta': 0.5576519601823817, 'gamma': 0.0562627371301172, 'grow_policy': 'lossguide', 'sample_type': 'uniform', 'normalize_type': 'forest', 'rate_drop': 0.017906709106633556, 'skip_drop': 0.9951872654665285}. Best is trial 16 with value: 0.8216276477146043.\u001b[0m\n"
          ]
        },
        {
          "output_type": "stream",
          "name": "stdout",
          "text": [
            "[11:36:36] WARNING: ../src/learner.cc:767: \n",
            "Parameters: { \"extra_trees\", \"n_estimators\" } are not used.\n",
            "\n",
            "[0]\tvalidation-auc:0.74030\n",
            "[1]\tvalidation-auc:0.75118\n"
          ]
        },
        {
          "output_type": "stream",
          "name": "stderr",
          "text": [
            "\u001b[32m[I 2023-04-13 11:37:01,932]\u001b[0m Trial 19 pruned. Trial was pruned at iteration 1.\u001b[0m\n"
          ]
        },
        {
          "output_type": "stream",
          "name": "stdout",
          "text": [
            "[11:37:02] WARNING: ../src/learner.cc:767: \n",
            "Parameters: { \"extra_trees\", \"n_estimators\" } are not used.\n",
            "\n",
            "[0]\tvalidation-auc:0.73980\n",
            "[1]\tvalidation-auc:0.75957\n",
            "[2]\tvalidation-auc:0.77946\n",
            "[3]\tvalidation-auc:0.79843\n",
            "[4]\tvalidation-auc:0.81251\n",
            "[5]\tvalidation-auc:0.81594\n",
            "[6]\tvalidation-auc:0.82296\n",
            "[7]\tvalidation-auc:0.82934\n",
            "[8]\tvalidation-auc:0.82833\n",
            "[9]\tvalidation-auc:0.83265\n"
          ]
        },
        {
          "output_type": "stream",
          "name": "stderr",
          "text": [
            "\u001b[32m[I 2023-04-13 11:38:21,383]\u001b[0m Trial 20 finished with value: 0.8149386845039019 and parameters: {'n_estimators': 340, 'max_depth': 57, 'learning_rate': 0.4344212379731184, 'booster': 'dart', 'lambda': 0.8436596103976466, 'alpha': 0.9873425646399763, 'eta': 0.6300271054344653, 'gamma': 0.006105269738469088, 'grow_policy': 'lossguide', 'sample_type': 'uniform', 'normalize_type': 'forest', 'rate_drop': 0.05973478383331464, 'skip_drop': 0.6507708625031297}. Best is trial 16 with value: 0.8216276477146043.\u001b[0m\n"
          ]
        }
      ]
    },
    {
      "cell_type": "markdown",
      "source": [
        "## Best XGBoost Model from Optuna"
      ],
      "metadata": {
        "id": "EAtP6sI_6iFS"
      }
    },
    {
      "cell_type": "code",
      "source": [
        "study.best_params"
      ],
      "metadata": {
        "colab": {
          "base_uri": "https://localhost:8080/"
        },
        "id": "gv-h-Ci5ERiA",
        "outputId": "63e0b75a-7eec-4a61-ba8f-88caefd8f5ea"
      },
      "execution_count": null,
      "outputs": [
        {
          "output_type": "execute_result",
          "data": {
            "text/plain": [
              "{'n_estimators': 453,\n",
              " 'max_depth': 208,\n",
              " 'learning_rate': 0.4113658168508172,\n",
              " 'booster': 'dart',\n",
              " 'lambda': 0.8092482278879187,\n",
              " 'alpha': 0.8615699181871486,\n",
              " 'eta': 0.5028673708555346,\n",
              " 'gamma': 0.3441683987664652,\n",
              " 'grow_policy': 'lossguide',\n",
              " 'sample_type': 'uniform',\n",
              " 'normalize_type': 'forest',\n",
              " 'rate_drop': 0.010688990181732583,\n",
              " 'skip_drop': 0.9511230983330283}"
            ]
          },
          "metadata": {},
          "execution_count": 35
        }
      ]
    },
    {
      "cell_type": "code",
      "source": [
        "clf_xgb_opt= XGBClassifier(**study.best_params)"
      ],
      "metadata": {
        "id": "aQjDz7Kv38O8"
      },
      "execution_count": null,
      "outputs": []
    },
    {
      "cell_type": "code",
      "source": [
        "clf_xgb_opt.fit(X_train, y_train)"
      ],
      "metadata": {
        "colab": {
          "base_uri": "https://localhost:8080/",
          "height": 251
        },
        "id": "A3yi4nl86rgf",
        "outputId": "9b83a2fc-63de-417b-abfe-b4f4836bb83c"
      },
      "execution_count": null,
      "outputs": [
        {
          "output_type": "execute_result",
          "data": {
            "text/plain": [
              "XGBClassifier(alpha=0.8615699181871486, base_score=None, booster='dart',\n",
              "              callbacks=None, colsample_bylevel=None, colsample_bynode=None,\n",
              "              colsample_bytree=None, early_stopping_rounds=None,\n",
              "              enable_categorical=False, eta=0.5028673708555346,\n",
              "              eval_metric=None, feature_types=None, gamma=0.3441683987664652,\n",
              "              gpu_id=None, grow_policy='lossguide', importance_type=None,\n",
              "              interaction_constraints=None, lambda=0.8092482278879187,\n",
              "              learning_rate=0.4113658168508172, max_bin=None,\n",
              "              max_cat_threshold=None, max_cat_to_onehot=None,\n",
              "              max_delta_step=None, max_depth=208, max_leaves=None,\n",
              "              min_child_weight=None, missing=nan, monotone_constraints=None,\n",
              "              n_estimators=453, n_jobs=None, ...)"
            ],
            "text/html": [
              "<style>#sk-container-id-3 {color: black;background-color: white;}#sk-container-id-3 pre{padding: 0;}#sk-container-id-3 div.sk-toggleable {background-color: white;}#sk-container-id-3 label.sk-toggleable__label {cursor: pointer;display: block;width: 100%;margin-bottom: 0;padding: 0.3em;box-sizing: border-box;text-align: center;}#sk-container-id-3 label.sk-toggleable__label-arrow:before {content: \"▸\";float: left;margin-right: 0.25em;color: #696969;}#sk-container-id-3 label.sk-toggleable__label-arrow:hover:before {color: black;}#sk-container-id-3 div.sk-estimator:hover label.sk-toggleable__label-arrow:before {color: black;}#sk-container-id-3 div.sk-toggleable__content {max-height: 0;max-width: 0;overflow: hidden;text-align: left;background-color: #f0f8ff;}#sk-container-id-3 div.sk-toggleable__content pre {margin: 0.2em;color: black;border-radius: 0.25em;background-color: #f0f8ff;}#sk-container-id-3 input.sk-toggleable__control:checked~div.sk-toggleable__content {max-height: 200px;max-width: 100%;overflow: auto;}#sk-container-id-3 input.sk-toggleable__control:checked~label.sk-toggleable__label-arrow:before {content: \"▾\";}#sk-container-id-3 div.sk-estimator input.sk-toggleable__control:checked~label.sk-toggleable__label {background-color: #d4ebff;}#sk-container-id-3 div.sk-label input.sk-toggleable__control:checked~label.sk-toggleable__label {background-color: #d4ebff;}#sk-container-id-3 input.sk-hidden--visually {border: 0;clip: rect(1px 1px 1px 1px);clip: rect(1px, 1px, 1px, 1px);height: 1px;margin: -1px;overflow: hidden;padding: 0;position: absolute;width: 1px;}#sk-container-id-3 div.sk-estimator {font-family: monospace;background-color: #f0f8ff;border: 1px dotted black;border-radius: 0.25em;box-sizing: border-box;margin-bottom: 0.5em;}#sk-container-id-3 div.sk-estimator:hover {background-color: #d4ebff;}#sk-container-id-3 div.sk-parallel-item::after {content: \"\";width: 100%;border-bottom: 1px solid gray;flex-grow: 1;}#sk-container-id-3 div.sk-label:hover label.sk-toggleable__label {background-color: #d4ebff;}#sk-container-id-3 div.sk-serial::before {content: \"\";position: absolute;border-left: 1px solid gray;box-sizing: border-box;top: 0;bottom: 0;left: 50%;z-index: 0;}#sk-container-id-3 div.sk-serial {display: flex;flex-direction: column;align-items: center;background-color: white;padding-right: 0.2em;padding-left: 0.2em;position: relative;}#sk-container-id-3 div.sk-item {position: relative;z-index: 1;}#sk-container-id-3 div.sk-parallel {display: flex;align-items: stretch;justify-content: center;background-color: white;position: relative;}#sk-container-id-3 div.sk-item::before, #sk-container-id-3 div.sk-parallel-item::before {content: \"\";position: absolute;border-left: 1px solid gray;box-sizing: border-box;top: 0;bottom: 0;left: 50%;z-index: -1;}#sk-container-id-3 div.sk-parallel-item {display: flex;flex-direction: column;z-index: 1;position: relative;background-color: white;}#sk-container-id-3 div.sk-parallel-item:first-child::after {align-self: flex-end;width: 50%;}#sk-container-id-3 div.sk-parallel-item:last-child::after {align-self: flex-start;width: 50%;}#sk-container-id-3 div.sk-parallel-item:only-child::after {width: 0;}#sk-container-id-3 div.sk-dashed-wrapped {border: 1px dashed gray;margin: 0 0.4em 0.5em 0.4em;box-sizing: border-box;padding-bottom: 0.4em;background-color: white;}#sk-container-id-3 div.sk-label label {font-family: monospace;font-weight: bold;display: inline-block;line-height: 1.2em;}#sk-container-id-3 div.sk-label-container {text-align: center;}#sk-container-id-3 div.sk-container {/* jupyter's `normalize.less` sets `[hidden] { display: none; }` but bootstrap.min.css set `[hidden] { display: none !important; }` so we also need the `!important` here to be able to override the default hidden behavior on the sphinx rendered scikit-learn.org. See: https://github.com/scikit-learn/scikit-learn/issues/21755 */display: inline-block !important;position: relative;}#sk-container-id-3 div.sk-text-repr-fallback {display: none;}</style><div id=\"sk-container-id-3\" class=\"sk-top-container\"><div class=\"sk-text-repr-fallback\"><pre>XGBClassifier(alpha=0.8615699181871486, base_score=None, booster=&#x27;dart&#x27;,\n",
              "              callbacks=None, colsample_bylevel=None, colsample_bynode=None,\n",
              "              colsample_bytree=None, early_stopping_rounds=None,\n",
              "              enable_categorical=False, eta=0.5028673708555346,\n",
              "              eval_metric=None, feature_types=None, gamma=0.3441683987664652,\n",
              "              gpu_id=None, grow_policy=&#x27;lossguide&#x27;, importance_type=None,\n",
              "              interaction_constraints=None, lambda=0.8092482278879187,\n",
              "              learning_rate=0.4113658168508172, max_bin=None,\n",
              "              max_cat_threshold=None, max_cat_to_onehot=None,\n",
              "              max_delta_step=None, max_depth=208, max_leaves=None,\n",
              "              min_child_weight=None, missing=nan, monotone_constraints=None,\n",
              "              n_estimators=453, n_jobs=None, ...)</pre><b>In a Jupyter environment, please rerun this cell to show the HTML representation or trust the notebook. <br />On GitHub, the HTML representation is unable to render, please try loading this page with nbviewer.org.</b></div><div class=\"sk-container\" hidden><div class=\"sk-item\"><div class=\"sk-estimator sk-toggleable\"><input class=\"sk-toggleable__control sk-hidden--visually\" id=\"sk-estimator-id-3\" type=\"checkbox\" checked><label for=\"sk-estimator-id-3\" class=\"sk-toggleable__label sk-toggleable__label-arrow\">XGBClassifier</label><div class=\"sk-toggleable__content\"><pre>XGBClassifier(alpha=0.8615699181871486, base_score=None, booster=&#x27;dart&#x27;,\n",
              "              callbacks=None, colsample_bylevel=None, colsample_bynode=None,\n",
              "              colsample_bytree=None, early_stopping_rounds=None,\n",
              "              enable_categorical=False, eta=0.5028673708555346,\n",
              "              eval_metric=None, feature_types=None, gamma=0.3441683987664652,\n",
              "              gpu_id=None, grow_policy=&#x27;lossguide&#x27;, importance_type=None,\n",
              "              interaction_constraints=None, lambda=0.8092482278879187,\n",
              "              learning_rate=0.4113658168508172, max_bin=None,\n",
              "              max_cat_threshold=None, max_cat_to_onehot=None,\n",
              "              max_delta_step=None, max_depth=208, max_leaves=None,\n",
              "              min_child_weight=None, missing=nan, monotone_constraints=None,\n",
              "              n_estimators=453, n_jobs=None, ...)</pre></div></div></div></div></div>"
            ]
          },
          "metadata": {},
          "execution_count": 41
        }
      ]
    },
    {
      "cell_type": "code",
      "source": [
        "y_pred = clf_xgb_opt.predict(X_test)\n",
        "cm= confusion_matrix(y_test,y_pred)\n",
        "disp = ConfusionMatrixDisplay(confusion_matrix=cm)\n",
        "disp.plot()\n",
        "plt.show()"
      ],
      "metadata": {
        "colab": {
          "base_uri": "https://localhost:8080/",
          "height": 449
        },
        "id": "RMicN0SP6ysg",
        "outputId": "41fb8b19-6625-4139-d90b-abf3d9eab10d"
      },
      "execution_count": null,
      "outputs": [
        {
          "output_type": "display_data",
          "data": {
            "text/plain": [
              "<Figure size 640x480 with 2 Axes>"
            ],
            "image/png": "[encoded data removed]"
          },
          "metadata": {}
        }
      ]
    },
    {
      "cell_type": "code",
      "source": [
        "print(classification_report(y_train, clf_xgb_opt.predict(X_train)))"
      ],
      "metadata": {
        "colab": {
          "base_uri": "https://localhost:8080/"
        },
        "id": "Mb512VWt7ZSc",
        "outputId": "6c1525da-b7df-4bf7-ec36-af4761b2cc88"
      },
      "execution_count": null,
      "outputs": [
        {
          "output_type": "stream",
          "name": "stdout",
          "text": [
            "              precision    recall  f1-score   support\n",
            "\n",
            "           0       1.00      1.00      1.00      6100\n",
            "           1       1.00      1.00      1.00      5817\n",
            "\n",
            "    accuracy                           1.00     11917\n",
            "   macro avg       1.00      1.00      1.00     11917\n",
            "weighted avg       1.00      1.00      1.00     11917\n",
            "\n"
          ]
        }
      ]
    },
    {
      "cell_type": "code",
      "source": [
        "print(classification_report(y_test, y_pred))"
      ],
      "metadata": {
        "colab": {
          "base_uri": "https://localhost:8080/"
        },
        "id": "0nZOHgfT8JZw",
        "outputId": "d9ae7659-c961-4368-cc46-7b812d314db8"
      },
      "execution_count": null,
      "outputs": [
        {
          "output_type": "stream",
          "name": "stdout",
          "text": [
            "              precision    recall  f1-score   support\n",
            "\n",
            "           0       0.58      0.69      0.63       339\n",
            "           1       0.92      0.89      0.90      1455\n",
            "\n",
            "    accuracy                           0.85      1794\n",
            "   macro avg       0.75      0.79      0.77      1794\n",
            "weighted avg       0.86      0.85      0.85      1794\n",
            "\n"
          ]
        }
      ]
    },
    {
      "cell_type": "code",
      "source": [
        "fpr_rf, tpr_rf, _ = roc_curve(y_test, clf_xgb_opt.predict(X_test))\n",
        "\n",
        "plt.figure(1)\n",
        "plt.plot([0, 1], [0, 1], 'k--')\n",
        "plt.plot(fpr_rf, tpr_rf, label='Random Forest - Optuna')\n",
        "plt.xlabel('False positive rate')\n",
        "plt.ylabel('True positive rate')\n",
        "plt.title('ROC curve - Test Data - Batch_4')\n",
        "plt.legend(loc='best')\n",
        "plt.show()"
      ],
      "metadata": {
        "colab": {
          "base_uri": "https://localhost:8080/",
          "height": 472
        },
        "id": "mA1E81FC8O7-",
        "outputId": "ffaa8e93-206a-43f5-ea97-4f5032cb79e1"
      },
      "execution_count": null,
      "outputs": [
        {
          "output_type": "display_data",
          "data": {
            "text/plain": [
              "<Figure size 640x480 with 1 Axes>"
            ],
            "image/png": "[encoded data removed]"
          },
          "metadata": {}
        }
      ]
    },
    {
      "cell_type": "code",
      "source": [],
      "metadata": {
        "id": "3Bjco3x98ZIr"
      },
      "execution_count": null,
      "outputs": []
    }
  ]
}